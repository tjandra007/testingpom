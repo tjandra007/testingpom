{
 "cells": [
  {
   "cell_type": "markdown",
   "metadata": {},
   "source": [
    "# Task 1: Working with data in julia\n",
    "\n",
    ">In this unit we will focus on how to deal with data in julia. The first part involves elementary data management operations (e.g., import, conversion, output). In the second we will focus on plotting data. "
   ]
  },
  {
   "cell_type": "code",
   "execution_count": 2,
   "metadata": {
    "slideshow": {
     "slide_type": "slide"
    }
   },
   "outputs": [
    {
     "name": "stdout",
     "output_type": "stream",
     "text": [
      "\u001b[32m\u001b[1m      Status\u001b[22m\u001b[39m `C:\\Users\\ignga\\.julia\\environments\\v1.7\\Project.toml`\n",
      " \u001b[90m [336ed68f] \u001b[39mCSV v0.10.2\n",
      " \u001b[90m [9961bab8] \u001b[39mCbc v0.9.1\n",
      " \u001b[90m [e2554f3b] \u001b[39mClp v0.9.1\n",
      " \u001b[90m [a93c6f00] \u001b[39mDataFrames v1.3.3\n",
      " \u001b[90m [7073ff75] \u001b[39mIJulia v1.23.2\n",
      " \u001b[90m [4076af6c] \u001b[39mJuMP v0.22.2\n",
      " \u001b[90m [442fdcdd] \u001b[39mMeasures v0.3.1\n",
      " \u001b[90m [f3b207a7] \u001b[39mStatsPlots v0.14.30\n",
      " \u001b[90m [ade2ca70] \u001b[39mDates\n",
      " \u001b[90m [10745b16] \u001b[39mStatistics\n"
     ]
    }
   ],
   "source": [
    "using Pkg\n",
    "#Pkg.add(\"DataFrames\");\n",
    "#Pkg.add(\"CSV\");\n",
    "#Pkg.add(\"Dates\");  # needed to handle date/time formatting\n",
    "#Pkg.add(\"Statistics\");  # needed to handle statistic functions\n",
    "Pkg.status()"
   ]
  },
  {
   "cell_type": "code",
   "execution_count": 3,
   "metadata": {},
   "outputs": [],
   "source": [
    "using DataFrames, CSV, Dates, Statistics; #load packages"
   ]
  },
  {
   "cell_type": "markdown",
   "metadata": {},
   "source": [
    "## Part 1) Data mingling"
   ]
  },
  {
   "cell_type": "markdown",
   "metadata": {},
   "source": [
    "### 1.1) Construct complete data sets for Chicago and Potsdam for 2015"
   ]
  },
  {
   "cell_type": "markdown",
   "metadata": {},
   "source": [
    "#### 1.1.1) Chicago"
   ]
  },
  {
   "cell_type": "markdown",
   "metadata": {},
   "source": [
    "#### Import the data of Chicago based on local time from .csv (01/01/2015-12/31/2015)"
   ]
  },
  {
   "cell_type": "code",
   "execution_count": 8,
   "metadata": {
    "scrolled": true
   },
   "outputs": [
    {
     "data": {
      "text/html": [
       "<div class=\"data-frame\"><p>8 rows × 3 columns</p><table class=\"data-frame\"><thead><tr><th></th><th>local_time</th><th>electricity</th><th>temperature</th></tr><tr><th></th><th title=\"DateTime\">DateTime</th><th title=\"Float64\">Float64</th><th title=\"Float64\">Float64</th></tr></thead><tbody><tr><th>1</th><td>2014-12-31T18:00:00</td><td>0.0</td><td>-6.695</td></tr><tr><th>2</th><td>2014-12-31T19:00:00</td><td>0.0</td><td>-6.693</td></tr><tr><th>3</th><td>2014-12-31T20:00:00</td><td>0.0</td><td>-6.74</td></tr><tr><th>4</th><td>2014-12-31T21:00:00</td><td>0.0</td><td>-6.846</td></tr><tr><th>5</th><td>2014-12-31T22:00:00</td><td>0.0</td><td>-7.106</td></tr><tr><th>6</th><td>2014-12-31T23:00:00</td><td>0.0</td><td>-7.328</td></tr><tr><th>7</th><td>2015-01-01T00:00:00</td><td>0.0</td><td>-7.488</td></tr><tr><th>8</th><td>2015-01-01T01:00:00</td><td>0.0</td><td>-7.637</td></tr></tbody></table></div>"
      ],
      "text/latex": [
       "\\begin{tabular}{r|ccc}\n",
       "\t& local\\_time & electricity & temperature\\\\\n",
       "\t\\hline\n",
       "\t& DateTime & Float64 & Float64\\\\\n",
       "\t\\hline\n",
       "\t1 & 2014-12-31T18:00:00 & 0.0 & -6.695 \\\\\n",
       "\t2 & 2014-12-31T19:00:00 & 0.0 & -6.693 \\\\\n",
       "\t3 & 2014-12-31T20:00:00 & 0.0 & -6.74 \\\\\n",
       "\t4 & 2014-12-31T21:00:00 & 0.0 & -6.846 \\\\\n",
       "\t5 & 2014-12-31T22:00:00 & 0.0 & -7.106 \\\\\n",
       "\t6 & 2014-12-31T23:00:00 & 0.0 & -7.328 \\\\\n",
       "\t7 & 2015-01-01T00:00:00 & 0.0 & -7.488 \\\\\n",
       "\t8 & 2015-01-01T01:00:00 & 0.0 & -7.637 \\\\\n",
       "\\end{tabular}\n"
      ],
      "text/plain": [
       "\u001b[1m8×3 DataFrame\u001b[0m\n",
       "\u001b[1m Row \u001b[0m│\u001b[1m local_time          \u001b[0m\u001b[1m electricity \u001b[0m\u001b[1m temperature \u001b[0m\n",
       "\u001b[1m     \u001b[0m│\u001b[90m DateTime            \u001b[0m\u001b[90m Float64     \u001b[0m\u001b[90m Float64     \u001b[0m\n",
       "─────┼───────────────────────────────────────────────\n",
       "   1 │ 2014-12-31T18:00:00          0.0       -6.695\n",
       "   2 │ 2014-12-31T19:00:00          0.0       -6.693\n",
       "   3 │ 2014-12-31T20:00:00          0.0       -6.74\n",
       "   4 │ 2014-12-31T21:00:00          0.0       -6.846\n",
       "   5 │ 2014-12-31T22:00:00          0.0       -7.106\n",
       "   6 │ 2014-12-31T23:00:00          0.0       -7.328\n",
       "   7 │ 2015-01-01T00:00:00          0.0       -7.488\n",
       "   8 │ 2015-01-01T01:00:00          0.0       -7.637"
      ]
     },
     "execution_count": 8,
     "metadata": {},
     "output_type": "execute_result"
    }
   ],
   "source": [
    "CH_15_df = CSV.read(\"data/PV_generation_Chicago_10kW_0loss_2015.csv\", DataFrame,\n",
    "   select=[2,3,6], # what is happening here?\n",
    "   header=4,    # what is happening here?\n",
    "   dateformat=dateformat\"m/d/yyyy HH:MM\" # what is happening here? \n",
    "    );\n",
    "#CH_15_df = filter(r -> r.local_time >= DateTime(2015), CH_15_df);\n",
    "\n",
    "first(CH_15_df,8) # what is happening here?"
   ]
  },
  {
   "cell_type": "markdown",
   "metadata": {
    "slideshow": {
     "slide_type": "slide"
    }
   },
   "source": [
    "All there?"
   ]
  },
  {
   "cell_type": "code",
   "execution_count": 4,
   "metadata": {},
   "outputs": [
    {
     "data": {
      "text/plain": [
       "(8760, 3)"
      ]
     },
     "execution_count": 4,
     "metadata": {},
     "output_type": "execute_result"
    }
   ],
   "source": [
    "size(CH_15_df) # number of data points"
   ]
  },
  {
   "cell_type": "code",
   "execution_count": 6,
   "metadata": {
    "slideshow": {
     "slide_type": "-"
    }
   },
   "outputs": [
    {
     "data": {
      "text/html": [
       "<div class=\"data-frame\"><p>2 rows × 3 columns</p><table class=\"data-frame\"><thead><tr><th></th><th>local_time</th><th>electricity</th><th>temperature</th></tr><tr><th></th><th title=\"DateTime\">DateTime</th><th title=\"Float64\">Float64</th><th title=\"Float64\">Float64</th></tr></thead><tbody><tr><th>1</th><td>2015-12-31T16:00:00</td><td>0.0</td><td>-3.462</td></tr><tr><th>2</th><td>2015-12-31T17:00:00</td><td>0.0</td><td>-4.485</td></tr></tbody></table></div>"
      ],
      "text/latex": [
       "\\begin{tabular}{r|ccc}\n",
       "\t& local\\_time & electricity & temperature\\\\\n",
       "\t\\hline\n",
       "\t& DateTime & Float64 & Float64\\\\\n",
       "\t\\hline\n",
       "\t1 & 2015-12-31T16:00:00 & 0.0 & -3.462 \\\\\n",
       "\t2 & 2015-12-31T17:00:00 & 0.0 & -4.485 \\\\\n",
       "\\end{tabular}\n"
      ],
      "text/plain": [
       "\u001b[1m2×3 DataFrame\u001b[0m\n",
       "\u001b[1m Row \u001b[0m│\u001b[1m local_time          \u001b[0m\u001b[1m electricity \u001b[0m\u001b[1m temperature \u001b[0m\n",
       "\u001b[1m     \u001b[0m│\u001b[90m DateTime            \u001b[0m\u001b[90m Float64     \u001b[0m\u001b[90m Float64     \u001b[0m\n",
       "─────┼───────────────────────────────────────────────\n",
       "   1 │ 2015-12-31T16:00:00          0.0       -3.462\n",
       "   2 │ 2015-12-31T17:00:00          0.0       -4.485"
      ]
     },
     "execution_count": 6,
     "metadata": {},
     "output_type": "execute_result"
    }
   ],
   "source": [
    "last(CH_15_df,2) # print last "
   ]
  },
  {
   "cell_type": "markdown",
   "metadata": {
    "slideshow": {
     "slide_type": "slide"
    }
   },
   "source": [
    ">Inspect the imported data. What do you notice? What is yet to be done to compile a complete data set of 2015?"
   ]
  },
  {
   "cell_type": "markdown",
   "metadata": {
    "slideshow": {
     "slide_type": "slide"
    }
   },
   "source": [
    "#### Modify data set to include all data points for 2015"
   ]
  },
  {
   "cell_type": "code",
   "execution_count": 8,
   "metadata": {
    "scrolled": true,
    "slideshow": {
     "slide_type": "-"
    }
   },
   "outputs": [
    {
     "data": {
      "text/html": [
       "<div class=\"data-frame\"><p>8 rows × 3 columns</p><table class=\"data-frame\"><thead><tr><th></th><th>local_time</th><th>electricity</th><th>temperature</th></tr><tr><th></th><th title=\"DateTime\">DateTime</th><th title=\"Float64\">Float64</th><th title=\"Float64\">Float64</th></tr></thead><tbody><tr><th>1</th><td>2015-12-31T18:00:00</td><td>0.0</td><td>-5.308</td></tr><tr><th>2</th><td>2015-12-31T19:00:00</td><td>0.0</td><td>-5.897</td></tr><tr><th>3</th><td>2015-12-31T20:00:00</td><td>0.0</td><td>-6.22</td></tr><tr><th>4</th><td>2015-12-31T21:00:00</td><td>0.0</td><td>-6.302</td></tr><tr><th>5</th><td>2015-12-31T22:00:00</td><td>0.0</td><td>-6.056</td></tr><tr><th>6</th><td>2015-12-31T23:00:00</td><td>0.0</td><td>-5.947</td></tr><tr><th>7</th><td>2016-01-01T00:00:00</td><td>0.0</td><td>-6.08</td></tr><tr><th>8</th><td>2016-01-01T01:00:00</td><td>0.0</td><td>-6.389</td></tr></tbody></table></div>"
      ],
      "text/latex": [
       "\\begin{tabular}{r|ccc}\n",
       "\t& local\\_time & electricity & temperature\\\\\n",
       "\t\\hline\n",
       "\t& DateTime & Float64 & Float64\\\\\n",
       "\t\\hline\n",
       "\t1 & 2015-12-31T18:00:00 & 0.0 & -5.308 \\\\\n",
       "\t2 & 2015-12-31T19:00:00 & 0.0 & -5.897 \\\\\n",
       "\t3 & 2015-12-31T20:00:00 & 0.0 & -6.22 \\\\\n",
       "\t4 & 2015-12-31T21:00:00 & 0.0 & -6.302 \\\\\n",
       "\t5 & 2015-12-31T22:00:00 & 0.0 & -6.056 \\\\\n",
       "\t6 & 2015-12-31T23:00:00 & 0.0 & -5.947 \\\\\n",
       "\t7 & 2016-01-01T00:00:00 & 0.0 & -6.08 \\\\\n",
       "\t8 & 2016-01-01T01:00:00 & 0.0 & -6.389 \\\\\n",
       "\\end{tabular}\n"
      ],
      "text/plain": [
       "\u001b[1m8×3 DataFrame\u001b[0m\n",
       "\u001b[1m Row \u001b[0m│\u001b[1m local_time          \u001b[0m\u001b[1m electricity \u001b[0m\u001b[1m temperature \u001b[0m\n",
       "\u001b[1m     \u001b[0m│\u001b[90m DateTime            \u001b[0m\u001b[90m Float64     \u001b[0m\u001b[90m Float64     \u001b[0m\n",
       "─────┼───────────────────────────────────────────────\n",
       "   1 │ 2015-12-31T18:00:00          0.0       -5.308\n",
       "   2 │ 2015-12-31T19:00:00          0.0       -5.897\n",
       "   3 │ 2015-12-31T20:00:00          0.0       -6.22\n",
       "   4 │ 2015-12-31T21:00:00          0.0       -6.302\n",
       "   5 │ 2015-12-31T22:00:00          0.0       -6.056\n",
       "   6 │ 2015-12-31T23:00:00          0.0       -5.947\n",
       "   7 │ 2016-01-01T00:00:00          0.0       -6.08\n",
       "   8 │ 2016-01-01T01:00:00          0.0       -6.389"
      ]
     },
     "execution_count": 8,
     "metadata": {},
     "output_type": "execute_result"
    }
   ],
   "source": [
    "# Import data of 2016 into Dataframe CH_16_df\n",
    "CH_16_df = CSV.read(\"data/PV_generation_Chicago_10kW_0loss_2016.csv\", DataFrame,\n",
    "   select=[2,3,6], # what is happening here?\n",
    "   header=4,    # what is happening here?\n",
    "   dateformat=dateformat\"m/d/yyyy HH:MM\"  # what is happening here?\n",
    "    );\n",
    "\n",
    "first(CH_16_df,8) # what is happening here?"
   ]
  },
  {
   "cell_type": "code",
   "execution_count": 11,
   "metadata": {
    "slideshow": {
     "slide_type": "fragment"
    }
   },
   "outputs": [
    {
     "data": {
      "text/html": [
       "<div class=\"data-frame\"><p>3 rows × 3 columns</p><table class=\"data-frame\"><thead><tr><th></th><th>local_time</th><th>electricity</th><th>temperature</th></tr><tr><th></th><th title=\"DateTime\">DateTime</th><th title=\"Float64\">Float64</th><th title=\"Float64\">Float64</th></tr></thead><tbody><tr><th>1</th><td>2015-12-31T21:00:00</td><td>0.0</td><td>-6.302</td></tr><tr><th>2</th><td>2015-12-31T22:00:00</td><td>0.0</td><td>-6.056</td></tr><tr><th>3</th><td>2015-12-31T23:00:00</td><td>0.0</td><td>-5.947</td></tr></tbody></table></div>"
      ],
      "text/latex": [
       "\\begin{tabular}{r|ccc}\n",
       "\t& local\\_time & electricity & temperature\\\\\n",
       "\t\\hline\n",
       "\t& DateTime & Float64 & Float64\\\\\n",
       "\t\\hline\n",
       "\t1 & 2015-12-31T21:00:00 & 0.0 & -6.302 \\\\\n",
       "\t2 & 2015-12-31T22:00:00 & 0.0 & -6.056 \\\\\n",
       "\t3 & 2015-12-31T23:00:00 & 0.0 & -5.947 \\\\\n",
       "\\end{tabular}\n"
      ],
      "text/plain": [
       "\u001b[1m3×3 DataFrame\u001b[0m\n",
       "\u001b[1m Row \u001b[0m│\u001b[1m local_time          \u001b[0m\u001b[1m electricity \u001b[0m\u001b[1m temperature \u001b[0m\n",
       "\u001b[1m     \u001b[0m│\u001b[90m DateTime            \u001b[0m\u001b[90m Float64     \u001b[0m\u001b[90m Float64     \u001b[0m\n",
       "─────┼───────────────────────────────────────────────\n",
       "   1 │ 2015-12-31T21:00:00          0.0       -6.302\n",
       "   2 │ 2015-12-31T22:00:00          0.0       -6.056\n",
       "   3 │ 2015-12-31T23:00:00          0.0       -5.947"
      ]
     },
     "execution_count": 11,
     "metadata": {},
     "output_type": "execute_result"
    }
   ],
   "source": [
    "# what is happening here?\n",
    "CH_df = append!(CH_15_df[7:end,:], CH_16_df[1:6,:]); \n",
    "last(CH_df,3)"
   ]
  },
  {
   "cell_type": "markdown",
   "metadata": {
    "slideshow": {
     "slide_type": "slide"
    }
   },
   "source": [
    "#### 1.1.2) Potsdam "
   ]
  },
  {
   "cell_type": "markdown",
   "metadata": {},
   "source": [
    "#### Import the data of Potsdam based on local time from .csv (01/01/2015-12/31/2015)"
   ]
  },
  {
   "cell_type": "markdown",
   "metadata": {},
   "source": [
    ">Take a look at the .csv file. What do you notice?"
   ]
  },
  {
   "cell_type": "markdown",
   "metadata": {},
   "source": [
    "German format using ; and , instead of , and .!!!"
   ]
  },
  {
   "cell_type": "code",
   "execution_count": 9,
   "metadata": {},
   "outputs": [
    {
     "data": {
      "text/html": [
       "<div class=\"data-frame\"><p>5 rows × 3 columns</p><table class=\"data-frame\"><thead><tr><th></th><th>local_time</th><th>electricity</th><th>temperature</th></tr><tr><th></th><th title=\"DateTime\">DateTime</th><th title=\"Float64\">Float64</th><th title=\"Float64\">Float64</th></tr></thead><tbody><tr><th>1</th><td>2015-01-01T01:00:00</td><td>0.0</td><td>1.574</td></tr><tr><th>2</th><td>2015-01-01T02:00:00</td><td>0.0</td><td>1.47</td></tr><tr><th>3</th><td>2015-01-01T03:00:00</td><td>0.0</td><td>1.294</td></tr><tr><th>4</th><td>2015-01-01T04:00:00</td><td>0.0</td><td>1.139</td></tr><tr><th>5</th><td>2015-01-01T05:00:00</td><td>0.0</td><td>0.949</td></tr></tbody></table></div>"
      ],
      "text/latex": [
       "\\begin{tabular}{r|ccc}\n",
       "\t& local\\_time & electricity & temperature\\\\\n",
       "\t\\hline\n",
       "\t& DateTime & Float64 & Float64\\\\\n",
       "\t\\hline\n",
       "\t1 & 2015-01-01T01:00:00 & 0.0 & 1.574 \\\\\n",
       "\t2 & 2015-01-01T02:00:00 & 0.0 & 1.47 \\\\\n",
       "\t3 & 2015-01-01T03:00:00 & 0.0 & 1.294 \\\\\n",
       "\t4 & 2015-01-01T04:00:00 & 0.0 & 1.139 \\\\\n",
       "\t5 & 2015-01-01T05:00:00 & 0.0 & 0.949 \\\\\n",
       "\\end{tabular}\n"
      ],
      "text/plain": [
       "\u001b[1m5×3 DataFrame\u001b[0m\n",
       "\u001b[1m Row \u001b[0m│\u001b[1m local_time          \u001b[0m\u001b[1m electricity \u001b[0m\u001b[1m temperature \u001b[0m\n",
       "\u001b[1m     \u001b[0m│\u001b[90m DateTime            \u001b[0m\u001b[90m Float64     \u001b[0m\u001b[90m Float64     \u001b[0m\n",
       "─────┼───────────────────────────────────────────────\n",
       "   1 │ 2015-01-01T01:00:00          0.0        1.574\n",
       "   2 │ 2015-01-01T02:00:00          0.0        1.47\n",
       "   3 │ 2015-01-01T03:00:00          0.0        1.294\n",
       "   4 │ 2015-01-01T04:00:00          0.0        1.139\n",
       "   5 │ 2015-01-01T05:00:00          0.0        0.949"
      ]
     },
     "execution_count": 9,
     "metadata": {},
     "output_type": "execute_result"
    }
   ],
   "source": [
    "P_15_df = CSV.read(\"data/PV_generation_Potsdam_10kW_0loss_2015_GermanFormat.csv\", DataFrame,\n",
    "    select=[2,3,6],\n",
    "    header=4,\n",
    "    delim=';', # what is happening here?\n",
    "    decimal=',', # what is happening here?\n",
    "    dateformat=dateformat\"d.m.yyyy HH:MM\"); # what is happening here?\n",
    "first(P_15_df,5)"
   ]
  },
  {
   "cell_type": "markdown",
   "metadata": {
    "slideshow": {
     "slide_type": "slide"
    }
   },
   "source": [
    "All there?"
   ]
  },
  {
   "cell_type": "code",
   "execution_count": 14,
   "metadata": {},
   "outputs": [
    {
     "data": {
      "text/plain": [
       "(8760, 3)"
      ]
     },
     "execution_count": 14,
     "metadata": {},
     "output_type": "execute_result"
    }
   ],
   "source": [
    "size(P_15_df)"
   ]
  },
  {
   "cell_type": "code",
   "execution_count": 15,
   "metadata": {
    "scrolled": false
   },
   "outputs": [
    {
     "data": {
      "text/html": [
       "<div class=\"data-frame\"><p>5 rows × 3 columns</p><table class=\"data-frame\"><thead><tr><th></th><th>local_time</th><th>electricity</th><th>temperature</th></tr><tr><th></th><th title=\"DateTime\">DateTime</th><th title=\"Float64\">Float64</th><th title=\"Float64\">Float64</th></tr></thead><tbody><tr><th>1</th><td>2015-12-31T20:00:00</td><td>0.0</td><td>0.225</td></tr><tr><th>2</th><td>2015-12-31T21:00:00</td><td>0.0</td><td>0.223</td></tr><tr><th>3</th><td>2015-12-31T22:00:00</td><td>0.0</td><td>0.271</td></tr><tr><th>4</th><td>2015-12-31T23:00:00</td><td>0.0</td><td>0.197</td></tr><tr><th>5</th><td>2016-01-01T00:00:00</td><td>0.0</td><td>0.024</td></tr></tbody></table></div>"
      ],
      "text/latex": [
       "\\begin{tabular}{r|ccc}\n",
       "\t& local\\_time & electricity & temperature\\\\\n",
       "\t\\hline\n",
       "\t& DateTime & Float64 & Float64\\\\\n",
       "\t\\hline\n",
       "\t1 & 2015-12-31T20:00:00 & 0.0 & 0.225 \\\\\n",
       "\t2 & 2015-12-31T21:00:00 & 0.0 & 0.223 \\\\\n",
       "\t3 & 2015-12-31T22:00:00 & 0.0 & 0.271 \\\\\n",
       "\t4 & 2015-12-31T23:00:00 & 0.0 & 0.197 \\\\\n",
       "\t5 & 2016-01-01T00:00:00 & 0.0 & 0.024 \\\\\n",
       "\\end{tabular}\n"
      ],
      "text/plain": [
       "\u001b[1m5×3 DataFrame\u001b[0m\n",
       "\u001b[1m Row \u001b[0m│\u001b[1m local_time          \u001b[0m\u001b[1m electricity \u001b[0m\u001b[1m temperature \u001b[0m\n",
       "\u001b[1m     \u001b[0m│\u001b[90m DateTime            \u001b[0m\u001b[90m Float64     \u001b[0m\u001b[90m Float64     \u001b[0m\n",
       "─────┼───────────────────────────────────────────────\n",
       "   1 │ 2015-12-31T20:00:00          0.0        0.225\n",
       "   2 │ 2015-12-31T21:00:00          0.0        0.223\n",
       "   3 │ 2015-12-31T22:00:00          0.0        0.271\n",
       "   4 │ 2015-12-31T23:00:00          0.0        0.197\n",
       "   5 │ 2016-01-01T00:00:00          0.0        0.024"
      ]
     },
     "execution_count": 15,
     "metadata": {},
     "output_type": "execute_result"
    }
   ],
   "source": [
    "last(P_15_df,5)"
   ]
  },
  {
   "cell_type": "markdown",
   "metadata": {
    "slideshow": {
     "slide_type": "slide"
    }
   },
   "source": [
    "#### Modify data set to include all data points for 2015"
   ]
  },
  {
   "cell_type": "code",
   "execution_count": 11,
   "metadata": {
    "scrolled": true,
    "slideshow": {
     "slide_type": "-"
    }
   },
   "outputs": [],
   "source": [
    "# Import data of 2014 into Dataframe CH_14_df\n",
    "P_14_df = CSV.read(\"data/PV_generation_Potsdam_10kW_0loss_2014_GermanFormat.csv\", DataFrame,\n",
    "    select=[2,3,6],\n",
    "    header=4,\n",
    "    delim=';', # what is happening here?\n",
    "    decimal=',', # what is happening here?\n",
    "    dateformat=dateformat\"d.m.yyyy HH:MM\"); # what is happening here?\n",
    "last(P_14_df,5)\n",
    "#size(P_14_df)\n",
    "#P_14_df[8760,:]\n",
    "#P_14_df = filter(r -> r.local_time >= DateTime(2015), P_14_df);"
   ]
  },
  {
   "cell_type": "code",
   "execution_count": 15,
   "metadata": {
    "slideshow": {
     "slide_type": "slide"
    }
   },
   "outputs": [],
   "source": [
    "# Create DataFrame P_df that holds all data points for 2015; print last 3 entries\n",
    "P_df = append!(P_14_df[8760:8760,:], P_15_df[1:8759,:]);\n",
    "# I cannot use the append! function normally because it catched Error : ::DataFrameRow can't combined with ::DataFrame,\n",
    "# so instead I filtered first the data from 2014 so i can get the last data and then used the whole DataFrame\n",
    "P_df\n",
    "#CH_df = append!(CH_15_df[7:end,:], CH_16_df[1:6,:]);"
   ]
  },
  {
   "cell_type": "code",
   "execution_count": 16,
   "metadata": {},
   "outputs": [
    {
     "data": {
      "text/html": [
       "<div class=\"data-frame\"><p>2 rows × 3 columns</p><table class=\"data-frame\"><thead><tr><th></th><th>local_time</th><th>electricity</th><th>temperature</th></tr><tr><th></th><th title=\"DateTime\">DateTime</th><th title=\"Float64\">Float64</th><th title=\"Float64\">Float64</th></tr></thead><tbody><tr><th>1</th><td>2015-01-01T00:00:00</td><td>0.0</td><td>1.667</td></tr><tr><th>2</th><td>2015-01-01T01:00:00</td><td>0.0</td><td>1.574</td></tr></tbody></table></div>"
      ],
      "text/latex": [
       "\\begin{tabular}{r|ccc}\n",
       "\t& local\\_time & electricity & temperature\\\\\n",
       "\t\\hline\n",
       "\t& DateTime & Float64 & Float64\\\\\n",
       "\t\\hline\n",
       "\t1 & 2015-01-01T00:00:00 & 0.0 & 1.667 \\\\\n",
       "\t2 & 2015-01-01T01:00:00 & 0.0 & 1.574 \\\\\n",
       "\\end{tabular}\n"
      ],
      "text/plain": [
       "\u001b[1m2×3 DataFrame\u001b[0m\n",
       "\u001b[1m Row \u001b[0m│\u001b[1m local_time          \u001b[0m\u001b[1m electricity \u001b[0m\u001b[1m temperature \u001b[0m\n",
       "\u001b[1m     \u001b[0m│\u001b[90m DateTime            \u001b[0m\u001b[90m Float64     \u001b[0m\u001b[90m Float64     \u001b[0m\n",
       "─────┼───────────────────────────────────────────────\n",
       "   1 │ 2015-01-01T00:00:00          0.0        1.667\n",
       "   2 │ 2015-01-01T01:00:00          0.0        1.574"
      ]
     },
     "execution_count": 16,
     "metadata": {},
     "output_type": "execute_result"
    }
   ],
   "source": [
    "first(P_df,2)"
   ]
  },
  {
   "cell_type": "markdown",
   "metadata": {},
   "source": [
    "Same size?"
   ]
  },
  {
   "cell_type": "code",
   "execution_count": 30,
   "metadata": {},
   "outputs": [
    {
     "data": {
      "text/plain": [
       "((8760, 3), (8760, 3))"
      ]
     },
     "execution_count": 30,
     "metadata": {},
     "output_type": "execute_result"
    }
   ],
   "source": [
    "size(CH_df), size(P_df)"
   ]
  },
  {
   "cell_type": "markdown",
   "metadata": {
    "slideshow": {
     "slide_type": "slide"
    }
   },
   "source": [
    "### 1.2) Merge both datasets and export to .csv file"
   ]
  },
  {
   "cell_type": "code",
   "execution_count": 31,
   "metadata": {
    "scrolled": false
   },
   "outputs": [
    {
     "data": {
      "text/html": [
       "<div class=\"data-frame\"><p>2 rows × 5 columns</p><table class=\"data-frame\"><thead><tr><th></th><th>local_time</th><th>electricity</th><th>temperature</th><th>electricity_1</th><th>temperature_1</th></tr><tr><th></th><th title=\"DateTime\">DateTime</th><th title=\"Float64\">Float64</th><th title=\"Float64\">Float64</th><th title=\"Float64\">Float64</th><th title=\"Float64\">Float64</th></tr></thead><tbody><tr><th>1</th><td>2015-01-01T00:00:00</td><td>0.0</td><td>-7.488</td><td>0.0</td><td>1.667</td></tr><tr><th>2</th><td>2015-01-01T01:00:00</td><td>0.0</td><td>-7.637</td><td>0.0</td><td>1.574</td></tr></tbody></table></div>"
      ],
      "text/latex": [
       "\\begin{tabular}{r|ccccc}\n",
       "\t& local\\_time & electricity & temperature & electricity\\_1 & temperature\\_1\\\\\n",
       "\t\\hline\n",
       "\t& DateTime & Float64 & Float64 & Float64 & Float64\\\\\n",
       "\t\\hline\n",
       "\t1 & 2015-01-01T00:00:00 & 0.0 & -7.488 & 0.0 & 1.667 \\\\\n",
       "\t2 & 2015-01-01T01:00:00 & 0.0 & -7.637 & 0.0 & 1.574 \\\\\n",
       "\\end{tabular}\n"
      ],
      "text/plain": [
       "\u001b[1m2×5 DataFrame\u001b[0m\n",
       "\u001b[1m Row \u001b[0m│\u001b[1m local_time          \u001b[0m\u001b[1m electricity \u001b[0m\u001b[1m temperature \u001b[0m\u001b[1m electricity_1 \u001b[0m\u001b[1m temperatu\u001b[0m ⋯\n",
       "\u001b[1m     \u001b[0m│\u001b[90m DateTime            \u001b[0m\u001b[90m Float64     \u001b[0m\u001b[90m Float64     \u001b[0m\u001b[90m Float64       \u001b[0m\u001b[90m Float64  \u001b[0m ⋯\n",
       "─────┼──────────────────────────────────────────────────────────────────────────\n",
       "   1 │ 2015-01-01T00:00:00          0.0       -7.488            0.0          1 ⋯\n",
       "   2 │ 2015-01-01T01:00:00          0.0       -7.637            0.0          1\n",
       "\u001b[36m                                                                1 column omitted\u001b[0m"
      ]
     },
     "execution_count": 31,
     "metadata": {},
     "output_type": "execute_result"
    }
   ],
   "source": [
    "# what is happening here?\n",
    "df = innerjoin(CH_df, P_df, on=:local_time, makeunique=true); \n",
    "first(df,2)"
   ]
  },
  {
   "cell_type": "code",
   "execution_count": 32,
   "metadata": {
    "scrolled": true,
    "slideshow": {
     "slide_type": "fragment"
    }
   },
   "outputs": [
    {
     "data": {
      "text/html": [
       "<div class=\"data-frame\"><p>2 rows × 5 columns</p><table class=\"data-frame\"><thead><tr><th></th><th>time</th><th>CH_PV</th><th>CH_temp</th><th>P_PV</th><th>P_temp</th></tr><tr><th></th><th title=\"DateTime\">DateTime</th><th title=\"Float64\">Float64</th><th title=\"Float64\">Float64</th><th title=\"Float64\">Float64</th><th title=\"Float64\">Float64</th></tr></thead><tbody><tr><th>1</th><td>2015-01-01T00:00:00</td><td>0.0</td><td>-7.488</td><td>0.0</td><td>1.667</td></tr><tr><th>2</th><td>2015-01-01T01:00:00</td><td>0.0</td><td>-7.637</td><td>0.0</td><td>1.574</td></tr></tbody></table></div>"
      ],
      "text/latex": [
       "\\begin{tabular}{r|ccccc}\n",
       "\t& time & CH\\_PV & CH\\_temp & P\\_PV & P\\_temp\\\\\n",
       "\t\\hline\n",
       "\t& DateTime & Float64 & Float64 & Float64 & Float64\\\\\n",
       "\t\\hline\n",
       "\t1 & 2015-01-01T00:00:00 & 0.0 & -7.488 & 0.0 & 1.667 \\\\\n",
       "\t2 & 2015-01-01T01:00:00 & 0.0 & -7.637 & 0.0 & 1.574 \\\\\n",
       "\\end{tabular}\n"
      ],
      "text/plain": [
       "\u001b[1m2×5 DataFrame\u001b[0m\n",
       "\u001b[1m Row \u001b[0m│\u001b[1m time                \u001b[0m\u001b[1m CH_PV   \u001b[0m\u001b[1m CH_temp \u001b[0m\u001b[1m P_PV    \u001b[0m\u001b[1m P_temp  \u001b[0m\n",
       "\u001b[1m     \u001b[0m│\u001b[90m DateTime            \u001b[0m\u001b[90m Float64 \u001b[0m\u001b[90m Float64 \u001b[0m\u001b[90m Float64 \u001b[0m\u001b[90m Float64 \u001b[0m\n",
       "─────┼─────────────────────────────────────────────────────────\n",
       "   1 │ 2015-01-01T00:00:00      0.0   -7.488      0.0    1.667\n",
       "   2 │ 2015-01-01T01:00:00      0.0   -7.637      0.0    1.574"
      ]
     },
     "execution_count": 32,
     "metadata": {},
     "output_type": "execute_result"
    }
   ],
   "source": [
    "rename!(df, [:time, :CH_PV, :CH_temp, :P_PV, :P_temp]); # what is happening here?\n",
    "first(df,2)"
   ]
  },
  {
   "cell_type": "code",
   "execution_count": 33,
   "metadata": {},
   "outputs": [],
   "source": [
    "CSV.write(\"data/pv_temp_both.csv\", df); "
   ]
  },
  {
   "cell_type": "markdown",
   "metadata": {
    "slideshow": {
     "slide_type": "fragment"
    }
   },
   "source": [
    ">Notice any potential problems with this approach?"
   ]
  },
  {
   "cell_type": "markdown",
   "metadata": {
    "slideshow": {
     "slide_type": "slide"
    }
   },
   "source": [
    "### 1.3) Calculate monthly mean values"
   ]
  },
  {
   "cell_type": "markdown",
   "metadata": {},
   "source": [
    "Add column with month indicator"
   ]
  },
  {
   "cell_type": "code",
   "execution_count": 34,
   "metadata": {},
   "outputs": [],
   "source": [
    "df[:, :month] = Dates.month.(df[:, :time]); # what is happening here?"
   ]
  },
  {
   "cell_type": "code",
   "execution_count": 35,
   "metadata": {
    "scrolled": true
   },
   "outputs": [
    {
     "data": {
      "text/html": [
       "<div class=\"data-frame\"><p>2 rows × 6 columns</p><table class=\"data-frame\"><thead><tr><th></th><th>time</th><th>CH_PV</th><th>CH_temp</th><th>P_PV</th><th>P_temp</th><th>month</th></tr><tr><th></th><th title=\"DateTime\">DateTime</th><th title=\"Float64\">Float64</th><th title=\"Float64\">Float64</th><th title=\"Float64\">Float64</th><th title=\"Float64\">Float64</th><th title=\"Int64\">Int64</th></tr></thead><tbody><tr><th>1</th><td>2015-01-01T00:00:00</td><td>0.0</td><td>-7.488</td><td>0.0</td><td>1.667</td><td>1</td></tr><tr><th>2</th><td>2015-01-01T01:00:00</td><td>0.0</td><td>-7.637</td><td>0.0</td><td>1.574</td><td>1</td></tr></tbody></table></div>"
      ],
      "text/latex": [
       "\\begin{tabular}{r|cccccc}\n",
       "\t& time & CH\\_PV & CH\\_temp & P\\_PV & P\\_temp & month\\\\\n",
       "\t\\hline\n",
       "\t& DateTime & Float64 & Float64 & Float64 & Float64 & Int64\\\\\n",
       "\t\\hline\n",
       "\t1 & 2015-01-01T00:00:00 & 0.0 & -7.488 & 0.0 & 1.667 & 1 \\\\\n",
       "\t2 & 2015-01-01T01:00:00 & 0.0 & -7.637 & 0.0 & 1.574 & 1 \\\\\n",
       "\\end{tabular}\n"
      ],
      "text/plain": [
       "\u001b[1m2×6 DataFrame\u001b[0m\n",
       "\u001b[1m Row \u001b[0m│\u001b[1m time                \u001b[0m\u001b[1m CH_PV   \u001b[0m\u001b[1m CH_temp \u001b[0m\u001b[1m P_PV    \u001b[0m\u001b[1m P_temp  \u001b[0m\u001b[1m month \u001b[0m\n",
       "\u001b[1m     \u001b[0m│\u001b[90m DateTime            \u001b[0m\u001b[90m Float64 \u001b[0m\u001b[90m Float64 \u001b[0m\u001b[90m Float64 \u001b[0m\u001b[90m Float64 \u001b[0m\u001b[90m Int64 \u001b[0m\n",
       "─────┼────────────────────────────────────────────────────────────────\n",
       "   1 │ 2015-01-01T00:00:00      0.0   -7.488      0.0    1.667      1\n",
       "   2 │ 2015-01-01T01:00:00      0.0   -7.637      0.0    1.574      1"
      ]
     },
     "execution_count": 35,
     "metadata": {},
     "output_type": "execute_result"
    }
   ],
   "source": [
    "first(df,2)"
   ]
  },
  {
   "cell_type": "markdown",
   "metadata": {
    "slideshow": {
     "slide_type": "slide"
    }
   },
   "source": [
    "Now let's calculate the mean values using statistics package..."
   ]
  },
  {
   "cell_type": "code",
   "execution_count": 36,
   "metadata": {},
   "outputs": [
    {
     "data": {
      "text/plain": [
       "\"CH_PV\""
      ]
     },
     "execution_count": 36,
     "metadata": {},
     "output_type": "execute_result"
    }
   ],
   "source": [
    "names(df)[2] # retrieves the name of the second column; just for clarification"
   ]
  },
  {
   "cell_type": "code",
   "execution_count": 39,
   "metadata": {
    "scrolled": false,
    "slideshow": {
     "slide_type": "fragment"
    }
   },
   "outputs": [
    {
     "data": {
      "text/html": [
       "<div class=\"data-frame\"><p>2 rows × 2 columns</p><table class=\"data-frame\"><thead><tr><th></th><th>month</th><th>CH_PV_mean</th></tr><tr><th></th><th title=\"Int64\">Int64</th><th title=\"Float64\">Float64</th></tr></thead><tbody><tr><th>1</th><td>1</td><td>1.34624</td></tr><tr><th>2</th><td>2</td><td>1.7304</td></tr></tbody></table></div>"
      ],
      "text/latex": [
       "\\begin{tabular}{r|cc}\n",
       "\t& month & CH\\_PV\\_mean\\\\\n",
       "\t\\hline\n",
       "\t& Int64 & Float64\\\\\n",
       "\t\\hline\n",
       "\t1 & 1 & 1.34624 \\\\\n",
       "\t2 & 2 & 1.7304 \\\\\n",
       "\\end{tabular}\n"
      ],
      "text/plain": [
       "\u001b[1m2×2 DataFrame\u001b[0m\n",
       "\u001b[1m Row \u001b[0m│\u001b[1m month \u001b[0m\u001b[1m CH_PV_mean \u001b[0m\n",
       "\u001b[1m     \u001b[0m│\u001b[90m Int64 \u001b[0m\u001b[90m Float64    \u001b[0m\n",
       "─────┼───────────────────\n",
       "   1 │     1     1.34624\n",
       "   2 │     2     1.7304"
      ]
     },
     "execution_count": 39,
     "metadata": {},
     "output_type": "execute_result"
    }
   ],
   "source": [
    "# define new DataFrame that holds monthly mean values for CH_PV_mean; for details see: https://juliadatascience.io/groupby_combine; print first 2 elements\n",
    "gdf = groupby(df, :month);\n",
    "df_mean = combine(gdf, [:CH_PV] .=> mean);\n",
    "first(df_mean, 2)\n"
   ]
  },
  {
   "cell_type": "code",
   "execution_count": 40,
   "metadata": {
    "scrolled": true,
    "slideshow": {
     "slide_type": "fragment"
    }
   },
   "outputs": [
    {
     "data": {
      "text/html": [
       "<div class=\"data-frame\"><p>12 rows × 5 columns</p><table class=\"data-frame\"><thead><tr><th></th><th>month</th><th>CH_PV_mean</th><th>CH_temp_mean</th><th>P_PV_mean</th><th>P_temp_mean</th></tr><tr><th></th><th title=\"Int64\">Int64</th><th title=\"Float64\">Float64</th><th title=\"Float64\">Float64</th><th title=\"Float64\">Float64</th><th title=\"Float64\">Float64</th></tr></thead><tbody><tr><th>1</th><td>1</td><td>1.34624</td><td>-4.39326</td><td>0.364073</td><td>1.42441</td></tr><tr><th>2</th><td>2</td><td>1.7304</td><td>-8.56853</td><td>1.21147</td><td>0.173976</td></tr><tr><th>3</th><td>3</td><td>2.2535</td><td>0.791311</td><td>1.3953</td><td>4.5937</td></tr><tr><th>4</th><td>4</td><td>2.22821</td><td>7.93118</td><td>1.99699</td><td>7.8453</td></tr><tr><th>5</th><td>5</td><td>2.10013</td><td>14.2891</td><td>2.25677</td><td>12.1865</td></tr><tr><th>6</th><td>6</td><td>2.18167</td><td>18.0814</td><td>2.21375</td><td>15.7885</td></tr><tr><th>7</th><td>7</td><td>2.31981</td><td>21.6561</td><td>2.32056</td><td>19.3374</td></tr><tr><th>8</th><td>8</td><td>2.28716</td><td>21.9508</td><td>2.09527</td><td>20.9783</td></tr><tr><th>9</th><td>9</td><td>2.02521</td><td>20.1964</td><td>1.77553</td><td>13.5115</td></tr><tr><th>10</th><td>10</td><td>1.75902</td><td>12.6682</td><td>1.10646</td><td>7.47255</td></tr><tr><th>11</th><td>11</td><td>1.54619</td><td>7.66835</td><td>0.563119</td><td>6.35873</td></tr><tr><th>12</th><td>12</td><td>0.94144</td><td>3.76062</td><td>0.413683</td><td>5.19703</td></tr></tbody></table></div>"
      ],
      "text/latex": [
       "\\begin{tabular}{r|ccccc}\n",
       "\t& month & CH\\_PV\\_mean & CH\\_temp\\_mean & P\\_PV\\_mean & P\\_temp\\_mean\\\\\n",
       "\t\\hline\n",
       "\t& Int64 & Float64 & Float64 & Float64 & Float64\\\\\n",
       "\t\\hline\n",
       "\t1 & 1 & 1.34624 & -4.39326 & 0.364073 & 1.42441 \\\\\n",
       "\t2 & 2 & 1.7304 & -8.56853 & 1.21147 & 0.173976 \\\\\n",
       "\t3 & 3 & 2.2535 & 0.791311 & 1.3953 & 4.5937 \\\\\n",
       "\t4 & 4 & 2.22821 & 7.93118 & 1.99699 & 7.8453 \\\\\n",
       "\t5 & 5 & 2.10013 & 14.2891 & 2.25677 & 12.1865 \\\\\n",
       "\t6 & 6 & 2.18167 & 18.0814 & 2.21375 & 15.7885 \\\\\n",
       "\t7 & 7 & 2.31981 & 21.6561 & 2.32056 & 19.3374 \\\\\n",
       "\t8 & 8 & 2.28716 & 21.9508 & 2.09527 & 20.9783 \\\\\n",
       "\t9 & 9 & 2.02521 & 20.1964 & 1.77553 & 13.5115 \\\\\n",
       "\t10 & 10 & 1.75902 & 12.6682 & 1.10646 & 7.47255 \\\\\n",
       "\t11 & 11 & 1.54619 & 7.66835 & 0.563119 & 6.35873 \\\\\n",
       "\t12 & 12 & 0.94144 & 3.76062 & 0.413683 & 5.19703 \\\\\n",
       "\\end{tabular}\n"
      ],
      "text/plain": [
       "\u001b[1m12×5 DataFrame\u001b[0m\n",
       "\u001b[1m Row \u001b[0m│\u001b[1m month \u001b[0m\u001b[1m CH_PV_mean \u001b[0m\u001b[1m CH_temp_mean \u001b[0m\u001b[1m P_PV_mean \u001b[0m\u001b[1m P_temp_mean \u001b[0m\n",
       "\u001b[1m     \u001b[0m│\u001b[90m Int64 \u001b[0m\u001b[90m Float64    \u001b[0m\u001b[90m Float64      \u001b[0m\u001b[90m Float64   \u001b[0m\u001b[90m Float64     \u001b[0m\n",
       "─────┼─────────────────────────────────────────────────────────\n",
       "   1 │     1     1.34624     -4.39326    0.364073     1.42441\n",
       "   2 │     2     1.7304      -8.56853    1.21147      0.173976\n",
       "   3 │     3     2.2535       0.791311   1.3953       4.5937\n",
       "   4 │     4     2.22821      7.93118    1.99699      7.8453\n",
       "   5 │     5     2.10013     14.2891     2.25677     12.1865\n",
       "   6 │     6     2.18167     18.0814     2.21375     15.7885\n",
       "   7 │     7     2.31981     21.6561     2.32056     19.3374\n",
       "   8 │     8     2.28716     21.9508     2.09527     20.9783\n",
       "   9 │     9     2.02521     20.1964     1.77553     13.5115\n",
       "  10 │    10     1.75902     12.6682     1.10646      7.47255\n",
       "  11 │    11     1.54619      7.66835    0.563119     6.35873\n",
       "  12 │    12     0.94144      3.76062    0.413683     5.19703"
      ]
     },
     "execution_count": 40,
     "metadata": {},
     "output_type": "execute_result"
    }
   ],
   "source": [
    "# what is happening here?\n",
    "for i in 3:5\n",
    "    df_mean = innerjoin(df_mean, combine(groupby(df, :month), names(df)[i] => mean), on=:month)\n",
    "end\n",
    "df_mean "
   ]
  },
  {
   "cell_type": "code",
   "execution_count": 41,
   "metadata": {},
   "outputs": [
    {
     "data": {
      "text/plain": [
       "12×5 Matrix{Float64}:\n",
       "  1.0  1.34624  -4.39326   0.364073   1.42441\n",
       "  2.0  1.7304   -8.56853   1.21147    0.173976\n",
       "  3.0  2.2535    0.791311  1.3953     4.5937\n",
       "  4.0  2.22821   7.93118   1.99699    7.8453\n",
       "  5.0  2.10013  14.2891    2.25677   12.1865\n",
       "  6.0  2.18167  18.0814    2.21375   15.7885\n",
       "  7.0  2.31981  21.6561    2.32056   19.3374\n",
       "  8.0  2.28716  21.9508    2.09527   20.9783\n",
       "  9.0  2.02521  20.1964    1.77553   13.5115\n",
       " 10.0  1.75902  12.6682    1.10646    7.47255\n",
       " 11.0  1.54619   7.66835   0.563119   6.35873\n",
       " 12.0  0.94144   3.76062   0.413683   5.19703"
      ]
     },
     "execution_count": 41,
     "metadata": {},
     "output_type": "execute_result"
    }
   ],
   "source": [
    "Matrix(df_mean) # convert into array to speed up calculations"
   ]
  },
  {
   "cell_type": "markdown",
   "metadata": {
    "slideshow": {
     "slide_type": "slide"
    }
   },
   "source": [
    "### 1.4) Save to .csv file"
   ]
  },
  {
   "cell_type": "code",
   "execution_count": 42,
   "metadata": {},
   "outputs": [],
   "source": [
    "CSV.write(\"data/pv_temp_monthly_mean.csv\", df_mean); # export data to csv file"
   ]
  },
  {
   "cell_type": "markdown",
   "metadata": {
    "slideshow": {
     "slide_type": "fragment"
    }
   },
   "source": [
    "Break ☕😎"
   ]
  },
  {
   "cell_type": "markdown",
   "metadata": {
    "slideshow": {
     "slide_type": "slide"
    }
   },
   "source": [
    "## Part 2) Visualization"
   ]
  },
  {
   "cell_type": "code",
   "execution_count": null,
   "metadata": {},
   "outputs": [],
   "source": [
    "#In case you havn't done so, let's install some additional libraries\n",
    "\n",
    "#using Pkg;\n",
    "#Pkg.add(\"StatsPlots\"); # we need this package for visualization\n",
    "#Pkg.add(\"Measures\"); # we need this package for displaying a second axis\n",
    "#Pkg.status()"
   ]
  },
  {
   "cell_type": "code",
   "execution_count": 23,
   "metadata": {},
   "outputs": [],
   "source": [
    "using StatsPlots, Measures\n",
    "\n",
    "#these packages should be available from Task 1; if not, please activate again\n",
    "#using DataFrames, CSV, Dates, Statistics "
   ]
  },
  {
   "cell_type": "markdown",
   "metadata": {
    "slideshow": {
     "slide_type": "slide"
    }
   },
   "source": [
    "### 2.1) Visualize monthly mean values"
   ]
  },
  {
   "cell_type": "markdown",
   "metadata": {},
   "source": [
    "#### Import data from .csv into DataFrame (if no longer available from Task 1)"
   ]
  },
  {
   "cell_type": "code",
   "execution_count": 17,
   "metadata": {
    "scrolled": false
   },
   "outputs": [],
   "source": [
    "df_mean = CSV.read(\"data/pv_temp_monthly_mean.csv\", DataFrame);"
   ]
  },
  {
   "cell_type": "code",
   "execution_count": 18,
   "metadata": {
    "scrolled": true
   },
   "outputs": [
    {
     "data": {
      "text/html": [
       "<div class=\"data-frame\"><p>12 rows × 5 columns</p><table class=\"data-frame\"><thead><tr><th></th><th>month</th><th>CH_PV_mean</th><th>CH_temp_mean</th><th>P_PV_mean</th><th>P_temp_mean</th></tr><tr><th></th><th title=\"Int64\">Int64</th><th title=\"Float64\">Float64</th><th title=\"Float64\">Float64</th><th title=\"Float64\">Float64</th><th title=\"Float64\">Float64</th></tr></thead><tbody><tr><th>1</th><td>1</td><td>1.34624</td><td>-4.39326</td><td>0.364073</td><td>1.42441</td></tr><tr><th>2</th><td>2</td><td>1.7304</td><td>-8.56853</td><td>1.21147</td><td>0.173976</td></tr><tr><th>3</th><td>3</td><td>2.2535</td><td>0.791311</td><td>1.3953</td><td>4.5937</td></tr><tr><th>4</th><td>4</td><td>2.22821</td><td>7.93118</td><td>1.99699</td><td>7.8453</td></tr><tr><th>5</th><td>5</td><td>2.10013</td><td>14.2891</td><td>2.25677</td><td>12.1865</td></tr><tr><th>6</th><td>6</td><td>2.18167</td><td>18.0814</td><td>2.21375</td><td>15.7885</td></tr><tr><th>7</th><td>7</td><td>2.31981</td><td>21.6561</td><td>2.32056</td><td>19.3374</td></tr><tr><th>8</th><td>8</td><td>2.28716</td><td>21.9508</td><td>2.09527</td><td>20.9783</td></tr><tr><th>9</th><td>9</td><td>2.02521</td><td>20.1964</td><td>1.77553</td><td>13.5115</td></tr><tr><th>10</th><td>10</td><td>1.75902</td><td>12.6682</td><td>1.10646</td><td>7.47255</td></tr><tr><th>11</th><td>11</td><td>1.54619</td><td>7.66835</td><td>0.563119</td><td>6.35873</td></tr><tr><th>12</th><td>12</td><td>0.94144</td><td>3.76062</td><td>0.413683</td><td>5.19703</td></tr></tbody></table></div>"
      ],
      "text/latex": [
       "\\begin{tabular}{r|ccccc}\n",
       "\t& month & CH\\_PV\\_mean & CH\\_temp\\_mean & P\\_PV\\_mean & P\\_temp\\_mean\\\\\n",
       "\t\\hline\n",
       "\t& Int64 & Float64 & Float64 & Float64 & Float64\\\\\n",
       "\t\\hline\n",
       "\t1 & 1 & 1.34624 & -4.39326 & 0.364073 & 1.42441 \\\\\n",
       "\t2 & 2 & 1.7304 & -8.56853 & 1.21147 & 0.173976 \\\\\n",
       "\t3 & 3 & 2.2535 & 0.791311 & 1.3953 & 4.5937 \\\\\n",
       "\t4 & 4 & 2.22821 & 7.93118 & 1.99699 & 7.8453 \\\\\n",
       "\t5 & 5 & 2.10013 & 14.2891 & 2.25677 & 12.1865 \\\\\n",
       "\t6 & 6 & 2.18167 & 18.0814 & 2.21375 & 15.7885 \\\\\n",
       "\t7 & 7 & 2.31981 & 21.6561 & 2.32056 & 19.3374 \\\\\n",
       "\t8 & 8 & 2.28716 & 21.9508 & 2.09527 & 20.9783 \\\\\n",
       "\t9 & 9 & 2.02521 & 20.1964 & 1.77553 & 13.5115 \\\\\n",
       "\t10 & 10 & 1.75902 & 12.6682 & 1.10646 & 7.47255 \\\\\n",
       "\t11 & 11 & 1.54619 & 7.66835 & 0.563119 & 6.35873 \\\\\n",
       "\t12 & 12 & 0.94144 & 3.76062 & 0.413683 & 5.19703 \\\\\n",
       "\\end{tabular}\n"
      ],
      "text/plain": [
       "\u001b[1m12×5 DataFrame\u001b[0m\n",
       "\u001b[1m Row \u001b[0m│\u001b[1m month \u001b[0m\u001b[1m CH_PV_mean \u001b[0m\u001b[1m CH_temp_mean \u001b[0m\u001b[1m P_PV_mean \u001b[0m\u001b[1m P_temp_mean \u001b[0m\n",
       "\u001b[1m     \u001b[0m│\u001b[90m Int64 \u001b[0m\u001b[90m Float64    \u001b[0m\u001b[90m Float64      \u001b[0m\u001b[90m Float64   \u001b[0m\u001b[90m Float64     \u001b[0m\n",
       "─────┼─────────────────────────────────────────────────────────\n",
       "   1 │     1     1.34624     -4.39326    0.364073     1.42441\n",
       "   2 │     2     1.7304      -8.56853    1.21147      0.173976\n",
       "   3 │     3     2.2535       0.791311   1.3953       4.5937\n",
       "   4 │     4     2.22821      7.93118    1.99699      7.8453\n",
       "   5 │     5     2.10013     14.2891     2.25677     12.1865\n",
       "   6 │     6     2.18167     18.0814     2.21375     15.7885\n",
       "   7 │     7     2.31981     21.6561     2.32056     19.3374\n",
       "   8 │     8     2.28716     21.9508     2.09527     20.9783\n",
       "   9 │     9     2.02521     20.1964     1.77553     13.5115\n",
       "  10 │    10     1.75902     12.6682     1.10646      7.47255\n",
       "  11 │    11     1.54619      7.66835    0.563119     6.35873\n",
       "  12 │    12     0.94144      3.76062    0.413683     5.19703"
      ]
     },
     "execution_count": 18,
     "metadata": {},
     "output_type": "execute_result"
    }
   ],
   "source": [
    "df_mean # print result"
   ]
  },
  {
   "cell_type": "markdown",
   "metadata": {
    "slideshow": {
     "slide_type": "slide"
    }
   },
   "source": [
    "#### Let's create a combined chart of the PV generation and temperature of each month"
   ]
  },
  {
   "cell_type": "code",
   "execution_count": 19,
   "metadata": {},
   "outputs": [
    {
     "data": {
      "text/plain": [
       "1:12"
      ]
     },
     "execution_count": 19,
     "metadata": {},
     "output_type": "execute_result"
    }
   ],
   "source": [
    "x = 1:12 # x axis: initialize x as an 12x1 array with integer values 1 to 12"
   ]
  },
  {
   "cell_type": "code",
   "execution_count": 20,
   "metadata": {
    "scrolled": true
   },
   "outputs": [
    {
     "data": {
      "text/plain": [
       "12×2 Matrix{Float64}:\n",
       " 1.34624  0.364073\n",
       " 1.7304   1.21147\n",
       " 2.2535   1.3953\n",
       " 2.22821  1.99699\n",
       " 2.10013  2.25677\n",
       " 2.18167  2.21375\n",
       " 2.31981  2.32056\n",
       " 2.28716  2.09527\n",
       " 2.02521  1.77553\n",
       " 1.75902  1.10646\n",
       " 1.54619  0.563119\n",
       " 0.94144  0.413683"
      ]
     },
     "execution_count": 20,
     "metadata": {},
     "output_type": "execute_result"
    }
   ],
   "source": [
    "PV_mean = Matrix(df_mean[:,[2,4]]) # what is happening here?"
   ]
  },
  {
   "cell_type": "code",
   "execution_count": 21,
   "metadata": {},
   "outputs": [
    {
     "data": {
      "text/plain": [
       "12×2 Matrix{Float64}:\n",
       " -4.39326    1.42441\n",
       " -8.56853    0.173976\n",
       "  0.791311   4.5937\n",
       "  7.93118    7.8453\n",
       " 14.2891    12.1865\n",
       " 18.0814    15.7885\n",
       " 21.6561    19.3374\n",
       " 21.9508    20.9783\n",
       " 20.1964    13.5115\n",
       " 12.6682     7.47255\n",
       "  7.66835    6.35873\n",
       "  3.76062    5.19703"
      ]
     },
     "execution_count": 21,
     "metadata": {},
     "output_type": "execute_result"
    }
   ],
   "source": [
    "T_mean = Matrix(df_mean[:,[3,5]]) # what is happening here?"
   ]
  },
  {
   "cell_type": "code",
   "execution_count": 26,
   "metadata": {
    "slideshow": {
     "slide_type": "slide"
    }
   },
   "outputs": [
    {
     "name": "stderr",
     "output_type": "stream",
     "text": [
      "┌ Warning: Skipped marker arg [:line :line].\n",
      "└ @ Plots C:\\Users\\ignga\\.julia\\packages\\Plots\\Xv2qA\\src\\args.jl:1225\n"
     ]
    },
    {
     "data": {
      "image/svg+xml": [
       "<?xml version=\"1.0\" encoding=\"utf-8\"?>\n",
       "<svg xmlns=\"http://www.w3.org/2000/svg\" xmlns:xlink=\"http://www.w3.org/1999/xlink\" width=\"600\" height=\"400\" viewBox=\"0 0 2400 1600\">\n",
       "<defs>\n",
       "  <clipPath id=\"clip760\">\n",
       "    <rect x=\"0\" y=\"0\" width=\"2400\" height=\"1600\"/>\n",
       "  </clipPath>\n",
       "</defs>\n",
       "<path clip-path=\"url(#clip760)\" d=\"\n",
       "M0 1600 L2400 1600 L2400 0 L0 0  Z\n",
       "  \" fill=\"#ffffff\" fill-rule=\"evenodd\" fill-opacity=\"1\"/>\n",
       "<defs>\n",
       "  <clipPath id=\"clip761\">\n",
       "    <rect x=\"480\" y=\"0\" width=\"1681\" height=\"1600\"/>\n",
       "  </clipPath>\n",
       "</defs>\n",
       "<path clip-path=\"url(#clip760)\" d=\"\n",
       "M156.112 1486.45 L2289.76 1486.45 L2289.76 47.2441 L156.112 47.2441  Z\n",
       "  \" fill=\"#ffffff\" fill-rule=\"evenodd\" fill-opacity=\"1\"/>\n",
       "<defs>\n",
       "  <clipPath id=\"clip762\">\n",
       "    <rect x=\"156\" y=\"47\" width=\"2135\" height=\"1440\"/>\n",
       "  </clipPath>\n",
       "</defs>\n",
       "<polyline clip-path=\"url(#clip762)\" style=\"stroke:#000000; stroke-linecap:butt; stroke-linejoin:round; stroke-width:2; stroke-opacity:0.1; fill:none\" points=\"\n",
       "  320.239,1486.45 320.239,47.2441 \n",
       "  \"/>\n",
       "<polyline clip-path=\"url(#clip762)\" style=\"stroke:#000000; stroke-linecap:butt; stroke-linejoin:round; stroke-width:2; stroke-opacity:0.1; fill:none\" points=\"\n",
       "  484.366,1486.45 484.366,47.2441 \n",
       "  \"/>\n",
       "<polyline clip-path=\"url(#clip762)\" style=\"stroke:#000000; stroke-linecap:butt; stroke-linejoin:round; stroke-width:2; stroke-opacity:0.1; fill:none\" points=\"\n",
       "  648.493,1486.45 648.493,47.2441 \n",
       "  \"/>\n",
       "<polyline clip-path=\"url(#clip762)\" style=\"stroke:#000000; stroke-linecap:butt; stroke-linejoin:round; stroke-width:2; stroke-opacity:0.1; fill:none\" points=\"\n",
       "  812.62,1486.45 812.62,47.2441 \n",
       "  \"/>\n",
       "<polyline clip-path=\"url(#clip762)\" style=\"stroke:#000000; stroke-linecap:butt; stroke-linejoin:round; stroke-width:2; stroke-opacity:0.1; fill:none\" points=\"\n",
       "  976.747,1486.45 976.747,47.2441 \n",
       "  \"/>\n",
       "<polyline clip-path=\"url(#clip762)\" style=\"stroke:#000000; stroke-linecap:butt; stroke-linejoin:round; stroke-width:2; stroke-opacity:0.1; fill:none\" points=\"\n",
       "  1140.87,1486.45 1140.87,47.2441 \n",
       "  \"/>\n",
       "<polyline clip-path=\"url(#clip762)\" style=\"stroke:#000000; stroke-linecap:butt; stroke-linejoin:round; stroke-width:2; stroke-opacity:0.1; fill:none\" points=\"\n",
       "  1305,1486.45 1305,47.2441 \n",
       "  \"/>\n",
       "<polyline clip-path=\"url(#clip762)\" style=\"stroke:#000000; stroke-linecap:butt; stroke-linejoin:round; stroke-width:2; stroke-opacity:0.1; fill:none\" points=\"\n",
       "  1469.13,1486.45 1469.13,47.2441 \n",
       "  \"/>\n",
       "<polyline clip-path=\"url(#clip762)\" style=\"stroke:#000000; stroke-linecap:butt; stroke-linejoin:round; stroke-width:2; stroke-opacity:0.1; fill:none\" points=\"\n",
       "  1633.26,1486.45 1633.26,47.2441 \n",
       "  \"/>\n",
       "<polyline clip-path=\"url(#clip762)\" style=\"stroke:#000000; stroke-linecap:butt; stroke-linejoin:round; stroke-width:2; stroke-opacity:0.1; fill:none\" points=\"\n",
       "  1797.38,1486.45 1797.38,47.2441 \n",
       "  \"/>\n",
       "<polyline clip-path=\"url(#clip762)\" style=\"stroke:#000000; stroke-linecap:butt; stroke-linejoin:round; stroke-width:2; stroke-opacity:0.1; fill:none\" points=\"\n",
       "  1961.51,1486.45 1961.51,47.2441 \n",
       "  \"/>\n",
       "<polyline clip-path=\"url(#clip762)\" style=\"stroke:#000000; stroke-linecap:butt; stroke-linejoin:round; stroke-width:2; stroke-opacity:0.1; fill:none\" points=\"\n",
       "  2125.64,1486.45 2125.64,47.2441 \n",
       "  \"/>\n",
       "<polyline clip-path=\"url(#clip760)\" style=\"stroke:#000000; stroke-linecap:butt; stroke-linejoin:round; stroke-width:4; stroke-opacity:1; fill:none\" points=\"\n",
       "  156.112,1486.45 2289.76,1486.45 \n",
       "  \"/>\n",
       "<polyline clip-path=\"url(#clip760)\" style=\"stroke:#000000; stroke-linecap:butt; stroke-linejoin:round; stroke-width:4; stroke-opacity:1; fill:none\" points=\"\n",
       "  320.239,1486.45 320.239,1467.55 \n",
       "  \"/>\n",
       "<polyline clip-path=\"url(#clip760)\" style=\"stroke:#000000; stroke-linecap:butt; stroke-linejoin:round; stroke-width:4; stroke-opacity:1; fill:none\" points=\"\n",
       "  484.366,1486.45 484.366,1467.55 \n",
       "  \"/>\n",
       "<polyline clip-path=\"url(#clip760)\" style=\"stroke:#000000; stroke-linecap:butt; stroke-linejoin:round; stroke-width:4; stroke-opacity:1; fill:none\" points=\"\n",
       "  648.493,1486.45 648.493,1467.55 \n",
       "  \"/>\n",
       "<polyline clip-path=\"url(#clip760)\" style=\"stroke:#000000; stroke-linecap:butt; stroke-linejoin:round; stroke-width:4; stroke-opacity:1; fill:none\" points=\"\n",
       "  812.62,1486.45 812.62,1467.55 \n",
       "  \"/>\n",
       "<polyline clip-path=\"url(#clip760)\" style=\"stroke:#000000; stroke-linecap:butt; stroke-linejoin:round; stroke-width:4; stroke-opacity:1; fill:none\" points=\"\n",
       "  976.747,1486.45 976.747,1467.55 \n",
       "  \"/>\n",
       "<polyline clip-path=\"url(#clip760)\" style=\"stroke:#000000; stroke-linecap:butt; stroke-linejoin:round; stroke-width:4; stroke-opacity:1; fill:none\" points=\"\n",
       "  1140.87,1486.45 1140.87,1467.55 \n",
       "  \"/>\n",
       "<polyline clip-path=\"url(#clip760)\" style=\"stroke:#000000; stroke-linecap:butt; stroke-linejoin:round; stroke-width:4; stroke-opacity:1; fill:none\" points=\"\n",
       "  1305,1486.45 1305,1467.55 \n",
       "  \"/>\n",
       "<polyline clip-path=\"url(#clip760)\" style=\"stroke:#000000; stroke-linecap:butt; stroke-linejoin:round; stroke-width:4; stroke-opacity:1; fill:none\" points=\"\n",
       "  1469.13,1486.45 1469.13,1467.55 \n",
       "  \"/>\n",
       "<polyline clip-path=\"url(#clip760)\" style=\"stroke:#000000; stroke-linecap:butt; stroke-linejoin:round; stroke-width:4; stroke-opacity:1; fill:none\" points=\"\n",
       "  1633.26,1486.45 1633.26,1467.55 \n",
       "  \"/>\n",
       "<polyline clip-path=\"url(#clip760)\" style=\"stroke:#000000; stroke-linecap:butt; stroke-linejoin:round; stroke-width:4; stroke-opacity:1; fill:none\" points=\"\n",
       "  1797.38,1486.45 1797.38,1467.55 \n",
       "  \"/>\n",
       "<polyline clip-path=\"url(#clip760)\" style=\"stroke:#000000; stroke-linecap:butt; stroke-linejoin:round; stroke-width:4; stroke-opacity:1; fill:none\" points=\"\n",
       "  1961.51,1486.45 1961.51,1467.55 \n",
       "  \"/>\n",
       "<polyline clip-path=\"url(#clip760)\" style=\"stroke:#000000; stroke-linecap:butt; stroke-linejoin:round; stroke-width:4; stroke-opacity:1; fill:none\" points=\"\n",
       "  2125.64,1486.45 2125.64,1467.55 \n",
       "  \"/>\n",
       "<path clip-path=\"url(#clip760)\" d=\"M310.621 1544.91 L318.26 1544.91 L318.26 1518.55 L309.95 1520.21 L309.95 1515.95 L318.214 1514.29 L322.89 1514.29 L322.89 1544.91 L330.528 1544.91 L330.528 1548.85 L310.621 1548.85 L310.621 1544.91 Z\" fill=\"#000000\" fill-rule=\"evenodd\" fill-opacity=\"1\" /><path clip-path=\"url(#clip760)\" d=\"M479.019 1544.91 L495.338 1544.91 L495.338 1548.85 L473.394 1548.85 L473.394 1544.91 Q476.056 1542.16 480.639 1537.53 Q485.246 1532.88 486.426 1531.53 Q488.672 1529.01 489.551 1527.27 Q490.454 1525.51 490.454 1523.82 Q490.454 1521.07 488.51 1519.33 Q486.588 1517.6 483.487 1517.6 Q481.288 1517.6 478.834 1518.36 Q476.403 1519.13 473.626 1520.68 L473.626 1515.95 Q476.45 1514.82 478.903 1514.24 Q481.357 1513.66 483.394 1513.66 Q488.764 1513.66 491.959 1516.35 Q495.153 1519.03 495.153 1523.52 Q495.153 1525.65 494.343 1527.57 Q493.556 1529.47 491.45 1532.07 Q490.871 1532.74 487.769 1535.95 Q484.667 1539.15 479.019 1544.91 Z\" fill=\"#000000\" fill-rule=\"evenodd\" fill-opacity=\"1\" /><path clip-path=\"url(#clip760)\" d=\"M652.741 1530.21 Q656.097 1530.93 657.972 1533.2 Q659.871 1535.47 659.871 1538.8 Q659.871 1543.92 656.352 1546.72 Q652.834 1549.52 646.352 1549.52 Q644.176 1549.52 641.861 1549.08 Q639.57 1548.66 637.116 1547.81 L637.116 1543.29 Q639.06 1544.43 641.375 1545.01 Q643.69 1545.58 646.213 1545.58 Q650.611 1545.58 652.903 1543.85 Q655.218 1542.11 655.218 1538.8 Q655.218 1535.75 653.065 1534.03 Q650.935 1532.3 647.116 1532.3 L643.088 1532.3 L643.088 1528.45 L647.301 1528.45 Q650.75 1528.45 652.579 1527.09 Q654.408 1525.7 654.408 1523.11 Q654.408 1520.45 652.509 1519.03 Q650.634 1517.6 647.116 1517.6 Q645.195 1517.6 642.996 1518.01 Q640.797 1518.43 638.158 1519.31 L638.158 1515.14 Q640.82 1514.4 643.135 1514.03 Q645.472 1513.66 647.533 1513.66 Q652.857 1513.66 655.959 1516.09 Q659.06 1518.5 659.06 1522.62 Q659.06 1525.49 657.417 1527.48 Q655.773 1529.45 652.741 1530.21 Z\" fill=\"#000000\" fill-rule=\"evenodd\" fill-opacity=\"1\" /><path clip-path=\"url(#clip760)\" d=\"M815.63 1518.36 L803.824 1536.81 L815.63 1536.81 L815.63 1518.36 M814.403 1514.29 L820.282 1514.29 L820.282 1536.81 L825.213 1536.81 L825.213 1540.7 L820.282 1540.7 L820.282 1548.85 L815.63 1548.85 L815.63 1540.7 L800.028 1540.7 L800.028 1536.19 L814.403 1514.29 Z\" fill=\"#000000\" fill-rule=\"evenodd\" fill-opacity=\"1\" /><path clip-path=\"url(#clip760)\" d=\"M967.025 1514.29 L985.382 1514.29 L985.382 1518.22 L971.308 1518.22 L971.308 1526.7 Q972.326 1526.35 973.345 1526.19 Q974.363 1526 975.382 1526 Q981.169 1526 984.548 1529.17 Q987.928 1532.34 987.928 1537.76 Q987.928 1543.34 984.456 1546.44 Q980.983 1549.52 974.664 1549.52 Q972.488 1549.52 970.22 1549.15 Q967.974 1548.78 965.567 1548.04 L965.567 1543.34 Q967.65 1544.47 969.872 1545.03 Q972.095 1545.58 974.571 1545.58 Q978.576 1545.58 980.914 1543.48 Q983.252 1541.37 983.252 1537.76 Q983.252 1534.15 980.914 1532.04 Q978.576 1529.94 974.571 1529.94 Q972.696 1529.94 970.821 1530.35 Q968.97 1530.77 967.025 1531.65 L967.025 1514.29 Z\" fill=\"#000000\" fill-rule=\"evenodd\" fill-opacity=\"1\" /><path clip-path=\"url(#clip760)\" d=\"M1141.28 1529.7 Q1138.13 1529.7 1136.28 1531.86 Q1134.45 1534.01 1134.45 1537.76 Q1134.45 1541.49 1136.28 1543.66 Q1138.13 1545.82 1141.28 1545.82 Q1144.43 1545.82 1146.26 1543.66 Q1148.11 1541.49 1148.11 1537.76 Q1148.11 1534.01 1146.26 1531.86 Q1144.43 1529.7 1141.28 1529.7 M1150.56 1515.05 L1150.56 1519.31 Q1148.8 1518.48 1147 1518.04 Q1145.21 1517.6 1143.46 1517.6 Q1138.83 1517.6 1136.37 1520.72 Q1133.94 1523.85 1133.59 1530.17 Q1134.96 1528.15 1137.02 1527.09 Q1139.08 1526 1141.56 1526 Q1146.77 1526 1149.77 1529.17 Q1152.81 1532.32 1152.81 1537.76 Q1152.81 1543.08 1149.66 1546.3 Q1146.51 1549.52 1141.28 1549.52 Q1135.28 1549.52 1132.11 1544.94 Q1128.94 1540.33 1128.94 1531.6 Q1128.94 1523.41 1132.83 1518.55 Q1136.72 1513.66 1143.27 1513.66 Q1145.03 1513.66 1146.81 1514.01 Q1148.62 1514.36 1150.56 1515.05 Z\" fill=\"#000000\" fill-rule=\"evenodd\" fill-opacity=\"1\" /><path clip-path=\"url(#clip760)\" d=\"M1293.89 1514.29 L1316.11 1514.29 L1316.11 1516.28 L1303.57 1548.85 L1298.68 1548.85 L1310.49 1518.22 L1293.89 1518.22 L1293.89 1514.29 Z\" fill=\"#000000\" fill-rule=\"evenodd\" fill-opacity=\"1\" /><path clip-path=\"url(#clip760)\" d=\"M1469.13 1532.44 Q1465.8 1532.44 1463.87 1534.22 Q1461.98 1536 1461.98 1539.13 Q1461.98 1542.25 1463.87 1544.03 Q1465.8 1545.82 1469.13 1545.82 Q1472.46 1545.82 1474.38 1544.03 Q1476.3 1542.23 1476.3 1539.13 Q1476.3 1536 1474.38 1534.22 Q1472.48 1532.44 1469.13 1532.44 M1464.45 1530.45 Q1461.44 1529.7 1459.75 1527.64 Q1458.09 1525.58 1458.09 1522.62 Q1458.09 1518.48 1461.03 1516.07 Q1463.99 1513.66 1469.13 1513.66 Q1474.29 1513.66 1477.23 1516.07 Q1480.17 1518.48 1480.17 1522.62 Q1480.17 1525.58 1478.48 1527.64 Q1476.81 1529.7 1473.83 1530.45 Q1477.21 1531.23 1479.08 1533.52 Q1480.98 1535.82 1480.98 1539.13 Q1480.98 1544.15 1477.9 1546.83 Q1474.85 1549.52 1469.13 1549.52 Q1463.41 1549.52 1460.33 1546.83 Q1457.28 1544.15 1457.28 1539.13 Q1457.28 1535.82 1459.17 1533.52 Q1461.07 1531.23 1464.45 1530.45 M1462.74 1523.06 Q1462.74 1525.75 1464.41 1527.25 Q1466.1 1528.76 1469.13 1528.76 Q1472.14 1528.76 1473.83 1527.25 Q1475.54 1525.75 1475.54 1523.06 Q1475.54 1520.38 1473.83 1518.87 Q1472.14 1517.37 1469.13 1517.37 Q1466.1 1517.37 1464.41 1518.87 Q1462.74 1520.38 1462.74 1523.06 Z\" fill=\"#000000\" fill-rule=\"evenodd\" fill-opacity=\"1\" /><path clip-path=\"url(#clip760)\" d=\"M1623.56 1548.13 L1623.56 1543.87 Q1625.32 1544.7 1627.12 1545.14 Q1628.93 1545.58 1630.66 1545.58 Q1635.29 1545.58 1637.72 1542.48 Q1640.18 1539.36 1640.52 1533.01 Q1639.18 1535.01 1637.12 1536.07 Q1635.06 1537.13 1632.56 1537.13 Q1627.38 1537.13 1624.34 1534.01 Q1621.33 1530.86 1621.33 1525.42 Q1621.33 1520.1 1624.48 1516.88 Q1627.63 1513.66 1632.86 1513.66 Q1638.86 1513.66 1642.01 1518.27 Q1645.18 1522.85 1645.18 1531.6 Q1645.18 1539.77 1641.29 1544.66 Q1637.42 1549.52 1630.87 1549.52 Q1629.11 1549.52 1627.31 1549.17 Q1625.5 1548.82 1623.56 1548.13 M1632.86 1533.48 Q1636.01 1533.48 1637.84 1531.32 Q1639.69 1529.17 1639.69 1525.42 Q1639.69 1521.7 1637.84 1519.54 Q1636.01 1517.37 1632.86 1517.37 Q1629.71 1517.37 1627.86 1519.54 Q1626.03 1521.7 1626.03 1525.42 Q1626.03 1529.17 1627.86 1531.32 Q1629.71 1533.48 1632.86 1533.48 Z\" fill=\"#000000\" fill-rule=\"evenodd\" fill-opacity=\"1\" /><path clip-path=\"url(#clip760)\" d=\"M1772.07 1544.91 L1779.71 1544.91 L1779.71 1518.55 L1771.4 1520.21 L1771.4 1515.95 L1779.66 1514.29 L1784.34 1514.29 L1784.34 1544.91 L1791.98 1544.91 L1791.98 1548.85 L1772.07 1548.85 L1772.07 1544.91 Z\" fill=\"#000000\" fill-rule=\"evenodd\" fill-opacity=\"1\" /><path clip-path=\"url(#clip760)\" d=\"M1811.42 1517.37 Q1807.81 1517.37 1805.98 1520.93 Q1804.18 1524.47 1804.18 1531.6 Q1804.18 1538.71 1805.98 1542.27 Q1807.81 1545.82 1811.42 1545.82 Q1815.06 1545.82 1816.86 1542.27 Q1818.69 1538.71 1818.69 1531.6 Q1818.69 1524.47 1816.86 1520.93 Q1815.06 1517.37 1811.42 1517.37 M1811.42 1513.66 Q1817.23 1513.66 1820.29 1518.27 Q1823.37 1522.85 1823.37 1531.6 Q1823.37 1540.33 1820.29 1544.94 Q1817.23 1549.52 1811.42 1549.52 Q1805.61 1549.52 1802.53 1544.94 Q1799.48 1540.33 1799.48 1531.6 Q1799.48 1522.85 1802.53 1518.27 Q1805.61 1513.66 1811.42 1513.66 Z\" fill=\"#000000\" fill-rule=\"evenodd\" fill-opacity=\"1\" /><path clip-path=\"url(#clip760)\" d=\"M1936.81 1544.91 L1944.45 1544.91 L1944.45 1518.55 L1936.14 1520.21 L1936.14 1515.95 L1944.4 1514.29 L1949.08 1514.29 L1949.08 1544.91 L1956.72 1544.91 L1956.72 1548.85 L1936.81 1548.85 L1936.81 1544.91 Z\" fill=\"#000000\" fill-rule=\"evenodd\" fill-opacity=\"1\" /><path clip-path=\"url(#clip760)\" d=\"M1966.97 1544.91 L1974.61 1544.91 L1974.61 1518.55 L1966.3 1520.21 L1966.3 1515.95 L1974.57 1514.29 L1979.24 1514.29 L1979.24 1544.91 L1986.88 1544.91 L1986.88 1548.85 L1966.97 1548.85 L1966.97 1544.91 Z\" fill=\"#000000\" fill-rule=\"evenodd\" fill-opacity=\"1\" /><path clip-path=\"url(#clip760)\" d=\"M2101.12 1544.91 L2108.76 1544.91 L2108.76 1518.55 L2100.45 1520.21 L2100.45 1515.95 L2108.72 1514.29 L2113.39 1514.29 L2113.39 1544.91 L2121.03 1544.91 L2121.03 1548.85 L2101.12 1548.85 L2101.12 1544.91 Z\" fill=\"#000000\" fill-rule=\"evenodd\" fill-opacity=\"1\" /><path clip-path=\"url(#clip760)\" d=\"M2134.5 1544.91 L2150.82 1544.91 L2150.82 1548.85 L2128.88 1548.85 L2128.88 1544.91 Q2131.54 1542.16 2136.12 1537.53 Q2140.73 1532.88 2141.91 1531.53 Q2144.16 1529.01 2145.03 1527.27 Q2145.94 1525.51 2145.94 1523.82 Q2145.94 1521.07 2143.99 1519.33 Q2142.07 1517.6 2138.97 1517.6 Q2136.77 1517.6 2134.32 1518.36 Q2131.89 1519.13 2129.11 1520.68 L2129.11 1515.95 Q2131.93 1514.82 2134.39 1514.24 Q2136.84 1513.66 2138.88 1513.66 Q2144.25 1513.66 2147.44 1516.35 Q2150.64 1519.03 2150.64 1523.52 Q2150.64 1525.65 2149.83 1527.57 Q2149.04 1529.47 2146.93 1532.07 Q2146.35 1532.74 2143.25 1535.95 Q2140.15 1539.15 2134.5 1544.91 Z\" fill=\"#000000\" fill-rule=\"evenodd\" fill-opacity=\"1\" /><polyline clip-path=\"url(#clip762)\" style=\"stroke:#000000; stroke-linecap:butt; stroke-linejoin:round; stroke-width:2; stroke-opacity:0.1; fill:none\" points=\"\n",
       "  156.112,1486.45 2289.76,1486.45 \n",
       "  \"/>\n",
       "<polyline clip-path=\"url(#clip762)\" style=\"stroke:#000000; stroke-linecap:butt; stroke-linejoin:round; stroke-width:2; stroke-opacity:0.1; fill:none\" points=\"\n",
       "  156.112,1246.58 2289.76,1246.58 \n",
       "  \"/>\n",
       "<polyline clip-path=\"url(#clip762)\" style=\"stroke:#000000; stroke-linecap:butt; stroke-linejoin:round; stroke-width:2; stroke-opacity:0.1; fill:none\" points=\"\n",
       "  156.112,1006.71 2289.76,1006.71 \n",
       "  \"/>\n",
       "<polyline clip-path=\"url(#clip762)\" style=\"stroke:#000000; stroke-linecap:butt; stroke-linejoin:round; stroke-width:2; stroke-opacity:0.1; fill:none\" points=\"\n",
       "  156.112,766.846 2289.76,766.846 \n",
       "  \"/>\n",
       "<polyline clip-path=\"url(#clip762)\" style=\"stroke:#000000; stroke-linecap:butt; stroke-linejoin:round; stroke-width:2; stroke-opacity:0.1; fill:none\" points=\"\n",
       "  156.112,526.979 2289.76,526.979 \n",
       "  \"/>\n",
       "<polyline clip-path=\"url(#clip762)\" style=\"stroke:#000000; stroke-linecap:butt; stroke-linejoin:round; stroke-width:2; stroke-opacity:0.1; fill:none\" points=\"\n",
       "  156.112,287.111 2289.76,287.111 \n",
       "  \"/>\n",
       "<polyline clip-path=\"url(#clip762)\" style=\"stroke:#000000; stroke-linecap:butt; stroke-linejoin:round; stroke-width:2; stroke-opacity:0.1; fill:none\" points=\"\n",
       "  156.112,47.2441 2289.76,47.2441 \n",
       "  \"/>\n",
       "<polyline clip-path=\"url(#clip760)\" style=\"stroke:#000000; stroke-linecap:butt; stroke-linejoin:round; stroke-width:4; stroke-opacity:1; fill:none\" points=\"\n",
       "  156.112,1486.45 156.112,47.2441 \n",
       "  \"/>\n",
       "<polyline clip-path=\"url(#clip760)\" style=\"stroke:#000000; stroke-linecap:butt; stroke-linejoin:round; stroke-width:4; stroke-opacity:1; fill:none\" points=\"\n",
       "  156.112,1486.45 175.01,1486.45 \n",
       "  \"/>\n",
       "<polyline clip-path=\"url(#clip760)\" style=\"stroke:#000000; stroke-linecap:butt; stroke-linejoin:round; stroke-width:4; stroke-opacity:1; fill:none\" points=\"\n",
       "  156.112,1246.58 175.01,1246.58 \n",
       "  \"/>\n",
       "<polyline clip-path=\"url(#clip760)\" style=\"stroke:#000000; stroke-linecap:butt; stroke-linejoin:round; stroke-width:4; stroke-opacity:1; fill:none\" points=\"\n",
       "  156.112,1006.71 175.01,1006.71 \n",
       "  \"/>\n",
       "<polyline clip-path=\"url(#clip760)\" style=\"stroke:#000000; stroke-linecap:butt; stroke-linejoin:round; stroke-width:4; stroke-opacity:1; fill:none\" points=\"\n",
       "  156.112,766.846 175.01,766.846 \n",
       "  \"/>\n",
       "<polyline clip-path=\"url(#clip760)\" style=\"stroke:#000000; stroke-linecap:butt; stroke-linejoin:round; stroke-width:4; stroke-opacity:1; fill:none\" points=\"\n",
       "  156.112,526.979 175.01,526.979 \n",
       "  \"/>\n",
       "<polyline clip-path=\"url(#clip760)\" style=\"stroke:#000000; stroke-linecap:butt; stroke-linejoin:round; stroke-width:4; stroke-opacity:1; fill:none\" points=\"\n",
       "  156.112,287.111 175.01,287.111 \n",
       "  \"/>\n",
       "<polyline clip-path=\"url(#clip760)\" style=\"stroke:#000000; stroke-linecap:butt; stroke-linejoin:round; stroke-width:4; stroke-opacity:1; fill:none\" points=\"\n",
       "  156.112,47.2441 175.01,47.2441 \n",
       "  \"/>\n",
       "<path clip-path=\"url(#clip760)\" d=\"M62.9365 1472.25 Q59.3254 1472.25 57.4967 1475.81 Q55.6912 1479.35 55.6912 1486.48 Q55.6912 1493.59 57.4967 1497.15 Q59.3254 1500.7 62.9365 1500.7 Q66.5707 1500.7 68.3763 1497.15 Q70.205 1493.59 70.205 1486.48 Q70.205 1479.35 68.3763 1475.81 Q66.5707 1472.25 62.9365 1472.25 M62.9365 1468.54 Q68.7467 1468.54 71.8022 1473.15 Q74.8809 1477.73 74.8809 1486.48 Q74.8809 1495.21 71.8022 1499.82 Q68.7467 1504.4 62.9365 1504.4 Q57.1264 1504.4 54.0477 1499.82 Q50.9921 1495.21 50.9921 1486.48 Q50.9921 1477.73 54.0477 1473.15 Q57.1264 1468.54 62.9365 1468.54 Z\" fill=\"#000000\" fill-rule=\"evenodd\" fill-opacity=\"1\" /><path clip-path=\"url(#clip760)\" d=\"M83.0984 1497.85 L87.9827 1497.85 L87.9827 1503.73 L83.0984 1503.73 L83.0984 1497.85 Z\" fill=\"#000000\" fill-rule=\"evenodd\" fill-opacity=\"1\" /><path clip-path=\"url(#clip760)\" d=\"M108.168 1472.25 Q104.557 1472.25 102.728 1475.81 Q100.922 1479.35 100.922 1486.48 Q100.922 1493.59 102.728 1497.15 Q104.557 1500.7 108.168 1500.7 Q111.802 1500.7 113.608 1497.15 Q115.436 1493.59 115.436 1486.48 Q115.436 1479.35 113.608 1475.81 Q111.802 1472.25 108.168 1472.25 M108.168 1468.54 Q113.978 1468.54 117.033 1473.15 Q120.112 1477.73 120.112 1486.48 Q120.112 1495.21 117.033 1499.82 Q113.978 1504.4 108.168 1504.4 Q102.358 1504.4 99.2789 1499.82 Q96.2234 1495.21 96.2234 1486.48 Q96.2234 1477.73 99.2789 1473.15 Q102.358 1468.54 108.168 1468.54 Z\" fill=\"#000000\" fill-rule=\"evenodd\" fill-opacity=\"1\" /><path clip-path=\"url(#clip760)\" d=\"M63.9319 1232.38 Q60.3208 1232.38 58.4921 1235.94 Q56.6865 1239.49 56.6865 1246.62 Q56.6865 1253.72 58.4921 1257.29 Q60.3208 1260.83 63.9319 1260.83 Q67.5661 1260.83 69.3717 1257.29 Q71.2004 1253.72 71.2004 1246.62 Q71.2004 1239.49 69.3717 1235.94 Q67.5661 1232.38 63.9319 1232.38 M63.9319 1228.68 Q69.742 1228.68 72.7976 1233.28 Q75.8763 1237.87 75.8763 1246.62 Q75.8763 1255.34 72.7976 1259.95 Q69.742 1264.53 63.9319 1264.53 Q58.1217 1264.53 55.043 1259.95 Q51.9875 1255.34 51.9875 1246.62 Q51.9875 1237.87 55.043 1233.28 Q58.1217 1228.68 63.9319 1228.68 Z\" fill=\"#000000\" fill-rule=\"evenodd\" fill-opacity=\"1\" /><path clip-path=\"url(#clip760)\" d=\"M84.0938 1257.98 L88.978 1257.98 L88.978 1263.86 L84.0938 1263.86 L84.0938 1257.98 Z\" fill=\"#000000\" fill-rule=\"evenodd\" fill-opacity=\"1\" /><path clip-path=\"url(#clip760)\" d=\"M99.2095 1229.3 L117.566 1229.3 L117.566 1233.24 L103.492 1233.24 L103.492 1241.71 Q104.51 1241.36 105.529 1241.2 Q106.547 1241.01 107.566 1241.01 Q113.353 1241.01 116.733 1244.18 Q120.112 1247.36 120.112 1252.77 Q120.112 1258.35 116.64 1261.45 Q113.168 1264.53 106.848 1264.53 Q104.672 1264.53 102.404 1264.16 Q100.159 1263.79 97.7511 1263.05 L97.7511 1258.35 Q99.8345 1259.49 102.057 1260.04 Q104.279 1260.6 106.756 1260.6 Q110.76 1260.6 113.098 1258.49 Q115.436 1256.38 115.436 1252.77 Q115.436 1249.16 113.098 1247.06 Q110.76 1244.95 106.756 1244.95 Q104.881 1244.95 103.006 1245.37 Q101.154 1245.78 99.2095 1246.66 L99.2095 1229.3 Z\" fill=\"#000000\" fill-rule=\"evenodd\" fill-opacity=\"1\" /><path clip-path=\"url(#clip760)\" d=\"M53.7467 1020.06 L61.3856 1020.06 L61.3856 993.693 L53.0754 995.359 L53.0754 991.1 L61.3393 989.433 L66.0152 989.433 L66.0152 1020.06 L73.654 1020.06 L73.654 1023.99 L53.7467 1023.99 L53.7467 1020.06 Z\" fill=\"#000000\" fill-rule=\"evenodd\" fill-opacity=\"1\" /><path clip-path=\"url(#clip760)\" d=\"M83.0984 1018.11 L87.9827 1018.11 L87.9827 1023.99 L83.0984 1023.99 L83.0984 1018.11 Z\" fill=\"#000000\" fill-rule=\"evenodd\" fill-opacity=\"1\" /><path clip-path=\"url(#clip760)\" d=\"M108.168 992.512 Q104.557 992.512 102.728 996.077 Q100.922 999.618 100.922 1006.75 Q100.922 1013.85 102.728 1017.42 Q104.557 1020.96 108.168 1020.96 Q111.802 1020.96 113.608 1017.42 Q115.436 1013.85 115.436 1006.75 Q115.436 999.618 113.608 996.077 Q111.802 992.512 108.168 992.512 M108.168 988.808 Q113.978 988.808 117.033 993.415 Q120.112 997.998 120.112 1006.75 Q120.112 1015.47 117.033 1020.08 Q113.978 1024.66 108.168 1024.66 Q102.358 1024.66 99.2789 1020.08 Q96.2234 1015.47 96.2234 1006.75 Q96.2234 997.998 99.2789 993.415 Q102.358 988.808 108.168 988.808 Z\" fill=\"#000000\" fill-rule=\"evenodd\" fill-opacity=\"1\" /><path clip-path=\"url(#clip760)\" d=\"M54.7421 780.191 L62.381 780.191 L62.381 753.825 L54.0708 755.492 L54.0708 751.233 L62.3347 749.566 L67.0106 749.566 L67.0106 780.191 L74.6494 780.191 L74.6494 784.126 L54.7421 784.126 L54.7421 780.191 Z\" fill=\"#000000\" fill-rule=\"evenodd\" fill-opacity=\"1\" /><path clip-path=\"url(#clip760)\" d=\"M84.0938 778.246 L88.978 778.246 L88.978 784.126 L84.0938 784.126 L84.0938 778.246 Z\" fill=\"#000000\" fill-rule=\"evenodd\" fill-opacity=\"1\" /><path clip-path=\"url(#clip760)\" d=\"M99.2095 749.566 L117.566 749.566 L117.566 753.501 L103.492 753.501 L103.492 761.973 Q104.51 761.626 105.529 761.464 Q106.547 761.279 107.566 761.279 Q113.353 761.279 116.733 764.45 Q120.112 767.621 120.112 773.038 Q120.112 778.617 116.64 781.719 Q113.168 784.797 106.848 784.797 Q104.672 784.797 102.404 784.427 Q100.159 784.057 97.7511 783.316 L97.7511 778.617 Q99.8345 779.751 102.057 780.307 Q104.279 780.862 106.756 780.862 Q110.76 780.862 113.098 778.756 Q115.436 776.649 115.436 773.038 Q115.436 769.427 113.098 767.321 Q110.76 765.214 106.756 765.214 Q104.881 765.214 103.006 765.631 Q101.154 766.047 99.2095 766.927 L99.2095 749.566 Z\" fill=\"#000000\" fill-rule=\"evenodd\" fill-opacity=\"1\" /><path clip-path=\"url(#clip760)\" d=\"M56.9643 540.324 L73.2837 540.324 L73.2837 544.259 L51.3393 544.259 L51.3393 540.324 Q54.0014 537.569 58.5847 532.939 Q63.1911 528.287 64.3717 526.944 Q66.617 524.421 67.4967 522.685 Q68.3994 520.925 68.3994 519.236 Q68.3994 516.481 66.455 514.745 Q64.5337 513.009 61.4319 513.009 Q59.2328 513.009 56.7791 513.773 Q54.3486 514.537 51.5708 516.088 L51.5708 511.365 Q54.3949 510.231 56.8486 509.652 Q59.3023 509.074 61.3393 509.074 Q66.7096 509.074 69.9041 511.759 Q73.0985 514.444 73.0985 518.935 Q73.0985 521.064 72.2883 522.986 Q71.5013 524.884 69.3948 527.476 Q68.8161 528.148 65.7143 531.365 Q62.6124 534.56 56.9643 540.324 Z\" fill=\"#000000\" fill-rule=\"evenodd\" fill-opacity=\"1\" /><path clip-path=\"url(#clip760)\" d=\"M83.0984 538.379 L87.9827 538.379 L87.9827 544.259 L83.0984 544.259 L83.0984 538.379 Z\" fill=\"#000000\" fill-rule=\"evenodd\" fill-opacity=\"1\" /><path clip-path=\"url(#clip760)\" d=\"M108.168 512.777 Q104.557 512.777 102.728 516.342 Q100.922 519.884 100.922 527.013 Q100.922 534.12 102.728 537.685 Q104.557 541.226 108.168 541.226 Q111.802 541.226 113.608 537.685 Q115.436 534.12 115.436 527.013 Q115.436 519.884 113.608 516.342 Q111.802 512.777 108.168 512.777 M108.168 509.074 Q113.978 509.074 117.033 513.68 Q120.112 518.263 120.112 527.013 Q120.112 535.74 117.033 540.347 Q113.978 544.93 108.168 544.93 Q102.358 544.93 99.2789 540.347 Q96.2234 535.74 96.2234 527.013 Q96.2234 518.263 99.2789 513.68 Q102.358 509.074 108.168 509.074 Z\" fill=\"#000000\" fill-rule=\"evenodd\" fill-opacity=\"1\" /><path clip-path=\"url(#clip760)\" d=\"M57.9597 300.456 L74.279 300.456 L74.279 304.391 L52.3347 304.391 L52.3347 300.456 Q54.9967 297.702 59.58 293.072 Q64.1865 288.419 65.367 287.077 Q67.6124 284.554 68.492 282.817 Q69.3948 281.058 69.3948 279.368 Q69.3948 276.614 67.4504 274.878 Q65.5291 273.142 62.4272 273.142 Q60.2282 273.142 57.7745 273.905 Q55.344 274.669 52.5662 276.22 L52.5662 271.498 Q55.3903 270.364 57.8439 269.785 Q60.2976 269.206 62.3347 269.206 Q67.705 269.206 70.8994 271.892 Q74.0939 274.577 74.0939 279.067 Q74.0939 281.197 73.2837 283.118 Q72.4966 285.016 70.3902 287.609 Q69.8115 288.28 66.7096 291.498 Q63.6078 294.692 57.9597 300.456 Z\" fill=\"#000000\" fill-rule=\"evenodd\" fill-opacity=\"1\" /><path clip-path=\"url(#clip760)\" d=\"M84.0938 298.512 L88.978 298.512 L88.978 304.391 L84.0938 304.391 L84.0938 298.512 Z\" fill=\"#000000\" fill-rule=\"evenodd\" fill-opacity=\"1\" /><path clip-path=\"url(#clip760)\" d=\"M99.2095 269.831 L117.566 269.831 L117.566 273.767 L103.492 273.767 L103.492 282.239 Q104.51 281.892 105.529 281.729 Q106.547 281.544 107.566 281.544 Q113.353 281.544 116.733 284.716 Q120.112 287.887 120.112 293.303 Q120.112 298.882 116.64 301.984 Q113.168 305.063 106.848 305.063 Q104.672 305.063 102.404 304.692 Q100.159 304.322 97.7511 303.581 L97.7511 298.882 Q99.8345 300.016 102.057 300.572 Q104.279 301.128 106.756 301.128 Q110.76 301.128 113.098 299.021 Q115.436 296.915 115.436 293.303 Q115.436 289.692 113.098 287.586 Q110.76 285.479 106.756 285.479 Q104.881 285.479 103.006 285.896 Q101.154 286.313 99.2095 287.192 L99.2095 269.831 Z\" fill=\"#000000\" fill-rule=\"evenodd\" fill-opacity=\"1\" /><path clip-path=\"url(#clip760)\" d=\"M67.1032 45.8899 Q70.4596 46.6075 72.3346 48.876 Q74.2327 51.1445 74.2327 54.4779 Q74.2327 59.5936 70.7142 62.3945 Q67.1957 65.1954 60.7143 65.1954 Q58.5384 65.1954 56.2236 64.7556 Q53.9319 64.3389 51.4782 63.4824 L51.4782 58.9686 Q53.4227 60.1028 55.7375 60.6815 Q58.0523 61.2602 60.5754 61.2602 Q64.9735 61.2602 67.2652 59.5241 Q69.58 57.788 69.58 54.4779 Q69.58 51.4223 67.4272 49.7094 Q65.2976 47.9733 61.4782 47.9733 L57.4504 47.9733 L57.4504 44.1307 L61.6634 44.1307 Q65.1124 44.1307 66.9411 42.765 Q68.7698 41.3761 68.7698 38.7835 Q68.7698 36.1215 66.8717 34.7094 Q64.9967 33.2743 61.4782 33.2743 Q59.5569 33.2743 57.3578 33.6909 Q55.1588 34.1076 52.5199 34.9872 L52.5199 30.8206 Q55.1819 30.0798 57.4967 29.7095 Q59.8347 29.3391 61.8948 29.3391 Q67.2189 29.3391 70.3207 31.7696 Q73.4226 34.177 73.4226 38.2974 Q73.4226 41.1677 71.7791 43.1585 Q70.1355 45.1261 67.1032 45.8899 Z\" fill=\"#000000\" fill-rule=\"evenodd\" fill-opacity=\"1\" /><path clip-path=\"url(#clip760)\" d=\"M83.0984 58.6445 L87.9827 58.6445 L87.9827 64.5241 L83.0984 64.5241 L83.0984 58.6445 Z\" fill=\"#000000\" fill-rule=\"evenodd\" fill-opacity=\"1\" /><path clip-path=\"url(#clip760)\" d=\"M108.168 33.0428 Q104.557 33.0428 102.728 36.6076 Q100.922 40.1492 100.922 47.2788 Q100.922 54.3853 102.728 57.9501 Q104.557 61.4917 108.168 61.4917 Q111.802 61.4917 113.608 57.9501 Q115.436 54.3853 115.436 47.2788 Q115.436 40.1492 113.608 36.6076 Q111.802 33.0428 108.168 33.0428 M108.168 29.3391 Q113.978 29.3391 117.033 33.9456 Q120.112 38.5289 120.112 47.2788 Q120.112 56.0056 117.033 60.6121 Q113.978 65.1954 108.168 65.1954 Q102.358 65.1954 99.2789 60.6121 Q96.2234 56.0056 96.2234 47.2788 Q96.2234 38.5289 99.2789 33.9456 Q102.358 29.3391 108.168 29.3391 Z\" fill=\"#000000\" fill-rule=\"evenodd\" fill-opacity=\"1\" /><path clip-path=\"url(#clip762)\" d=\"\n",
       "M254.588 840.608 L254.588 1486.45 L320.239 1486.45 L320.239 840.608 L254.588 840.608 L254.588 840.608  Z\n",
       "  \" fill=\"#afeeee\" fill-rule=\"evenodd\" fill-opacity=\"0.8\"/>\n",
       "<polyline clip-path=\"url(#clip762)\" style=\"stroke:#000000; stroke-linecap:butt; stroke-linejoin:round; stroke-width:4; stroke-opacity:0.8; fill:none\" points=\"\n",
       "  254.588,840.608 254.588,1486.45 320.239,1486.45 320.239,840.608 254.588,840.608 \n",
       "  \"/>\n",
       "<path clip-path=\"url(#clip762)\" d=\"\n",
       "M418.715 656.313 L418.715 1486.45 L484.366 1486.45 L484.366 656.313 L418.715 656.313 L418.715 656.313  Z\n",
       "  \" fill=\"#afeeee\" fill-rule=\"evenodd\" fill-opacity=\"0.8\"/>\n",
       "<polyline clip-path=\"url(#clip762)\" style=\"stroke:#000000; stroke-linecap:butt; stroke-linejoin:round; stroke-width:4; stroke-opacity:0.8; fill:none\" points=\"\n",
       "  418.715,656.313 418.715,1486.45 484.366,1486.45 484.366,656.313 418.715,656.313 \n",
       "  \"/>\n",
       "<path clip-path=\"url(#clip762)\" d=\"\n",
       "M582.842 405.366 L582.842 1486.45 L648.493 1486.45 L648.493 405.366 L582.842 405.366 L582.842 405.366  Z\n",
       "  \" fill=\"#afeeee\" fill-rule=\"evenodd\" fill-opacity=\"0.8\"/>\n",
       "<polyline clip-path=\"url(#clip762)\" style=\"stroke:#000000; stroke-linecap:butt; stroke-linejoin:round; stroke-width:4; stroke-opacity:0.8; fill:none\" points=\"\n",
       "  582.842,405.366 582.842,1486.45 648.493,1486.45 648.493,405.366 582.842,405.366 \n",
       "  \"/>\n",
       "<path clip-path=\"url(#clip762)\" d=\"\n",
       "M746.97 417.497 L746.97 1486.45 L812.62 1486.45 L812.62 417.497 L746.97 417.497 L746.97 417.497  Z\n",
       "  \" fill=\"#afeeee\" fill-rule=\"evenodd\" fill-opacity=\"0.8\"/>\n",
       "<polyline clip-path=\"url(#clip762)\" style=\"stroke:#000000; stroke-linecap:butt; stroke-linejoin:round; stroke-width:4; stroke-opacity:0.8; fill:none\" points=\"\n",
       "  746.97,417.497 746.97,1486.45 812.62,1486.45 812.62,417.497 746.97,417.497 \n",
       "  \"/>\n",
       "<path clip-path=\"url(#clip762)\" d=\"\n",
       "M911.097 478.941 L911.097 1486.45 L976.747 1486.45 L976.747 478.941 L911.097 478.941 L911.097 478.941  Z\n",
       "  \" fill=\"#afeeee\" fill-rule=\"evenodd\" fill-opacity=\"0.8\"/>\n",
       "<polyline clip-path=\"url(#clip762)\" style=\"stroke:#000000; stroke-linecap:butt; stroke-linejoin:round; stroke-width:4; stroke-opacity:0.8; fill:none\" points=\"\n",
       "  911.097,478.941 911.097,1486.45 976.747,1486.45 976.747,478.941 911.097,478.941 \n",
       "  \"/>\n",
       "<path clip-path=\"url(#clip762)\" d=\"\n",
       "M1075.22 439.826 L1075.22 1486.45 L1140.87 1486.45 L1140.87 439.826 L1075.22 439.826 L1075.22 439.826  Z\n",
       "  \" fill=\"#afeeee\" fill-rule=\"evenodd\" fill-opacity=\"0.8\"/>\n",
       "<polyline clip-path=\"url(#clip762)\" style=\"stroke:#000000; stroke-linecap:butt; stroke-linejoin:round; stroke-width:4; stroke-opacity:0.8; fill:none\" points=\"\n",
       "  1075.22,439.826 1075.22,1486.45 1140.87,1486.45 1140.87,439.826 1075.22,439.826 \n",
       "  \"/>\n",
       "<path clip-path=\"url(#clip762)\" d=\"\n",
       "M1239.35 373.553 L1239.35 1486.45 L1305 1486.45 L1305 373.553 L1239.35 373.553 L1239.35 373.553  Z\n",
       "  \" fill=\"#afeeee\" fill-rule=\"evenodd\" fill-opacity=\"0.8\"/>\n",
       "<polyline clip-path=\"url(#clip762)\" style=\"stroke:#000000; stroke-linecap:butt; stroke-linejoin:round; stroke-width:4; stroke-opacity:0.8; fill:none\" points=\"\n",
       "  1239.35,373.553 1239.35,1486.45 1305,1486.45 1305,373.553 1239.35,373.553 \n",
       "  \"/>\n",
       "<path clip-path=\"url(#clip762)\" d=\"\n",
       "M1403.48 389.219 L1403.48 1486.45 L1469.13 1486.45 L1469.13 389.219 L1403.48 389.219 L1403.48 389.219  Z\n",
       "  \" fill=\"#afeeee\" fill-rule=\"evenodd\" fill-opacity=\"0.8\"/>\n",
       "<polyline clip-path=\"url(#clip762)\" style=\"stroke:#000000; stroke-linecap:butt; stroke-linejoin:round; stroke-width:4; stroke-opacity:0.8; fill:none\" points=\"\n",
       "  1403.48,389.219 1403.48,1486.45 1469.13,1486.45 1469.13,389.219 1403.48,389.219 \n",
       "  \"/>\n",
       "<path clip-path=\"url(#clip762)\" d=\"\n",
       "M1567.6 514.884 L1567.6 1486.45 L1633.26 1486.45 L1633.26 514.884 L1567.6 514.884 L1567.6 514.884  Z\n",
       "  \" fill=\"#afeeee\" fill-rule=\"evenodd\" fill-opacity=\"0.8\"/>\n",
       "<polyline clip-path=\"url(#clip762)\" style=\"stroke:#000000; stroke-linecap:butt; stroke-linejoin:round; stroke-width:4; stroke-opacity:0.8; fill:none\" points=\"\n",
       "  1567.6,514.884 1567.6,1486.45 1633.26,1486.45 1633.26,514.884 1567.6,514.884 \n",
       "  \"/>\n",
       "<path clip-path=\"url(#clip762)\" d=\"\n",
       "M1731.73 642.584 L1731.73 1486.45 L1797.38 1486.45 L1797.38 642.584 L1731.73 642.584 L1731.73 642.584  Z\n",
       "  \" fill=\"#afeeee\" fill-rule=\"evenodd\" fill-opacity=\"0.8\"/>\n",
       "<polyline clip-path=\"url(#clip762)\" style=\"stroke:#000000; stroke-linecap:butt; stroke-linejoin:round; stroke-width:4; stroke-opacity:0.8; fill:none\" points=\"\n",
       "  1731.73,642.584 1731.73,1486.45 1797.38,1486.45 1797.38,642.584 1731.73,642.584 \n",
       "  \"/>\n",
       "<path clip-path=\"url(#clip762)\" d=\"\n",
       "M1895.86 744.688 L1895.86 1486.45 L1961.51 1486.45 L1961.51 744.688 L1895.86 744.688 L1895.86 744.688  Z\n",
       "  \" fill=\"#afeeee\" fill-rule=\"evenodd\" fill-opacity=\"0.8\"/>\n",
       "<polyline clip-path=\"url(#clip762)\" style=\"stroke:#000000; stroke-linecap:butt; stroke-linejoin:round; stroke-width:4; stroke-opacity:0.8; fill:none\" points=\"\n",
       "  1895.86,744.688 1895.86,1486.45 1961.51,1486.45 1961.51,744.688 1895.86,744.688 \n",
       "  \"/>\n",
       "<path clip-path=\"url(#clip762)\" d=\"\n",
       "M2059.99 1034.81 L2059.99 1486.45 L2125.64 1486.45 L2125.64 1034.81 L2059.99 1034.81 L2059.99 1034.81  Z\n",
       "  \" fill=\"#afeeee\" fill-rule=\"evenodd\" fill-opacity=\"0.8\"/>\n",
       "<polyline clip-path=\"url(#clip762)\" style=\"stroke:#000000; stroke-linecap:butt; stroke-linejoin:round; stroke-width:4; stroke-opacity:0.8; fill:none\" points=\"\n",
       "  2059.99,1034.81 2059.99,1486.45 2125.64,1486.45 2125.64,1034.81 2059.99,1034.81 \n",
       "  \"/>\n",
       "<circle clip-path=\"url(#clip762)\" style=\"fill:#afeeee; stroke:none; fill-opacity:0\" cx=\"287.414\" cy=\"840.608\" r=\"2\"/>\n",
       "<circle clip-path=\"url(#clip762)\" style=\"fill:#afeeee; stroke:none; fill-opacity:0\" cx=\"451.541\" cy=\"656.313\" r=\"2\"/>\n",
       "<circle clip-path=\"url(#clip762)\" style=\"fill:#afeeee; stroke:none; fill-opacity:0\" cx=\"615.668\" cy=\"405.366\" r=\"2\"/>\n",
       "<circle clip-path=\"url(#clip762)\" style=\"fill:#afeeee; stroke:none; fill-opacity:0\" cx=\"779.795\" cy=\"417.497\" r=\"2\"/>\n",
       "<circle clip-path=\"url(#clip762)\" style=\"fill:#afeeee; stroke:none; fill-opacity:0\" cx=\"943.922\" cy=\"478.941\" r=\"2\"/>\n",
       "<circle clip-path=\"url(#clip762)\" style=\"fill:#afeeee; stroke:none; fill-opacity:0\" cx=\"1108.05\" cy=\"439.826\" r=\"2\"/>\n",
       "<circle clip-path=\"url(#clip762)\" style=\"fill:#afeeee; stroke:none; fill-opacity:0\" cx=\"1272.18\" cy=\"373.553\" r=\"2\"/>\n",
       "<circle clip-path=\"url(#clip762)\" style=\"fill:#afeeee; stroke:none; fill-opacity:0\" cx=\"1436.3\" cy=\"389.219\" r=\"2\"/>\n",
       "<circle clip-path=\"url(#clip762)\" style=\"fill:#afeeee; stroke:none; fill-opacity:0\" cx=\"1600.43\" cy=\"514.884\" r=\"2\"/>\n",
       "<circle clip-path=\"url(#clip762)\" style=\"fill:#afeeee; stroke:none; fill-opacity:0\" cx=\"1764.56\" cy=\"642.584\" r=\"2\"/>\n",
       "<circle clip-path=\"url(#clip762)\" style=\"fill:#afeeee; stroke:none; fill-opacity:0\" cx=\"1928.68\" cy=\"744.688\" r=\"2\"/>\n",
       "<circle clip-path=\"url(#clip762)\" style=\"fill:#afeeee; stroke:none; fill-opacity:0\" cx=\"2092.81\" cy=\"1034.81\" r=\"2\"/>\n",
       "<path clip-path=\"url(#clip762)\" d=\"\n",
       "M320.239 1311.79 L320.239 1486.45 L385.89 1486.45 L385.89 1311.79 L320.239 1311.79 L320.239 1311.79  Z\n",
       "  \" fill=\"#eee8aa\" fill-rule=\"evenodd\" fill-opacity=\"0.8\"/>\n",
       "<polyline clip-path=\"url(#clip762)\" style=\"stroke:#000000; stroke-linecap:butt; stroke-linejoin:round; stroke-width:4; stroke-opacity:0.8; fill:none\" points=\"\n",
       "  320.239,1311.79 320.239,1486.45 385.89,1486.45 385.89,1311.79 320.239,1311.79 \n",
       "  \"/>\n",
       "<path clip-path=\"url(#clip762)\" d=\"\n",
       "M484.366 905.264 L484.366 1486.45 L550.017 1486.45 L550.017 905.264 L484.366 905.264 L484.366 905.264  Z\n",
       "  \" fill=\"#eee8aa\" fill-rule=\"evenodd\" fill-opacity=\"0.8\"/>\n",
       "<polyline clip-path=\"url(#clip762)\" style=\"stroke:#000000; stroke-linecap:butt; stroke-linejoin:round; stroke-width:4; stroke-opacity:0.8; fill:none\" points=\"\n",
       "  484.366,905.264 484.366,1486.45 550.017,1486.45 550.017,905.264 484.366,905.264 \n",
       "  \"/>\n",
       "<path clip-path=\"url(#clip762)\" d=\"\n",
       "M648.493 817.076 L648.493 1486.45 L714.144 1486.45 L714.144 817.076 L648.493 817.076 L648.493 817.076  Z\n",
       "  \" fill=\"#eee8aa\" fill-rule=\"evenodd\" fill-opacity=\"0.8\"/>\n",
       "<polyline clip-path=\"url(#clip762)\" style=\"stroke:#000000; stroke-linecap:butt; stroke-linejoin:round; stroke-width:4; stroke-opacity:0.8; fill:none\" points=\"\n",
       "  648.493,817.076 648.493,1486.45 714.144,1486.45 714.144,817.076 648.493,817.076 \n",
       "  \"/>\n",
       "<path clip-path=\"url(#clip762)\" d=\"\n",
       "M812.62 528.423 L812.62 1486.45 L878.271 1486.45 L878.271 528.423 L812.62 528.423 L812.62 528.423  Z\n",
       "  \" fill=\"#eee8aa\" fill-rule=\"evenodd\" fill-opacity=\"0.8\"/>\n",
       "<polyline clip-path=\"url(#clip762)\" style=\"stroke:#000000; stroke-linecap:butt; stroke-linejoin:round; stroke-width:4; stroke-opacity:0.8; fill:none\" points=\"\n",
       "  812.62,528.423 812.62,1486.45 878.271,1486.45 878.271,528.423 812.62,528.423 \n",
       "  \"/>\n",
       "<path clip-path=\"url(#clip762)\" d=\"\n",
       "M976.747 403.798 L976.747 1486.45 L1042.4 1486.45 L1042.4 403.798 L976.747 403.798 L976.747 403.798  Z\n",
       "  \" fill=\"#eee8aa\" fill-rule=\"evenodd\" fill-opacity=\"0.8\"/>\n",
       "<polyline clip-path=\"url(#clip762)\" style=\"stroke:#000000; stroke-linecap:butt; stroke-linejoin:round; stroke-width:4; stroke-opacity:0.8; fill:none\" points=\"\n",
       "  976.747,403.798 976.747,1486.45 1042.4,1486.45 1042.4,403.798 976.747,403.798 \n",
       "  \"/>\n",
       "<path clip-path=\"url(#clip762)\" d=\"\n",
       "M1140.87 424.433 L1140.87 1486.45 L1206.53 1486.45 L1206.53 424.433 L1140.87 424.433 L1140.87 424.433  Z\n",
       "  \" fill=\"#eee8aa\" fill-rule=\"evenodd\" fill-opacity=\"0.8\"/>\n",
       "<polyline clip-path=\"url(#clip762)\" style=\"stroke:#000000; stroke-linecap:butt; stroke-linejoin:round; stroke-width:4; stroke-opacity:0.8; fill:none\" points=\"\n",
       "  1140.87,424.433 1140.87,1486.45 1206.53,1486.45 1206.53,424.433 1140.87,424.433 \n",
       "  \"/>\n",
       "<path clip-path=\"url(#clip762)\" d=\"\n",
       "M1305 373.193 L1305 1486.45 L1370.65 1486.45 L1370.65 373.193 L1305 373.193 L1305 373.193  Z\n",
       "  \" fill=\"#eee8aa\" fill-rule=\"evenodd\" fill-opacity=\"0.8\"/>\n",
       "<polyline clip-path=\"url(#clip762)\" style=\"stroke:#000000; stroke-linecap:butt; stroke-linejoin:round; stroke-width:4; stroke-opacity:0.8; fill:none\" points=\"\n",
       "  1305,373.193 1305,1486.45 1370.65,1486.45 1370.65,373.193 1305,373.193 \n",
       "  \"/>\n",
       "<path clip-path=\"url(#clip762)\" d=\"\n",
       "M1469.13 481.275 L1469.13 1486.45 L1534.78 1486.45 L1534.78 481.275 L1469.13 481.275 L1469.13 481.275  Z\n",
       "  \" fill=\"#eee8aa\" fill-rule=\"evenodd\" fill-opacity=\"0.8\"/>\n",
       "<polyline clip-path=\"url(#clip762)\" style=\"stroke:#000000; stroke-linecap:butt; stroke-linejoin:round; stroke-width:4; stroke-opacity:0.8; fill:none\" points=\"\n",
       "  1469.13,481.275 1469.13,1486.45 1534.78,1486.45 1534.78,481.275 1469.13,481.275 \n",
       "  \"/>\n",
       "<path clip-path=\"url(#clip762)\" d=\"\n",
       "M1633.26 634.664 L1633.26 1486.45 L1698.91 1486.45 L1698.91 634.664 L1633.26 634.664 L1633.26 634.664  Z\n",
       "  \" fill=\"#eee8aa\" fill-rule=\"evenodd\" fill-opacity=\"0.8\"/>\n",
       "<polyline clip-path=\"url(#clip762)\" style=\"stroke:#000000; stroke-linecap:butt; stroke-linejoin:round; stroke-width:4; stroke-opacity:0.8; fill:none\" points=\"\n",
       "  1633.26,634.664 1633.26,1486.45 1698.91,1486.45 1698.91,634.664 1633.26,634.664 \n",
       "  \"/>\n",
       "<path clip-path=\"url(#clip762)\" d=\"\n",
       "M1797.38 955.642 L1797.38 1486.45 L1863.03 1486.45 L1863.03 955.642 L1797.38 955.642 L1797.38 955.642  Z\n",
       "  \" fill=\"#eee8aa\" fill-rule=\"evenodd\" fill-opacity=\"0.8\"/>\n",
       "<polyline clip-path=\"url(#clip762)\" style=\"stroke:#000000; stroke-linecap:butt; stroke-linejoin:round; stroke-width:4; stroke-opacity:0.8; fill:none\" points=\"\n",
       "  1797.38,955.642 1797.38,1486.45 1863.03,1486.45 1863.03,955.642 1797.38,955.642 \n",
       "  \"/>\n",
       "<path clip-path=\"url(#clip762)\" d=\"\n",
       "M1961.51 1216.3 L1961.51 1486.45 L2027.16 1486.45 L2027.16 1216.3 L1961.51 1216.3 L1961.51 1216.3  Z\n",
       "  \" fill=\"#eee8aa\" fill-rule=\"evenodd\" fill-opacity=\"0.8\"/>\n",
       "<polyline clip-path=\"url(#clip762)\" style=\"stroke:#000000; stroke-linecap:butt; stroke-linejoin:round; stroke-width:4; stroke-opacity:0.8; fill:none\" points=\"\n",
       "  1961.51,1216.3 1961.51,1486.45 2027.16,1486.45 2027.16,1216.3 1961.51,1216.3 \n",
       "  \"/>\n",
       "<path clip-path=\"url(#clip762)\" d=\"\n",
       "M2125.64 1287.99 L2125.64 1486.45 L2191.29 1486.45 L2191.29 1287.99 L2125.64 1287.99 L2125.64 1287.99  Z\n",
       "  \" fill=\"#eee8aa\" fill-rule=\"evenodd\" fill-opacity=\"0.8\"/>\n",
       "<polyline clip-path=\"url(#clip762)\" style=\"stroke:#000000; stroke-linecap:butt; stroke-linejoin:round; stroke-width:4; stroke-opacity:0.8; fill:none\" points=\"\n",
       "  2125.64,1287.99 2125.64,1486.45 2191.29,1486.45 2191.29,1287.99 2125.64,1287.99 \n",
       "  \"/>\n",
       "<circle clip-path=\"url(#clip762)\" style=\"fill:#eee8aa; stroke:none; fill-opacity:0\" cx=\"353.065\" cy=\"1311.79\" r=\"2\"/>\n",
       "<circle clip-path=\"url(#clip762)\" style=\"fill:#eee8aa; stroke:none; fill-opacity:0\" cx=\"517.192\" cy=\"905.264\" r=\"2\"/>\n",
       "<circle clip-path=\"url(#clip762)\" style=\"fill:#eee8aa; stroke:none; fill-opacity:0\" cx=\"681.319\" cy=\"817.076\" r=\"2\"/>\n",
       "<circle clip-path=\"url(#clip762)\" style=\"fill:#eee8aa; stroke:none; fill-opacity:0\" cx=\"845.446\" cy=\"528.423\" r=\"2\"/>\n",
       "<circle clip-path=\"url(#clip762)\" style=\"fill:#eee8aa; stroke:none; fill-opacity:0\" cx=\"1009.57\" cy=\"403.798\" r=\"2\"/>\n",
       "<circle clip-path=\"url(#clip762)\" style=\"fill:#eee8aa; stroke:none; fill-opacity:0\" cx=\"1173.7\" cy=\"424.433\" r=\"2\"/>\n",
       "<circle clip-path=\"url(#clip762)\" style=\"fill:#eee8aa; stroke:none; fill-opacity:0\" cx=\"1337.83\" cy=\"373.193\" r=\"2\"/>\n",
       "<circle clip-path=\"url(#clip762)\" style=\"fill:#eee8aa; stroke:none; fill-opacity:0\" cx=\"1501.95\" cy=\"481.275\" r=\"2\"/>\n",
       "<circle clip-path=\"url(#clip762)\" style=\"fill:#eee8aa; stroke:none; fill-opacity:0\" cx=\"1666.08\" cy=\"634.664\" r=\"2\"/>\n",
       "<circle clip-path=\"url(#clip762)\" style=\"fill:#eee8aa; stroke:none; fill-opacity:0\" cx=\"1830.21\" cy=\"955.642\" r=\"2\"/>\n",
       "<circle clip-path=\"url(#clip762)\" style=\"fill:#eee8aa; stroke:none; fill-opacity:0\" cx=\"1994.34\" cy=\"1216.3\" r=\"2\"/>\n",
       "<circle clip-path=\"url(#clip762)\" style=\"fill:#eee8aa; stroke:none; fill-opacity:0\" cx=\"2158.46\" cy=\"1287.99\" r=\"2\"/>\n",
       "<path clip-path=\"url(#clip760)\" d=\"\n",
       "M1768.03 354.418 L2218.64 354.418 L2218.64 95.2176 L1768.03 95.2176  Z\n",
       "  \" fill=\"#ffffff\" fill-rule=\"evenodd\" fill-opacity=\"1\"/>\n",
       "<polyline clip-path=\"url(#clip760)\" style=\"stroke:#000000; stroke-linecap:butt; stroke-linejoin:round; stroke-width:4; stroke-opacity:1; fill:none\" points=\"\n",
       "  1768.03,354.418 2218.64,354.418 2218.64,95.2176 1768.03,95.2176 1768.03,354.418 \n",
       "  \"/>\n",
       "<path clip-path=\"url(#clip760)\" d=\"\n",
       "M1791.74 167.794 L1933.98 167.794 L1933.98 126.322 L1791.74 126.322 L1791.74 167.794  Z\n",
       "  \" fill=\"#afeeee\" fill-rule=\"evenodd\" fill-opacity=\"0.8\"/>\n",
       "<polyline clip-path=\"url(#clip760)\" style=\"stroke:#000000; stroke-linecap:butt; stroke-linejoin:round; stroke-width:4; stroke-opacity:1; fill:none\" points=\"\n",
       "  1791.74,167.794 1933.98,167.794 1933.98,126.322 1791.74,126.322 1791.74,167.794 \n",
       "  \"/>\n",
       "<path clip-path=\"url(#clip760)\" d=\"M1985.56 132.44 L1985.56 137.37 Q1983.2 135.171 1980.51 134.083 Q1977.85 132.995 1974.84 132.995 Q1968.91 132.995 1965.77 136.629 Q1962.62 140.24 1962.62 147.092 Q1962.62 153.921 1965.77 157.555 Q1968.91 161.166 1974.84 161.166 Q1977.85 161.166 1980.51 160.078 Q1983.2 158.99 1985.56 156.791 L1985.56 161.676 Q1983.1 163.342 1980.35 164.176 Q1977.62 165.009 1974.56 165.009 Q1966.71 165.009 1962.2 160.217 Q1957.69 155.402 1957.69 147.092 Q1957.69 138.759 1962.2 133.967 Q1966.71 129.153 1974.56 129.153 Q1977.66 129.153 1980.4 129.986 Q1983.15 130.796 1985.56 132.44 Z\" fill=\"#000000\" fill-rule=\"evenodd\" fill-opacity=\"1\" /><path clip-path=\"url(#clip760)\" d=\"M1992.78 129.778 L1997.46 129.778 L1997.46 143.944 L2014.45 143.944 L2014.45 129.778 L2019.12 129.778 L2019.12 164.338 L2014.45 164.338 L2014.45 147.879 L1997.46 147.879 L1997.46 164.338 L1992.78 164.338 L1992.78 129.778 Z\" fill=\"#000000\" fill-rule=\"evenodd\" fill-opacity=\"1\" /><path clip-path=\"url(#clip760)\" d=\"M2047.94 172.208 L2047.94 175.518 L2023.31 175.518 L2023.31 172.208 L2047.94 172.208 Z\" fill=\"#000000\" fill-rule=\"evenodd\" fill-opacity=\"1\" /><path clip-path=\"url(#clip760)\" d=\"M2056.81 133.62 L2056.81 146.606 L2062.69 146.606 Q2065.95 146.606 2067.73 144.916 Q2069.52 143.227 2069.52 140.102 Q2069.52 137 2067.73 135.31 Q2065.95 133.62 2062.69 133.62 L2056.81 133.62 M2052.13 129.778 L2062.69 129.778 Q2068.5 129.778 2071.46 132.416 Q2074.45 135.032 2074.45 140.102 Q2074.45 145.217 2071.46 147.833 Q2068.5 150.449 2062.69 150.449 L2056.81 150.449 L2056.81 164.338 L2052.13 164.338 L2052.13 129.778 Z\" fill=\"#000000\" fill-rule=\"evenodd\" fill-opacity=\"1\" /><path clip-path=\"url(#clip760)\" d=\"M2089.63 164.338 L2076.44 129.778 L2081.32 129.778 L2092.27 158.875 L2103.24 129.778 L2108.1 129.778 L2094.93 164.338 L2089.63 164.338 Z\" fill=\"#000000\" fill-rule=\"evenodd\" fill-opacity=\"1\" /><path clip-path=\"url(#clip760)\" d=\"\n",
       "M1791.74 219.634 L1933.98 219.634 L1933.98 178.162 L1791.74 178.162 L1791.74 219.634  Z\n",
       "  \" fill=\"#eee8aa\" fill-rule=\"evenodd\" fill-opacity=\"0.8\"/>\n",
       "<polyline clip-path=\"url(#clip760)\" style=\"stroke:#000000; stroke-linecap:butt; stroke-linejoin:round; stroke-width:4; stroke-opacity:1; fill:none\" points=\"\n",
       "  1791.74,219.634 1933.98,219.634 1933.98,178.162 1791.74,178.162 1791.74,219.634 \n",
       "  \"/>\n",
       "<path clip-path=\"url(#clip760)\" d=\"M1962.36 185.46 L1962.36 198.446 L1968.24 198.446 Q1971.51 198.446 1973.29 196.756 Q1975.07 195.067 1975.07 191.942 Q1975.07 188.84 1973.29 187.15 Q1971.51 185.46 1968.24 185.46 L1962.36 185.46 M1957.69 181.618 L1968.24 181.618 Q1974.05 181.618 1977.02 184.256 Q1980 186.872 1980 191.942 Q1980 197.057 1977.02 199.673 Q1974.05 202.289 1968.24 202.289 L1962.36 202.289 L1962.36 216.178 L1957.69 216.178 L1957.69 181.618 Z\" fill=\"#000000\" fill-rule=\"evenodd\" fill-opacity=\"1\" /><path clip-path=\"url(#clip760)\" d=\"M2005.79 224.048 L2005.79 227.358 L1981.16 227.358 L1981.16 224.048 L2005.79 224.048 Z\" fill=\"#000000\" fill-rule=\"evenodd\" fill-opacity=\"1\" /><path clip-path=\"url(#clip760)\" d=\"M2014.65 185.46 L2014.65 198.446 L2020.53 198.446 Q2023.8 198.446 2025.58 196.756 Q2027.36 195.067 2027.36 191.942 Q2027.36 188.84 2025.58 187.15 Q2023.8 185.46 2020.53 185.46 L2014.65 185.46 M2009.98 181.618 L2020.53 181.618 Q2026.34 181.618 2029.31 184.256 Q2032.29 186.872 2032.29 191.942 Q2032.29 197.057 2029.31 199.673 Q2026.34 202.289 2020.53 202.289 L2014.65 202.289 L2014.65 216.178 L2009.98 216.178 L2009.98 181.618 Z\" fill=\"#000000\" fill-rule=\"evenodd\" fill-opacity=\"1\" /><path clip-path=\"url(#clip760)\" d=\"M2047.48 216.178 L2034.28 181.618 L2039.17 181.618 L2050.12 210.715 L2061.09 181.618 L2065.95 181.618 L2052.78 216.178 L2047.48 216.178 Z\" fill=\"#000000\" fill-rule=\"evenodd\" fill-opacity=\"1\" /><circle clip-path=\"url(#clip760)\" cx=\"1862.86\" cy=\"250.738\" r=\"23\" fill=\"#008b8b\" fill-rule=\"evenodd\" fill-opacity=\"1\" stroke=\"#000000\" stroke-opacity=\"1\" stroke-width=\"5.12\"/>\n",
       "<path clip-path=\"url(#clip760)\" d=\"M1985.56 236.12 L1985.56 241.05 Q1983.2 238.851 1980.51 237.763 Q1977.85 236.675 1974.84 236.675 Q1968.91 236.675 1965.77 240.309 Q1962.62 243.92 1962.62 250.772 Q1962.62 257.601 1965.77 261.235 Q1968.91 264.846 1974.84 264.846 Q1977.85 264.846 1980.51 263.758 Q1983.2 262.67 1985.56 260.471 L1985.56 265.356 Q1983.1 267.022 1980.35 267.856 Q1977.62 268.689 1974.56 268.689 Q1966.71 268.689 1962.2 263.897 Q1957.69 259.082 1957.69 250.772 Q1957.69 242.439 1962.2 237.647 Q1966.71 232.833 1974.56 232.833 Q1977.66 232.833 1980.4 233.666 Q1983.15 234.476 1985.56 236.12 Z\" fill=\"#000000\" fill-rule=\"evenodd\" fill-opacity=\"1\" /><path clip-path=\"url(#clip760)\" d=\"M1992.78 233.458 L1997.46 233.458 L1997.46 247.624 L2014.45 247.624 L2014.45 233.458 L2019.12 233.458 L2019.12 268.018 L2014.45 268.018 L2014.45 251.559 L1997.46 251.559 L1997.46 268.018 L1992.78 268.018 L1992.78 233.458 Z\" fill=\"#000000\" fill-rule=\"evenodd\" fill-opacity=\"1\" /><path clip-path=\"url(#clip760)\" d=\"M2047.94 275.888 L2047.94 279.198 L2023.31 279.198 L2023.31 275.888 L2047.94 275.888 Z\" fill=\"#000000\" fill-rule=\"evenodd\" fill-opacity=\"1\" /><path clip-path=\"url(#clip760)\" d=\"M2047.34 233.458 L2076.58 233.458 L2076.58 237.393 L2064.31 237.393 L2064.31 268.018 L2059.61 268.018 L2059.61 237.393 L2047.34 237.393 L2047.34 233.458 Z\" fill=\"#000000\" fill-rule=\"evenodd\" fill-opacity=\"1\" /><path clip-path=\"url(#clip760)\" d=\"M2095.02 253.99 L2095.02 256.073 L2075.44 256.073 Q2075.72 260.471 2078.08 262.786 Q2080.46 265.078 2084.7 265.078 Q2087.15 265.078 2089.45 264.476 Q2091.76 263.874 2094.03 262.67 L2094.03 266.698 Q2091.74 267.67 2089.33 268.18 Q2086.92 268.689 2084.45 268.689 Q2078.24 268.689 2074.61 265.078 Q2071 261.467 2071 255.309 Q2071 248.944 2074.42 245.217 Q2077.87 241.467 2083.7 241.467 Q2088.94 241.467 2091.97 244.846 Q2095.02 248.203 2095.02 253.99 M2090.77 252.74 Q2090.72 249.245 2088.8 247.161 Q2086.9 245.078 2083.75 245.078 Q2080.19 245.078 2078.03 247.092 Q2075.9 249.106 2075.58 252.763 L2090.77 252.74 Z\" fill=\"#000000\" fill-rule=\"evenodd\" fill-opacity=\"1\" /><path clip-path=\"url(#clip760)\" d=\"M2122.2 247.069 Q2123.8 244.198 2126.02 242.833 Q2128.24 241.467 2131.25 241.467 Q2135.3 241.467 2137.5 244.314 Q2139.7 247.138 2139.7 252.369 L2139.7 268.018 L2135.42 268.018 L2135.42 252.508 Q2135.42 248.782 2134.1 246.976 Q2132.78 245.17 2130.07 245.17 Q2126.76 245.17 2124.84 247.37 Q2122.92 249.569 2122.92 253.365 L2122.92 268.018 L2118.64 268.018 L2118.64 252.508 Q2118.64 248.758 2117.32 246.976 Q2116 245.17 2113.24 245.17 Q2109.98 245.17 2108.06 247.393 Q2106.14 249.592 2106.14 253.365 L2106.14 268.018 L2101.85 268.018 L2101.85 242.092 L2106.14 242.092 L2106.14 246.12 Q2107.59 243.735 2109.63 242.601 Q2111.67 241.467 2114.47 241.467 Q2117.29 241.467 2119.26 242.902 Q2121.25 244.337 2122.2 247.069 Z\" fill=\"#000000\" fill-rule=\"evenodd\" fill-opacity=\"1\" /><path clip-path=\"url(#clip760)\" d=\"M2152.32 264.129 L2152.32 277.879 L2148.03 277.879 L2148.03 242.092 L2152.32 242.092 L2152.32 246.027 Q2153.66 243.712 2155.7 242.601 Q2157.76 241.467 2160.6 241.467 Q2165.32 241.467 2168.26 245.217 Q2171.23 248.967 2171.23 255.078 Q2171.23 261.189 2168.26 264.939 Q2165.32 268.689 2160.6 268.689 Q2157.76 268.689 2155.7 267.578 Q2153.66 266.443 2152.32 264.129 M2166.81 255.078 Q2166.81 250.379 2164.86 247.717 Q2162.94 245.032 2159.56 245.032 Q2156.18 245.032 2154.24 247.717 Q2152.32 250.379 2152.32 255.078 Q2152.32 259.777 2154.24 262.462 Q2156.18 265.124 2159.56 265.124 Q2162.94 265.124 2164.86 262.462 Q2166.81 259.777 2166.81 255.078 Z\" fill=\"#000000\" fill-rule=\"evenodd\" fill-opacity=\"1\" /><circle clip-path=\"url(#clip760)\" cx=\"1862.86\" cy=\"302.578\" r=\"23\" fill=\"#daa520\" fill-rule=\"evenodd\" fill-opacity=\"1\" stroke=\"#000000\" stroke-opacity=\"1\" stroke-width=\"5.12\"/>\n",
       "<path clip-path=\"url(#clip760)\" d=\"M1962.36 289.14 L1962.36 302.126 L1968.24 302.126 Q1971.51 302.126 1973.29 300.436 Q1975.07 298.747 1975.07 295.622 Q1975.07 292.52 1973.29 290.83 Q1971.51 289.14 1968.24 289.14 L1962.36 289.14 M1957.69 285.298 L1968.24 285.298 Q1974.05 285.298 1977.02 287.936 Q1980 290.552 1980 295.622 Q1980 300.737 1977.02 303.353 Q1974.05 305.969 1968.24 305.969 L1962.36 305.969 L1962.36 319.858 L1957.69 319.858 L1957.69 285.298 Z\" fill=\"#000000\" fill-rule=\"evenodd\" fill-opacity=\"1\" /><path clip-path=\"url(#clip760)\" d=\"M2005.79 327.728 L2005.79 331.038 L1981.16 331.038 L1981.16 327.728 L2005.79 327.728 Z\" fill=\"#000000\" fill-rule=\"evenodd\" fill-opacity=\"1\" /><path clip-path=\"url(#clip760)\" d=\"M2005.19 285.298 L2034.42 285.298 L2034.42 289.233 L2022.15 289.233 L2022.15 319.858 L2017.46 319.858 L2017.46 289.233 L2005.19 289.233 L2005.19 285.298 Z\" fill=\"#000000\" fill-rule=\"evenodd\" fill-opacity=\"1\" /><path clip-path=\"url(#clip760)\" d=\"M2052.87 305.83 L2052.87 307.913 L2033.29 307.913 Q2033.57 312.311 2035.93 314.626 Q2038.31 316.918 2042.55 316.918 Q2045 316.918 2047.29 316.316 Q2049.61 315.714 2051.88 314.51 L2051.88 318.538 Q2049.58 319.51 2047.18 320.02 Q2044.77 320.529 2042.29 320.529 Q2036.09 320.529 2032.46 316.918 Q2028.84 313.307 2028.84 307.149 Q2028.84 300.784 2032.27 297.057 Q2035.72 293.307 2041.55 293.307 Q2046.78 293.307 2049.82 296.686 Q2052.87 300.043 2052.87 305.83 M2048.61 304.58 Q2048.57 301.085 2046.64 299.001 Q2044.75 296.918 2041.6 296.918 Q2038.03 296.918 2035.88 298.932 Q2033.75 300.946 2033.43 304.603 L2048.61 304.58 Z\" fill=\"#000000\" fill-rule=\"evenodd\" fill-opacity=\"1\" /><path clip-path=\"url(#clip760)\" d=\"M2080.05 298.909 Q2081.64 296.038 2083.87 294.673 Q2086.09 293.307 2089.1 293.307 Q2093.15 293.307 2095.35 296.154 Q2097.55 298.978 2097.55 304.209 L2097.55 319.858 L2093.27 319.858 L2093.27 304.348 Q2093.27 300.622 2091.95 298.816 Q2090.63 297.01 2087.92 297.01 Q2084.61 297.01 2082.69 299.21 Q2080.77 301.409 2080.77 305.205 L2080.77 319.858 L2076.48 319.858 L2076.48 304.348 Q2076.48 300.598 2075.16 298.816 Q2073.84 297.01 2071.09 297.01 Q2067.83 297.01 2065.9 299.233 Q2063.98 301.432 2063.98 305.205 L2063.98 319.858 L2059.7 319.858 L2059.7 293.932 L2063.98 293.932 L2063.98 297.96 Q2065.44 295.575 2067.48 294.441 Q2069.52 293.307 2072.32 293.307 Q2075.14 293.307 2077.11 294.742 Q2079.1 296.177 2080.05 298.909 Z\" fill=\"#000000\" fill-rule=\"evenodd\" fill-opacity=\"1\" /><path clip-path=\"url(#clip760)\" d=\"M2110.16 315.969 L2110.16 329.719 L2105.88 329.719 L2105.88 293.932 L2110.16 293.932 L2110.16 297.867 Q2111.51 295.552 2113.54 294.441 Q2115.6 293.307 2118.45 293.307 Q2123.17 293.307 2126.11 297.057 Q2129.08 300.807 2129.08 306.918 Q2129.08 313.029 2126.11 316.779 Q2123.17 320.529 2118.45 320.529 Q2115.6 320.529 2113.54 319.418 Q2111.51 318.283 2110.16 315.969 M2124.65 306.918 Q2124.65 302.219 2122.71 299.557 Q2120.79 296.872 2117.41 296.872 Q2114.03 296.872 2112.08 299.557 Q2110.16 302.219 2110.16 306.918 Q2110.16 311.617 2112.08 314.302 Q2114.03 316.964 2117.41 316.964 Q2120.79 316.964 2122.71 314.302 Q2124.65 311.617 2124.65 306.918 Z\" fill=\"#000000\" fill-rule=\"evenodd\" fill-opacity=\"1\" /><path clip-path=\"url(#clip760)\" d=\"\n",
       "M156.112 1486.45 L2289.76 1486.45 L2289.76 47.2441 L156.112 47.2441  Z\n",
       "  \" fill=\"#000000\" fill-rule=\"evenodd\" fill-opacity=\"0\"/>\n",
       "<path clip-path=\"url(#clip760)\" d=\"M310.621 1544.91 L318.26 1544.91 L318.26 1518.55 L309.95 1520.21 L309.95 1515.95 L318.214 1514.29 L322.89 1514.29 L322.89 1544.91 L330.528 1544.91 L330.528 1548.85 L310.621 1548.85 L310.621 1544.91 Z\" fill=\"#000000\" fill-rule=\"evenodd\" fill-opacity=\"1\" /><path clip-path=\"url(#clip760)\" d=\"M479.019 1544.91 L495.338 1544.91 L495.338 1548.85 L473.394 1548.85 L473.394 1544.91 Q476.056 1542.16 480.639 1537.53 Q485.246 1532.88 486.426 1531.53 Q488.672 1529.01 489.551 1527.27 Q490.454 1525.51 490.454 1523.82 Q490.454 1521.07 488.51 1519.33 Q486.588 1517.6 483.487 1517.6 Q481.288 1517.6 478.834 1518.36 Q476.403 1519.13 473.626 1520.68 L473.626 1515.95 Q476.45 1514.82 478.903 1514.24 Q481.357 1513.66 483.394 1513.66 Q488.764 1513.66 491.959 1516.35 Q495.153 1519.03 495.153 1523.52 Q495.153 1525.65 494.343 1527.57 Q493.556 1529.47 491.45 1532.07 Q490.871 1532.74 487.769 1535.95 Q484.667 1539.15 479.019 1544.91 Z\" fill=\"#000000\" fill-rule=\"evenodd\" fill-opacity=\"1\" /><path clip-path=\"url(#clip760)\" d=\"M652.741 1530.21 Q656.097 1530.93 657.972 1533.2 Q659.871 1535.47 659.871 1538.8 Q659.871 1543.92 656.352 1546.72 Q652.834 1549.52 646.352 1549.52 Q644.176 1549.52 641.861 1549.08 Q639.57 1548.66 637.116 1547.81 L637.116 1543.29 Q639.06 1544.43 641.375 1545.01 Q643.69 1545.58 646.213 1545.58 Q650.611 1545.58 652.903 1543.85 Q655.218 1542.11 655.218 1538.8 Q655.218 1535.75 653.065 1534.03 Q650.935 1532.3 647.116 1532.3 L643.088 1532.3 L643.088 1528.45 L647.301 1528.45 Q650.75 1528.45 652.579 1527.09 Q654.408 1525.7 654.408 1523.11 Q654.408 1520.45 652.509 1519.03 Q650.634 1517.6 647.116 1517.6 Q645.195 1517.6 642.996 1518.01 Q640.797 1518.43 638.158 1519.31 L638.158 1515.14 Q640.82 1514.4 643.135 1514.03 Q645.472 1513.66 647.533 1513.66 Q652.857 1513.66 655.959 1516.09 Q659.06 1518.5 659.06 1522.62 Q659.06 1525.49 657.417 1527.48 Q655.773 1529.45 652.741 1530.21 Z\" fill=\"#000000\" fill-rule=\"evenodd\" fill-opacity=\"1\" /><path clip-path=\"url(#clip760)\" d=\"M815.63 1518.36 L803.824 1536.81 L815.63 1536.81 L815.63 1518.36 M814.403 1514.29 L820.282 1514.29 L820.282 1536.81 L825.213 1536.81 L825.213 1540.7 L820.282 1540.7 L820.282 1548.85 L815.63 1548.85 L815.63 1540.7 L800.028 1540.7 L800.028 1536.19 L814.403 1514.29 Z\" fill=\"#000000\" fill-rule=\"evenodd\" fill-opacity=\"1\" /><path clip-path=\"url(#clip760)\" d=\"M967.025 1514.29 L985.382 1514.29 L985.382 1518.22 L971.308 1518.22 L971.308 1526.7 Q972.326 1526.35 973.345 1526.19 Q974.363 1526 975.382 1526 Q981.169 1526 984.548 1529.17 Q987.928 1532.34 987.928 1537.76 Q987.928 1543.34 984.456 1546.44 Q980.983 1549.52 974.664 1549.52 Q972.488 1549.52 970.22 1549.15 Q967.974 1548.78 965.567 1548.04 L965.567 1543.34 Q967.65 1544.47 969.872 1545.03 Q972.095 1545.58 974.571 1545.58 Q978.576 1545.58 980.914 1543.48 Q983.252 1541.37 983.252 1537.76 Q983.252 1534.15 980.914 1532.04 Q978.576 1529.94 974.571 1529.94 Q972.696 1529.94 970.821 1530.35 Q968.97 1530.77 967.025 1531.65 L967.025 1514.29 Z\" fill=\"#000000\" fill-rule=\"evenodd\" fill-opacity=\"1\" /><path clip-path=\"url(#clip760)\" d=\"M1141.28 1529.7 Q1138.13 1529.7 1136.28 1531.86 Q1134.45 1534.01 1134.45 1537.76 Q1134.45 1541.49 1136.28 1543.66 Q1138.13 1545.82 1141.28 1545.82 Q1144.43 1545.82 1146.26 1543.66 Q1148.11 1541.49 1148.11 1537.76 Q1148.11 1534.01 1146.26 1531.86 Q1144.43 1529.7 1141.28 1529.7 M1150.56 1515.05 L1150.56 1519.31 Q1148.8 1518.48 1147 1518.04 Q1145.21 1517.6 1143.46 1517.6 Q1138.83 1517.6 1136.37 1520.72 Q1133.94 1523.85 1133.59 1530.17 Q1134.96 1528.15 1137.02 1527.09 Q1139.08 1526 1141.56 1526 Q1146.77 1526 1149.77 1529.17 Q1152.81 1532.32 1152.81 1537.76 Q1152.81 1543.08 1149.66 1546.3 Q1146.51 1549.52 1141.28 1549.52 Q1135.28 1549.52 1132.11 1544.94 Q1128.94 1540.33 1128.94 1531.6 Q1128.94 1523.41 1132.83 1518.55 Q1136.72 1513.66 1143.27 1513.66 Q1145.03 1513.66 1146.81 1514.01 Q1148.62 1514.36 1150.56 1515.05 Z\" fill=\"#000000\" fill-rule=\"evenodd\" fill-opacity=\"1\" /><path clip-path=\"url(#clip760)\" d=\"M1293.89 1514.29 L1316.11 1514.29 L1316.11 1516.28 L1303.57 1548.85 L1298.68 1548.85 L1310.49 1518.22 L1293.89 1518.22 L1293.89 1514.29 Z\" fill=\"#000000\" fill-rule=\"evenodd\" fill-opacity=\"1\" /><path clip-path=\"url(#clip760)\" d=\"M1469.13 1532.44 Q1465.8 1532.44 1463.87 1534.22 Q1461.98 1536 1461.98 1539.13 Q1461.98 1542.25 1463.87 1544.03 Q1465.8 1545.82 1469.13 1545.82 Q1472.46 1545.82 1474.38 1544.03 Q1476.3 1542.23 1476.3 1539.13 Q1476.3 1536 1474.38 1534.22 Q1472.48 1532.44 1469.13 1532.44 M1464.45 1530.45 Q1461.44 1529.7 1459.75 1527.64 Q1458.09 1525.58 1458.09 1522.62 Q1458.09 1518.48 1461.03 1516.07 Q1463.99 1513.66 1469.13 1513.66 Q1474.29 1513.66 1477.23 1516.07 Q1480.17 1518.48 1480.17 1522.62 Q1480.17 1525.58 1478.48 1527.64 Q1476.81 1529.7 1473.83 1530.45 Q1477.21 1531.23 1479.08 1533.52 Q1480.98 1535.82 1480.98 1539.13 Q1480.98 1544.15 1477.9 1546.83 Q1474.85 1549.52 1469.13 1549.52 Q1463.41 1549.52 1460.33 1546.83 Q1457.28 1544.15 1457.28 1539.13 Q1457.28 1535.82 1459.17 1533.52 Q1461.07 1531.23 1464.45 1530.45 M1462.74 1523.06 Q1462.74 1525.75 1464.41 1527.25 Q1466.1 1528.76 1469.13 1528.76 Q1472.14 1528.76 1473.83 1527.25 Q1475.54 1525.75 1475.54 1523.06 Q1475.54 1520.38 1473.83 1518.87 Q1472.14 1517.37 1469.13 1517.37 Q1466.1 1517.37 1464.41 1518.87 Q1462.74 1520.38 1462.74 1523.06 Z\" fill=\"#000000\" fill-rule=\"evenodd\" fill-opacity=\"1\" /><path clip-path=\"url(#clip760)\" d=\"M1623.56 1548.13 L1623.56 1543.87 Q1625.32 1544.7 1627.12 1545.14 Q1628.93 1545.58 1630.66 1545.58 Q1635.29 1545.58 1637.72 1542.48 Q1640.18 1539.36 1640.52 1533.01 Q1639.18 1535.01 1637.12 1536.07 Q1635.06 1537.13 1632.56 1537.13 Q1627.38 1537.13 1624.34 1534.01 Q1621.33 1530.86 1621.33 1525.42 Q1621.33 1520.1 1624.48 1516.88 Q1627.63 1513.66 1632.86 1513.66 Q1638.86 1513.66 1642.01 1518.27 Q1645.18 1522.85 1645.18 1531.6 Q1645.18 1539.77 1641.29 1544.66 Q1637.42 1549.52 1630.87 1549.52 Q1629.11 1549.52 1627.31 1549.17 Q1625.5 1548.82 1623.56 1548.13 M1632.86 1533.48 Q1636.01 1533.48 1637.84 1531.32 Q1639.69 1529.17 1639.69 1525.42 Q1639.69 1521.7 1637.84 1519.54 Q1636.01 1517.37 1632.86 1517.37 Q1629.71 1517.37 1627.86 1519.54 Q1626.03 1521.7 1626.03 1525.42 Q1626.03 1529.17 1627.86 1531.32 Q1629.71 1533.48 1632.86 1533.48 Z\" fill=\"#000000\" fill-rule=\"evenodd\" fill-opacity=\"1\" /><path clip-path=\"url(#clip760)\" d=\"M1772.07 1544.91 L1779.71 1544.91 L1779.71 1518.55 L1771.4 1520.21 L1771.4 1515.95 L1779.66 1514.29 L1784.34 1514.29 L1784.34 1544.91 L1791.98 1544.91 L1791.98 1548.85 L1772.07 1548.85 L1772.07 1544.91 Z\" fill=\"#000000\" fill-rule=\"evenodd\" fill-opacity=\"1\" /><path clip-path=\"url(#clip760)\" d=\"M1811.42 1517.37 Q1807.81 1517.37 1805.98 1520.93 Q1804.18 1524.47 1804.18 1531.6 Q1804.18 1538.71 1805.98 1542.27 Q1807.81 1545.82 1811.42 1545.82 Q1815.06 1545.82 1816.86 1542.27 Q1818.69 1538.71 1818.69 1531.6 Q1818.69 1524.47 1816.86 1520.93 Q1815.06 1517.37 1811.42 1517.37 M1811.42 1513.66 Q1817.23 1513.66 1820.29 1518.27 Q1823.37 1522.85 1823.37 1531.6 Q1823.37 1540.33 1820.29 1544.94 Q1817.23 1549.52 1811.42 1549.52 Q1805.61 1549.52 1802.53 1544.94 Q1799.48 1540.33 1799.48 1531.6 Q1799.48 1522.85 1802.53 1518.27 Q1805.61 1513.66 1811.42 1513.66 Z\" fill=\"#000000\" fill-rule=\"evenodd\" fill-opacity=\"1\" /><path clip-path=\"url(#clip760)\" d=\"M1936.81 1544.91 L1944.45 1544.91 L1944.45 1518.55 L1936.14 1520.21 L1936.14 1515.95 L1944.4 1514.29 L1949.08 1514.29 L1949.08 1544.91 L1956.72 1544.91 L1956.72 1548.85 L1936.81 1548.85 L1936.81 1544.91 Z\" fill=\"#000000\" fill-rule=\"evenodd\" fill-opacity=\"1\" /><path clip-path=\"url(#clip760)\" d=\"M1966.97 1544.91 L1974.61 1544.91 L1974.61 1518.55 L1966.3 1520.21 L1966.3 1515.95 L1974.57 1514.29 L1979.24 1514.29 L1979.24 1544.91 L1986.88 1544.91 L1986.88 1548.85 L1966.97 1548.85 L1966.97 1544.91 Z\" fill=\"#000000\" fill-rule=\"evenodd\" fill-opacity=\"1\" /><path clip-path=\"url(#clip760)\" d=\"M2101.12 1544.91 L2108.76 1544.91 L2108.76 1518.55 L2100.45 1520.21 L2100.45 1515.95 L2108.72 1514.29 L2113.39 1514.29 L2113.39 1544.91 L2121.03 1544.91 L2121.03 1548.85 L2101.12 1548.85 L2101.12 1544.91 Z\" fill=\"#000000\" fill-rule=\"evenodd\" fill-opacity=\"1\" /><path clip-path=\"url(#clip760)\" d=\"M2134.5 1544.91 L2150.82 1544.91 L2150.82 1548.85 L2128.88 1548.85 L2128.88 1544.91 Q2131.54 1542.16 2136.12 1537.53 Q2140.73 1532.88 2141.91 1531.53 Q2144.16 1529.01 2145.03 1527.27 Q2145.94 1525.51 2145.94 1523.82 Q2145.94 1521.07 2143.99 1519.33 Q2142.07 1517.6 2138.97 1517.6 Q2136.77 1517.6 2134.32 1518.36 Q2131.89 1519.13 2129.11 1520.68 L2129.11 1515.95 Q2131.93 1514.82 2134.39 1514.24 Q2136.84 1513.66 2138.88 1513.66 Q2144.25 1513.66 2147.44 1516.35 Q2150.64 1519.03 2150.64 1523.52 Q2150.64 1525.65 2149.83 1527.57 Q2149.04 1529.47 2146.93 1532.07 Q2146.35 1532.74 2143.25 1535.95 Q2140.15 1539.15 2134.5 1544.91 Z\" fill=\"#000000\" fill-rule=\"evenodd\" fill-opacity=\"1\" /><polyline clip-path=\"url(#clip760)\" style=\"stroke:#000000; stroke-linecap:butt; stroke-linejoin:round; stroke-width:4; stroke-opacity:1; fill:none\" points=\"\n",
       "  2289.76,1486.45 2289.76,47.2441 \n",
       "  \"/>\n",
       "<polyline clip-path=\"url(#clip760)\" style=\"stroke:#000000; stroke-linecap:butt; stroke-linejoin:round; stroke-width:4; stroke-opacity:1; fill:none\" points=\"\n",
       "  2289.76,1486.45 2270.87,1486.45 \n",
       "  \"/>\n",
       "<polyline clip-path=\"url(#clip760)\" style=\"stroke:#000000; stroke-linecap:butt; stroke-linejoin:round; stroke-width:4; stroke-opacity:1; fill:none\" points=\"\n",
       "  2289.76,1126.65 2270.87,1126.65 \n",
       "  \"/>\n",
       "<polyline clip-path=\"url(#clip760)\" style=\"stroke:#000000; stroke-linecap:butt; stroke-linejoin:round; stroke-width:4; stroke-opacity:1; fill:none\" points=\"\n",
       "  2289.76,766.846 2270.87,766.846 \n",
       "  \"/>\n",
       "<polyline clip-path=\"url(#clip760)\" style=\"stroke:#000000; stroke-linecap:butt; stroke-linejoin:round; stroke-width:4; stroke-opacity:1; fill:none\" points=\"\n",
       "  2289.76,407.045 2270.87,407.045 \n",
       "  \"/>\n",
       "<polyline clip-path=\"url(#clip760)\" style=\"stroke:#000000; stroke-linecap:butt; stroke-linejoin:round; stroke-width:4; stroke-opacity:1; fill:none\" points=\"\n",
       "  2289.76,47.2441 2270.87,47.2441 \n",
       "  \"/>\n",
       "<path clip-path=\"url(#clip760)\" d=\"M2325.76 1486.9 L2355.44 1486.9 L2355.44 1490.83 L2325.76 1490.83 L2325.76 1486.9 Z\" fill=\"#000000\" fill-rule=\"evenodd\" fill-opacity=\"1\" /><path clip-path=\"url(#clip760)\" d=\"M2366.34 1499.79 L2373.98 1499.79 L2373.98 1473.43 L2365.67 1475.09 L2365.67 1470.83 L2373.93 1469.17 L2378.61 1469.17 L2378.61 1499.79 L2386.25 1499.79 L2386.25 1503.73 L2366.34 1503.73 L2366.34 1499.79 Z\" fill=\"#000000\" fill-rule=\"evenodd\" fill-opacity=\"1\" /><path clip-path=\"url(#clip760)\" d=\"M2405.69 1472.25 Q2402.08 1472.25 2400.25 1475.81 Q2398.45 1479.35 2398.45 1486.48 Q2398.45 1493.59 2400.25 1497.15 Q2402.08 1500.7 2405.69 1500.7 Q2409.33 1500.7 2411.13 1497.15 Q2412.96 1493.59 2412.96 1486.48 Q2412.96 1479.35 2411.13 1475.81 Q2409.33 1472.25 2405.69 1472.25 M2405.69 1468.54 Q2411.5 1468.54 2414.56 1473.15 Q2417.64 1477.73 2417.64 1486.48 Q2417.64 1495.21 2414.56 1499.82 Q2411.5 1504.4 2405.69 1504.4 Q2399.88 1504.4 2396.81 1499.82 Q2393.75 1495.21 2393.75 1486.48 Q2393.75 1477.73 2396.81 1473.15 Q2399.88 1468.54 2405.69 1468.54 Z\" fill=\"#000000\" fill-rule=\"evenodd\" fill-opacity=\"1\" /><path clip-path=\"url(#clip760)\" d=\"M2337.71 1112.45 Q2334.1 1112.45 2332.27 1116.01 Q2330.46 1119.55 2330.46 1126.68 Q2330.46 1133.79 2332.27 1137.35 Q2334.1 1140.89 2337.71 1140.89 Q2341.34 1140.89 2343.15 1137.35 Q2344.98 1133.79 2344.98 1126.68 Q2344.98 1119.55 2343.15 1116.01 Q2341.34 1112.45 2337.71 1112.45 M2337.71 1108.74 Q2343.52 1108.74 2346.57 1113.35 Q2349.65 1117.93 2349.65 1126.68 Q2349.65 1135.41 2346.57 1140.01 Q2343.52 1144.6 2337.71 1144.6 Q2331.9 1144.6 2328.82 1140.01 Q2325.76 1135.41 2325.76 1126.68 Q2325.76 1117.93 2328.82 1113.35 Q2331.9 1108.74 2337.71 1108.74 Z\" fill=\"#000000\" fill-rule=\"evenodd\" fill-opacity=\"1\" /><path clip-path=\"url(#clip760)\" d=\"M2326.44 780.191 L2334.07 780.191 L2334.07 753.825 L2325.76 755.492 L2325.76 751.233 L2334.03 749.566 L2338.7 749.566 L2338.7 780.191 L2346.34 780.191 L2346.34 784.126 L2326.44 784.126 L2326.44 780.191 Z\" fill=\"#000000\" fill-rule=\"evenodd\" fill-opacity=\"1\" /><path clip-path=\"url(#clip760)\" d=\"M2365.79 752.645 Q2362.18 752.645 2360.35 756.209 Q2358.54 759.751 2358.54 766.881 Q2358.54 773.987 2360.35 777.552 Q2362.18 781.094 2365.79 781.094 Q2369.42 781.094 2371.23 777.552 Q2373.06 773.987 2373.06 766.881 Q2373.06 759.751 2371.23 756.209 Q2369.42 752.645 2365.79 752.645 M2365.79 748.941 Q2371.6 748.941 2374.65 753.547 Q2377.73 758.131 2377.73 766.881 Q2377.73 775.608 2374.65 780.214 Q2371.6 784.797 2365.79 784.797 Q2359.98 784.797 2356.9 780.214 Q2353.84 775.608 2353.84 766.881 Q2353.84 758.131 2356.9 753.547 Q2359.98 748.941 2365.79 748.941 Z\" fill=\"#000000\" fill-rule=\"evenodd\" fill-opacity=\"1\" /><path clip-path=\"url(#clip760)\" d=\"M2331.39 420.39 L2347.71 420.39 L2347.71 424.325 L2325.76 424.325 L2325.76 420.39 Q2328.43 417.635 2333.01 413.006 Q2337.62 408.353 2338.8 407.01 Q2341.04 404.487 2341.92 402.751 Q2342.82 400.992 2342.82 399.302 Q2342.82 396.547 2340.88 394.811 Q2338.96 393.075 2335.86 393.075 Q2333.66 393.075 2331.2 393.839 Q2328.77 394.603 2326 396.154 L2326 391.432 Q2328.82 390.297 2331.27 389.719 Q2333.73 389.14 2335.76 389.14 Q2341.13 389.14 2344.33 391.825 Q2347.52 394.51 2347.52 399.001 Q2347.52 401.131 2346.71 403.052 Q2345.93 404.95 2343.82 407.543 Q2343.24 408.214 2340.14 411.432 Q2337.04 414.626 2331.39 420.39 Z\" fill=\"#000000\" fill-rule=\"evenodd\" fill-opacity=\"1\" /><path clip-path=\"url(#clip760)\" d=\"M2367.52 392.844 Q2363.91 392.844 2362.08 396.409 Q2360.28 399.95 2360.28 407.08 Q2360.28 414.186 2362.08 417.751 Q2363.91 421.293 2367.52 421.293 Q2371.16 421.293 2372.96 417.751 Q2374.79 414.186 2374.79 407.08 Q2374.79 399.95 2372.96 396.409 Q2371.16 392.844 2367.52 392.844 M2367.52 389.14 Q2373.33 389.14 2376.39 393.746 Q2379.47 398.33 2379.47 407.08 Q2379.47 415.807 2376.39 420.413 Q2373.33 424.996 2367.52 424.996 Q2361.71 424.996 2358.63 420.413 Q2355.58 415.807 2355.58 407.08 Q2355.58 398.33 2358.63 393.746 Q2361.71 389.14 2367.52 389.14 Z\" fill=\"#000000\" fill-rule=\"evenodd\" fill-opacity=\"1\" /><path clip-path=\"url(#clip760)\" d=\"M2341.39 45.8899 Q2344.75 46.6075 2346.62 48.876 Q2348.52 51.1445 2348.52 54.4779 Q2348.52 59.5936 2345 62.3945 Q2341.48 65.1954 2335 65.1954 Q2332.82 65.1954 2330.51 64.7556 Q2328.22 64.3389 2325.76 63.4824 L2325.76 58.9686 Q2327.71 60.1028 2330.02 60.6815 Q2332.34 61.2602 2334.86 61.2602 Q2339.26 61.2602 2341.55 59.5241 Q2343.87 57.788 2343.87 54.4779 Q2343.87 51.4223 2341.71 49.7094 Q2339.58 47.9733 2335.76 47.9733 L2331.74 47.9733 L2331.74 44.1307 L2335.95 44.1307 Q2339.4 44.1307 2341.23 42.765 Q2343.06 41.3761 2343.06 38.7835 Q2343.06 36.1215 2341.16 34.7094 Q2339.28 33.2743 2335.76 33.2743 Q2333.84 33.2743 2331.64 33.6909 Q2329.44 34.1076 2326.81 34.9872 L2326.81 30.8206 Q2329.47 30.0798 2331.78 29.7095 Q2334.12 29.3391 2336.18 29.3391 Q2341.5 29.3391 2344.61 31.7696 Q2347.71 34.177 2347.71 38.2974 Q2347.71 41.1677 2346.06 43.1585 Q2344.42 45.1261 2341.39 45.8899 Z\" fill=\"#000000\" fill-rule=\"evenodd\" fill-opacity=\"1\" /><path clip-path=\"url(#clip760)\" d=\"M2367.38 33.0428 Q2363.77 33.0428 2361.94 36.6076 Q2360.14 40.1492 2360.14 47.2788 Q2360.14 54.3853 2361.94 57.9501 Q2363.77 61.4917 2367.38 61.4917 Q2371.02 61.4917 2372.82 57.9501 Q2374.65 54.3853 2374.65 47.2788 Q2374.65 40.1492 2372.82 36.6076 Q2371.02 33.0428 2367.38 33.0428 M2367.38 29.3391 Q2373.19 29.3391 2376.25 33.9456 Q2379.33 38.5289 2379.33 47.2788 Q2379.33 56.0056 2376.25 60.6121 Q2373.19 65.1954 2367.38 65.1954 Q2361.57 65.1954 2358.5 60.6121 Q2355.44 56.0056 2355.44 47.2788 Q2355.44 38.5289 2358.5 33.9456 Q2361.57 29.3391 2367.38 29.3391 Z\" fill=\"#000000\" fill-rule=\"evenodd\" fill-opacity=\"1\" /><path clip-path=\"url(#clip760)\" d=\"M2463.14 1045.44 L2463.14 1005.24 L2468.55 1005.24 L2468.55 1022.11 L2510.66 1022.11 L2510.66 1028.57 L2468.55 1028.57 L2468.55 1045.44 L2463.14 1045.44 Z\" fill=\"#000000\" fill-rule=\"evenodd\" fill-opacity=\"1\" /><path clip-path=\"url(#clip760)\" d=\"M2491.37 979.874 L2494.24 979.874 L2494.24 1006.8 Q2500.29 1006.42 2503.47 1003.17 Q2506.62 999.895 2506.62 994.07 Q2506.62 990.696 2505.79 987.545 Q2504.96 984.362 2503.31 981.243 L2508.85 981.243 Q2510.18 984.394 2510.89 987.704 Q2511.59 991.014 2511.59 994.42 Q2511.59 1002.95 2506.62 1007.95 Q2501.65 1012.91 2493.19 1012.91 Q2484.44 1012.91 2479.31 1008.2 Q2474.15 1003.46 2474.15 995.439 Q2474.15 988.245 2478.8 984.076 Q2483.42 979.874 2491.37 979.874 M2489.66 985.731 Q2484.85 985.794 2481.98 988.436 Q2479.12 991.046 2479.12 995.375 Q2479.12 1000.28 2481.89 1003.24 Q2484.66 1006.16 2489.69 1006.61 L2489.66 985.731 Z\" fill=\"#000000\" fill-rule=\"evenodd\" fill-opacity=\"1\" /><path clip-path=\"url(#clip760)\" d=\"M2481.86 942.508 Q2477.91 940.311 2476.03 937.256 Q2474.15 934.2 2474.15 930.063 Q2474.15 924.493 2478.07 921.469 Q2481.95 918.445 2489.15 918.445 L2510.66 918.445 L2510.66 924.334 L2489.34 924.334 Q2484.21 924.334 2481.73 926.148 Q2479.25 927.962 2479.25 931.686 Q2479.25 936.237 2482.27 938.879 Q2485.29 941.521 2490.51 941.521 L2510.66 941.521 L2510.66 947.409 L2489.34 947.409 Q2484.18 947.409 2481.73 949.223 Q2479.25 951.038 2479.25 954.825 Q2479.25 959.313 2482.3 961.955 Q2485.33 964.597 2490.51 964.597 L2510.66 964.597 L2510.66 970.485 L2475.01 970.485 L2475.01 964.597 L2480.55 964.597 Q2477.27 962.591 2475.71 959.791 Q2474.15 956.99 2474.15 953.138 Q2474.15 949.255 2476.13 946.55 Q2478.1 943.813 2481.86 942.508 Z\" fill=\"#000000\" fill-rule=\"evenodd\" fill-opacity=\"1\" /><path clip-path=\"url(#clip760)\" d=\"M2505.32 901.099 L2524.22 901.099 L2524.22 906.987 L2475.01 906.987 L2475.01 901.099 L2480.43 901.099 Q2477.24 899.253 2475.71 896.452 Q2474.15 893.619 2474.15 889.704 Q2474.15 883.211 2479.31 879.169 Q2484.47 875.095 2492.87 875.095 Q2501.27 875.095 2506.43 879.169 Q2511.59 883.211 2511.59 889.704 Q2511.59 893.619 2510.06 896.452 Q2508.5 899.253 2505.32 901.099 M2492.87 881.174 Q2486.41 881.174 2482.75 883.848 Q2479.06 886.489 2479.06 891.136 Q2479.06 895.783 2482.75 898.457 Q2486.41 901.099 2492.87 901.099 Q2499.33 901.099 2503.02 898.457 Q2506.68 895.783 2506.68 891.136 Q2506.68 886.489 2503.02 883.848 Q2499.33 881.174 2492.87 881.174 Z\" fill=\"#000000\" fill-rule=\"evenodd\" fill-opacity=\"1\" /><path clip-path=\"url(#clip760)\" d=\"M2491.37 834.895 L2494.24 834.895 L2494.24 861.822 Q2500.29 861.44 2503.47 858.194 Q2506.62 854.916 2506.62 849.091 Q2506.62 845.717 2505.79 842.566 Q2504.96 839.383 2503.31 836.264 L2508.85 836.264 Q2510.18 839.415 2510.89 842.725 Q2511.59 846.035 2511.59 849.441 Q2511.59 857.971 2506.62 862.968 Q2501.65 867.933 2493.19 867.933 Q2484.44 867.933 2479.31 863.223 Q2474.15 858.48 2474.15 850.46 Q2474.15 843.266 2478.8 839.097 Q2483.42 834.895 2491.37 834.895 M2489.66 840.752 Q2484.85 840.815 2481.98 843.457 Q2479.12 846.067 2479.12 850.396 Q2479.12 855.297 2481.89 858.258 Q2484.66 861.186 2489.69 861.631 L2489.66 840.752 Z\" fill=\"#000000\" fill-rule=\"evenodd\" fill-opacity=\"1\" /><path clip-path=\"url(#clip760)\" d=\"M2480.49 804.626 Q2479.92 805.613 2479.66 806.791 Q2479.37 807.937 2479.37 809.337 Q2479.37 814.302 2482.62 816.976 Q2485.84 819.618 2491.88 819.618 L2510.66 819.618 L2510.66 825.506 L2475.01 825.506 L2475.01 819.618 L2480.55 819.618 Q2477.31 817.772 2475.75 814.812 Q2474.15 811.852 2474.15 807.618 Q2474.15 807.014 2474.25 806.282 Q2474.31 805.549 2474.47 804.658 L2480.49 804.626 Z\" fill=\"#000000\" fill-rule=\"evenodd\" fill-opacity=\"1\" /><path clip-path=\"url(#clip760)\" d=\"M2492.74 782.283 Q2492.74 789.381 2494.37 792.118 Q2495.99 794.855 2499.9 794.855 Q2503.02 794.855 2504.87 792.818 Q2506.68 790.749 2506.68 787.216 Q2506.68 782.346 2503.25 779.418 Q2499.78 776.458 2494.05 776.458 L2492.74 776.458 L2492.74 782.283 M2490.32 770.602 L2510.66 770.602 L2510.66 776.458 L2505.25 776.458 Q2508.5 778.463 2510.06 781.455 Q2511.59 784.447 2511.59 788.776 Q2511.59 794.25 2508.53 797.497 Q2505.44 800.712 2500.29 800.712 Q2494.27 800.712 2491.22 796.701 Q2488.16 792.659 2488.16 784.67 L2488.16 776.458 L2487.59 776.458 Q2483.54 776.458 2481.35 779.132 Q2479.12 781.774 2479.12 786.58 Q2479.12 789.635 2479.85 792.532 Q2480.58 795.428 2482.05 798.102 L2476.64 798.102 Q2475.4 794.887 2474.79 791.863 Q2474.15 788.84 2474.15 785.975 Q2474.15 778.241 2478.17 774.421 Q2482.18 770.602 2490.32 770.602 Z\" fill=\"#000000\" fill-rule=\"evenodd\" fill-opacity=\"1\" /><path clip-path=\"url(#clip760)\" d=\"M2464.89 752.746 L2475.01 752.746 L2475.01 740.683 L2479.57 740.683 L2479.57 752.746 L2498.92 752.746 Q2503.28 752.746 2504.52 751.568 Q2505.76 750.359 2505.76 746.699 L2505.76 740.683 L2510.66 740.683 L2510.66 746.699 Q2510.66 753.478 2508.15 756.056 Q2505.6 758.634 2498.92 758.634 L2479.57 758.634 L2479.57 762.931 L2475.01 762.931 L2475.01 758.634 L2464.89 758.634 L2464.89 752.746 Z\" fill=\"#000000\" fill-rule=\"evenodd\" fill-opacity=\"1\" /><path clip-path=\"url(#clip760)\" d=\"M2496.59 733.585 L2475.01 733.585 L2475.01 727.729 L2496.37 727.729 Q2501.43 727.729 2503.98 725.755 Q2506.49 723.782 2506.49 719.835 Q2506.49 715.093 2503.47 712.356 Q2500.45 709.586 2495.23 709.586 L2475.01 709.586 L2475.01 703.73 L2510.66 703.73 L2510.66 709.586 L2505.19 709.586 Q2508.43 711.719 2510.03 714.552 Q2511.59 717.353 2511.59 721.077 Q2511.59 727.219 2507.77 730.402 Q2503.95 733.585 2496.59 733.585 M2474.15 718.849 L2474.15 718.849 Z\" fill=\"#000000\" fill-rule=\"evenodd\" fill-opacity=\"1\" /><path clip-path=\"url(#clip760)\" d=\"M2480.49 671.01 Q2479.92 671.997 2479.66 673.175 Q2479.37 674.32 2479.37 675.721 Q2479.37 680.686 2482.62 683.36 Q2485.84 686.002 2491.88 686.002 L2510.66 686.002 L2510.66 691.89 L2475.01 691.89 L2475.01 686.002 L2480.55 686.002 Q2477.31 684.155 2475.75 681.195 Q2474.15 678.235 2474.15 674.002 Q2474.15 673.397 2474.25 672.665 Q2474.31 671.933 2474.47 671.042 L2480.49 671.01 Z\" fill=\"#000000\" fill-rule=\"evenodd\" fill-opacity=\"1\" /><path clip-path=\"url(#clip760)\" d=\"M2491.37 635.808 L2494.24 635.808 L2494.24 662.735 Q2500.29 662.353 2503.47 659.106 Q2506.62 655.828 2506.62 650.003 Q2506.62 646.63 2505.79 643.479 Q2504.96 640.296 2503.31 637.177 L2508.85 637.177 Q2510.18 640.328 2510.89 643.638 Q2511.59 646.948 2511.59 650.354 Q2511.59 658.884 2506.62 663.881 Q2501.65 668.846 2493.19 668.846 Q2484.44 668.846 2479.31 664.135 Q2474.15 659.393 2474.15 651.372 Q2474.15 644.179 2478.8 640.009 Q2483.42 635.808 2491.37 635.808 M2489.66 641.664 Q2484.85 641.728 2481.98 644.37 Q2479.12 646.98 2479.12 651.308 Q2479.12 656.21 2481.89 659.17 Q2484.66 662.098 2489.69 662.544 L2489.66 641.664 Z\" fill=\"#000000\" fill-rule=\"evenodd\" fill-opacity=\"1\" /><path clip-path=\"url(#clip760)\" d=\"M2461.14 606.016 L2461.14 592.521 L2465.69 592.521 L2465.69 600.16 L2514.7 600.16 L2514.7 592.521 L2519.26 592.521 L2519.26 606.016 L2461.14 606.016 Z\" fill=\"#000000\" fill-rule=\"evenodd\" fill-opacity=\"1\" /><path clip-path=\"url(#clip760)\" d=\"M2466.39 569.891 Q2466.39 572.437 2468.17 574.188 Q2469.92 575.938 2472.47 575.938 Q2474.98 575.938 2476.73 574.188 Q2478.45 572.437 2478.45 569.891 Q2478.45 567.345 2476.73 565.594 Q2474.98 563.844 2472.47 563.844 Q2469.95 563.844 2468.17 565.626 Q2466.39 567.377 2466.39 569.891 M2462.28 569.891 Q2462.28 567.854 2463.08 565.976 Q2463.84 564.098 2465.31 562.73 Q2466.74 561.265 2468.55 560.533 Q2470.37 559.801 2472.47 559.801 Q2476.67 559.801 2479.6 562.761 Q2482.49 565.69 2482.49 569.955 Q2482.49 574.252 2479.63 577.116 Q2476.76 579.981 2472.47 579.981 Q2468.2 579.981 2465.24 577.052 Q2462.28 574.124 2462.28 569.891 Z\" fill=\"#000000\" fill-rule=\"evenodd\" fill-opacity=\"1\" /><path clip-path=\"url(#clip760)\" d=\"M2466.8 511.613 L2473.58 511.613 Q2470.56 514.859 2469.06 518.552 Q2467.57 522.212 2467.57 526.35 Q2467.57 534.498 2472.56 538.826 Q2477.53 543.155 2486.95 543.155 Q2496.34 543.155 2501.34 538.826 Q2506.3 534.498 2506.3 526.35 Q2506.3 522.212 2504.81 518.552 Q2503.31 514.859 2500.29 511.613 L2507 511.613 Q2509.29 514.987 2510.44 518.774 Q2511.59 522.53 2511.59 526.732 Q2511.59 537.521 2505 543.728 Q2498.38 549.935 2486.95 549.935 Q2475.49 549.935 2468.9 543.728 Q2462.28 537.521 2462.28 526.732 Q2462.28 522.467 2463.43 518.711 Q2464.54 514.923 2466.8 511.613 Z\" fill=\"#000000\" fill-rule=\"evenodd\" fill-opacity=\"1\" /><path clip-path=\"url(#clip760)\" d=\"M2461.14 488.251 L2519.26 488.251 L2519.26 501.746 L2514.7 501.746 L2514.7 494.139 L2465.69 494.139 L2465.69 501.746 L2461.14 501.746 L2461.14 488.251 Z\" fill=\"#000000\" fill-rule=\"evenodd\" fill-opacity=\"1\" /><polyline clip-path=\"url(#clip762)\" style=\"stroke:#008b8b; stroke-linecap:butt; stroke-linejoin:round; stroke-width:8; stroke-opacity:1; fill:none\" points=\"\n",
       "  320.239,1284.72 484.366,1434.94 648.493,1098.18 812.62,841.282 976.747,612.522 1140.87,476.078 1305,347.459 1469.13,336.856 1633.26,399.978 1797.38,670.845 \n",
       "  1961.51,850.739 2125.64,991.339 \n",
       "  \"/>\n",
       "<circle clip-path=\"url(#clip762)\" cx=\"320.239\" cy=\"1284.72\" r=\"14\" fill=\"#008b8b\" fill-rule=\"evenodd\" fill-opacity=\"1\" stroke=\"#000000\" stroke-opacity=\"1\" stroke-width=\"3.2\"/>\n",
       "<circle clip-path=\"url(#clip762)\" cx=\"484.366\" cy=\"1434.94\" r=\"14\" fill=\"#008b8b\" fill-rule=\"evenodd\" fill-opacity=\"1\" stroke=\"#000000\" stroke-opacity=\"1\" stroke-width=\"3.2\"/>\n",
       "<circle clip-path=\"url(#clip762)\" cx=\"648.493\" cy=\"1098.18\" r=\"14\" fill=\"#008b8b\" fill-rule=\"evenodd\" fill-opacity=\"1\" stroke=\"#000000\" stroke-opacity=\"1\" stroke-width=\"3.2\"/>\n",
       "<circle clip-path=\"url(#clip762)\" cx=\"812.62\" cy=\"841.282\" r=\"14\" fill=\"#008b8b\" fill-rule=\"evenodd\" fill-opacity=\"1\" stroke=\"#000000\" stroke-opacity=\"1\" stroke-width=\"3.2\"/>\n",
       "<circle clip-path=\"url(#clip762)\" cx=\"976.747\" cy=\"612.522\" r=\"14\" fill=\"#008b8b\" fill-rule=\"evenodd\" fill-opacity=\"1\" stroke=\"#000000\" stroke-opacity=\"1\" stroke-width=\"3.2\"/>\n",
       "<circle clip-path=\"url(#clip762)\" cx=\"1140.87\" cy=\"476.078\" r=\"14\" fill=\"#008b8b\" fill-rule=\"evenodd\" fill-opacity=\"1\" stroke=\"#000000\" stroke-opacity=\"1\" stroke-width=\"3.2\"/>\n",
       "<circle clip-path=\"url(#clip762)\" cx=\"1305\" cy=\"347.459\" r=\"14\" fill=\"#008b8b\" fill-rule=\"evenodd\" fill-opacity=\"1\" stroke=\"#000000\" stroke-opacity=\"1\" stroke-width=\"3.2\"/>\n",
       "<circle clip-path=\"url(#clip762)\" cx=\"1469.13\" cy=\"336.856\" r=\"14\" fill=\"#008b8b\" fill-rule=\"evenodd\" fill-opacity=\"1\" stroke=\"#000000\" stroke-opacity=\"1\" stroke-width=\"3.2\"/>\n",
       "<circle clip-path=\"url(#clip762)\" cx=\"1633.26\" cy=\"399.978\" r=\"14\" fill=\"#008b8b\" fill-rule=\"evenodd\" fill-opacity=\"1\" stroke=\"#000000\" stroke-opacity=\"1\" stroke-width=\"3.2\"/>\n",
       "<circle clip-path=\"url(#clip762)\" cx=\"1797.38\" cy=\"670.845\" r=\"14\" fill=\"#008b8b\" fill-rule=\"evenodd\" fill-opacity=\"1\" stroke=\"#000000\" stroke-opacity=\"1\" stroke-width=\"3.2\"/>\n",
       "<circle clip-path=\"url(#clip762)\" cx=\"1961.51\" cy=\"850.739\" r=\"14\" fill=\"#008b8b\" fill-rule=\"evenodd\" fill-opacity=\"1\" stroke=\"#000000\" stroke-opacity=\"1\" stroke-width=\"3.2\"/>\n",
       "<circle clip-path=\"url(#clip762)\" cx=\"2125.64\" cy=\"991.339\" r=\"14\" fill=\"#008b8b\" fill-rule=\"evenodd\" fill-opacity=\"1\" stroke=\"#000000\" stroke-opacity=\"1\" stroke-width=\"3.2\"/>\n",
       "<polyline clip-path=\"url(#clip762)\" style=\"stroke:#daa520; stroke-linecap:butt; stroke-linejoin:round; stroke-width:8; stroke-opacity:1; fill:none\" points=\"\n",
       "  320.239,1075.4 484.366,1120.39 648.493,961.365 812.62,844.372 976.747,688.175 1140.87,558.576 1305,430.886 1469.13,371.846 1633.26,640.502 1797.38,857.784 \n",
       "  1961.51,897.859 2125.64,939.657 \n",
       "  \"/>\n",
       "<circle clip-path=\"url(#clip762)\" cx=\"320.239\" cy=\"1075.4\" r=\"14\" fill=\"#daa520\" fill-rule=\"evenodd\" fill-opacity=\"1\" stroke=\"#000000\" stroke-opacity=\"1\" stroke-width=\"3.2\"/>\n",
       "<circle clip-path=\"url(#clip762)\" cx=\"484.366\" cy=\"1120.39\" r=\"14\" fill=\"#daa520\" fill-rule=\"evenodd\" fill-opacity=\"1\" stroke=\"#000000\" stroke-opacity=\"1\" stroke-width=\"3.2\"/>\n",
       "<circle clip-path=\"url(#clip762)\" cx=\"648.493\" cy=\"961.365\" r=\"14\" fill=\"#daa520\" fill-rule=\"evenodd\" fill-opacity=\"1\" stroke=\"#000000\" stroke-opacity=\"1\" stroke-width=\"3.2\"/>\n",
       "<circle clip-path=\"url(#clip762)\" cx=\"812.62\" cy=\"844.372\" r=\"14\" fill=\"#daa520\" fill-rule=\"evenodd\" fill-opacity=\"1\" stroke=\"#000000\" stroke-opacity=\"1\" stroke-width=\"3.2\"/>\n",
       "<circle clip-path=\"url(#clip762)\" cx=\"976.747\" cy=\"688.175\" r=\"14\" fill=\"#daa520\" fill-rule=\"evenodd\" fill-opacity=\"1\" stroke=\"#000000\" stroke-opacity=\"1\" stroke-width=\"3.2\"/>\n",
       "<circle clip-path=\"url(#clip762)\" cx=\"1140.87\" cy=\"558.576\" r=\"14\" fill=\"#daa520\" fill-rule=\"evenodd\" fill-opacity=\"1\" stroke=\"#000000\" stroke-opacity=\"1\" stroke-width=\"3.2\"/>\n",
       "<circle clip-path=\"url(#clip762)\" cx=\"1305\" cy=\"430.886\" r=\"14\" fill=\"#daa520\" fill-rule=\"evenodd\" fill-opacity=\"1\" stroke=\"#000000\" stroke-opacity=\"1\" stroke-width=\"3.2\"/>\n",
       "<circle clip-path=\"url(#clip762)\" cx=\"1469.13\" cy=\"371.846\" r=\"14\" fill=\"#daa520\" fill-rule=\"evenodd\" fill-opacity=\"1\" stroke=\"#000000\" stroke-opacity=\"1\" stroke-width=\"3.2\"/>\n",
       "<circle clip-path=\"url(#clip762)\" cx=\"1633.26\" cy=\"640.502\" r=\"14\" fill=\"#daa520\" fill-rule=\"evenodd\" fill-opacity=\"1\" stroke=\"#000000\" stroke-opacity=\"1\" stroke-width=\"3.2\"/>\n",
       "<circle clip-path=\"url(#clip762)\" cx=\"1797.38\" cy=\"857.784\" r=\"14\" fill=\"#daa520\" fill-rule=\"evenodd\" fill-opacity=\"1\" stroke=\"#000000\" stroke-opacity=\"1\" stroke-width=\"3.2\"/>\n",
       "<circle clip-path=\"url(#clip762)\" cx=\"1961.51\" cy=\"897.859\" r=\"14\" fill=\"#daa520\" fill-rule=\"evenodd\" fill-opacity=\"1\" stroke=\"#000000\" stroke-opacity=\"1\" stroke-width=\"3.2\"/>\n",
       "<circle clip-path=\"url(#clip762)\" cx=\"2125.64\" cy=\"939.657\" r=\"14\" fill=\"#daa520\" fill-rule=\"evenodd\" fill-opacity=\"1\" stroke=\"#000000\" stroke-opacity=\"1\" stroke-width=\"3.2\"/>\n",
       "</svg>\n"
      ]
     },
     "execution_count": 26,
     "metadata": {},
     "output_type": "execute_result"
    }
   ],
   "source": [
    "# first plot (PV bars)\n",
    "# add labels to the axis and the legend\n",
    "groupedbar(PV_mean,  colour = [:paleturquoise :palegoldenrod], alpha=0.8, label=[\"CH_PV\" \"P_PV\"], \n",
    "    xlim=(0,13), xticks=x, ylim=(0,3), yticks=0:0.5:3, # what is happening here\n",
    "    right_margin = 5mm) # what is happening here\n",
    "\n",
    "# # what is happening here\n",
    "scatter!((16:17)', xlim=(0,13), colour =[:darkcyan :goldenrod], legend=:best,\n",
    "            label=[\"CH_Temp\" \"P_Temp\"])\n",
    "\n",
    "# # what is happening here\n",
    "plot!(twinx(), T_mean, ylabel=\"Temperature [°C]\", label=[\"CH_Temp\" \"P_Temp\"], # function twinx() used for secondary y-achsis\n",
    "    colour = [:darkcyan :goldenrod], linewidth= 2.0, marker=([:circle :circle], 4), legend=false, grid=false,\n",
    "     xlim=(0,13), xticks=x, ylim=(-10,30))\n",
    "\n",
    "#  -------> try some variations of the parameters to see the effect <---------\n",
    "\n",
    "plot!(size=(600,400))"
   ]
  },
  {
   "cell_type": "code",
   "execution_count": 53,
   "metadata": {
    "slideshow": {
     "slide_type": "slide"
    }
   },
   "outputs": [],
   "source": [
    "savefig(\"figures/PV_temp_monthly_means.pdf\") # export to pdf\n",
    "#savefig(\"figures/PV_temp_monthly_means.png\")"
   ]
  },
  {
   "cell_type": "markdown",
   "metadata": {
    "slideshow": {
     "slide_type": "slide"
    }
   },
   "source": [
    "### 2.2) Visualize confidence intervals"
   ]
  },
  {
   "cell_type": "markdown",
   "metadata": {},
   "source": [
    "Load the initial merged DataFrame and add a column for the hour"
   ]
  },
  {
   "cell_type": "code",
   "execution_count": 60,
   "metadata": {
    "scrolled": false
   },
   "outputs": [
    {
     "data": {
      "text/html": [
       "<div class=\"data-frame\"><p>8,760 rows × 6 columns</p><table class=\"data-frame\"><thead><tr><th></th><th>time</th><th>CH_PV</th><th>CH_temp</th><th>P_PV</th><th>P_temp</th><th>hour</th></tr><tr><th></th><th title=\"DateTime\">DateTime</th><th title=\"Float64\">Float64</th><th title=\"Float64\">Float64</th><th title=\"Float64\">Float64</th><th title=\"Float64\">Float64</th><th title=\"Int64\">Int64</th></tr></thead><tbody><tr><th>1</th><td>2015-01-01T00:00:00</td><td>0.0</td><td>-7.488</td><td>0.0</td><td>1.667</td><td>0</td></tr><tr><th>2</th><td>2015-01-01T01:00:00</td><td>0.0</td><td>-7.637</td><td>0.0</td><td>1.574</td><td>1</td></tr><tr><th>3</th><td>2015-01-01T02:00:00</td><td>0.0</td><td>-7.813</td><td>0.0</td><td>1.47</td><td>2</td></tr><tr><th>4</th><td>2015-01-01T03:00:00</td><td>0.0</td><td>-7.984</td><td>0.0</td><td>1.294</td><td>3</td></tr><tr><th>5</th><td>2015-01-01T04:00:00</td><td>0.0</td><td>-8.147</td><td>0.0</td><td>1.139</td><td>4</td></tr><tr><th>6</th><td>2015-01-01T05:00:00</td><td>0.0</td><td>-8.221</td><td>0.0</td><td>0.949</td><td>5</td></tr><tr><th>7</th><td>2015-01-01T06:00:00</td><td>0.0</td><td>-8.256</td><td>0.0</td><td>0.577</td><td>6</td></tr><tr><th>8</th><td>2015-01-01T07:00:00</td><td>0.524</td><td>-8.197</td><td>0.0</td><td>0.361</td><td>7</td></tr><tr><th>9</th><td>2015-01-01T08:00:00</td><td>3.87</td><td>-7.428</td><td>0.006</td><td>0.313</td><td>8</td></tr><tr><th>10</th><td>2015-01-01T09:00:00</td><td>6.419</td><td>-6.125</td><td>0.323</td><td>0.611</td><td>9</td></tr><tr><th>11</th><td>2015-01-01T10:00:00</td><td>7.779</td><td>-4.617</td><td>0.897</td><td>0.838</td><td>10</td></tr><tr><th>12</th><td>2015-01-01T11:00:00</td><td>8.313</td><td>-3.123</td><td>1.896</td><td>1.138</td><td>11</td></tr><tr><th>13</th><td>2015-01-01T12:00:00</td><td>8.018</td><td>-1.863</td><td>3.07</td><td>1.819</td><td>12</td></tr><tr><th>14</th><td>2015-01-01T13:00:00</td><td>6.882</td><td>-0.976</td><td>3.919</td><td>2.202</td><td>13</td></tr><tr><th>15</th><td>2015-01-01T14:00:00</td><td>4.79</td><td>-0.522</td><td>1.954</td><td>1.912</td><td>14</td></tr><tr><th>16</th><td>2015-01-01T15:00:00</td><td>1.563</td><td>-0.578</td><td>0.183</td><td>1.316</td><td>15</td></tr><tr><th>17</th><td>2015-01-01T16:00:00</td><td>0.0</td><td>-1.068</td><td>0.0</td><td>0.6</td><td>16</td></tr><tr><th>18</th><td>2015-01-01T17:00:00</td><td>0.0</td><td>-1.3</td><td>0.0</td><td>0.639</td><td>17</td></tr><tr><th>19</th><td>2015-01-01T18:00:00</td><td>0.0</td><td>-1.558</td><td>0.0</td><td>0.689</td><td>18</td></tr><tr><th>20</th><td>2015-01-01T19:00:00</td><td>0.0</td><td>-1.825</td><td>0.0</td><td>0.766</td><td>19</td></tr><tr><th>21</th><td>2015-01-01T20:00:00</td><td>0.0</td><td>-2.051</td><td>0.0</td><td>0.752</td><td>20</td></tr><tr><th>22</th><td>2015-01-01T21:00:00</td><td>0.0</td><td>-2.322</td><td>0.0</td><td>0.71</td><td>21</td></tr><tr><th>23</th><td>2015-01-01T22:00:00</td><td>0.0</td><td>-2.731</td><td>0.0</td><td>0.672</td><td>22</td></tr><tr><th>24</th><td>2015-01-01T23:00:00</td><td>0.0</td><td>-3.165</td><td>0.0</td><td>0.562</td><td>23</td></tr><tr><th>25</th><td>2015-01-02T00:00:00</td><td>0.0</td><td>-3.6</td><td>0.0</td><td>0.411</td><td>0</td></tr><tr><th>26</th><td>2015-01-02T01:00:00</td><td>0.0</td><td>-3.931</td><td>0.0</td><td>0.336</td><td>1</td></tr><tr><th>27</th><td>2015-01-02T02:00:00</td><td>0.0</td><td>-4.008</td><td>0.0</td><td>0.417</td><td>2</td></tr><tr><th>28</th><td>2015-01-02T03:00:00</td><td>0.0</td><td>-4.006</td><td>0.0</td><td>0.844</td><td>3</td></tr><tr><th>29</th><td>2015-01-02T04:00:00</td><td>0.0</td><td>-4.075</td><td>0.0</td><td>1.437</td><td>4</td></tr><tr><th>30</th><td>2015-01-02T05:00:00</td><td>0.0</td><td>-4.116</td><td>0.0</td><td>1.518</td><td>5</td></tr><tr><th>&vellip;</th><td>&vellip;</td><td>&vellip;</td><td>&vellip;</td><td>&vellip;</td><td>&vellip;</td><td>&vellip;</td></tr></tbody></table></div>"
      ],
      "text/latex": [
       "\\begin{tabular}{r|cccccc}\n",
       "\t& time & CH\\_PV & CH\\_temp & P\\_PV & P\\_temp & hour\\\\\n",
       "\t\\hline\n",
       "\t& DateTime & Float64 & Float64 & Float64 & Float64 & Int64\\\\\n",
       "\t\\hline\n",
       "\t1 & 2015-01-01T00:00:00 & 0.0 & -7.488 & 0.0 & 1.667 & 0 \\\\\n",
       "\t2 & 2015-01-01T01:00:00 & 0.0 & -7.637 & 0.0 & 1.574 & 1 \\\\\n",
       "\t3 & 2015-01-01T02:00:00 & 0.0 & -7.813 & 0.0 & 1.47 & 2 \\\\\n",
       "\t4 & 2015-01-01T03:00:00 & 0.0 & -7.984 & 0.0 & 1.294 & 3 \\\\\n",
       "\t5 & 2015-01-01T04:00:00 & 0.0 & -8.147 & 0.0 & 1.139 & 4 \\\\\n",
       "\t6 & 2015-01-01T05:00:00 & 0.0 & -8.221 & 0.0 & 0.949 & 5 \\\\\n",
       "\t7 & 2015-01-01T06:00:00 & 0.0 & -8.256 & 0.0 & 0.577 & 6 \\\\\n",
       "\t8 & 2015-01-01T07:00:00 & 0.524 & -8.197 & 0.0 & 0.361 & 7 \\\\\n",
       "\t9 & 2015-01-01T08:00:00 & 3.87 & -7.428 & 0.006 & 0.313 & 8 \\\\\n",
       "\t10 & 2015-01-01T09:00:00 & 6.419 & -6.125 & 0.323 & 0.611 & 9 \\\\\n",
       "\t11 & 2015-01-01T10:00:00 & 7.779 & -4.617 & 0.897 & 0.838 & 10 \\\\\n",
       "\t12 & 2015-01-01T11:00:00 & 8.313 & -3.123 & 1.896 & 1.138 & 11 \\\\\n",
       "\t13 & 2015-01-01T12:00:00 & 8.018 & -1.863 & 3.07 & 1.819 & 12 \\\\\n",
       "\t14 & 2015-01-01T13:00:00 & 6.882 & -0.976 & 3.919 & 2.202 & 13 \\\\\n",
       "\t15 & 2015-01-01T14:00:00 & 4.79 & -0.522 & 1.954 & 1.912 & 14 \\\\\n",
       "\t16 & 2015-01-01T15:00:00 & 1.563 & -0.578 & 0.183 & 1.316 & 15 \\\\\n",
       "\t17 & 2015-01-01T16:00:00 & 0.0 & -1.068 & 0.0 & 0.6 & 16 \\\\\n",
       "\t18 & 2015-01-01T17:00:00 & 0.0 & -1.3 & 0.0 & 0.639 & 17 \\\\\n",
       "\t19 & 2015-01-01T18:00:00 & 0.0 & -1.558 & 0.0 & 0.689 & 18 \\\\\n",
       "\t20 & 2015-01-01T19:00:00 & 0.0 & -1.825 & 0.0 & 0.766 & 19 \\\\\n",
       "\t21 & 2015-01-01T20:00:00 & 0.0 & -2.051 & 0.0 & 0.752 & 20 \\\\\n",
       "\t22 & 2015-01-01T21:00:00 & 0.0 & -2.322 & 0.0 & 0.71 & 21 \\\\\n",
       "\t23 & 2015-01-01T22:00:00 & 0.0 & -2.731 & 0.0 & 0.672 & 22 \\\\\n",
       "\t24 & 2015-01-01T23:00:00 & 0.0 & -3.165 & 0.0 & 0.562 & 23 \\\\\n",
       "\t25 & 2015-01-02T00:00:00 & 0.0 & -3.6 & 0.0 & 0.411 & 0 \\\\\n",
       "\t26 & 2015-01-02T01:00:00 & 0.0 & -3.931 & 0.0 & 0.336 & 1 \\\\\n",
       "\t27 & 2015-01-02T02:00:00 & 0.0 & -4.008 & 0.0 & 0.417 & 2 \\\\\n",
       "\t28 & 2015-01-02T03:00:00 & 0.0 & -4.006 & 0.0 & 0.844 & 3 \\\\\n",
       "\t29 & 2015-01-02T04:00:00 & 0.0 & -4.075 & 0.0 & 1.437 & 4 \\\\\n",
       "\t30 & 2015-01-02T05:00:00 & 0.0 & -4.116 & 0.0 & 1.518 & 5 \\\\\n",
       "\t$\\dots$ & $\\dots$ & $\\dots$ & $\\dots$ & $\\dots$ & $\\dots$ & $\\dots$ \\\\\n",
       "\\end{tabular}\n"
      ],
      "text/plain": [
       "\u001b[1m8760×6 DataFrame\u001b[0m\n",
       "\u001b[1m  Row \u001b[0m│\u001b[1m time                \u001b[0m\u001b[1m CH_PV   \u001b[0m\u001b[1m CH_temp \u001b[0m\u001b[1m P_PV    \u001b[0m\u001b[1m P_temp  \u001b[0m\u001b[1m hour  \u001b[0m\n",
       "\u001b[1m      \u001b[0m│\u001b[90m DateTime            \u001b[0m\u001b[90m Float64 \u001b[0m\u001b[90m Float64 \u001b[0m\u001b[90m Float64 \u001b[0m\u001b[90m Float64 \u001b[0m\u001b[90m Int64 \u001b[0m\n",
       "──────┼────────────────────────────────────────────────────────────────\n",
       "    1 │ 2015-01-01T00:00:00    0.0     -7.488    0.0      1.667      0\n",
       "    2 │ 2015-01-01T01:00:00    0.0     -7.637    0.0      1.574      1\n",
       "    3 │ 2015-01-01T02:00:00    0.0     -7.813    0.0      1.47       2\n",
       "    4 │ 2015-01-01T03:00:00    0.0     -7.984    0.0      1.294      3\n",
       "    5 │ 2015-01-01T04:00:00    0.0     -8.147    0.0      1.139      4\n",
       "    6 │ 2015-01-01T05:00:00    0.0     -8.221    0.0      0.949      5\n",
       "    7 │ 2015-01-01T06:00:00    0.0     -8.256    0.0      0.577      6\n",
       "    8 │ 2015-01-01T07:00:00    0.524   -8.197    0.0      0.361      7\n",
       "    9 │ 2015-01-01T08:00:00    3.87    -7.428    0.006    0.313      8\n",
       "   10 │ 2015-01-01T09:00:00    6.419   -6.125    0.323    0.611      9\n",
       "   11 │ 2015-01-01T10:00:00    7.779   -4.617    0.897    0.838     10\n",
       "  ⋮   │          ⋮              ⋮        ⋮        ⋮        ⋮       ⋮\n",
       " 8751 │ 2015-12-31T14:00:00    2.7     -2.321    0.507    1.577     14\n",
       " 8752 │ 2015-12-31T15:00:00    0.678   -2.661    0.005    1.182     15\n",
       " 8753 │ 2015-12-31T16:00:00    0.0     -3.462    0.0      1.067     16\n",
       " 8754 │ 2015-12-31T17:00:00    0.0     -4.485    0.0      0.844     17\n",
       " 8755 │ 2015-12-31T18:00:00    0.0     -5.308    0.0      0.57      18\n",
       " 8756 │ 2015-12-31T19:00:00    0.0     -5.897    0.0      0.332     19\n",
       " 8757 │ 2015-12-31T20:00:00    0.0     -6.22     0.0      0.225     20\n",
       " 8758 │ 2015-12-31T21:00:00    0.0     -6.302    0.0      0.223     21\n",
       " 8759 │ 2015-12-31T22:00:00    0.0     -6.056    0.0      0.271     22\n",
       " 8760 │ 2015-12-31T23:00:00    0.0     -5.947    0.0      0.197     23\n",
       "\u001b[36m                                                      8739 rows omitted\u001b[0m"
      ]
     },
     "execution_count": 60,
     "metadata": {},
     "output_type": "execute_result"
    }
   ],
   "source": [
    "df = CSV.read(\"data/pv_temp_both.csv\", DataFrame);\n",
    "\n",
    "# add column with information on hour of the day, print first five elements\n",
    "df[:, :hour] = Dates.hour.(df[:, :time]);\n",
    "df"
   ]
  },
  {
   "cell_type": "markdown",
   "metadata": {
    "slideshow": {
     "slide_type": "slide"
    }
   },
   "source": [
    "Chicago DataFrame with median values"
   ]
  },
  {
   "cell_type": "code",
   "execution_count": 63,
   "metadata": {},
   "outputs": [
    {
     "data": {
      "text/html": [
       "<div class=\"data-frame\"><p>3 rows × 2 columns</p><table class=\"data-frame\"><thead><tr><th></th><th>hour</th><th>CH_PV_median</th></tr><tr><th></th><th title=\"Int64\">Int64</th><th title=\"Float64\">Float64</th></tr></thead><tbody><tr><th>1</th><td>0</td><td>0.0</td></tr><tr><th>2</th><td>1</td><td>0.0</td></tr><tr><th>3</th><td>2</td><td>0.0</td></tr></tbody></table></div>"
      ],
      "text/latex": [
       "\\begin{tabular}{r|cc}\n",
       "\t& hour & CH\\_PV\\_median\\\\\n",
       "\t\\hline\n",
       "\t& Int64 & Float64\\\\\n",
       "\t\\hline\n",
       "\t1 & 0 & 0.0 \\\\\n",
       "\t2 & 1 & 0.0 \\\\\n",
       "\t3 & 2 & 0.0 \\\\\n",
       "\\end{tabular}\n"
      ],
      "text/plain": [
       "\u001b[1m3×2 DataFrame\u001b[0m\n",
       "\u001b[1m Row \u001b[0m│\u001b[1m hour  \u001b[0m\u001b[1m CH_PV_median \u001b[0m\n",
       "\u001b[1m     \u001b[0m│\u001b[90m Int64 \u001b[0m\u001b[90m Float64      \u001b[0m\n",
       "─────┼─────────────────────\n",
       "   1 │     0           0.0\n",
       "   2 │     1           0.0\n",
       "   3 │     2           0.0"
      ]
     },
     "execution_count": 63,
     "metadata": {},
     "output_type": "execute_result"
    }
   ],
   "source": [
    "# Compute median values for Chicago PV generation and save to new DataFrame df_CH\n",
    "df_CH = combine(groupby(df, :hour), :CH_PV => median);\n",
    "first(df_CH,3)"
   ]
  },
  {
   "cell_type": "markdown",
   "metadata": {},
   "source": [
    "Now the complete Chicago DataFrame with median values and confidence intervals"
   ]
  },
  {
   "cell_type": "code",
   "execution_count": 64,
   "metadata": {
    "scrolled": true
   },
   "outputs": [
    {
     "data": {
      "text/html": [
       "<div class=\"data-frame\"><p>24 rows × 7 columns (omitted printing of 1 columns)</p><table class=\"data-frame\"><thead><tr><th></th><th>hour</th><th>CH_PV_median</th><th>CH_PV_25_quant</th><th>CH_PV_75_quant</th><th>CH_Temp_median</th><th>CH_Temp_25_quant</th></tr><tr><th></th><th title=\"Int64\">Int64</th><th title=\"Float64\">Float64</th><th title=\"Float64\">Float64</th><th title=\"Float64\">Float64</th><th title=\"Float64\">Float64</th><th title=\"Float64\">Float64</th></tr></thead><tbody><tr><th>1</th><td>0</td><td>0.0</td><td>0.0</td><td>0.0</td><td>9.174</td><td>1.191</td></tr><tr><th>2</th><td>1</td><td>0.0</td><td>0.0</td><td>0.0</td><td>8.8735</td><td>0.861</td></tr><tr><th>3</th><td>2</td><td>0.0</td><td>0.0</td><td>0.0</td><td>8.667</td><td>0.79975</td></tr><tr><th>4</th><td>3</td><td>0.0</td><td>0.0</td><td>0.0</td><td>8.293</td><td>0.538</td></tr><tr><th>5</th><td>4</td><td>0.0</td><td>0.0</td><td>0.0</td><td>7.983</td><td>0.56</td></tr><tr><th>6</th><td>5</td><td>0.0</td><td>0.0</td><td>0.0</td><td>7.768</td><td>0.48</td></tr><tr><th>7</th><td>6</td><td>0.0</td><td>0.0</td><td>0.279</td><td>7.966</td><td>0.494</td></tr><tr><th>8</th><td>7</td><td>0.87</td><td>0.287</td><td>1.605</td><td>8.473</td><td>0.619</td></tr><tr><th>9</th><td>8</td><td>2.67</td><td>1.482</td><td>3.764</td><td>9.686</td><td>1.485</td></tr><tr><th>10</th><td>9</td><td>4.447</td><td>2.748</td><td>5.73</td><td>10.78</td><td>2.57</td></tr><tr><th>11</th><td>10</td><td>5.978</td><td>3.687</td><td>7.239</td><td>12.044</td><td>3.582</td></tr><tr><th>12</th><td>11</td><td>6.947</td><td>4.092</td><td>8.062</td><td>13.021</td><td>4.232</td></tr><tr><th>13</th><td>12</td><td>6.963</td><td>4.599</td><td>8.325</td><td>13.639</td><td>4.873</td></tr><tr><th>14</th><td>13</td><td>6.696</td><td>4.278</td><td>8.092</td><td>13.991</td><td>5.299</td></tr><tr><th>15</th><td>14</td><td>5.74</td><td>3.282</td><td>7.249</td><td>14.208</td><td>5.293</td></tr><tr><th>16</th><td>15</td><td>4.078</td><td>1.941</td><td>6.038</td><td>14.109</td><td>4.839</td></tr><tr><th>17</th><td>16</td><td>2.476</td><td>0.423</td><td>4.429</td><td>13.801</td><td>4.303</td></tr><tr><th>18</th><td>17</td><td>1.308</td><td>0.0</td><td>2.521</td><td>13.104</td><td>3.246</td></tr><tr><th>19</th><td>18</td><td>0.187</td><td>0.0</td><td>0.875</td><td>12.082</td><td>2.721</td></tr><tr><th>20</th><td>19</td><td>0.0</td><td>0.0</td><td>0.08</td><td>10.922</td><td>2.211</td></tr><tr><th>21</th><td>20</td><td>0.0</td><td>0.0</td><td>0.0</td><td>10.245</td><td>1.808</td></tr><tr><th>22</th><td>21</td><td>0.0</td><td>0.0</td><td>0.0</td><td>10.087</td><td>1.842</td></tr><tr><th>23</th><td>22</td><td>0.0</td><td>0.0</td><td>0.0</td><td>9.704</td><td>1.811</td></tr><tr><th>24</th><td>23</td><td>0.0</td><td>0.0</td><td>0.0</td><td>9.511</td><td>1.374</td></tr></tbody></table></div>"
      ],
      "text/latex": [
       "\\begin{tabular}{r|ccccccc}\n",
       "\t& hour & CH\\_PV\\_median & CH\\_PV\\_25\\_quant & CH\\_PV\\_75\\_quant & CH\\_Temp\\_median & CH\\_Temp\\_25\\_quant & \\\\\n",
       "\t\\hline\n",
       "\t& Int64 & Float64 & Float64 & Float64 & Float64 & Float64 & \\\\\n",
       "\t\\hline\n",
       "\t1 & 0 & 0.0 & 0.0 & 0.0 & 9.174 & 1.191 & $\\dots$ \\\\\n",
       "\t2 & 1 & 0.0 & 0.0 & 0.0 & 8.8735 & 0.861 & $\\dots$ \\\\\n",
       "\t3 & 2 & 0.0 & 0.0 & 0.0 & 8.667 & 0.79975 & $\\dots$ \\\\\n",
       "\t4 & 3 & 0.0 & 0.0 & 0.0 & 8.293 & 0.538 & $\\dots$ \\\\\n",
       "\t5 & 4 & 0.0 & 0.0 & 0.0 & 7.983 & 0.56 & $\\dots$ \\\\\n",
       "\t6 & 5 & 0.0 & 0.0 & 0.0 & 7.768 & 0.48 & $\\dots$ \\\\\n",
       "\t7 & 6 & 0.0 & 0.0 & 0.279 & 7.966 & 0.494 & $\\dots$ \\\\\n",
       "\t8 & 7 & 0.87 & 0.287 & 1.605 & 8.473 & 0.619 & $\\dots$ \\\\\n",
       "\t9 & 8 & 2.67 & 1.482 & 3.764 & 9.686 & 1.485 & $\\dots$ \\\\\n",
       "\t10 & 9 & 4.447 & 2.748 & 5.73 & 10.78 & 2.57 & $\\dots$ \\\\\n",
       "\t11 & 10 & 5.978 & 3.687 & 7.239 & 12.044 & 3.582 & $\\dots$ \\\\\n",
       "\t12 & 11 & 6.947 & 4.092 & 8.062 & 13.021 & 4.232 & $\\dots$ \\\\\n",
       "\t13 & 12 & 6.963 & 4.599 & 8.325 & 13.639 & 4.873 & $\\dots$ \\\\\n",
       "\t14 & 13 & 6.696 & 4.278 & 8.092 & 13.991 & 5.299 & $\\dots$ \\\\\n",
       "\t15 & 14 & 5.74 & 3.282 & 7.249 & 14.208 & 5.293 & $\\dots$ \\\\\n",
       "\t16 & 15 & 4.078 & 1.941 & 6.038 & 14.109 & 4.839 & $\\dots$ \\\\\n",
       "\t17 & 16 & 2.476 & 0.423 & 4.429 & 13.801 & 4.303 & $\\dots$ \\\\\n",
       "\t18 & 17 & 1.308 & 0.0 & 2.521 & 13.104 & 3.246 & $\\dots$ \\\\\n",
       "\t19 & 18 & 0.187 & 0.0 & 0.875 & 12.082 & 2.721 & $\\dots$ \\\\\n",
       "\t20 & 19 & 0.0 & 0.0 & 0.08 & 10.922 & 2.211 & $\\dots$ \\\\\n",
       "\t21 & 20 & 0.0 & 0.0 & 0.0 & 10.245 & 1.808 & $\\dots$ \\\\\n",
       "\t22 & 21 & 0.0 & 0.0 & 0.0 & 10.087 & 1.842 & $\\dots$ \\\\\n",
       "\t23 & 22 & 0.0 & 0.0 & 0.0 & 9.704 & 1.811 & $\\dots$ \\\\\n",
       "\t24 & 23 & 0.0 & 0.0 & 0.0 & 9.511 & 1.374 & $\\dots$ \\\\\n",
       "\\end{tabular}\n"
      ],
      "text/plain": [
       "\u001b[1m24×7 DataFrame\u001b[0m\n",
       "\u001b[1m Row \u001b[0m│\u001b[1m hour  \u001b[0m\u001b[1m CH_PV_median \u001b[0m\u001b[1m CH_PV_25_quant \u001b[0m\u001b[1m CH_PV_75_quant \u001b[0m\u001b[1m CH_Temp_median \u001b[0m\u001b[1m CH\u001b[0m ⋯\n",
       "\u001b[1m     \u001b[0m│\u001b[90m Int64 \u001b[0m\u001b[90m Float64      \u001b[0m\u001b[90m Float64        \u001b[0m\u001b[90m Float64        \u001b[0m\u001b[90m Float64        \u001b[0m\u001b[90m Fl\u001b[0m ⋯\n",
       "─────┼──────────────────────────────────────────────────────────────────────────\n",
       "   1 │     0         0.0             0.0             0.0            9.174      ⋯\n",
       "   2 │     1         0.0             0.0             0.0            8.8735\n",
       "   3 │     2         0.0             0.0             0.0            8.667\n",
       "   4 │     3         0.0             0.0             0.0            8.293\n",
       "   5 │     4         0.0             0.0             0.0            7.983      ⋯\n",
       "   6 │     5         0.0             0.0             0.0            7.768\n",
       "   7 │     6         0.0             0.0             0.279          7.966\n",
       "   8 │     7         0.87            0.287           1.605          8.473\n",
       "   9 │     8         2.67            1.482           3.764          9.686      ⋯\n",
       "  10 │     9         4.447           2.748           5.73          10.78\n",
       "  11 │    10         5.978           3.687           7.239         12.044\n",
       "  ⋮  │   ⋮         ⋮              ⋮               ⋮               ⋮            ⋱\n",
       "  15 │    14         5.74            3.282           7.249         14.208\n",
       "  16 │    15         4.078           1.941           6.038         14.109      ⋯\n",
       "  17 │    16         2.476           0.423           4.429         13.801\n",
       "  18 │    17         1.308           0.0             2.521         13.104\n",
       "  19 │    18         0.187           0.0             0.875         12.082\n",
       "  20 │    19         0.0             0.0             0.08          10.922      ⋯\n",
       "  21 │    20         0.0             0.0             0.0           10.245\n",
       "  22 │    21         0.0             0.0             0.0           10.087\n",
       "  23 │    22         0.0             0.0             0.0            9.704\n",
       "  24 │    23         0.0             0.0             0.0            9.511      ⋯\n",
       "\u001b[36m                                                    2 columns and 3 rows omitted\u001b[0m"
      ]
     },
     "execution_count": 64,
     "metadata": {},
     "output_type": "execute_result"
    }
   ],
   "source": [
    "# PV quantiles\n",
    "# add your line of code to compute df_CH based on Chicago PV median values here\n",
    "df_CH=innerjoin(df_CH, combine(groupby(df, :hour), :CH_PV=>x->quantile(x,0.25)), on=:hour) # calculate quantile values and add to DataFrame\n",
    "df_CH=innerjoin(df_CH, combine(groupby(df, :hour), :CH_PV=>x->quantile(x,0.75)), on=:hour, makeunique=true) # calculate quantile values and add to DataFrame\n",
    "\n",
    "# add temperature indicators\n",
    "df_CH=innerjoin(df_CH, combine(groupby(df, :hour), :CH_temp=>median), on=:hour) \n",
    "df_CH=innerjoin(df_CH, combine(groupby(df, :hour), :CH_temp=>x->quantile(x,0.25)), on=:hour)\n",
    "df_CH=innerjoin(df_CH, combine(groupby(df, :hour), :CH_temp=>x->quantile(x,0.75)), on=:hour, makeunique=true)\n",
    "\n",
    "rename!(df_CH, [:hour, :CH_PV_median, :CH_PV_25_quant, :CH_PV_75_quant, \n",
    "        :CH_Temp_median, :CH_Temp_25_quant, :CH_Temp_75_quant])"
   ]
  },
  {
   "cell_type": "markdown",
   "metadata": {
    "slideshow": {
     "slide_type": "slide"
    }
   },
   "source": [
    "Now for Potsdam: DataFrame with median values and quantiles"
   ]
  },
  {
   "cell_type": "code",
   "execution_count": 65,
   "metadata": {
    "scrolled": true
   },
   "outputs": [
    {
     "name": "stdout",
     "output_type": "stream",
     "text": [
      "\u001b[1m24×7 DataFrame\u001b[0m\n",
      "\u001b[1m Row \u001b[0m│\u001b[1m hour  \u001b[0m\u001b[1m P_PV_median \u001b[0m\u001b[1m P_PV_25_quant \u001b[0m\u001b[1m P_PV_75_quant \u001b[0m\u001b[1m P_Temp_median \u001b[0m\u001b[1m P_Temp_25_quant \u001b[0m\u001b[1m P_Temp_75_quant \u001b[0m\n",
      "\u001b[1m     \u001b[0m│\u001b[90m Int64 \u001b[0m\u001b[90m Float64     \u001b[0m\u001b[90m Float64       \u001b[0m\u001b[90m Float64       \u001b[0m\u001b[90m Float64       \u001b[0m\u001b[90m Float64         \u001b[0m\u001b[90m Float64         \u001b[0m\n",
      "─────┼───────────────────────────────────────────────────────────────────────────────────────────────────\n",
      "   1 │     0        0.0            0.0            0.0           7.237             2.256          11.804\n",
      "   2 │     1        0.0            0.0            0.0           6.8365            2.21           11.3835\n",
      "   3 │     2        0.0            0.0            0.0           6.472             1.864          10.8232\n",
      "   4 │     3        0.0            0.0            0.0           6.051             1.82           10.513\n",
      "   5 │     4        0.0            0.0            0.0           5.712             1.71            9.971\n",
      "   6 │     5        0.0            0.0            0.0           5.688             1.572          10.003\n",
      "   7 │     6        0.0            0.0            0.286         6.011             1.59           10.544\n",
      "   8 │     7        0.319          0.0            1.243         6.853             1.698          11.674\n",
      "   9 │     8        1.433          0.241          2.788         7.479             2.369          13.107\n",
      "  10 │     9        2.962          0.974          4.625         8.967             3.894          14.774\n",
      "  11 │    10        4.34           1.837          6.087         9.999             5.004          16.43\n",
      "  ⋮  │   ⋮         ⋮             ⋮              ⋮              ⋮               ⋮                ⋮\n",
      "  15 │    14        4.035          1.79           6.517        13.149             7.028          19.291\n",
      "  16 │    15        3.107          0.808          5.513        12.885             6.491          19.352\n",
      "  17 │    16        1.744          0.041          4.345        12.35              5.447          19.128\n",
      "  18 │    17        0.86           0.0            2.694        11.186             4.916          18.601\n",
      "  19 │    18        0.223          0.0            1.326        10.669             4.504          17.713\n",
      "  20 │    19        0.0            0.0            0.387         9.728             4.001          16.669\n",
      "  21 │    20        0.0            0.0            0.009         8.926             3.422          14.668\n",
      "  22 │    21        0.0            0.0            0.0           8.348             3.192          13.59\n",
      "  23 │    22        0.0            0.0            0.0           7.926             2.653          12.998\n",
      "  24 │    23        0.0            0.0            0.0           7.509             2.495          12.338\n",
      "\u001b[36m                                                                                           3 rows omitted\u001b[0m"
     ]
    }
   ],
   "source": [
    "# PV quantiles\n",
    "df_P = combine(groupby(df, :hour), :P_PV=>median)\n",
    "df_P=innerjoin(df_P, combine(groupby(df, :hour), :P_PV=>x->quantile(x,0.25)), on=:hour)\n",
    "df_P=innerjoin(df_P, combine(groupby(df, :hour), :P_PV=>x->quantile(x,0.75)), on=:hour, makeunique=true)\n",
    "\n",
    "# Temperature quantiles\n",
    "df_P=innerjoin(df_P, combine(groupby(df, :hour), :P_temp=>median), on=:hour)\n",
    "df_P=innerjoin(df_P, combine(groupby(df, :hour), :P_temp=>x->quantile(x,0.25)), on=:hour)\n",
    "df_P=innerjoin(df_P, combine(groupby(df, :hour), :P_temp=>x->quantile(x,0.75)), on=:hour, makeunique=true)\n",
    "\n",
    "rename!(df_P, [:hour, :P_PV_median, :P_PV_25_quant, :P_PV_75_quant, \n",
    "        :P_Temp_median, :P_Temp_25_quant, :P_Temp_75_quant]);\n",
    "\n",
    "show(df_P, allcols=true) # yet another way of printing the results"
   ]
  },
  {
   "cell_type": "code",
   "execution_count": 66,
   "metadata": {
    "scrolled": true,
    "slideshow": {
     "slide_type": "slide"
    }
   },
   "outputs": [],
   "source": [
    "# convert DataFrame to arrays\n",
    "h = Matrix(df_CH[:,1:1]); # what's happening here?\n",
    "y_CH = Matrix(df_CH[:,2:end]); # what's happening here?\n",
    "y_P = Matrix(df_P[:,2:end]);"
   ]
  },
  {
   "cell_type": "markdown",
   "metadata": {},
   "source": [
    "Create visualization"
   ]
  },
  {
   "cell_type": "code",
   "execution_count": 67,
   "metadata": {
    "scrolled": false,
    "slideshow": {
     "slide_type": "slide"
    }
   },
   "outputs": [
    {
     "data": {
      "image/svg+xml": [
       "<?xml version=\"1.0\" encoding=\"utf-8\"?>\n",
       "<svg xmlns=\"http://www.w3.org/2000/svg\" xmlns:xlink=\"http://www.w3.org/1999/xlink\" width=\"900\" height=\"500\" viewBox=\"0 0 3600 2000\">\n",
       "<defs>\n",
       "  <clipPath id=\"clip030\">\n",
       "    <rect x=\"0\" y=\"0\" width=\"3600\" height=\"2000\"/>\n",
       "  </clipPath>\n",
       "</defs>\n",
       "<path clip-path=\"url(#clip030)\" d=\"\n",
       "M0 2000 L3600 2000 L3600 0 L0 0  Z\n",
       "  \" fill=\"#ffffff\" fill-rule=\"evenodd\" fill-opacity=\"1\"/>\n",
       "<defs>\n",
       "  <clipPath id=\"clip031\">\n",
       "    <rect x=\"720\" y=\"0\" width=\"2521\" height=\"2000\"/>\n",
       "  </clipPath>\n",
       "</defs>\n",
       "<path clip-path=\"url(#clip030)\" d=\"\n",
       "M208.044 888.208 L1780.43 888.208 L1780.43 113.392 L208.044 113.392  Z\n",
       "  \" fill=\"#ffffff\" fill-rule=\"evenodd\" fill-opacity=\"1\"/>\n",
       "<defs>\n",
       "  <clipPath id=\"clip032\">\n",
       "    <rect x=\"208\" y=\"113\" width=\"1573\" height=\"776\"/>\n",
       "  </clipPath>\n",
       "</defs>\n",
       "<polyline clip-path=\"url(#clip032)\" style=\"stroke:#000000; stroke-linecap:butt; stroke-linejoin:round; stroke-width:2; stroke-opacity:0.1; fill:none\" points=\"\n",
       "  252.545,888.208 252.545,113.392 \n",
       "  \"/>\n",
       "<polyline clip-path=\"url(#clip032)\" style=\"stroke:#000000; stroke-linecap:butt; stroke-linejoin:round; stroke-width:2; stroke-opacity:0.1; fill:none\" points=\"\n",
       "  317.04,888.208 317.04,113.392 \n",
       "  \"/>\n",
       "<polyline clip-path=\"url(#clip032)\" style=\"stroke:#000000; stroke-linecap:butt; stroke-linejoin:round; stroke-width:2; stroke-opacity:0.1; fill:none\" points=\"\n",
       "  381.535,888.208 381.535,113.392 \n",
       "  \"/>\n",
       "<polyline clip-path=\"url(#clip032)\" style=\"stroke:#000000; stroke-linecap:butt; stroke-linejoin:round; stroke-width:2; stroke-opacity:0.1; fill:none\" points=\"\n",
       "  446.03,888.208 446.03,113.392 \n",
       "  \"/>\n",
       "<polyline clip-path=\"url(#clip032)\" style=\"stroke:#000000; stroke-linecap:butt; stroke-linejoin:round; stroke-width:2; stroke-opacity:0.1; fill:none\" points=\"\n",
       "  510.525,888.208 510.525,113.392 \n",
       "  \"/>\n",
       "<polyline clip-path=\"url(#clip032)\" style=\"stroke:#000000; stroke-linecap:butt; stroke-linejoin:round; stroke-width:2; stroke-opacity:0.1; fill:none\" points=\"\n",
       "  575.02,888.208 575.02,113.392 \n",
       "  \"/>\n",
       "<polyline clip-path=\"url(#clip032)\" style=\"stroke:#000000; stroke-linecap:butt; stroke-linejoin:round; stroke-width:2; stroke-opacity:0.1; fill:none\" points=\"\n",
       "  639.515,888.208 639.515,113.392 \n",
       "  \"/>\n",
       "<polyline clip-path=\"url(#clip032)\" style=\"stroke:#000000; stroke-linecap:butt; stroke-linejoin:round; stroke-width:2; stroke-opacity:0.1; fill:none\" points=\"\n",
       "  704.01,888.208 704.01,113.392 \n",
       "  \"/>\n",
       "<polyline clip-path=\"url(#clip032)\" style=\"stroke:#000000; stroke-linecap:butt; stroke-linejoin:round; stroke-width:2; stroke-opacity:0.1; fill:none\" points=\"\n",
       "  768.504,888.208 768.504,113.392 \n",
       "  \"/>\n",
       "<polyline clip-path=\"url(#clip032)\" style=\"stroke:#000000; stroke-linecap:butt; stroke-linejoin:round; stroke-width:2; stroke-opacity:0.1; fill:none\" points=\"\n",
       "  832.999,888.208 832.999,113.392 \n",
       "  \"/>\n",
       "<polyline clip-path=\"url(#clip032)\" style=\"stroke:#000000; stroke-linecap:butt; stroke-linejoin:round; stroke-width:2; stroke-opacity:0.1; fill:none\" points=\"\n",
       "  897.494,888.208 897.494,113.392 \n",
       "  \"/>\n",
       "<polyline clip-path=\"url(#clip032)\" style=\"stroke:#000000; stroke-linecap:butt; stroke-linejoin:round; stroke-width:2; stroke-opacity:0.1; fill:none\" points=\"\n",
       "  961.989,888.208 961.989,113.392 \n",
       "  \"/>\n",
       "<polyline clip-path=\"url(#clip032)\" style=\"stroke:#000000; stroke-linecap:butt; stroke-linejoin:round; stroke-width:2; stroke-opacity:0.1; fill:none\" points=\"\n",
       "  1026.48,888.208 1026.48,113.392 \n",
       "  \"/>\n",
       "<polyline clip-path=\"url(#clip032)\" style=\"stroke:#000000; stroke-linecap:butt; stroke-linejoin:round; stroke-width:2; stroke-opacity:0.1; fill:none\" points=\"\n",
       "  1090.98,888.208 1090.98,113.392 \n",
       "  \"/>\n",
       "<polyline clip-path=\"url(#clip032)\" style=\"stroke:#000000; stroke-linecap:butt; stroke-linejoin:round; stroke-width:2; stroke-opacity:0.1; fill:none\" points=\"\n",
       "  1155.47,888.208 1155.47,113.392 \n",
       "  \"/>\n",
       "<polyline clip-path=\"url(#clip032)\" style=\"stroke:#000000; stroke-linecap:butt; stroke-linejoin:round; stroke-width:2; stroke-opacity:0.1; fill:none\" points=\"\n",
       "  1219.97,888.208 1219.97,113.392 \n",
       "  \"/>\n",
       "<polyline clip-path=\"url(#clip032)\" style=\"stroke:#000000; stroke-linecap:butt; stroke-linejoin:round; stroke-width:2; stroke-opacity:0.1; fill:none\" points=\"\n",
       "  1284.46,888.208 1284.46,113.392 \n",
       "  \"/>\n",
       "<polyline clip-path=\"url(#clip032)\" style=\"stroke:#000000; stroke-linecap:butt; stroke-linejoin:round; stroke-width:2; stroke-opacity:0.1; fill:none\" points=\"\n",
       "  1348.96,888.208 1348.96,113.392 \n",
       "  \"/>\n",
       "<polyline clip-path=\"url(#clip032)\" style=\"stroke:#000000; stroke-linecap:butt; stroke-linejoin:round; stroke-width:2; stroke-opacity:0.1; fill:none\" points=\"\n",
       "  1413.45,888.208 1413.45,113.392 \n",
       "  \"/>\n",
       "<polyline clip-path=\"url(#clip032)\" style=\"stroke:#000000; stroke-linecap:butt; stroke-linejoin:round; stroke-width:2; stroke-opacity:0.1; fill:none\" points=\"\n",
       "  1477.95,888.208 1477.95,113.392 \n",
       "  \"/>\n",
       "<polyline clip-path=\"url(#clip032)\" style=\"stroke:#000000; stroke-linecap:butt; stroke-linejoin:round; stroke-width:2; stroke-opacity:0.1; fill:none\" points=\"\n",
       "  1542.44,888.208 1542.44,113.392 \n",
       "  \"/>\n",
       "<polyline clip-path=\"url(#clip032)\" style=\"stroke:#000000; stroke-linecap:butt; stroke-linejoin:round; stroke-width:2; stroke-opacity:0.1; fill:none\" points=\"\n",
       "  1606.94,888.208 1606.94,113.392 \n",
       "  \"/>\n",
       "<polyline clip-path=\"url(#clip032)\" style=\"stroke:#000000; stroke-linecap:butt; stroke-linejoin:round; stroke-width:2; stroke-opacity:0.1; fill:none\" points=\"\n",
       "  1671.43,888.208 1671.43,113.392 \n",
       "  \"/>\n",
       "<polyline clip-path=\"url(#clip032)\" style=\"stroke:#000000; stroke-linecap:butt; stroke-linejoin:round; stroke-width:2; stroke-opacity:0.1; fill:none\" points=\"\n",
       "  1735.93,888.208 1735.93,113.392 \n",
       "  \"/>\n",
       "<polyline clip-path=\"url(#clip030)\" style=\"stroke:#000000; stroke-linecap:butt; stroke-linejoin:round; stroke-width:4; stroke-opacity:1; fill:none\" points=\"\n",
       "  208.044,888.208 1780.43,888.208 \n",
       "  \"/>\n",
       "<polyline clip-path=\"url(#clip030)\" style=\"stroke:#000000; stroke-linecap:butt; stroke-linejoin:round; stroke-width:4; stroke-opacity:1; fill:none\" points=\"\n",
       "  252.545,888.208 252.545,869.31 \n",
       "  \"/>\n",
       "<polyline clip-path=\"url(#clip030)\" style=\"stroke:#000000; stroke-linecap:butt; stroke-linejoin:round; stroke-width:4; stroke-opacity:1; fill:none\" points=\"\n",
       "  317.04,888.208 317.04,869.31 \n",
       "  \"/>\n",
       "<polyline clip-path=\"url(#clip030)\" style=\"stroke:#000000; stroke-linecap:butt; stroke-linejoin:round; stroke-width:4; stroke-opacity:1; fill:none\" points=\"\n",
       "  381.535,888.208 381.535,869.31 \n",
       "  \"/>\n",
       "<polyline clip-path=\"url(#clip030)\" style=\"stroke:#000000; stroke-linecap:butt; stroke-linejoin:round; stroke-width:4; stroke-opacity:1; fill:none\" points=\"\n",
       "  446.03,888.208 446.03,869.31 \n",
       "  \"/>\n",
       "<polyline clip-path=\"url(#clip030)\" style=\"stroke:#000000; stroke-linecap:butt; stroke-linejoin:round; stroke-width:4; stroke-opacity:1; fill:none\" points=\"\n",
       "  510.525,888.208 510.525,869.31 \n",
       "  \"/>\n",
       "<polyline clip-path=\"url(#clip030)\" style=\"stroke:#000000; stroke-linecap:butt; stroke-linejoin:round; stroke-width:4; stroke-opacity:1; fill:none\" points=\"\n",
       "  575.02,888.208 575.02,869.31 \n",
       "  \"/>\n",
       "<polyline clip-path=\"url(#clip030)\" style=\"stroke:#000000; stroke-linecap:butt; stroke-linejoin:round; stroke-width:4; stroke-opacity:1; fill:none\" points=\"\n",
       "  639.515,888.208 639.515,869.31 \n",
       "  \"/>\n",
       "<polyline clip-path=\"url(#clip030)\" style=\"stroke:#000000; stroke-linecap:butt; stroke-linejoin:round; stroke-width:4; stroke-opacity:1; fill:none\" points=\"\n",
       "  704.01,888.208 704.01,869.31 \n",
       "  \"/>\n",
       "<polyline clip-path=\"url(#clip030)\" style=\"stroke:#000000; stroke-linecap:butt; stroke-linejoin:round; stroke-width:4; stroke-opacity:1; fill:none\" points=\"\n",
       "  768.504,888.208 768.504,869.31 \n",
       "  \"/>\n",
       "<polyline clip-path=\"url(#clip030)\" style=\"stroke:#000000; stroke-linecap:butt; stroke-linejoin:round; stroke-width:4; stroke-opacity:1; fill:none\" points=\"\n",
       "  832.999,888.208 832.999,869.31 \n",
       "  \"/>\n",
       "<polyline clip-path=\"url(#clip030)\" style=\"stroke:#000000; stroke-linecap:butt; stroke-linejoin:round; stroke-width:4; stroke-opacity:1; fill:none\" points=\"\n",
       "  897.494,888.208 897.494,869.31 \n",
       "  \"/>\n",
       "<polyline clip-path=\"url(#clip030)\" style=\"stroke:#000000; stroke-linecap:butt; stroke-linejoin:round; stroke-width:4; stroke-opacity:1; fill:none\" points=\"\n",
       "  961.989,888.208 961.989,869.31 \n",
       "  \"/>\n",
       "<polyline clip-path=\"url(#clip030)\" style=\"stroke:#000000; stroke-linecap:butt; stroke-linejoin:round; stroke-width:4; stroke-opacity:1; fill:none\" points=\"\n",
       "  1026.48,888.208 1026.48,869.31 \n",
       "  \"/>\n",
       "<polyline clip-path=\"url(#clip030)\" style=\"stroke:#000000; stroke-linecap:butt; stroke-linejoin:round; stroke-width:4; stroke-opacity:1; fill:none\" points=\"\n",
       "  1090.98,888.208 1090.98,869.31 \n",
       "  \"/>\n",
       "<polyline clip-path=\"url(#clip030)\" style=\"stroke:#000000; stroke-linecap:butt; stroke-linejoin:round; stroke-width:4; stroke-opacity:1; fill:none\" points=\"\n",
       "  1155.47,888.208 1155.47,869.31 \n",
       "  \"/>\n",
       "<polyline clip-path=\"url(#clip030)\" style=\"stroke:#000000; stroke-linecap:butt; stroke-linejoin:round; stroke-width:4; stroke-opacity:1; fill:none\" points=\"\n",
       "  1219.97,888.208 1219.97,869.31 \n",
       "  \"/>\n",
       "<polyline clip-path=\"url(#clip030)\" style=\"stroke:#000000; stroke-linecap:butt; stroke-linejoin:round; stroke-width:4; stroke-opacity:1; fill:none\" points=\"\n",
       "  1284.46,888.208 1284.46,869.31 \n",
       "  \"/>\n",
       "<polyline clip-path=\"url(#clip030)\" style=\"stroke:#000000; stroke-linecap:butt; stroke-linejoin:round; stroke-width:4; stroke-opacity:1; fill:none\" points=\"\n",
       "  1348.96,888.208 1348.96,869.31 \n",
       "  \"/>\n",
       "<polyline clip-path=\"url(#clip030)\" style=\"stroke:#000000; stroke-linecap:butt; stroke-linejoin:round; stroke-width:4; stroke-opacity:1; fill:none\" points=\"\n",
       "  1413.45,888.208 1413.45,869.31 \n",
       "  \"/>\n",
       "<polyline clip-path=\"url(#clip030)\" style=\"stroke:#000000; stroke-linecap:butt; stroke-linejoin:round; stroke-width:4; stroke-opacity:1; fill:none\" points=\"\n",
       "  1477.95,888.208 1477.95,869.31 \n",
       "  \"/>\n",
       "<polyline clip-path=\"url(#clip030)\" style=\"stroke:#000000; stroke-linecap:butt; stroke-linejoin:round; stroke-width:4; stroke-opacity:1; fill:none\" points=\"\n",
       "  1542.44,888.208 1542.44,869.31 \n",
       "  \"/>\n",
       "<polyline clip-path=\"url(#clip030)\" style=\"stroke:#000000; stroke-linecap:butt; stroke-linejoin:round; stroke-width:4; stroke-opacity:1; fill:none\" points=\"\n",
       "  1606.94,888.208 1606.94,869.31 \n",
       "  \"/>\n",
       "<polyline clip-path=\"url(#clip030)\" style=\"stroke:#000000; stroke-linecap:butt; stroke-linejoin:round; stroke-width:4; stroke-opacity:1; fill:none\" points=\"\n",
       "  1671.43,888.208 1671.43,869.31 \n",
       "  \"/>\n",
       "<polyline clip-path=\"url(#clip030)\" style=\"stroke:#000000; stroke-linecap:butt; stroke-linejoin:round; stroke-width:4; stroke-opacity:1; fill:none\" points=\"\n",
       "  1735.93,888.208 1735.93,869.31 \n",
       "  \"/>\n",
       "<path clip-path=\"url(#clip030)\" d=\"M252.545 928.727 Q248.934 928.727 247.105 932.291 Q245.3 935.833 245.3 942.963 Q245.3 950.069 247.105 953.634 Q248.934 957.175 252.545 957.175 Q256.179 957.175 257.985 953.634 Q259.814 950.069 259.814 942.963 Q259.814 935.833 257.985 932.291 Q256.179 928.727 252.545 928.727 M252.545 925.023 Q258.355 925.023 261.411 929.629 Q264.489 934.213 264.489 942.963 Q264.489 951.689 261.411 956.296 Q258.355 960.879 252.545 960.879 Q246.735 960.879 243.656 956.296 Q240.601 951.689 240.601 942.963 Q240.601 934.213 243.656 929.629 Q246.735 925.023 252.545 925.023 Z\" fill=\"#000000\" fill-rule=\"evenodd\" fill-opacity=\"1\" /><path clip-path=\"url(#clip030)\" d=\"M307.422 956.273 L315.061 956.273 L315.061 929.907 L306.751 931.574 L306.751 927.315 L315.015 925.648 L319.69 925.648 L319.69 956.273 L327.329 956.273 L327.329 960.208 L307.422 960.208 L307.422 956.273 Z\" fill=\"#000000\" fill-rule=\"evenodd\" fill-opacity=\"1\" /><path clip-path=\"url(#clip030)\" d=\"M376.188 956.273 L392.507 956.273 L392.507 960.208 L370.563 960.208 L370.563 956.273 Q373.225 953.518 377.808 948.888 Q382.415 944.236 383.595 942.893 Q385.84 940.37 386.72 938.634 Q387.623 936.875 387.623 935.185 Q387.623 932.43 385.678 930.694 Q383.757 928.958 380.655 928.958 Q378.456 928.958 376.003 929.722 Q373.572 930.486 370.794 932.037 L370.794 927.315 Q373.618 926.18 376.072 925.602 Q378.526 925.023 380.563 925.023 Q385.933 925.023 389.127 927.708 Q392.322 930.393 392.322 934.884 Q392.322 937.014 391.512 938.935 Q390.725 940.833 388.618 943.426 Q388.04 944.097 384.938 947.314 Q381.836 950.509 376.188 956.273 Z\" fill=\"#000000\" fill-rule=\"evenodd\" fill-opacity=\"1\" /><path clip-path=\"url(#clip030)\" d=\"M450.278 941.574 Q453.634 942.291 455.509 944.56 Q457.407 946.828 457.407 950.162 Q457.407 955.277 453.889 958.078 Q450.37 960.879 443.889 960.879 Q441.713 960.879 439.398 960.439 Q437.106 960.023 434.653 959.166 L434.653 954.652 Q436.597 955.787 438.912 956.365 Q441.227 956.944 443.75 956.944 Q448.148 956.944 450.44 955.208 Q452.754 953.472 452.754 950.162 Q452.754 947.106 450.602 945.393 Q448.472 943.657 444.653 943.657 L440.625 943.657 L440.625 939.814 L444.838 939.814 Q448.287 939.814 450.115 938.449 Q451.944 937.06 451.944 934.467 Q451.944 931.805 450.046 930.393 Q448.171 928.958 444.653 928.958 Q442.731 928.958 440.532 929.375 Q438.333 929.791 435.694 930.671 L435.694 926.504 Q438.356 925.764 440.671 925.393 Q443.009 925.023 445.069 925.023 Q450.393 925.023 453.495 927.453 Q456.597 929.861 456.597 933.981 Q456.597 936.852 454.953 938.842 Q453.31 940.81 450.278 941.574 Z\" fill=\"#000000\" fill-rule=\"evenodd\" fill-opacity=\"1\" /><path clip-path=\"url(#clip030)\" d=\"M513.534 929.722 L501.729 948.171 L513.534 948.171 L513.534 929.722 M512.307 925.648 L518.187 925.648 L518.187 948.171 L523.117 948.171 L523.117 952.06 L518.187 952.06 L518.187 960.208 L513.534 960.208 L513.534 952.06 L497.932 952.06 L497.932 947.546 L512.307 925.648 Z\" fill=\"#000000\" fill-rule=\"evenodd\" fill-opacity=\"1\" /><path clip-path=\"url(#clip030)\" d=\"M565.298 925.648 L583.654 925.648 L583.654 929.583 L569.58 929.583 L569.58 938.055 Q570.598 937.708 571.617 937.546 Q572.635 937.361 573.654 937.361 Q579.441 937.361 582.821 940.532 Q586.2 943.703 586.2 949.12 Q586.2 954.699 582.728 957.8 Q579.256 960.879 572.936 960.879 Q570.76 960.879 568.492 960.509 Q566.247 960.138 563.839 959.398 L563.839 954.699 Q565.923 955.833 568.145 956.388 Q570.367 956.944 572.844 956.944 Q576.848 956.944 579.186 954.838 Q581.524 952.731 581.524 949.12 Q581.524 945.509 579.186 943.402 Q576.848 941.296 572.844 941.296 Q570.969 941.296 569.094 941.713 Q567.242 942.129 565.298 943.009 L565.298 925.648 Z\" fill=\"#000000\" fill-rule=\"evenodd\" fill-opacity=\"1\" /><path clip-path=\"url(#clip030)\" d=\"M639.92 941.064 Q636.772 941.064 634.92 943.217 Q633.091 945.37 633.091 949.12 Q633.091 952.847 634.92 955.023 Q636.772 957.175 639.92 957.175 Q643.068 957.175 644.897 955.023 Q646.748 952.847 646.748 949.12 Q646.748 945.37 644.897 943.217 Q643.068 941.064 639.92 941.064 M649.202 926.412 L649.202 930.671 Q647.443 929.838 645.637 929.398 Q643.855 928.958 642.096 928.958 Q637.466 928.958 635.012 932.083 Q632.582 935.208 632.235 941.527 Q633.6 939.514 635.66 938.449 Q637.721 937.361 640.198 937.361 Q645.406 937.361 648.415 940.532 Q651.447 943.68 651.447 949.12 Q651.447 954.444 648.299 957.662 Q645.151 960.879 639.92 960.879 Q633.924 960.879 630.753 956.296 Q627.582 951.689 627.582 942.963 Q627.582 934.768 631.471 929.907 Q635.36 925.023 641.91 925.023 Q643.67 925.023 645.452 925.37 Q647.258 925.717 649.202 926.412 Z\" fill=\"#000000\" fill-rule=\"evenodd\" fill-opacity=\"1\" /><path clip-path=\"url(#clip030)\" d=\"M692.899 925.648 L715.121 925.648 L715.121 927.639 L702.574 960.208 L697.69 960.208 L709.496 929.583 L692.899 929.583 L692.899 925.648 Z\" fill=\"#000000\" fill-rule=\"evenodd\" fill-opacity=\"1\" /><path clip-path=\"url(#clip030)\" d=\"M768.504 943.796 Q765.171 943.796 763.25 945.578 Q761.352 947.361 761.352 950.486 Q761.352 953.611 763.25 955.393 Q765.171 957.175 768.504 957.175 Q771.838 957.175 773.759 955.393 Q775.68 953.588 775.68 950.486 Q775.68 947.361 773.759 945.578 Q771.861 943.796 768.504 943.796 M763.829 941.805 Q760.819 941.064 759.13 939.004 Q757.463 936.944 757.463 933.981 Q757.463 929.838 760.403 927.43 Q763.366 925.023 768.504 925.023 Q773.667 925.023 776.606 927.43 Q779.546 929.838 779.546 933.981 Q779.546 936.944 777.856 939.004 Q776.19 941.064 773.204 941.805 Q776.583 942.592 778.458 944.884 Q780.356 947.176 780.356 950.486 Q780.356 955.509 777.278 958.194 Q774.222 960.879 768.504 960.879 Q762.787 960.879 759.708 958.194 Q756.653 955.509 756.653 950.486 Q756.653 947.176 758.551 944.884 Q760.449 942.592 763.829 941.805 M762.116 934.421 Q762.116 937.106 763.782 938.611 Q765.472 940.115 768.504 940.115 Q771.514 940.115 773.204 938.611 Q774.917 937.106 774.917 934.421 Q774.917 931.736 773.204 930.231 Q771.514 928.727 768.504 928.727 Q765.472 928.727 763.782 930.231 Q762.116 931.736 762.116 934.421 Z\" fill=\"#000000\" fill-rule=\"evenodd\" fill-opacity=\"1\" /><path clip-path=\"url(#clip030)\" d=\"M823.3 959.49 L823.3 955.231 Q825.06 956.064 826.865 956.504 Q828.671 956.944 830.407 956.944 Q835.036 956.944 837.467 953.842 Q839.921 950.717 840.268 944.375 Q838.925 946.365 836.865 947.43 Q834.805 948.495 832.305 948.495 Q827.12 948.495 824.087 945.37 Q821.078 942.222 821.078 936.782 Q821.078 931.458 824.226 928.24 Q827.374 925.023 832.606 925.023 Q838.601 925.023 841.749 929.629 Q844.921 934.213 844.921 942.963 Q844.921 951.134 841.032 956.018 Q837.166 960.879 830.615 960.879 Q828.856 960.879 827.05 960.532 Q825.245 960.185 823.3 959.49 M832.606 944.838 Q835.754 944.838 837.583 942.685 Q839.435 940.532 839.435 936.782 Q839.435 933.055 837.583 930.902 Q835.754 928.727 832.606 928.727 Q829.458 928.727 827.606 930.902 Q825.777 933.055 825.777 936.782 Q825.777 940.532 827.606 942.685 Q829.458 944.838 832.606 944.838 Z\" fill=\"#000000\" fill-rule=\"evenodd\" fill-opacity=\"1\" /><path clip-path=\"url(#clip030)\" d=\"M872.182 956.273 L879.821 956.273 L879.821 929.907 L871.511 931.574 L871.511 927.315 L879.775 925.648 L884.45 925.648 L884.45 956.273 L892.089 956.273 L892.089 960.208 L872.182 960.208 L872.182 956.273 Z\" fill=\"#000000\" fill-rule=\"evenodd\" fill-opacity=\"1\" /><path clip-path=\"url(#clip030)\" d=\"M911.534 928.727 Q907.923 928.727 906.094 932.291 Q904.288 935.833 904.288 942.963 Q904.288 950.069 906.094 953.634 Q907.923 957.175 911.534 957.175 Q915.168 957.175 916.973 953.634 Q918.802 950.069 918.802 942.963 Q918.802 935.833 916.973 932.291 Q915.168 928.727 911.534 928.727 M911.534 925.023 Q917.344 925.023 920.399 929.629 Q923.478 934.213 923.478 942.963 Q923.478 951.689 920.399 956.296 Q917.344 960.879 911.534 960.879 Q905.723 960.879 902.645 956.296 Q899.589 951.689 899.589 942.963 Q899.589 934.213 902.645 929.629 Q905.723 925.023 911.534 925.023 Z\" fill=\"#000000\" fill-rule=\"evenodd\" fill-opacity=\"1\" /><path clip-path=\"url(#clip030)\" d=\"M937.29 956.273 L944.929 956.273 L944.929 929.907 L936.619 931.574 L936.619 927.315 L944.883 925.648 L949.559 925.648 L949.559 956.273 L957.198 956.273 L957.198 960.208 L937.29 960.208 L937.29 956.273 Z\" fill=\"#000000\" fill-rule=\"evenodd\" fill-opacity=\"1\" /><path clip-path=\"url(#clip030)\" d=\"M967.452 956.273 L975.091 956.273 L975.091 929.907 L966.781 931.574 L966.781 927.315 L975.045 925.648 L979.721 925.648 L979.721 956.273 L987.36 956.273 L987.36 960.208 L967.452 960.208 L967.452 956.273 Z\" fill=\"#000000\" fill-rule=\"evenodd\" fill-opacity=\"1\" /><path clip-path=\"url(#clip030)\" d=\"M1001.97 956.273 L1009.61 956.273 L1009.61 929.907 L1001.3 931.574 L1001.3 927.315 L1009.56 925.648 L1014.24 925.648 L1014.24 956.273 L1021.88 956.273 L1021.88 960.208 L1001.97 960.208 L1001.97 956.273 Z\" fill=\"#000000\" fill-rule=\"evenodd\" fill-opacity=\"1\" /><path clip-path=\"url(#clip030)\" d=\"M1035.35 956.273 L1051.67 956.273 L1051.67 960.208 L1029.72 960.208 L1029.72 956.273 Q1032.39 953.518 1036.97 948.888 Q1041.58 944.236 1042.76 942.893 Q1045 940.37 1045.88 938.634 Q1046.79 936.875 1046.79 935.185 Q1046.79 932.43 1044.84 930.694 Q1042.92 928.958 1039.82 928.958 Q1037.62 928.958 1035.16 929.722 Q1032.73 930.486 1029.96 932.037 L1029.96 927.315 Q1032.78 926.18 1035.23 925.602 Q1037.69 925.023 1039.72 925.023 Q1045.1 925.023 1048.29 927.708 Q1051.48 930.393 1051.48 934.884 Q1051.48 937.014 1050.67 938.935 Q1049.89 940.833 1047.78 943.426 Q1047.2 944.097 1044.1 947.314 Q1041 950.509 1035.35 956.273 Z\" fill=\"#000000\" fill-rule=\"evenodd\" fill-opacity=\"1\" /><path clip-path=\"url(#clip030)\" d=\"M1065.99 956.273 L1073.63 956.273 L1073.63 929.907 L1065.32 931.574 L1065.32 927.315 L1073.58 925.648 L1078.26 925.648 L1078.26 956.273 L1085.9 956.273 L1085.9 960.208 L1065.99 960.208 L1065.99 956.273 Z\" fill=\"#000000\" fill-rule=\"evenodd\" fill-opacity=\"1\" /><path clip-path=\"url(#clip030)\" d=\"M1109.51 941.574 Q1112.87 942.291 1114.74 944.56 Q1116.64 946.828 1116.64 950.162 Q1116.64 955.277 1113.12 958.078 Q1109.6 960.879 1103.12 960.879 Q1100.94 960.879 1098.63 960.439 Q1096.34 960.023 1093.88 959.166 L1093.88 954.652 Q1095.83 955.787 1098.14 956.365 Q1100.46 956.944 1102.98 956.944 Q1107.38 956.944 1109.67 955.208 Q1111.99 953.472 1111.99 950.162 Q1111.99 947.106 1109.83 945.393 Q1107.7 943.657 1103.88 943.657 L1099.86 943.657 L1099.86 939.814 L1104.07 939.814 Q1107.52 939.814 1109.35 938.449 Q1111.18 937.06 1111.18 934.467 Q1111.18 931.805 1109.28 930.393 Q1107.4 928.958 1103.88 928.958 Q1101.96 928.958 1099.76 929.375 Q1097.56 929.791 1094.93 930.671 L1094.93 926.504 Q1097.59 925.764 1099.9 925.393 Q1102.24 925.023 1104.3 925.023 Q1109.62 925.023 1112.73 927.453 Q1115.83 929.861 1115.83 933.981 Q1115.83 936.852 1114.19 938.842 Q1112.54 940.81 1109.51 941.574 Z\" fill=\"#000000\" fill-rule=\"evenodd\" fill-opacity=\"1\" /><path clip-path=\"url(#clip030)\" d=\"M1129.92 956.273 L1137.56 956.273 L1137.56 929.907 L1129.25 931.574 L1129.25 927.315 L1137.51 925.648 L1142.19 925.648 L1142.19 956.273 L1149.83 956.273 L1149.83 960.208 L1129.92 960.208 L1129.92 956.273 Z\" fill=\"#000000\" fill-rule=\"evenodd\" fill-opacity=\"1\" /><path clip-path=\"url(#clip030)\" d=\"M1172.12 929.722 L1160.31 948.171 L1172.12 948.171 L1172.12 929.722 M1170.89 925.648 L1176.77 925.648 L1176.77 948.171 L1181.7 948.171 L1181.7 952.06 L1176.77 952.06 L1176.77 960.208 L1172.12 960.208 L1172.12 952.06 L1156.52 952.06 L1156.52 947.546 L1170.89 925.648 Z\" fill=\"#000000\" fill-rule=\"evenodd\" fill-opacity=\"1\" /><path clip-path=\"url(#clip030)\" d=\"M1195.15 956.273 L1202.79 956.273 L1202.79 929.907 L1194.48 931.574 L1194.48 927.315 L1202.75 925.648 L1207.42 925.648 L1207.42 956.273 L1215.06 956.273 L1215.06 960.208 L1195.15 960.208 L1195.15 956.273 Z\" fill=\"#000000\" fill-rule=\"evenodd\" fill-opacity=\"1\" /><path clip-path=\"url(#clip030)\" d=\"M1224.55 925.648 L1242.91 925.648 L1242.91 929.583 L1228.83 929.583 L1228.83 938.055 Q1229.85 937.708 1230.87 937.546 Q1231.89 937.361 1232.91 937.361 Q1238.7 937.361 1242.08 940.532 Q1245.45 943.703 1245.45 949.12 Q1245.45 954.699 1241.98 957.8 Q1238.51 960.879 1232.19 960.879 Q1230.02 960.879 1227.75 960.509 Q1225.5 960.138 1223.09 959.398 L1223.09 954.699 Q1225.18 955.833 1227.4 956.388 Q1229.62 956.944 1232.1 956.944 Q1236.1 956.944 1238.44 954.838 Q1240.78 952.731 1240.78 949.12 Q1240.78 945.509 1238.44 943.402 Q1236.1 941.296 1232.1 941.296 Q1230.22 941.296 1228.35 941.713 Q1226.5 942.129 1224.55 943.009 L1224.55 925.648 Z\" fill=\"#000000\" fill-rule=\"evenodd\" fill-opacity=\"1\" /><path clip-path=\"url(#clip030)\" d=\"M1259.07 956.273 L1266.71 956.273 L1266.71 929.907 L1258.4 931.574 L1258.4 927.315 L1266.66 925.648 L1271.34 925.648 L1271.34 956.273 L1278.98 956.273 L1278.98 960.208 L1259.07 960.208 L1259.07 956.273 Z\" fill=\"#000000\" fill-rule=\"evenodd\" fill-opacity=\"1\" /><path clip-path=\"url(#clip030)\" d=\"M1299 941.064 Q1295.85 941.064 1294 943.217 Q1292.17 945.37 1292.17 949.12 Q1292.17 952.847 1294 955.023 Q1295.85 957.175 1299 957.175 Q1302.15 957.175 1303.98 955.023 Q1305.83 952.847 1305.83 949.12 Q1305.83 945.37 1303.98 943.217 Q1302.15 941.064 1299 941.064 M1308.28 926.412 L1308.28 930.671 Q1306.52 929.838 1304.72 929.398 Q1302.94 928.958 1301.18 928.958 Q1296.55 928.958 1294.09 932.083 Q1291.66 935.208 1291.32 941.527 Q1292.68 939.514 1294.74 938.449 Q1296.8 937.361 1299.28 937.361 Q1304.49 937.361 1307.5 940.532 Q1310.53 943.68 1310.53 949.12 Q1310.53 954.444 1307.38 957.662 Q1304.23 960.879 1299 960.879 Q1293.01 960.879 1289.83 956.296 Q1286.66 951.689 1286.66 942.963 Q1286.66 934.768 1290.55 929.907 Q1294.44 925.023 1300.99 925.023 Q1302.75 925.023 1304.53 925.37 Q1306.34 925.717 1308.28 926.412 Z\" fill=\"#000000\" fill-rule=\"evenodd\" fill-opacity=\"1\" /><path clip-path=\"url(#clip030)\" d=\"M1324.1 956.273 L1331.74 956.273 L1331.74 929.907 L1323.43 931.574 L1323.43 927.315 L1331.69 925.648 L1336.37 925.648 L1336.37 956.273 L1344.01 956.273 L1344.01 960.208 L1324.1 960.208 L1324.1 956.273 Z\" fill=\"#000000\" fill-rule=\"evenodd\" fill-opacity=\"1\" /><path clip-path=\"url(#clip030)\" d=\"M1352.27 925.648 L1374.49 925.648 L1374.49 927.639 L1361.94 960.208 L1357.06 960.208 L1368.87 929.583 L1352.27 929.583 L1352.27 925.648 Z\" fill=\"#000000\" fill-rule=\"evenodd\" fill-opacity=\"1\" /><path clip-path=\"url(#clip030)\" d=\"M1388.19 956.273 L1395.83 956.273 L1395.83 929.907 L1387.52 931.574 L1387.52 927.315 L1395.78 925.648 L1400.46 925.648 L1400.46 956.273 L1408.1 956.273 L1408.1 960.208 L1388.19 960.208 L1388.19 956.273 Z\" fill=\"#000000\" fill-rule=\"evenodd\" fill-opacity=\"1\" /><path clip-path=\"url(#clip030)\" d=\"M1427.54 943.796 Q1424.21 943.796 1422.28 945.578 Q1420.39 947.361 1420.39 950.486 Q1420.39 953.611 1422.28 955.393 Q1424.21 957.175 1427.54 957.175 Q1430.87 957.175 1432.79 955.393 Q1434.72 953.588 1434.72 950.486 Q1434.72 947.361 1432.79 945.578 Q1430.9 943.796 1427.54 943.796 M1422.86 941.805 Q1419.85 941.064 1418.16 939.004 Q1416.5 936.944 1416.5 933.981 Q1416.5 929.838 1419.44 927.43 Q1422.4 925.023 1427.54 925.023 Q1432.7 925.023 1435.64 927.43 Q1438.58 929.838 1438.58 933.981 Q1438.58 936.944 1436.89 939.004 Q1435.22 941.064 1432.24 941.805 Q1435.62 942.592 1437.49 944.884 Q1439.39 947.176 1439.39 950.486 Q1439.39 955.509 1436.31 958.194 Q1433.26 960.879 1427.54 960.879 Q1421.82 960.879 1418.74 958.194 Q1415.69 955.509 1415.69 950.486 Q1415.69 947.176 1417.59 944.884 Q1419.48 942.592 1422.86 941.805 M1421.15 934.421 Q1421.15 937.106 1422.82 938.611 Q1424.51 940.115 1427.54 940.115 Q1430.55 940.115 1432.24 938.611 Q1433.95 937.106 1433.95 934.421 Q1433.95 931.736 1432.24 930.231 Q1430.55 928.727 1427.54 928.727 Q1424.51 928.727 1422.82 930.231 Q1421.15 931.736 1421.15 934.421 Z\" fill=\"#000000\" fill-rule=\"evenodd\" fill-opacity=\"1\" /><path clip-path=\"url(#clip030)\" d=\"M1452.73 956.273 L1460.37 956.273 L1460.37 929.907 L1452.06 931.574 L1452.06 927.315 L1460.32 925.648 L1465 925.648 L1465 956.273 L1472.64 956.273 L1472.64 960.208 L1452.73 960.208 L1452.73 956.273 Z\" fill=\"#000000\" fill-rule=\"evenodd\" fill-opacity=\"1\" /><path clip-path=\"url(#clip030)\" d=\"M1482.22 959.49 L1482.22 955.231 Q1483.98 956.064 1485.78 956.504 Q1487.59 956.944 1489.33 956.944 Q1493.96 956.944 1496.39 953.842 Q1498.84 950.717 1499.19 944.375 Q1497.84 946.365 1495.78 947.43 Q1493.72 948.495 1491.22 948.495 Q1486.04 948.495 1483.01 945.37 Q1480 942.222 1480 936.782 Q1480 931.458 1483.15 928.24 Q1486.29 925.023 1491.53 925.023 Q1497.52 925.023 1500.67 929.629 Q1503.84 934.213 1503.84 942.963 Q1503.84 951.134 1499.95 956.018 Q1496.09 960.879 1489.53 960.879 Q1487.78 960.879 1485.97 960.532 Q1484.16 960.185 1482.22 959.49 M1491.53 944.838 Q1494.67 944.838 1496.5 942.685 Q1498.35 940.532 1498.35 936.782 Q1498.35 933.055 1496.5 930.902 Q1494.67 928.727 1491.53 928.727 Q1488.38 928.727 1486.53 930.902 Q1484.7 933.055 1484.7 936.782 Q1484.7 940.532 1486.53 942.685 Q1488.38 944.838 1491.53 944.838 Z\" fill=\"#000000\" fill-rule=\"evenodd\" fill-opacity=\"1\" /><path clip-path=\"url(#clip030)\" d=\"M1521.22 956.273 L1537.54 956.273 L1537.54 960.208 L1515.59 960.208 L1515.59 956.273 Q1518.25 953.518 1522.84 948.888 Q1527.44 944.236 1528.62 942.893 Q1530.87 940.37 1531.75 938.634 Q1532.65 936.875 1532.65 935.185 Q1532.65 932.43 1530.71 930.694 Q1528.79 928.958 1525.68 928.958 Q1523.49 928.958 1521.03 929.722 Q1518.6 930.486 1515.82 932.037 L1515.82 927.315 Q1518.65 926.18 1521.1 925.602 Q1523.55 925.023 1525.59 925.023 Q1530.96 925.023 1534.16 927.708 Q1537.35 930.393 1537.35 934.884 Q1537.35 937.014 1536.54 938.935 Q1535.75 940.833 1533.65 943.426 Q1533.07 944.097 1529.97 947.314 Q1526.87 950.509 1521.22 956.273 Z\" fill=\"#000000\" fill-rule=\"evenodd\" fill-opacity=\"1\" /><path clip-path=\"url(#clip030)\" d=\"M1557.35 928.727 Q1553.74 928.727 1551.91 932.291 Q1550.11 935.833 1550.11 942.963 Q1550.11 950.069 1551.91 953.634 Q1553.74 957.175 1557.35 957.175 Q1560.99 957.175 1562.79 953.634 Q1564.62 950.069 1564.62 942.963 Q1564.62 935.833 1562.79 932.291 Q1560.99 928.727 1557.35 928.727 M1557.35 925.023 Q1563.16 925.023 1566.22 929.629 Q1569.3 934.213 1569.3 942.963 Q1569.3 951.689 1566.22 956.296 Q1563.16 960.879 1557.35 960.879 Q1551.54 960.879 1548.46 956.296 Q1545.41 951.689 1545.41 942.963 Q1545.41 934.213 1548.46 929.629 Q1551.54 925.023 1557.35 925.023 Z\" fill=\"#000000\" fill-rule=\"evenodd\" fill-opacity=\"1\" /><path clip-path=\"url(#clip030)\" d=\"M1586.33 956.273 L1602.64 956.273 L1602.64 960.208 L1580.7 960.208 L1580.7 956.273 Q1583.36 953.518 1587.95 948.888 Q1592.55 944.236 1593.73 942.893 Q1595.98 940.37 1596.86 938.634 Q1597.76 936.875 1597.76 935.185 Q1597.76 932.43 1595.82 930.694 Q1593.89 928.958 1590.79 928.958 Q1588.59 928.958 1586.14 929.722 Q1583.71 930.486 1580.93 932.037 L1580.93 927.315 Q1583.76 926.18 1586.21 925.602 Q1588.66 925.023 1590.7 925.023 Q1596.07 925.023 1599.26 927.708 Q1602.46 930.393 1602.46 934.884 Q1602.46 937.014 1601.65 938.935 Q1600.86 940.833 1598.76 943.426 Q1598.18 944.097 1595.08 947.314 Q1591.97 950.509 1586.33 956.273 Z\" fill=\"#000000\" fill-rule=\"evenodd\" fill-opacity=\"1\" /><path clip-path=\"url(#clip030)\" d=\"M1613.27 956.273 L1620.91 956.273 L1620.91 929.907 L1612.6 931.574 L1612.6 927.315 L1620.86 925.648 L1625.54 925.648 L1625.54 956.273 L1633.18 956.273 L1633.18 960.208 L1613.27 960.208 L1613.27 956.273 Z\" fill=\"#000000\" fill-rule=\"evenodd\" fill-opacity=\"1\" /><path clip-path=\"url(#clip030)\" d=\"M1651.01 956.273 L1667.32 956.273 L1667.32 960.208 L1645.38 960.208 L1645.38 956.273 Q1648.04 953.518 1652.63 948.888 Q1657.23 944.236 1658.41 942.893 Q1660.66 940.37 1661.54 938.634 Q1662.44 936.875 1662.44 935.185 Q1662.44 932.43 1660.5 930.694 Q1658.57 928.958 1655.47 928.958 Q1653.27 928.958 1650.82 929.722 Q1648.39 930.486 1645.61 932.037 L1645.61 927.315 Q1648.44 926.18 1650.89 925.602 Q1653.34 925.023 1655.38 925.023 Q1660.75 925.023 1663.95 927.708 Q1667.14 930.393 1667.14 934.884 Q1667.14 937.014 1666.33 938.935 Q1665.54 940.833 1663.44 943.426 Q1662.86 944.097 1659.76 947.314 Q1656.65 950.509 1651.01 956.273 Z\" fill=\"#000000\" fill-rule=\"evenodd\" fill-opacity=\"1\" /><path clip-path=\"url(#clip030)\" d=\"M1681.17 956.273 L1697.49 956.273 L1697.49 960.208 L1675.54 960.208 L1675.54 956.273 Q1678.2 953.518 1682.79 948.888 Q1687.39 944.236 1688.57 942.893 Q1690.82 940.37 1691.7 938.634 Q1692.6 936.875 1692.6 935.185 Q1692.6 932.43 1690.66 930.694 Q1688.74 928.958 1685.63 928.958 Q1683.44 928.958 1680.98 929.722 Q1678.55 930.486 1675.77 932.037 L1675.77 927.315 Q1678.6 926.18 1681.05 925.602 Q1683.51 925.023 1685.54 925.023 Q1690.91 925.023 1694.11 927.708 Q1697.3 930.393 1697.3 934.884 Q1697.3 937.014 1696.49 938.935 Q1695.7 940.833 1693.6 943.426 Q1693.02 944.097 1689.92 947.314 Q1686.82 950.509 1681.17 956.273 Z\" fill=\"#000000\" fill-rule=\"evenodd\" fill-opacity=\"1\" /><path clip-path=\"url(#clip030)\" d=\"M1715.03 956.273 L1731.35 956.273 L1731.35 960.208 L1709.4 960.208 L1709.4 956.273 Q1712.06 953.518 1716.65 948.888 Q1721.25 944.236 1722.43 942.893 Q1724.68 940.37 1725.56 938.634 Q1726.46 936.875 1726.46 935.185 Q1726.46 932.43 1724.52 930.694 Q1722.6 928.958 1719.49 928.958 Q1717.29 928.958 1714.84 929.722 Q1712.41 930.486 1709.63 932.037 L1709.63 927.315 Q1712.46 926.18 1714.91 925.602 Q1717.36 925.023 1719.4 925.023 Q1724.77 925.023 1727.97 927.708 Q1731.16 930.393 1731.16 934.884 Q1731.16 937.014 1730.35 938.935 Q1729.56 940.833 1727.46 943.426 Q1726.88 944.097 1723.78 947.314 Q1720.67 950.509 1715.03 956.273 Z\" fill=\"#000000\" fill-rule=\"evenodd\" fill-opacity=\"1\" /><path clip-path=\"url(#clip030)\" d=\"M1755.33 941.574 Q1758.68 942.291 1760.56 944.56 Q1762.46 946.828 1762.46 950.162 Q1762.46 955.277 1758.94 958.078 Q1755.42 960.879 1748.94 960.879 Q1746.76 960.879 1744.45 960.439 Q1742.16 960.023 1739.7 959.166 L1739.7 954.652 Q1741.65 955.787 1743.96 956.365 Q1746.28 956.944 1748.8 956.944 Q1753.2 956.944 1755.49 955.208 Q1757.8 953.472 1757.8 950.162 Q1757.8 947.106 1755.65 945.393 Q1753.52 943.657 1749.7 943.657 L1745.67 943.657 L1745.67 939.814 L1749.89 939.814 Q1753.34 939.814 1755.16 938.449 Q1756.99 937.06 1756.99 934.467 Q1756.99 931.805 1755.09 930.393 Q1753.22 928.958 1749.7 928.958 Q1747.78 928.958 1745.58 929.375 Q1743.38 929.791 1740.74 930.671 L1740.74 926.504 Q1743.41 925.764 1745.72 925.393 Q1748.06 925.023 1750.12 925.023 Q1755.44 925.023 1758.54 927.453 Q1761.65 929.861 1761.65 933.981 Q1761.65 936.852 1760 938.842 Q1758.36 940.81 1755.33 941.574 Z\" fill=\"#000000\" fill-rule=\"evenodd\" fill-opacity=\"1\" /><polyline clip-path=\"url(#clip032)\" style=\"stroke:#000000; stroke-linecap:butt; stroke-linejoin:round; stroke-width:2; stroke-opacity:0.1; fill:none\" points=\"\n",
       "  208.044,888.208 1780.43,888.208 \n",
       "  \"/>\n",
       "<polyline clip-path=\"url(#clip032)\" style=\"stroke:#000000; stroke-linecap:butt; stroke-linejoin:round; stroke-width:2; stroke-opacity:0.1; fill:none\" points=\"\n",
       "  208.044,629.936 1780.43,629.936 \n",
       "  \"/>\n",
       "<polyline clip-path=\"url(#clip032)\" style=\"stroke:#000000; stroke-linecap:butt; stroke-linejoin:round; stroke-width:2; stroke-opacity:0.1; fill:none\" points=\"\n",
       "  208.044,371.664 1780.43,371.664 \n",
       "  \"/>\n",
       "<polyline clip-path=\"url(#clip032)\" style=\"stroke:#000000; stroke-linecap:butt; stroke-linejoin:round; stroke-width:2; stroke-opacity:0.1; fill:none\" points=\"\n",
       "  208.044,113.392 1780.43,113.392 \n",
       "  \"/>\n",
       "<polyline clip-path=\"url(#clip030)\" style=\"stroke:#000000; stroke-linecap:butt; stroke-linejoin:round; stroke-width:4; stroke-opacity:1; fill:none\" points=\"\n",
       "  208.044,888.208 208.044,113.392 \n",
       "  \"/>\n",
       "<polyline clip-path=\"url(#clip030)\" style=\"stroke:#000000; stroke-linecap:butt; stroke-linejoin:round; stroke-width:4; stroke-opacity:1; fill:none\" points=\"\n",
       "  208.044,888.208 226.941,888.208 \n",
       "  \"/>\n",
       "<polyline clip-path=\"url(#clip030)\" style=\"stroke:#000000; stroke-linecap:butt; stroke-linejoin:round; stroke-width:4; stroke-opacity:1; fill:none\" points=\"\n",
       "  208.044,629.936 226.941,629.936 \n",
       "  \"/>\n",
       "<polyline clip-path=\"url(#clip030)\" style=\"stroke:#000000; stroke-linecap:butt; stroke-linejoin:round; stroke-width:4; stroke-opacity:1; fill:none\" points=\"\n",
       "  208.044,371.664 226.941,371.664 \n",
       "  \"/>\n",
       "<polyline clip-path=\"url(#clip030)\" style=\"stroke:#000000; stroke-linecap:butt; stroke-linejoin:round; stroke-width:4; stroke-opacity:1; fill:none\" points=\"\n",
       "  208.044,113.392 226.941,113.392 \n",
       "  \"/>\n",
       "<path clip-path=\"url(#clip030)\" d=\"M142.099 874.007 Q138.488 874.007 136.659 877.571 Q134.854 881.113 134.854 888.243 Q134.854 895.349 136.659 898.914 Q138.488 902.455 142.099 902.455 Q145.733 902.455 147.539 898.914 Q149.368 895.349 149.368 888.243 Q149.368 881.113 147.539 877.571 Q145.733 874.007 142.099 874.007 M142.099 870.303 Q147.909 870.303 150.965 874.909 Q154.044 879.493 154.044 888.243 Q154.044 896.969 150.965 901.576 Q147.909 906.159 142.099 906.159 Q136.289 906.159 133.21 901.576 Q130.155 896.969 130.155 888.243 Q130.155 879.493 133.21 874.909 Q136.289 870.303 142.099 870.303 Z\" fill=\"#000000\" fill-rule=\"evenodd\" fill-opacity=\"1\" /><path clip-path=\"url(#clip030)\" d=\"M146.914 628.582 Q150.27 629.299 152.145 631.568 Q154.044 633.836 154.044 637.17 Q154.044 642.285 150.525 645.086 Q147.007 647.887 140.525 647.887 Q138.349 647.887 136.034 647.447 Q133.743 647.031 131.289 646.174 L131.289 641.66 Q133.233 642.795 135.548 643.373 Q137.863 643.952 140.386 643.952 Q144.784 643.952 147.076 642.216 Q149.391 640.48 149.391 637.17 Q149.391 634.114 147.238 632.401 Q145.108 630.665 141.289 630.665 L137.261 630.665 L137.261 626.823 L141.474 626.823 Q144.923 626.823 146.752 625.457 Q148.581 624.068 148.581 621.475 Q148.581 618.813 146.683 617.401 Q144.808 615.966 141.289 615.966 Q139.368 615.966 137.169 616.383 Q134.97 616.799 132.331 617.679 L132.331 613.512 Q134.993 612.772 137.308 612.401 Q139.646 612.031 141.706 612.031 Q147.03 612.031 150.132 614.462 Q153.233 616.869 153.233 620.989 Q153.233 623.86 151.59 625.85 Q149.946 627.818 146.914 628.582 Z\" fill=\"#000000\" fill-rule=\"evenodd\" fill-opacity=\"1\" /><path clip-path=\"url(#clip030)\" d=\"M142.516 369.801 Q139.368 369.801 137.516 371.953 Q135.687 374.106 135.687 377.856 Q135.687 381.583 137.516 383.759 Q139.368 385.912 142.516 385.912 Q145.664 385.912 147.493 383.759 Q149.345 381.583 149.345 377.856 Q149.345 374.106 147.493 371.953 Q145.664 369.801 142.516 369.801 M151.798 355.148 L151.798 359.407 Q150.039 358.574 148.233 358.134 Q146.451 357.694 144.692 357.694 Q140.062 357.694 137.608 360.819 Q135.178 363.944 134.831 370.264 Q136.196 368.25 138.257 367.185 Q140.317 366.097 142.794 366.097 Q148.002 366.097 151.011 369.268 Q154.044 372.416 154.044 377.856 Q154.044 383.18 150.895 386.398 Q147.747 389.615 142.516 389.615 Q136.521 389.615 133.349 385.032 Q130.178 380.426 130.178 371.699 Q130.178 363.504 134.067 358.643 Q137.956 353.759 144.507 353.759 Q146.266 353.759 148.048 354.106 Q149.854 354.453 151.798 355.148 Z\" fill=\"#000000\" fill-rule=\"evenodd\" fill-opacity=\"1\" /><path clip-path=\"url(#clip030)\" d=\"M132.423 129.955 L132.423 125.695 Q134.183 126.529 135.988 126.968 Q137.794 127.408 139.53 127.408 Q144.159 127.408 146.59 124.306 Q149.044 121.181 149.391 114.839 Q148.048 116.83 145.988 117.894 Q143.928 118.959 141.428 118.959 Q136.243 118.959 133.21 115.834 Q130.201 112.686 130.201 107.246 Q130.201 101.922 133.349 98.7047 Q136.497 95.4871 141.729 95.4871 Q147.724 95.4871 150.872 100.094 Q154.044 104.677 154.044 113.427 Q154.044 121.598 150.155 126.482 Q146.289 131.343 139.738 131.343 Q137.979 131.343 136.173 130.996 Q134.368 130.649 132.423 129.955 M141.729 115.302 Q144.877 115.302 146.706 113.149 Q148.557 110.996 148.557 107.246 Q148.557 103.519 146.706 101.367 Q144.877 99.1908 141.729 99.1908 Q138.581 99.1908 136.729 101.367 Q134.9 103.519 134.9 107.246 Q134.9 110.996 136.729 113.149 Q138.581 115.302 141.729 115.302 Z\" fill=\"#000000\" fill-rule=\"evenodd\" fill-opacity=\"1\" /><path clip-path=\"url(#clip030)\" d=\"M19.6623 804.826 L37.5182 804.826 L37.5182 796.742 Q37.5182 792.254 35.1947 789.803 Q32.8712 787.352 28.5743 787.352 Q24.3093 787.352 21.9858 789.803 Q19.6623 792.254 19.6623 796.742 L19.6623 804.826 M14.3788 811.256 L14.3788 796.742 Q14.3788 788.753 18.0073 784.679 Q21.6039 780.573 28.5743 780.573 Q35.6084 780.573 39.2051 784.679 Q42.8017 788.753 42.8017 796.742 L42.8017 804.826 L61.8988 804.826 L61.8988 811.256 L14.3788 811.256 Z\" fill=\"#000000\" fill-rule=\"evenodd\" fill-opacity=\"1\" /><path clip-path=\"url(#clip030)\" d=\"M61.8988 759.693 L14.3788 777.836 L14.3788 771.12 L54.3873 756.065 L14.3788 740.978 L14.3788 734.294 L61.8988 752.405 L61.8988 759.693 Z\" fill=\"#000000\" fill-rule=\"evenodd\" fill-opacity=\"1\" /><path clip-path=\"url(#clip030)\" d=\"M43.6611 683.432 Q37.2954 683.432 33.7942 686.074 Q30.2931 688.684 30.2931 693.426 Q30.2931 698.137 33.7942 700.779 Q37.2954 703.389 43.6611 703.389 Q49.9949 703.389 53.4961 700.779 Q56.9972 698.137 56.9972 693.426 Q56.9972 688.684 53.4961 686.074 Q49.9949 683.432 43.6611 683.432 M57.4746 677.576 Q66.5776 677.576 71.0018 681.618 Q75.4578 685.66 75.4578 693.999 Q75.4578 697.087 74.9803 699.824 Q74.5347 702.561 73.5799 705.139 L67.8826 705.139 Q69.283 702.561 69.9514 700.047 Q70.6198 697.532 70.6198 694.922 Q70.6198 689.161 67.5961 686.297 Q64.6042 683.432 58.525 683.432 L55.6286 683.432 Q58.7796 685.246 60.3392 688.079 Q61.8988 690.912 61.8988 694.859 Q61.8988 701.415 56.9017 705.426 Q51.9047 709.436 43.6611 709.436 Q35.3856 709.436 30.3886 705.426 Q25.3915 701.415 25.3915 694.859 Q25.3915 690.912 26.9511 688.079 Q28.5107 685.246 31.6617 683.432 L26.2509 683.432 L26.2509 677.576 L57.4746 677.576 Z\" fill=\"#000000\" fill-rule=\"evenodd\" fill-opacity=\"1\" /><path clip-path=\"url(#clip030)\" d=\"M42.6107 635.021 L45.4753 635.021 L45.4753 661.948 Q51.5227 661.566 54.7056 658.319 Q57.8566 655.041 57.8566 649.216 Q57.8566 645.843 57.029 642.692 Q56.2015 639.509 54.5464 636.39 L60.0846 636.39 Q61.4214 639.541 62.1216 642.851 Q62.8218 646.161 62.8218 649.567 Q62.8218 658.097 57.8566 663.094 Q52.8913 668.059 44.4249 668.059 Q35.6721 668.059 30.5477 663.348 Q25.3915 658.606 25.3915 650.585 Q25.3915 643.392 30.0385 639.222 Q34.6536 635.021 42.6107 635.021 M40.892 640.877 Q36.0859 640.941 33.2213 643.583 Q30.3567 646.193 30.3567 650.521 Q30.3567 655.423 33.1258 658.383 Q35.8949 661.311 40.9238 661.757 L40.892 640.877 Z\" fill=\"#000000\" fill-rule=\"evenodd\" fill-opacity=\"1\" /><path clip-path=\"url(#clip030)\" d=\"M40.3827 595.776 L61.8988 595.776 L61.8988 601.633 L40.5737 601.633 Q35.513 601.633 32.9985 603.606 Q30.4841 605.58 30.4841 609.526 Q30.4841 614.269 33.5078 617.006 Q36.5315 619.743 41.7514 619.743 L61.8988 619.743 L61.8988 625.632 L26.2509 625.632 L26.2509 619.743 L31.789 619.743 Q28.5743 617.643 26.9829 614.81 Q25.3915 611.945 25.3915 608.221 Q25.3915 602.078 29.2109 598.927 Q32.9985 595.776 40.3827 595.776 Z\" fill=\"#000000\" fill-rule=\"evenodd\" fill-opacity=\"1\" /><path clip-path=\"url(#clip030)\" d=\"M42.6107 553.604 L45.4753 553.604 L45.4753 580.53 Q51.5227 580.149 54.7056 576.902 Q57.8566 573.624 57.8566 567.799 Q57.8566 564.425 57.029 561.274 Q56.2015 558.091 54.5464 554.972 L60.0846 554.972 Q61.4214 558.123 62.1216 561.433 Q62.8218 564.744 62.8218 568.149 Q62.8218 576.679 57.8566 581.676 Q52.8913 586.642 44.4249 586.642 Q35.6721 586.642 30.5477 581.931 Q25.3915 577.188 25.3915 569.168 Q25.3915 561.974 30.0385 557.805 Q34.6536 553.604 42.6107 553.604 M40.892 559.46 Q36.0859 559.524 33.2213 562.165 Q30.3567 564.775 30.3567 569.104 Q30.3567 574.006 33.1258 576.966 Q35.8949 579.894 40.9238 580.34 L40.892 559.46 Z\" fill=\"#000000\" fill-rule=\"evenodd\" fill-opacity=\"1\" /><path clip-path=\"url(#clip030)\" d=\"M31.7254 523.335 Q31.1524 524.321 30.8978 525.499 Q30.6114 526.645 30.6114 528.045 Q30.6114 533.01 33.8579 535.684 Q37.0726 538.326 43.12 538.326 L61.8988 538.326 L61.8988 544.214 L26.2509 544.214 L26.2509 538.326 L31.789 538.326 Q28.5425 536.48 26.9829 533.52 Q25.3915 530.56 25.3915 526.326 Q25.3915 525.722 25.487 524.99 Q25.5506 524.258 25.7098 523.366 L31.7254 523.335 Z\" fill=\"#000000\" fill-rule=\"evenodd\" fill-opacity=\"1\" /><path clip-path=\"url(#clip030)\" d=\"M43.9793 500.991 Q43.9793 508.089 45.6026 510.826 Q47.2259 513.563 51.1408 513.563 Q54.26 513.563 56.106 511.526 Q57.9202 509.457 57.9202 505.924 Q57.9202 501.055 54.4828 498.126 Q51.0135 495.166 45.2843 495.166 L43.9793 495.166 L43.9793 500.991 M41.5604 489.31 L61.8988 489.31 L61.8988 495.166 L56.488 495.166 Q59.7345 497.172 61.2941 500.163 Q62.8218 503.155 62.8218 507.484 Q62.8218 512.958 59.7663 516.205 Q56.6789 519.42 51.5227 519.42 Q45.5071 519.42 42.4516 515.409 Q39.396 511.367 39.396 503.378 L39.396 495.166 L38.8231 495.166 Q34.7809 495.166 32.5847 497.84 Q30.3567 500.482 30.3567 505.288 Q30.3567 508.343 31.0888 511.24 Q31.8208 514.136 33.285 516.81 L27.8741 516.81 Q26.6328 513.595 26.0281 510.571 Q25.3915 507.548 25.3915 504.683 Q25.3915 496.949 29.4019 493.129 Q33.4123 489.31 41.5604 489.31 Z\" fill=\"#000000\" fill-rule=\"evenodd\" fill-opacity=\"1\" /><path clip-path=\"url(#clip030)\" d=\"M16.1294 471.454 L26.2509 471.454 L26.2509 459.391 L30.8023 459.391 L30.8023 471.454 L50.1541 471.454 Q54.5146 471.454 55.7559 470.276 Q56.9972 469.067 56.9972 465.407 L56.9972 459.391 L61.8988 459.391 L61.8988 465.407 Q61.8988 472.186 59.3844 474.764 Q56.8381 477.342 50.1541 477.342 L30.8023 477.342 L30.8023 481.639 L26.2509 481.639 L26.2509 477.342 L16.1294 477.342 L16.1294 471.454 Z\" fill=\"#000000\" fill-rule=\"evenodd\" fill-opacity=\"1\" /><path clip-path=\"url(#clip030)\" d=\"M26.2509 451.689 L26.2509 445.832 L61.8988 445.832 L61.8988 451.689 L26.2509 451.689 M12.3736 451.689 L12.3736 445.832 L19.7897 445.832 L19.7897 451.689 L12.3736 451.689 Z\" fill=\"#000000\" fill-rule=\"evenodd\" fill-opacity=\"1\" /><path clip-path=\"url(#clip030)\" d=\"M30.3567 419.765 Q30.3567 424.475 34.0488 427.212 Q37.7091 429.95 44.1067 429.95 Q50.5042 429.95 54.1963 427.244 Q57.8566 424.507 57.8566 419.765 Q57.8566 415.086 54.1645 412.349 Q50.4724 409.611 44.1067 409.611 Q37.7728 409.611 34.0807 412.349 Q30.3567 415.086 30.3567 419.765 M25.3915 419.765 Q25.3915 412.126 30.3567 407.765 Q35.322 403.405 44.1067 403.405 Q52.8595 403.405 57.8566 407.765 Q62.8218 412.126 62.8218 419.765 Q62.8218 427.435 57.8566 431.796 Q52.8595 436.124 44.1067 436.124 Q35.322 436.124 30.3567 431.796 Q25.3915 427.435 25.3915 419.765 Z\" fill=\"#000000\" fill-rule=\"evenodd\" fill-opacity=\"1\" /><path clip-path=\"url(#clip030)\" d=\"M40.3827 364.065 L61.8988 364.065 L61.8988 369.921 L40.5737 369.921 Q35.513 369.921 32.9985 371.894 Q30.4841 373.868 30.4841 377.815 Q30.4841 382.557 33.5078 385.294 Q36.5315 388.032 41.7514 388.032 L61.8988 388.032 L61.8988 393.92 L26.2509 393.92 L26.2509 388.032 L31.789 388.032 Q28.5743 385.931 26.9829 383.098 Q25.3915 380.234 25.3915 376.51 Q25.3915 370.367 29.2109 367.216 Q32.9985 364.065 40.3827 364.065 Z\" fill=\"#000000\" fill-rule=\"evenodd\" fill-opacity=\"1\" /><path clip-path=\"url(#clip030)\" d=\"M12.3736 332.204 L12.3736 318.709 L16.9251 318.709 L16.9251 326.348 L65.941 326.348 L65.941 318.709 L70.4925 318.709 L70.4925 332.204 L12.3736 332.204 Z\" fill=\"#000000\" fill-rule=\"evenodd\" fill-opacity=\"1\" /><path clip-path=\"url(#clip030)\" d=\"M12.3736 306.455 L12.3736 300.567 L41.624 300.567 L26.2509 283.093 L26.2509 275.613 L42.929 294.519 L61.8988 274.817 L61.8988 282.456 L44.4886 300.567 L61.8988 300.567 L61.8988 306.455 L12.3736 306.455 Z\" fill=\"#000000\" fill-rule=\"evenodd\" fill-opacity=\"1\" /><path clip-path=\"url(#clip030)\" d=\"M14.3788 272.462 L14.3788 265.969 L54.5464 255.975 L14.3788 246.013 L14.3788 238.788 L54.5464 228.793 L14.3788 218.831 L14.3788 212.306 L61.8988 224.242 L61.8988 232.326 L20.649 242.352 L61.8988 252.474 L61.8988 260.558 L14.3788 272.462 Z\" fill=\"#000000\" fill-rule=\"evenodd\" fill-opacity=\"1\" /><path clip-path=\"url(#clip030)\" d=\"M12.3736 190.344 L70.4925 190.344 L70.4925 203.84 L65.941 203.84 L65.941 196.233 L16.9251 196.233 L16.9251 203.84 L12.3736 203.84 L12.3736 190.344 Z\" fill=\"#000000\" fill-rule=\"evenodd\" fill-opacity=\"1\" /><path clip-path=\"url(#clip030)\" d=\"M812.392 16.7545 L812.392 25.383 Q808.26 21.5346 803.561 19.6307 Q798.902 17.7268 793.636 17.7268 Q783.266 17.7268 777.756 24.0867 Q772.247 30.4061 772.247 42.3968 Q772.247 54.3469 777.756 60.7069 Q783.266 67.0263 793.636 67.0263 Q798.902 67.0263 803.561 65.1223 Q808.26 63.2184 812.392 59.3701 L812.392 67.9175 Q808.098 70.8341 803.277 72.2924 Q798.497 73.7508 793.15 73.7508 Q779.417 73.7508 771.518 65.3654 Q763.619 56.9395 763.619 42.3968 Q763.619 27.8135 771.518 19.4281 Q779.417 11.0023 793.15 11.0023 Q798.578 11.0023 803.358 12.4606 Q808.179 13.8784 812.392 16.7545 Z\" fill=\"#000000\" fill-rule=\"evenodd\" fill-opacity=\"1\" /><path clip-path=\"url(#clip030)\" d=\"M862.42 45.1919 L862.42 72.576 L854.967 72.576 L854.967 45.4349 Q854.967 38.994 852.455 35.7938 Q849.944 32.5936 844.92 32.5936 Q838.885 32.5936 835.401 36.4419 Q831.917 40.2903 831.917 46.9338 L831.917 72.576 L824.423 72.576 L824.423 9.54393 L831.917 9.54393 L831.917 34.2544 Q834.591 30.163 838.196 28.1376 Q841.842 26.1121 846.581 26.1121 Q854.4 26.1121 858.41 30.9732 Q862.42 35.7938 862.42 45.1919 Z\" fill=\"#000000\" fill-rule=\"evenodd\" fill-opacity=\"1\" /><path clip-path=\"url(#clip030)\" d=\"M877.287 27.2059 L884.741 27.2059 L884.741 72.576 L877.287 72.576 L877.287 27.2059 M877.287 9.54393 L884.741 9.54393 L884.741 18.9825 L877.287 18.9825 L877.287 9.54393 Z\" fill=\"#000000\" fill-rule=\"evenodd\" fill-opacity=\"1\" /><path clip-path=\"url(#clip030)\" d=\"M932.987 28.9478 L932.987 35.9153 Q929.827 34.1734 926.627 33.3227 Q923.467 32.4315 920.227 32.4315 Q912.976 32.4315 908.965 37.0496 Q904.955 41.6271 904.955 49.9314 Q904.955 58.2358 908.965 62.8538 Q912.976 67.4314 920.227 67.4314 Q923.467 67.4314 926.627 66.5807 Q929.827 65.6895 932.987 63.9476 L932.987 70.8341 Q929.868 72.2924 926.506 73.0216 Q923.184 73.7508 919.417 73.7508 Q909.168 73.7508 903.132 67.3098 Q897.096 60.8689 897.096 49.9314 Q897.096 38.832 903.172 32.472 Q909.289 26.1121 919.903 26.1121 Q923.346 26.1121 926.627 26.8413 Q929.908 27.5299 932.987 28.9478 Z\" fill=\"#000000\" fill-rule=\"evenodd\" fill-opacity=\"1\" /><path clip-path=\"url(#clip030)\" d=\"M966.569 49.7694 Q957.536 49.7694 954.052 51.8354 Q950.568 53.9013 950.568 58.8839 Q950.568 62.8538 953.161 65.2034 Q955.794 67.5124 960.29 67.5124 Q966.488 67.5124 970.215 63.1374 Q973.982 58.7219 973.982 51.4303 L973.982 49.7694 L966.569 49.7694 M981.436 46.6907 L981.436 72.576 L973.982 72.576 L973.982 65.6895 Q971.43 69.8214 967.622 71.8063 Q963.814 73.7508 958.305 73.7508 Q951.338 73.7508 947.206 69.8619 Q943.114 65.9325 943.114 59.3701 Q943.114 51.7138 948.218 47.825 Q953.363 43.9361 963.531 43.9361 L973.982 43.9361 L973.982 43.2069 Q973.982 38.0623 970.579 35.2672 Q967.217 32.4315 961.1 32.4315 Q957.211 32.4315 953.525 33.3632 Q949.839 34.295 946.436 36.1584 L946.436 29.2718 Q950.527 27.692 954.376 26.9223 Q958.224 26.1121 961.87 26.1121 Q971.714 26.1121 976.575 31.2163 Q981.436 36.3204 981.436 46.6907 Z\" fill=\"#000000\" fill-rule=\"evenodd\" fill-opacity=\"1\" /><path clip-path=\"url(#clip030)\" d=\"M1026.64 49.3643 Q1026.64 41.2625 1023.28 36.8065 Q1019.96 32.3505 1013.92 32.3505 Q1007.93 32.3505 1004.57 36.8065 Q1001.24 41.2625 1001.24 49.3643 Q1001.24 57.4256 1004.57 61.8816 Q1007.93 66.3376 1013.92 66.3376 Q1019.96 66.3376 1023.28 61.8816 Q1026.64 57.4256 1026.64 49.3643 M1034.1 66.9452 Q1034.1 78.5308 1028.95 84.1616 Q1023.81 89.8329 1013.19 89.8329 Q1009.27 89.8329 1005.78 89.2252 Q1002.3 88.6581 999.017 87.4428 L999.017 80.1917 Q1002.3 81.9741 1005.5 82.8248 Q1008.7 83.6755 1012.02 83.6755 Q1019.35 83.6755 1023 79.8271 Q1026.64 76.0193 1026.64 68.282 L1026.64 64.5957 Q1024.33 68.6061 1020.73 70.5911 Q1017.12 72.576 1012.1 72.576 Q1003.76 72.576 998.652 66.2161 Q993.548 59.8562 993.548 49.3643 Q993.548 38.832 998.652 32.472 Q1003.76 26.1121 1012.1 26.1121 Q1017.12 26.1121 1020.73 28.0971 Q1024.33 30.082 1026.64 34.0924 L1026.64 27.2059 L1034.1 27.2059 L1034.1 66.9452 Z\" fill=\"#000000\" fill-rule=\"evenodd\" fill-opacity=\"1\" /><path clip-path=\"url(#clip030)\" d=\"M1067.03 32.4315 Q1061.04 32.4315 1057.55 37.1306 Q1054.07 41.7891 1054.07 49.9314 Q1054.07 58.0738 1057.51 62.7728 Q1061 67.4314 1067.03 67.4314 Q1072.99 67.4314 1076.47 62.7323 Q1079.95 58.0333 1079.95 49.9314 Q1079.95 41.8701 1076.47 37.1711 Q1072.99 32.4315 1067.03 32.4315 M1067.03 26.1121 Q1076.75 26.1121 1082.3 32.4315 Q1087.85 38.7509 1087.85 49.9314 Q1087.85 61.0714 1082.3 67.4314 Q1076.75 73.7508 1067.03 73.7508 Q1057.27 73.7508 1051.72 67.4314 Q1046.21 61.0714 1046.21 49.9314 Q1046.21 38.7509 1051.72 32.4315 Q1057.27 26.1121 1067.03 26.1121 Z\" fill=\"#000000\" fill-rule=\"evenodd\" fill-opacity=\"1\" /><path clip-path=\"url(#clip030)\" d=\"M1135.09 18.8205 L1135.09 41.5461 L1145.38 41.5461 Q1151.09 41.5461 1154.21 38.5889 Q1157.33 35.6318 1157.33 30.163 Q1157.33 24.7348 1154.21 21.7777 Q1151.09 18.8205 1145.38 18.8205 L1135.09 18.8205 M1126.9 12.096 L1145.38 12.096 Q1155.54 12.096 1160.73 16.714 Q1165.95 21.2916 1165.95 30.163 Q1165.95 39.1155 1160.73 43.6931 Q1155.54 48.2706 1145.38 48.2706 L1135.09 48.2706 L1135.09 72.576 L1126.9 72.576 L1126.9 12.096 Z\" fill=\"#000000\" fill-rule=\"evenodd\" fill-opacity=\"1\" /><path clip-path=\"url(#clip030)\" d=\"M1192.53 72.576 L1169.44 12.096 L1177.99 12.096 L1197.15 63.0159 L1216.35 12.096 L1224.85 12.096 L1201.81 72.576 L1192.53 72.576 Z\" fill=\"#000000\" fill-rule=\"evenodd\" fill-opacity=\"1\" /><path clip-path=\"url(#clip032)\" d=\"\n",
       "M252.545 888.208 L317.04 888.208 L381.535 888.208 L446.03 888.208 L510.525 888.208 L575.02 888.208 L639.515 864.189 L704.01 750.032 L768.504 564.163 L832.999 394.909 \n",
       "  L897.494 264.998 L961.989 194.145 L1026.48 171.503 L1090.98 191.562 L1155.47 264.137 L1219.97 368.393 L1284.46 506.912 L1348.96 671.173 L1413.45 812.879 L1477.95 881.321 \n",
       "  L1542.44 888.208 L1606.94 888.208 L1671.43 888.208 L1735.93 888.208 L1735.93 888.208 L1671.43 888.208 L1606.94 888.208 L1542.44 888.208 L1477.95 888.208 L1413.45 888.208 \n",
       "  L1348.96 888.208 L1284.46 851.792 L1219.97 721.106 L1155.47 605.658 L1090.98 519.912 L1026.48 492.277 L961.989 535.925 L897.494 570.792 L832.999 651.631 L768.504 760.622 \n",
       "  L704.01 863.5 L639.515 888.208 L575.02 888.208 L510.525 888.208 L446.03 888.208 L381.535 888.208 L317.04 888.208 L252.545 888.208  Z\n",
       "  \" fill=\"#ffd700\" fill-rule=\"evenodd\" fill-opacity=\"0.3\"/>\n",
       "<polyline clip-path=\"url(#clip032)\" style=\"stroke:#ffd700; stroke-linecap:butt; stroke-linejoin:round; stroke-width:0; stroke-opacity:0.3; fill:none\" points=\"\n",
       "  252.545,888.208 317.04,888.208 381.535,888.208 446.03,888.208 510.525,888.208 575.02,888.208 639.515,864.189 704.01,750.032 768.504,564.163 832.999,394.909 \n",
       "  897.494,264.998 961.989,194.145 1026.48,171.503 1090.98,191.562 1155.47,264.137 1219.97,368.393 1284.46,506.912 1348.96,671.173 1413.45,812.879 1477.95,881.321 \n",
       "  1542.44,888.208 1606.94,888.208 1671.43,888.208 1735.93,888.208 \n",
       "  \"/>\n",
       "<polyline clip-path=\"url(#clip032)\" style=\"stroke:#ffd700; stroke-linecap:butt; stroke-linejoin:round; stroke-width:16; stroke-opacity:1; fill:none\" points=\"\n",
       "  252.545,888.208 317.04,888.208 381.535,888.208 446.03,888.208 510.525,888.208 575.02,888.208 639.515,888.208 704.01,813.309 768.504,658.346 832.999,505.363 \n",
       "  897.494,373.558 961.989,290.136 1026.48,288.759 1090.98,311.745 1155.47,394.048 1219.97,537.13 1284.46,675.047 1348.96,775.601 1413.45,872.109 1477.95,888.208 \n",
       "  1542.44,888.208 1606.94,888.208 1671.43,888.208 1735.93,888.208 \n",
       "  \"/>\n",
       "<path clip-path=\"url(#clip030)\" d=\"\n",
       "M1980.37 888.208 L3552.76 888.208 L3552.76 113.392 L1980.37 113.392  Z\n",
       "  \" fill=\"#ffffff\" fill-rule=\"evenodd\" fill-opacity=\"1\"/>\n",
       "<defs>\n",
       "  <clipPath id=\"clip033\">\n",
       "    <rect x=\"1980\" y=\"113\" width=\"1573\" height=\"776\"/>\n",
       "  </clipPath>\n",
       "</defs>\n",
       "<polyline clip-path=\"url(#clip033)\" style=\"stroke:#000000; stroke-linecap:butt; stroke-linejoin:round; stroke-width:2; stroke-opacity:0.1; fill:none\" points=\"\n",
       "  2024.87,888.208 2024.87,113.392 \n",
       "  \"/>\n",
       "<polyline clip-path=\"url(#clip033)\" style=\"stroke:#000000; stroke-linecap:butt; stroke-linejoin:round; stroke-width:2; stroke-opacity:0.1; fill:none\" points=\"\n",
       "  2089.37,888.208 2089.37,113.392 \n",
       "  \"/>\n",
       "<polyline clip-path=\"url(#clip033)\" style=\"stroke:#000000; stroke-linecap:butt; stroke-linejoin:round; stroke-width:2; stroke-opacity:0.1; fill:none\" points=\"\n",
       "  2153.86,888.208 2153.86,113.392 \n",
       "  \"/>\n",
       "<polyline clip-path=\"url(#clip033)\" style=\"stroke:#000000; stroke-linecap:butt; stroke-linejoin:round; stroke-width:2; stroke-opacity:0.1; fill:none\" points=\"\n",
       "  2218.36,888.208 2218.36,113.392 \n",
       "  \"/>\n",
       "<polyline clip-path=\"url(#clip033)\" style=\"stroke:#000000; stroke-linecap:butt; stroke-linejoin:round; stroke-width:2; stroke-opacity:0.1; fill:none\" points=\"\n",
       "  2282.85,888.208 2282.85,113.392 \n",
       "  \"/>\n",
       "<polyline clip-path=\"url(#clip033)\" style=\"stroke:#000000; stroke-linecap:butt; stroke-linejoin:round; stroke-width:2; stroke-opacity:0.1; fill:none\" points=\"\n",
       "  2347.35,888.208 2347.35,113.392 \n",
       "  \"/>\n",
       "<polyline clip-path=\"url(#clip033)\" style=\"stroke:#000000; stroke-linecap:butt; stroke-linejoin:round; stroke-width:2; stroke-opacity:0.1; fill:none\" points=\"\n",
       "  2411.84,888.208 2411.84,113.392 \n",
       "  \"/>\n",
       "<polyline clip-path=\"url(#clip033)\" style=\"stroke:#000000; stroke-linecap:butt; stroke-linejoin:round; stroke-width:2; stroke-opacity:0.1; fill:none\" points=\"\n",
       "  2476.34,888.208 2476.34,113.392 \n",
       "  \"/>\n",
       "<polyline clip-path=\"url(#clip033)\" style=\"stroke:#000000; stroke-linecap:butt; stroke-linejoin:round; stroke-width:2; stroke-opacity:0.1; fill:none\" points=\"\n",
       "  2540.83,888.208 2540.83,113.392 \n",
       "  \"/>\n",
       "<polyline clip-path=\"url(#clip033)\" style=\"stroke:#000000; stroke-linecap:butt; stroke-linejoin:round; stroke-width:2; stroke-opacity:0.1; fill:none\" points=\"\n",
       "  2605.33,888.208 2605.33,113.392 \n",
       "  \"/>\n",
       "<polyline clip-path=\"url(#clip033)\" style=\"stroke:#000000; stroke-linecap:butt; stroke-linejoin:round; stroke-width:2; stroke-opacity:0.1; fill:none\" points=\"\n",
       "  2669.82,888.208 2669.82,113.392 \n",
       "  \"/>\n",
       "<polyline clip-path=\"url(#clip033)\" style=\"stroke:#000000; stroke-linecap:butt; stroke-linejoin:round; stroke-width:2; stroke-opacity:0.1; fill:none\" points=\"\n",
       "  2734.32,888.208 2734.32,113.392 \n",
       "  \"/>\n",
       "<polyline clip-path=\"url(#clip033)\" style=\"stroke:#000000; stroke-linecap:butt; stroke-linejoin:round; stroke-width:2; stroke-opacity:0.1; fill:none\" points=\"\n",
       "  2798.81,888.208 2798.81,113.392 \n",
       "  \"/>\n",
       "<polyline clip-path=\"url(#clip033)\" style=\"stroke:#000000; stroke-linecap:butt; stroke-linejoin:round; stroke-width:2; stroke-opacity:0.1; fill:none\" points=\"\n",
       "  2863.31,888.208 2863.31,113.392 \n",
       "  \"/>\n",
       "<polyline clip-path=\"url(#clip033)\" style=\"stroke:#000000; stroke-linecap:butt; stroke-linejoin:round; stroke-width:2; stroke-opacity:0.1; fill:none\" points=\"\n",
       "  2927.8,888.208 2927.8,113.392 \n",
       "  \"/>\n",
       "<polyline clip-path=\"url(#clip033)\" style=\"stroke:#000000; stroke-linecap:butt; stroke-linejoin:round; stroke-width:2; stroke-opacity:0.1; fill:none\" points=\"\n",
       "  2992.29,888.208 2992.29,113.392 \n",
       "  \"/>\n",
       "<polyline clip-path=\"url(#clip033)\" style=\"stroke:#000000; stroke-linecap:butt; stroke-linejoin:round; stroke-width:2; stroke-opacity:0.1; fill:none\" points=\"\n",
       "  3056.79,888.208 3056.79,113.392 \n",
       "  \"/>\n",
       "<polyline clip-path=\"url(#clip033)\" style=\"stroke:#000000; stroke-linecap:butt; stroke-linejoin:round; stroke-width:2; stroke-opacity:0.1; fill:none\" points=\"\n",
       "  3121.28,888.208 3121.28,113.392 \n",
       "  \"/>\n",
       "<polyline clip-path=\"url(#clip033)\" style=\"stroke:#000000; stroke-linecap:butt; stroke-linejoin:round; stroke-width:2; stroke-opacity:0.1; fill:none\" points=\"\n",
       "  3185.78,888.208 3185.78,113.392 \n",
       "  \"/>\n",
       "<polyline clip-path=\"url(#clip033)\" style=\"stroke:#000000; stroke-linecap:butt; stroke-linejoin:round; stroke-width:2; stroke-opacity:0.1; fill:none\" points=\"\n",
       "  3250.27,888.208 3250.27,113.392 \n",
       "  \"/>\n",
       "<polyline clip-path=\"url(#clip033)\" style=\"stroke:#000000; stroke-linecap:butt; stroke-linejoin:round; stroke-width:2; stroke-opacity:0.1; fill:none\" points=\"\n",
       "  3314.77,888.208 3314.77,113.392 \n",
       "  \"/>\n",
       "<polyline clip-path=\"url(#clip033)\" style=\"stroke:#000000; stroke-linecap:butt; stroke-linejoin:round; stroke-width:2; stroke-opacity:0.1; fill:none\" points=\"\n",
       "  3379.26,888.208 3379.26,113.392 \n",
       "  \"/>\n",
       "<polyline clip-path=\"url(#clip033)\" style=\"stroke:#000000; stroke-linecap:butt; stroke-linejoin:round; stroke-width:2; stroke-opacity:0.1; fill:none\" points=\"\n",
       "  3443.76,888.208 3443.76,113.392 \n",
       "  \"/>\n",
       "<polyline clip-path=\"url(#clip033)\" style=\"stroke:#000000; stroke-linecap:butt; stroke-linejoin:round; stroke-width:2; stroke-opacity:0.1; fill:none\" points=\"\n",
       "  3508.25,888.208 3508.25,113.392 \n",
       "  \"/>\n",
       "<polyline clip-path=\"url(#clip030)\" style=\"stroke:#000000; stroke-linecap:butt; stroke-linejoin:round; stroke-width:4; stroke-opacity:1; fill:none\" points=\"\n",
       "  1980.37,888.208 3552.76,888.208 \n",
       "  \"/>\n",
       "<polyline clip-path=\"url(#clip030)\" style=\"stroke:#000000; stroke-linecap:butt; stroke-linejoin:round; stroke-width:4; stroke-opacity:1; fill:none\" points=\"\n",
       "  2024.87,888.208 2024.87,869.31 \n",
       "  \"/>\n",
       "<polyline clip-path=\"url(#clip030)\" style=\"stroke:#000000; stroke-linecap:butt; stroke-linejoin:round; stroke-width:4; stroke-opacity:1; fill:none\" points=\"\n",
       "  2089.37,888.208 2089.37,869.31 \n",
       "  \"/>\n",
       "<polyline clip-path=\"url(#clip030)\" style=\"stroke:#000000; stroke-linecap:butt; stroke-linejoin:round; stroke-width:4; stroke-opacity:1; fill:none\" points=\"\n",
       "  2153.86,888.208 2153.86,869.31 \n",
       "  \"/>\n",
       "<polyline clip-path=\"url(#clip030)\" style=\"stroke:#000000; stroke-linecap:butt; stroke-linejoin:round; stroke-width:4; stroke-opacity:1; fill:none\" points=\"\n",
       "  2218.36,888.208 2218.36,869.31 \n",
       "  \"/>\n",
       "<polyline clip-path=\"url(#clip030)\" style=\"stroke:#000000; stroke-linecap:butt; stroke-linejoin:round; stroke-width:4; stroke-opacity:1; fill:none\" points=\"\n",
       "  2282.85,888.208 2282.85,869.31 \n",
       "  \"/>\n",
       "<polyline clip-path=\"url(#clip030)\" style=\"stroke:#000000; stroke-linecap:butt; stroke-linejoin:round; stroke-width:4; stroke-opacity:1; fill:none\" points=\"\n",
       "  2347.35,888.208 2347.35,869.31 \n",
       "  \"/>\n",
       "<polyline clip-path=\"url(#clip030)\" style=\"stroke:#000000; stroke-linecap:butt; stroke-linejoin:round; stroke-width:4; stroke-opacity:1; fill:none\" points=\"\n",
       "  2411.84,888.208 2411.84,869.31 \n",
       "  \"/>\n",
       "<polyline clip-path=\"url(#clip030)\" style=\"stroke:#000000; stroke-linecap:butt; stroke-linejoin:round; stroke-width:4; stroke-opacity:1; fill:none\" points=\"\n",
       "  2476.34,888.208 2476.34,869.31 \n",
       "  \"/>\n",
       "<polyline clip-path=\"url(#clip030)\" style=\"stroke:#000000; stroke-linecap:butt; stroke-linejoin:round; stroke-width:4; stroke-opacity:1; fill:none\" points=\"\n",
       "  2540.83,888.208 2540.83,869.31 \n",
       "  \"/>\n",
       "<polyline clip-path=\"url(#clip030)\" style=\"stroke:#000000; stroke-linecap:butt; stroke-linejoin:round; stroke-width:4; stroke-opacity:1; fill:none\" points=\"\n",
       "  2605.33,888.208 2605.33,869.31 \n",
       "  \"/>\n",
       "<polyline clip-path=\"url(#clip030)\" style=\"stroke:#000000; stroke-linecap:butt; stroke-linejoin:round; stroke-width:4; stroke-opacity:1; fill:none\" points=\"\n",
       "  2669.82,888.208 2669.82,869.31 \n",
       "  \"/>\n",
       "<polyline clip-path=\"url(#clip030)\" style=\"stroke:#000000; stroke-linecap:butt; stroke-linejoin:round; stroke-width:4; stroke-opacity:1; fill:none\" points=\"\n",
       "  2734.32,888.208 2734.32,869.31 \n",
       "  \"/>\n",
       "<polyline clip-path=\"url(#clip030)\" style=\"stroke:#000000; stroke-linecap:butt; stroke-linejoin:round; stroke-width:4; stroke-opacity:1; fill:none\" points=\"\n",
       "  2798.81,888.208 2798.81,869.31 \n",
       "  \"/>\n",
       "<polyline clip-path=\"url(#clip030)\" style=\"stroke:#000000; stroke-linecap:butt; stroke-linejoin:round; stroke-width:4; stroke-opacity:1; fill:none\" points=\"\n",
       "  2863.31,888.208 2863.31,869.31 \n",
       "  \"/>\n",
       "<polyline clip-path=\"url(#clip030)\" style=\"stroke:#000000; stroke-linecap:butt; stroke-linejoin:round; stroke-width:4; stroke-opacity:1; fill:none\" points=\"\n",
       "  2927.8,888.208 2927.8,869.31 \n",
       "  \"/>\n",
       "<polyline clip-path=\"url(#clip030)\" style=\"stroke:#000000; stroke-linecap:butt; stroke-linejoin:round; stroke-width:4; stroke-opacity:1; fill:none\" points=\"\n",
       "  2992.29,888.208 2992.29,869.31 \n",
       "  \"/>\n",
       "<polyline clip-path=\"url(#clip030)\" style=\"stroke:#000000; stroke-linecap:butt; stroke-linejoin:round; stroke-width:4; stroke-opacity:1; fill:none\" points=\"\n",
       "  3056.79,888.208 3056.79,869.31 \n",
       "  \"/>\n",
       "<polyline clip-path=\"url(#clip030)\" style=\"stroke:#000000; stroke-linecap:butt; stroke-linejoin:round; stroke-width:4; stroke-opacity:1; fill:none\" points=\"\n",
       "  3121.28,888.208 3121.28,869.31 \n",
       "  \"/>\n",
       "<polyline clip-path=\"url(#clip030)\" style=\"stroke:#000000; stroke-linecap:butt; stroke-linejoin:round; stroke-width:4; stroke-opacity:1; fill:none\" points=\"\n",
       "  3185.78,888.208 3185.78,869.31 \n",
       "  \"/>\n",
       "<polyline clip-path=\"url(#clip030)\" style=\"stroke:#000000; stroke-linecap:butt; stroke-linejoin:round; stroke-width:4; stroke-opacity:1; fill:none\" points=\"\n",
       "  3250.27,888.208 3250.27,869.31 \n",
       "  \"/>\n",
       "<polyline clip-path=\"url(#clip030)\" style=\"stroke:#000000; stroke-linecap:butt; stroke-linejoin:round; stroke-width:4; stroke-opacity:1; fill:none\" points=\"\n",
       "  3314.77,888.208 3314.77,869.31 \n",
       "  \"/>\n",
       "<polyline clip-path=\"url(#clip030)\" style=\"stroke:#000000; stroke-linecap:butt; stroke-linejoin:round; stroke-width:4; stroke-opacity:1; fill:none\" points=\"\n",
       "  3379.26,888.208 3379.26,869.31 \n",
       "  \"/>\n",
       "<polyline clip-path=\"url(#clip030)\" style=\"stroke:#000000; stroke-linecap:butt; stroke-linejoin:round; stroke-width:4; stroke-opacity:1; fill:none\" points=\"\n",
       "  3443.76,888.208 3443.76,869.31 \n",
       "  \"/>\n",
       "<polyline clip-path=\"url(#clip030)\" style=\"stroke:#000000; stroke-linecap:butt; stroke-linejoin:round; stroke-width:4; stroke-opacity:1; fill:none\" points=\"\n",
       "  3508.25,888.208 3508.25,869.31 \n",
       "  \"/>\n",
       "<path clip-path=\"url(#clip030)\" d=\"M2024.87 928.727 Q2021.26 928.727 2019.43 932.291 Q2017.63 935.833 2017.63 942.963 Q2017.63 950.069 2019.43 953.634 Q2021.26 957.175 2024.87 957.175 Q2028.51 957.175 2030.31 953.634 Q2032.14 950.069 2032.14 942.963 Q2032.14 935.833 2030.31 932.291 Q2028.51 928.727 2024.87 928.727 M2024.87 925.023 Q2030.68 925.023 2033.74 929.629 Q2036.82 934.213 2036.82 942.963 Q2036.82 951.689 2033.74 956.296 Q2030.68 960.879 2024.87 960.879 Q2019.06 960.879 2015.98 956.296 Q2012.93 951.689 2012.93 942.963 Q2012.93 934.213 2015.98 929.629 Q2019.06 925.023 2024.87 925.023 Z\" fill=\"#000000\" fill-rule=\"evenodd\" fill-opacity=\"1\" /><path clip-path=\"url(#clip030)\" d=\"M2079.75 956.273 L2087.39 956.273 L2087.39 929.907 L2079.08 931.574 L2079.08 927.315 L2087.34 925.648 L2092.02 925.648 L2092.02 956.273 L2099.66 956.273 L2099.66 960.208 L2079.75 960.208 L2079.75 956.273 Z\" fill=\"#000000\" fill-rule=\"evenodd\" fill-opacity=\"1\" /><path clip-path=\"url(#clip030)\" d=\"M2148.51 956.273 L2164.83 956.273 L2164.83 960.208 L2142.89 960.208 L2142.89 956.273 Q2145.55 953.518 2150.13 948.888 Q2154.74 944.236 2155.92 942.893 Q2158.17 940.37 2159.05 938.634 Q2159.95 936.875 2159.95 935.185 Q2159.95 932.43 2158 930.694 Q2156.08 928.958 2152.98 928.958 Q2150.78 928.958 2148.33 929.722 Q2145.9 930.486 2143.12 932.037 L2143.12 927.315 Q2145.94 926.18 2148.4 925.602 Q2150.85 925.023 2152.89 925.023 Q2158.26 925.023 2161.45 927.708 Q2164.65 930.393 2164.65 934.884 Q2164.65 937.014 2163.84 938.935 Q2163.05 940.833 2160.94 943.426 Q2160.37 944.097 2157.26 947.314 Q2154.16 950.509 2148.51 956.273 Z\" fill=\"#000000\" fill-rule=\"evenodd\" fill-opacity=\"1\" /><path clip-path=\"url(#clip030)\" d=\"M2222.6 941.574 Q2225.96 942.291 2227.83 944.56 Q2229.73 946.828 2229.73 950.162 Q2229.73 955.277 2226.21 958.078 Q2222.7 960.879 2216.21 960.879 Q2214.04 960.879 2211.72 960.439 Q2209.43 960.023 2206.98 959.166 L2206.98 954.652 Q2208.92 955.787 2211.24 956.365 Q2213.55 956.944 2216.08 956.944 Q2220.47 956.944 2222.77 955.208 Q2225.08 953.472 2225.08 950.162 Q2225.08 947.106 2222.93 945.393 Q2220.8 943.657 2216.98 943.657 L2212.95 943.657 L2212.95 939.814 L2217.16 939.814 Q2220.61 939.814 2222.44 938.449 Q2224.27 937.06 2224.27 934.467 Q2224.27 931.805 2222.37 930.393 Q2220.5 928.958 2216.98 928.958 Q2215.06 928.958 2212.86 929.375 Q2210.66 929.791 2208.02 930.671 L2208.02 926.504 Q2210.68 925.764 2213 925.393 Q2215.34 925.023 2217.4 925.023 Q2222.72 925.023 2225.82 927.453 Q2228.92 929.861 2228.92 933.981 Q2228.92 936.852 2227.28 938.842 Q2225.64 940.81 2222.6 941.574 Z\" fill=\"#000000\" fill-rule=\"evenodd\" fill-opacity=\"1\" /><path clip-path=\"url(#clip030)\" d=\"M2285.86 929.722 L2274.05 948.171 L2285.86 948.171 L2285.86 929.722 M2284.63 925.648 L2290.51 925.648 L2290.51 948.171 L2295.44 948.171 L2295.44 952.06 L2290.51 952.06 L2290.51 960.208 L2285.86 960.208 L2285.86 952.06 L2270.26 952.06 L2270.26 947.546 L2284.63 925.648 Z\" fill=\"#000000\" fill-rule=\"evenodd\" fill-opacity=\"1\" /><path clip-path=\"url(#clip030)\" d=\"M2337.62 925.648 L2355.98 925.648 L2355.98 929.583 L2341.91 929.583 L2341.91 938.055 Q2342.92 937.708 2343.94 937.546 Q2344.96 937.361 2345.98 937.361 Q2351.77 937.361 2355.15 940.532 Q2358.53 943.703 2358.53 949.12 Q2358.53 954.699 2355.05 957.8 Q2351.58 960.879 2345.26 960.879 Q2343.09 960.879 2340.82 960.509 Q2338.57 960.138 2336.17 959.398 L2336.17 954.699 Q2338.25 955.833 2340.47 956.388 Q2342.69 956.944 2345.17 956.944 Q2349.17 956.944 2351.51 954.838 Q2353.85 952.731 2353.85 949.12 Q2353.85 945.509 2351.51 943.402 Q2349.17 941.296 2345.17 941.296 Q2343.29 941.296 2341.42 941.713 Q2339.57 942.129 2337.62 943.009 L2337.62 925.648 Z\" fill=\"#000000\" fill-rule=\"evenodd\" fill-opacity=\"1\" /><path clip-path=\"url(#clip030)\" d=\"M2412.25 941.064 Q2409.1 941.064 2407.25 943.217 Q2405.42 945.37 2405.42 949.12 Q2405.42 952.847 2407.25 955.023 Q2409.1 957.175 2412.25 957.175 Q2415.39 957.175 2417.22 955.023 Q2419.07 952.847 2419.07 949.12 Q2419.07 945.37 2417.22 943.217 Q2415.39 941.064 2412.25 941.064 M2421.53 926.412 L2421.53 930.671 Q2419.77 929.838 2417.96 929.398 Q2416.18 928.958 2414.42 928.958 Q2409.79 928.958 2407.34 932.083 Q2404.91 935.208 2404.56 941.527 Q2405.93 939.514 2407.99 938.449 Q2410.05 937.361 2412.52 937.361 Q2417.73 937.361 2420.74 940.532 Q2423.77 943.68 2423.77 949.12 Q2423.77 954.444 2420.63 957.662 Q2417.48 960.879 2412.25 960.879 Q2406.25 960.879 2403.08 956.296 Q2399.91 951.689 2399.91 942.963 Q2399.91 934.768 2403.8 929.907 Q2407.69 925.023 2414.24 925.023 Q2416 925.023 2417.78 925.37 Q2419.58 925.717 2421.53 926.412 Z\" fill=\"#000000\" fill-rule=\"evenodd\" fill-opacity=\"1\" /><path clip-path=\"url(#clip030)\" d=\"M2465.22 925.648 L2487.45 925.648 L2487.45 927.639 L2474.9 960.208 L2470.02 960.208 L2481.82 929.583 L2465.22 929.583 L2465.22 925.648 Z\" fill=\"#000000\" fill-rule=\"evenodd\" fill-opacity=\"1\" /><path clip-path=\"url(#clip030)\" d=\"M2540.83 943.796 Q2537.5 943.796 2535.58 945.578 Q2533.68 947.361 2533.68 950.486 Q2533.68 953.611 2535.58 955.393 Q2537.5 957.175 2540.83 957.175 Q2544.16 957.175 2546.09 955.393 Q2548.01 953.588 2548.01 950.486 Q2548.01 947.361 2546.09 945.578 Q2544.19 943.796 2540.83 943.796 M2536.15 941.805 Q2533.15 941.064 2531.46 939.004 Q2529.79 936.944 2529.79 933.981 Q2529.79 929.838 2532.73 927.43 Q2535.69 925.023 2540.83 925.023 Q2545.99 925.023 2548.93 927.43 Q2551.87 929.838 2551.87 933.981 Q2551.87 936.944 2550.18 939.004 Q2548.52 941.064 2545.53 941.805 Q2548.91 942.592 2550.78 944.884 Q2552.68 947.176 2552.68 950.486 Q2552.68 955.509 2549.6 958.194 Q2546.55 960.879 2540.83 960.879 Q2535.11 960.879 2532.03 958.194 Q2528.98 955.509 2528.98 950.486 Q2528.98 947.176 2530.88 944.884 Q2532.77 942.592 2536.15 941.805 M2534.44 934.421 Q2534.44 937.106 2536.11 938.611 Q2537.8 940.115 2540.83 940.115 Q2543.84 940.115 2545.53 938.611 Q2547.24 937.106 2547.24 934.421 Q2547.24 931.736 2545.53 930.231 Q2543.84 928.727 2540.83 928.727 Q2537.8 928.727 2536.11 930.231 Q2534.44 931.736 2534.44 934.421 Z\" fill=\"#000000\" fill-rule=\"evenodd\" fill-opacity=\"1\" /><path clip-path=\"url(#clip030)\" d=\"M2595.63 959.49 L2595.63 955.231 Q2597.39 956.064 2599.19 956.504 Q2601 956.944 2602.73 956.944 Q2607.36 956.944 2609.79 953.842 Q2612.25 950.717 2612.59 944.375 Q2611.25 946.365 2609.19 947.43 Q2607.13 948.495 2604.63 948.495 Q2599.45 948.495 2596.41 945.37 Q2593.4 942.222 2593.4 936.782 Q2593.4 931.458 2596.55 928.24 Q2599.7 925.023 2604.93 925.023 Q2610.93 925.023 2614.08 929.629 Q2617.25 934.213 2617.25 942.963 Q2617.25 951.134 2613.36 956.018 Q2609.49 960.879 2602.94 960.879 Q2601.18 960.879 2599.38 960.532 Q2597.57 960.185 2595.63 959.49 M2604.93 944.838 Q2608.08 944.838 2609.91 942.685 Q2611.76 940.532 2611.76 936.782 Q2611.76 933.055 2609.91 930.902 Q2608.08 928.727 2604.93 928.727 Q2601.78 928.727 2599.93 930.902 Q2598.1 933.055 2598.1 936.782 Q2598.1 940.532 2599.93 942.685 Q2601.78 944.838 2604.93 944.838 Z\" fill=\"#000000\" fill-rule=\"evenodd\" fill-opacity=\"1\" /><path clip-path=\"url(#clip030)\" d=\"M2644.51 956.273 L2652.15 956.273 L2652.15 929.907 L2643.84 931.574 L2643.84 927.315 L2652.1 925.648 L2656.78 925.648 L2656.78 956.273 L2664.42 956.273 L2664.42 960.208 L2644.51 960.208 L2644.51 956.273 Z\" fill=\"#000000\" fill-rule=\"evenodd\" fill-opacity=\"1\" /><path clip-path=\"url(#clip030)\" d=\"M2683.86 928.727 Q2680.25 928.727 2678.42 932.291 Q2676.61 935.833 2676.61 942.963 Q2676.61 950.069 2678.42 953.634 Q2680.25 957.175 2683.86 957.175 Q2687.49 957.175 2689.3 953.634 Q2691.13 950.069 2691.13 942.963 Q2691.13 935.833 2689.3 932.291 Q2687.49 928.727 2683.86 928.727 M2683.86 925.023 Q2689.67 925.023 2692.73 929.629 Q2695.8 934.213 2695.8 942.963 Q2695.8 951.689 2692.73 956.296 Q2689.67 960.879 2683.86 960.879 Q2678.05 960.879 2674.97 956.296 Q2671.92 951.689 2671.92 942.963 Q2671.92 934.213 2674.97 929.629 Q2678.05 925.023 2683.86 925.023 Z\" fill=\"#000000\" fill-rule=\"evenodd\" fill-opacity=\"1\" /><path clip-path=\"url(#clip030)\" d=\"M2709.62 956.273 L2717.26 956.273 L2717.26 929.907 L2708.95 931.574 L2708.95 927.315 L2717.21 925.648 L2721.88 925.648 L2721.88 956.273 L2729.52 956.273 L2729.52 960.208 L2709.62 960.208 L2709.62 956.273 Z\" fill=\"#000000\" fill-rule=\"evenodd\" fill-opacity=\"1\" /><path clip-path=\"url(#clip030)\" d=\"M2739.78 956.273 L2747.42 956.273 L2747.42 929.907 L2739.11 931.574 L2739.11 927.315 L2747.37 925.648 L2752.05 925.648 L2752.05 956.273 L2759.69 956.273 L2759.69 960.208 L2739.78 960.208 L2739.78 956.273 Z\" fill=\"#000000\" fill-rule=\"evenodd\" fill-opacity=\"1\" /><path clip-path=\"url(#clip030)\" d=\"M2774.3 956.273 L2781.94 956.273 L2781.94 929.907 L2773.63 931.574 L2773.63 927.315 L2781.89 925.648 L2786.56 925.648 L2786.56 956.273 L2794.2 956.273 L2794.2 960.208 L2774.3 960.208 L2774.3 956.273 Z\" fill=\"#000000\" fill-rule=\"evenodd\" fill-opacity=\"1\" /><path clip-path=\"url(#clip030)\" d=\"M2807.68 956.273 L2824 956.273 L2824 960.208 L2802.05 960.208 L2802.05 956.273 Q2804.71 953.518 2809.3 948.888 Q2813.9 944.236 2815.08 942.893 Q2817.33 940.37 2818.21 938.634 Q2819.11 936.875 2819.11 935.185 Q2819.11 932.43 2817.17 930.694 Q2815.25 928.958 2812.14 928.958 Q2809.94 928.958 2807.49 929.722 Q2805.06 930.486 2802.28 932.037 L2802.28 927.315 Q2805.11 926.18 2807.56 925.602 Q2810.01 925.023 2812.05 925.023 Q2817.42 925.023 2820.62 927.708 Q2823.81 930.393 2823.81 934.884 Q2823.81 937.014 2823 938.935 Q2822.21 940.833 2820.11 943.426 Q2819.53 944.097 2816.43 947.314 Q2813.32 950.509 2807.68 956.273 Z\" fill=\"#000000\" fill-rule=\"evenodd\" fill-opacity=\"1\" /><path clip-path=\"url(#clip030)\" d=\"M2838.32 956.273 L2845.96 956.273 L2845.96 929.907 L2837.65 931.574 L2837.65 927.315 L2845.91 925.648 L2850.59 925.648 L2850.59 956.273 L2858.22 956.273 L2858.22 960.208 L2838.32 960.208 L2838.32 956.273 Z\" fill=\"#000000\" fill-rule=\"evenodd\" fill-opacity=\"1\" /><path clip-path=\"url(#clip030)\" d=\"M2881.84 941.574 Q2885.19 942.291 2887.07 944.56 Q2888.96 946.828 2888.96 950.162 Q2888.96 955.277 2885.45 958.078 Q2881.93 960.879 2875.45 960.879 Q2873.27 960.879 2870.96 960.439 Q2868.66 960.023 2866.21 959.166 L2866.21 954.652 Q2868.15 955.787 2870.47 956.365 Q2872.78 956.944 2875.31 956.944 Q2879.71 956.944 2882 955.208 Q2884.31 953.472 2884.31 950.162 Q2884.31 947.106 2882.16 945.393 Q2880.03 943.657 2876.21 943.657 L2872.18 943.657 L2872.18 939.814 L2876.4 939.814 Q2879.84 939.814 2881.67 938.449 Q2883.5 937.06 2883.5 934.467 Q2883.5 931.805 2881.6 930.393 Q2879.73 928.958 2876.21 928.958 Q2874.29 928.958 2872.09 929.375 Q2869.89 929.791 2867.25 930.671 L2867.25 926.504 Q2869.91 925.764 2872.23 925.393 Q2874.57 925.023 2876.63 925.023 Q2881.95 925.023 2885.05 927.453 Q2888.15 929.861 2888.15 933.981 Q2888.15 936.852 2886.51 938.842 Q2884.87 940.81 2881.84 941.574 Z\" fill=\"#000000\" fill-rule=\"evenodd\" fill-opacity=\"1\" /><path clip-path=\"url(#clip030)\" d=\"M2902.24 956.273 L2909.88 956.273 L2909.88 929.907 L2901.57 931.574 L2901.57 927.315 L2909.84 925.648 L2914.51 925.648 L2914.51 956.273 L2922.15 956.273 L2922.15 960.208 L2902.24 960.208 L2902.24 956.273 Z\" fill=\"#000000\" fill-rule=\"evenodd\" fill-opacity=\"1\" /><path clip-path=\"url(#clip030)\" d=\"M2944.44 929.722 L2932.64 948.171 L2944.44 948.171 L2944.44 929.722 M2943.22 925.648 L2949.1 925.648 L2949.1 948.171 L2954.03 948.171 L2954.03 952.06 L2949.1 952.06 L2949.1 960.208 L2944.44 960.208 L2944.44 952.06 L2928.84 952.06 L2928.84 947.546 L2943.22 925.648 Z\" fill=\"#000000\" fill-rule=\"evenodd\" fill-opacity=\"1\" /><path clip-path=\"url(#clip030)\" d=\"M2967.48 956.273 L2975.12 956.273 L2975.12 929.907 L2966.81 931.574 L2966.81 927.315 L2975.07 925.648 L2979.75 925.648 L2979.75 956.273 L2987.39 956.273 L2987.39 960.208 L2967.48 960.208 L2967.48 956.273 Z\" fill=\"#000000\" fill-rule=\"evenodd\" fill-opacity=\"1\" /><path clip-path=\"url(#clip030)\" d=\"M2996.88 925.648 L3015.23 925.648 L3015.23 929.583 L3001.16 929.583 L3001.16 938.055 Q3002.18 937.708 3003.2 937.546 Q3004.22 937.361 3005.23 937.361 Q3011.02 937.361 3014.4 940.532 Q3017.78 943.703 3017.78 949.12 Q3017.78 954.699 3014.31 957.8 Q3010.84 960.879 3004.52 960.879 Q3002.34 960.879 3000.07 960.509 Q2997.83 960.138 2995.42 959.398 L2995.42 954.699 Q2997.5 955.833 2999.73 956.388 Q3001.95 956.944 3004.42 956.944 Q3008.43 956.944 3010.77 954.838 Q3013.11 952.731 3013.11 949.12 Q3013.11 945.509 3010.77 943.402 Q3008.43 941.296 3004.42 941.296 Q3002.55 941.296 3000.67 941.713 Q2998.82 942.129 2996.88 943.009 L2996.88 925.648 Z\" fill=\"#000000\" fill-rule=\"evenodd\" fill-opacity=\"1\" /><path clip-path=\"url(#clip030)\" d=\"M3031.4 956.273 L3039.04 956.273 L3039.04 929.907 L3030.73 931.574 L3030.73 927.315 L3038.99 925.648 L3043.66 925.648 L3043.66 956.273 L3051.3 956.273 L3051.3 960.208 L3031.4 960.208 L3031.4 956.273 Z\" fill=\"#000000\" fill-rule=\"evenodd\" fill-opacity=\"1\" /><path clip-path=\"url(#clip030)\" d=\"M3071.33 941.064 Q3068.18 941.064 3066.33 943.217 Q3064.5 945.37 3064.5 949.12 Q3064.5 952.847 3066.33 955.023 Q3068.18 957.175 3071.33 957.175 Q3074.47 957.175 3076.3 955.023 Q3078.16 952.847 3078.16 949.12 Q3078.16 945.37 3076.3 943.217 Q3074.47 941.064 3071.33 941.064 M3080.61 926.412 L3080.61 930.671 Q3078.85 929.838 3077.04 929.398 Q3075.26 928.958 3073.5 928.958 Q3068.87 928.958 3066.42 932.083 Q3063.99 935.208 3063.64 941.527 Q3065.01 939.514 3067.07 938.449 Q3069.13 937.361 3071.6 937.361 Q3076.81 937.361 3079.82 940.532 Q3082.85 943.68 3082.85 949.12 Q3082.85 954.444 3079.71 957.662 Q3076.56 960.879 3071.33 960.879 Q3065.33 960.879 3062.16 956.296 Q3058.99 951.689 3058.99 942.963 Q3058.99 934.768 3062.88 929.907 Q3066.77 925.023 3073.32 925.023 Q3075.08 925.023 3076.86 925.37 Q3078.66 925.717 3080.61 926.412 Z\" fill=\"#000000\" fill-rule=\"evenodd\" fill-opacity=\"1\" /><path clip-path=\"url(#clip030)\" d=\"M3096.42 956.273 L3104.06 956.273 L3104.06 929.907 L3095.75 931.574 L3095.75 927.315 L3104.02 925.648 L3108.69 925.648 L3108.69 956.273 L3116.33 956.273 L3116.33 960.208 L3096.42 960.208 L3096.42 956.273 Z\" fill=\"#000000\" fill-rule=\"evenodd\" fill-opacity=\"1\" /><path clip-path=\"url(#clip030)\" d=\"M3124.6 925.648 L3146.82 925.648 L3146.82 927.639 L3134.27 960.208 L3129.39 960.208 L3141.19 929.583 L3124.6 929.583 L3124.6 925.648 Z\" fill=\"#000000\" fill-rule=\"evenodd\" fill-opacity=\"1\" /><path clip-path=\"url(#clip030)\" d=\"M3160.51 956.273 L3168.15 956.273 L3168.15 929.907 L3159.84 931.574 L3159.84 927.315 L3168.11 925.648 L3172.78 925.648 L3172.78 956.273 L3180.42 956.273 L3180.42 960.208 L3160.51 960.208 L3160.51 956.273 Z\" fill=\"#000000\" fill-rule=\"evenodd\" fill-opacity=\"1\" /><path clip-path=\"url(#clip030)\" d=\"M3199.87 943.796 Q3196.53 943.796 3194.61 945.578 Q3192.71 947.361 3192.71 950.486 Q3192.71 953.611 3194.61 955.393 Q3196.53 957.175 3199.87 957.175 Q3203.2 957.175 3205.12 955.393 Q3207.04 953.588 3207.04 950.486 Q3207.04 947.361 3205.12 945.578 Q3203.22 943.796 3199.87 943.796 M3195.19 941.805 Q3192.18 941.064 3190.49 939.004 Q3188.82 936.944 3188.82 933.981 Q3188.82 929.838 3191.76 927.43 Q3194.73 925.023 3199.87 925.023 Q3205.03 925.023 3207.97 927.43 Q3210.91 929.838 3210.91 933.981 Q3210.91 936.944 3209.22 939.004 Q3207.55 941.064 3204.56 941.805 Q3207.94 942.592 3209.82 944.884 Q3211.72 947.176 3211.72 950.486 Q3211.72 955.509 3208.64 958.194 Q3205.58 960.879 3199.87 960.879 Q3194.15 960.879 3191.07 958.194 Q3188.01 955.509 3188.01 950.486 Q3188.01 947.176 3189.91 944.884 Q3191.81 942.592 3195.19 941.805 M3193.48 934.421 Q3193.48 937.106 3195.14 938.611 Q3196.83 940.115 3199.87 940.115 Q3202.87 940.115 3204.56 938.611 Q3206.28 937.106 3206.28 934.421 Q3206.28 931.736 3204.56 930.231 Q3202.87 928.727 3199.87 928.727 Q3196.83 928.727 3195.14 930.231 Q3193.48 931.736 3193.48 934.421 Z\" fill=\"#000000\" fill-rule=\"evenodd\" fill-opacity=\"1\" /><path clip-path=\"url(#clip030)\" d=\"M3225.05 956.273 L3232.69 956.273 L3232.69 929.907 L3224.38 931.574 L3224.38 927.315 L3232.65 925.648 L3237.32 925.648 L3237.32 956.273 L3244.96 956.273 L3244.96 960.208 L3225.05 960.208 L3225.05 956.273 Z\" fill=\"#000000\" fill-rule=\"evenodd\" fill-opacity=\"1\" /><path clip-path=\"url(#clip030)\" d=\"M3254.55 959.49 L3254.55 955.231 Q3256.3 956.064 3258.11 956.504 Q3259.92 956.944 3261.65 956.944 Q3266.28 956.944 3268.71 953.842 Q3271.17 950.717 3271.51 944.375 Q3270.17 946.365 3268.11 947.43 Q3266.05 948.495 3263.55 948.495 Q3258.36 948.495 3255.33 945.37 Q3252.32 942.222 3252.32 936.782 Q3252.32 931.458 3255.47 928.24 Q3258.62 925.023 3263.85 925.023 Q3269.85 925.023 3272.99 929.629 Q3276.17 934.213 3276.17 942.963 Q3276.17 951.134 3272.28 956.018 Q3268.41 960.879 3261.86 960.879 Q3260.1 960.879 3258.3 960.532 Q3256.49 960.185 3254.55 959.49 M3263.85 944.838 Q3267 944.838 3268.83 942.685 Q3270.68 940.532 3270.68 936.782 Q3270.68 933.055 3268.83 930.902 Q3267 928.727 3263.85 928.727 Q3260.7 928.727 3258.85 930.902 Q3257.02 933.055 3257.02 936.782 Q3257.02 940.532 3258.85 942.685 Q3260.7 944.838 3263.85 944.838 Z\" fill=\"#000000\" fill-rule=\"evenodd\" fill-opacity=\"1\" /><path clip-path=\"url(#clip030)\" d=\"M3293.54 956.273 L3309.86 956.273 L3309.86 960.208 L3287.92 960.208 L3287.92 956.273 Q3290.58 953.518 3295.16 948.888 Q3299.77 944.236 3300.95 942.893 Q3303.2 940.37 3304.08 938.634 Q3304.98 936.875 3304.98 935.185 Q3304.98 932.43 3303.03 930.694 Q3301.11 928.958 3298.01 928.958 Q3295.81 928.958 3293.36 929.722 Q3290.93 930.486 3288.15 932.037 L3288.15 927.315 Q3290.97 926.18 3293.43 925.602 Q3295.88 925.023 3297.92 925.023 Q3303.29 925.023 3306.48 927.708 Q3309.68 930.393 3309.68 934.884 Q3309.68 937.014 3308.87 938.935 Q3308.08 940.833 3305.97 943.426 Q3305.39 944.097 3302.29 947.314 Q3299.19 950.509 3293.54 956.273 Z\" fill=\"#000000\" fill-rule=\"evenodd\" fill-opacity=\"1\" /><path clip-path=\"url(#clip030)\" d=\"M3329.68 928.727 Q3326.07 928.727 3324.24 932.291 Q3322.43 935.833 3322.43 942.963 Q3322.43 950.069 3324.24 953.634 Q3326.07 957.175 3329.68 957.175 Q3333.31 957.175 3335.12 953.634 Q3336.95 950.069 3336.95 942.963 Q3336.95 935.833 3335.12 932.291 Q3333.31 928.727 3329.68 928.727 M3329.68 925.023 Q3335.49 925.023 3338.54 929.629 Q3341.62 934.213 3341.62 942.963 Q3341.62 951.689 3338.54 956.296 Q3335.49 960.879 3329.68 960.879 Q3323.87 960.879 3320.79 956.296 Q3317.73 951.689 3317.73 942.963 Q3317.73 934.213 3320.79 929.629 Q3323.87 925.023 3329.68 925.023 Z\" fill=\"#000000\" fill-rule=\"evenodd\" fill-opacity=\"1\" /><path clip-path=\"url(#clip030)\" d=\"M3358.65 956.273 L3374.97 956.273 L3374.97 960.208 L3353.03 960.208 L3353.03 956.273 Q3355.69 953.518 3360.27 948.888 Q3364.88 944.236 3366.06 942.893 Q3368.3 940.37 3369.18 938.634 Q3370.09 936.875 3370.09 935.185 Q3370.09 932.43 3368.14 930.694 Q3366.22 928.958 3363.12 928.958 Q3360.92 928.958 3358.47 929.722 Q3356.04 930.486 3353.26 932.037 L3353.26 927.315 Q3356.08 926.18 3358.54 925.602 Q3360.99 925.023 3363.03 925.023 Q3368.4 925.023 3371.59 927.708 Q3374.79 930.393 3374.79 934.884 Q3374.79 937.014 3373.98 938.935 Q3373.19 940.833 3371.08 943.426 Q3370.5 944.097 3367.4 947.314 Q3364.3 950.509 3358.65 956.273 Z\" fill=\"#000000\" fill-rule=\"evenodd\" fill-opacity=\"1\" /><path clip-path=\"url(#clip030)\" d=\"M3385.6 956.273 L3393.23 956.273 L3393.23 929.907 L3384.92 931.574 L3384.92 927.315 L3393.19 925.648 L3397.86 925.648 L3397.86 956.273 L3405.5 956.273 L3405.5 960.208 L3385.6 960.208 L3385.6 956.273 Z\" fill=\"#000000\" fill-rule=\"evenodd\" fill-opacity=\"1\" /><path clip-path=\"url(#clip030)\" d=\"M3423.33 956.273 L3439.65 956.273 L3439.65 960.208 L3417.71 960.208 L3417.71 956.273 Q3420.37 953.518 3424.95 948.888 Q3429.56 944.236 3430.74 942.893 Q3432.98 940.37 3433.86 938.634 Q3434.77 936.875 3434.77 935.185 Q3434.77 932.43 3432.82 930.694 Q3430.9 928.958 3427.8 928.958 Q3425.6 928.958 3423.15 929.722 Q3420.72 930.486 3417.94 932.037 L3417.94 927.315 Q3420.76 926.18 3423.22 925.602 Q3425.67 925.023 3427.71 925.023 Q3433.08 925.023 3436.27 927.708 Q3439.47 930.393 3439.47 934.884 Q3439.47 937.014 3438.66 938.935 Q3437.87 940.833 3435.76 943.426 Q3435.18 944.097 3432.08 947.314 Q3428.98 950.509 3423.33 956.273 Z\" fill=\"#000000\" fill-rule=\"evenodd\" fill-opacity=\"1\" /><path clip-path=\"url(#clip030)\" d=\"M3453.49 956.273 L3469.81 956.273 L3469.81 960.208 L3447.87 960.208 L3447.87 956.273 Q3450.53 953.518 3455.11 948.888 Q3459.72 944.236 3460.9 942.893 Q3463.15 940.37 3464.03 938.634 Q3464.93 936.875 3464.93 935.185 Q3464.93 932.43 3462.98 930.694 Q3461.06 928.958 3457.96 928.958 Q3455.76 928.958 3453.31 929.722 Q3450.88 930.486 3448.1 932.037 L3448.1 927.315 Q3450.92 926.18 3453.38 925.602 Q3455.83 925.023 3457.87 925.023 Q3463.24 925.023 3466.43 927.708 Q3469.63 930.393 3469.63 934.884 Q3469.63 937.014 3468.82 938.935 Q3468.03 940.833 3465.92 943.426 Q3465.35 944.097 3462.24 947.314 Q3459.14 950.509 3453.49 956.273 Z\" fill=\"#000000\" fill-rule=\"evenodd\" fill-opacity=\"1\" /><path clip-path=\"url(#clip030)\" d=\"M3487.35 956.273 L3503.67 956.273 L3503.67 960.208 L3481.73 960.208 L3481.73 956.273 Q3484.39 953.518 3488.97 948.888 Q3493.58 944.236 3494.76 942.893 Q3497 940.37 3497.88 938.634 Q3498.79 936.875 3498.79 935.185 Q3498.79 932.43 3496.84 930.694 Q3494.92 928.958 3491.82 928.958 Q3489.62 928.958 3487.17 929.722 Q3484.74 930.486 3481.96 932.037 L3481.96 927.315 Q3484.78 926.18 3487.24 925.602 Q3489.69 925.023 3491.73 925.023 Q3497.1 925.023 3500.29 927.708 Q3503.49 930.393 3503.49 934.884 Q3503.49 937.014 3502.68 938.935 Q3501.89 940.833 3499.78 943.426 Q3499.2 944.097 3496.1 947.314 Q3493 950.509 3487.35 956.273 Z\" fill=\"#000000\" fill-rule=\"evenodd\" fill-opacity=\"1\" /><path clip-path=\"url(#clip030)\" d=\"M3527.65 941.574 Q3531.01 942.291 3532.88 944.56 Q3534.78 946.828 3534.78 950.162 Q3534.78 955.277 3531.26 958.078 Q3527.75 960.879 3521.26 960.879 Q3519.09 960.879 3516.77 960.439 Q3514.48 960.023 3512.03 959.166 L3512.03 954.652 Q3513.97 955.787 3516.29 956.365 Q3518.6 956.944 3521.12 956.944 Q3525.52 956.944 3527.81 955.208 Q3530.13 953.472 3530.13 950.162 Q3530.13 947.106 3527.98 945.393 Q3525.85 943.657 3522.03 943.657 L3518 943.657 L3518 939.814 L3522.21 939.814 Q3525.66 939.814 3527.49 938.449 Q3529.32 937.06 3529.32 934.467 Q3529.32 931.805 3527.42 930.393 Q3525.55 928.958 3522.03 928.958 Q3520.11 928.958 3517.91 929.375 Q3515.71 929.791 3513.07 930.671 L3513.07 926.504 Q3515.73 925.764 3518.05 925.393 Q3520.38 925.023 3522.44 925.023 Q3527.77 925.023 3530.87 927.453 Q3533.97 929.861 3533.97 933.981 Q3533.97 936.852 3532.33 938.842 Q3530.68 940.81 3527.65 941.574 Z\" fill=\"#000000\" fill-rule=\"evenodd\" fill-opacity=\"1\" /><polyline clip-path=\"url(#clip033)\" style=\"stroke:#000000; stroke-linecap:butt; stroke-linejoin:round; stroke-width:2; stroke-opacity:0.1; fill:none\" points=\"\n",
       "  1980.37,888.208 3552.76,888.208 \n",
       "  \"/>\n",
       "<polyline clip-path=\"url(#clip033)\" style=\"stroke:#000000; stroke-linecap:butt; stroke-linejoin:round; stroke-width:2; stroke-opacity:0.1; fill:none\" points=\"\n",
       "  1980.37,629.936 3552.76,629.936 \n",
       "  \"/>\n",
       "<polyline clip-path=\"url(#clip033)\" style=\"stroke:#000000; stroke-linecap:butt; stroke-linejoin:round; stroke-width:2; stroke-opacity:0.1; fill:none\" points=\"\n",
       "  1980.37,371.664 3552.76,371.664 \n",
       "  \"/>\n",
       "<polyline clip-path=\"url(#clip033)\" style=\"stroke:#000000; stroke-linecap:butt; stroke-linejoin:round; stroke-width:2; stroke-opacity:0.1; fill:none\" points=\"\n",
       "  1980.37,113.392 3552.76,113.392 \n",
       "  \"/>\n",
       "<polyline clip-path=\"url(#clip030)\" style=\"stroke:#000000; stroke-linecap:butt; stroke-linejoin:round; stroke-width:4; stroke-opacity:1; fill:none\" points=\"\n",
       "  1980.37,888.208 1980.37,113.392 \n",
       "  \"/>\n",
       "<polyline clip-path=\"url(#clip030)\" style=\"stroke:#000000; stroke-linecap:butt; stroke-linejoin:round; stroke-width:4; stroke-opacity:1; fill:none\" points=\"\n",
       "  1980.37,888.208 1999.27,888.208 \n",
       "  \"/>\n",
       "<polyline clip-path=\"url(#clip030)\" style=\"stroke:#000000; stroke-linecap:butt; stroke-linejoin:round; stroke-width:4; stroke-opacity:1; fill:none\" points=\"\n",
       "  1980.37,629.936 1999.27,629.936 \n",
       "  \"/>\n",
       "<polyline clip-path=\"url(#clip030)\" style=\"stroke:#000000; stroke-linecap:butt; stroke-linejoin:round; stroke-width:4; stroke-opacity:1; fill:none\" points=\"\n",
       "  1980.37,371.664 1999.27,371.664 \n",
       "  \"/>\n",
       "<polyline clip-path=\"url(#clip030)\" style=\"stroke:#000000; stroke-linecap:butt; stroke-linejoin:round; stroke-width:4; stroke-opacity:1; fill:none\" points=\"\n",
       "  1980.37,113.392 1999.27,113.392 \n",
       "  \"/>\n",
       "<path clip-path=\"url(#clip030)\" d=\"M1914.43 874.007 Q1910.81 874.007 1908.99 877.571 Q1907.18 881.113 1907.18 888.243 Q1907.18 895.349 1908.99 898.914 Q1910.81 902.455 1914.43 902.455 Q1918.06 902.455 1919.86 898.914 Q1921.69 895.349 1921.69 888.243 Q1921.69 881.113 1919.86 877.571 Q1918.06 874.007 1914.43 874.007 M1914.43 870.303 Q1920.24 870.303 1923.29 874.909 Q1926.37 879.493 1926.37 888.243 Q1926.37 896.969 1923.29 901.576 Q1920.24 906.159 1914.43 906.159 Q1908.62 906.159 1905.54 901.576 Q1902.48 896.969 1902.48 888.243 Q1902.48 879.493 1905.54 874.909 Q1908.62 870.303 1914.43 870.303 Z\" fill=\"#000000\" fill-rule=\"evenodd\" fill-opacity=\"1\" /><path clip-path=\"url(#clip030)\" d=\"M1919.24 628.582 Q1922.6 629.299 1924.47 631.568 Q1926.37 633.836 1926.37 637.17 Q1926.37 642.285 1922.85 645.086 Q1919.33 647.887 1912.85 647.887 Q1910.68 647.887 1908.36 647.447 Q1906.07 647.031 1903.62 646.174 L1903.62 641.66 Q1905.56 642.795 1907.87 643.373 Q1910.19 643.952 1912.71 643.952 Q1917.11 643.952 1919.4 642.216 Q1921.72 640.48 1921.72 637.17 Q1921.72 634.114 1919.56 632.401 Q1917.43 630.665 1913.61 630.665 L1909.59 630.665 L1909.59 626.823 L1913.8 626.823 Q1917.25 626.823 1919.08 625.457 Q1920.91 624.068 1920.91 621.475 Q1920.91 618.813 1919.01 617.401 Q1917.13 615.966 1913.61 615.966 Q1911.69 615.966 1909.49 616.383 Q1907.3 616.799 1904.66 617.679 L1904.66 613.512 Q1907.32 612.772 1909.63 612.401 Q1911.97 612.031 1914.03 612.031 Q1919.36 612.031 1922.46 614.462 Q1925.56 616.869 1925.56 620.989 Q1925.56 623.86 1923.92 625.85 Q1922.27 627.818 1919.24 628.582 Z\" fill=\"#000000\" fill-rule=\"evenodd\" fill-opacity=\"1\" /><path clip-path=\"url(#clip030)\" d=\"M1914.84 369.801 Q1911.69 369.801 1909.84 371.953 Q1908.01 374.106 1908.01 377.856 Q1908.01 381.583 1909.84 383.759 Q1911.69 385.912 1914.84 385.912 Q1917.99 385.912 1919.82 383.759 Q1921.67 381.583 1921.67 377.856 Q1921.67 374.106 1919.82 371.953 Q1917.99 369.801 1914.84 369.801 M1924.12 355.148 L1924.12 359.407 Q1922.36 358.574 1920.56 358.134 Q1918.78 357.694 1917.02 357.694 Q1912.39 357.694 1909.93 360.819 Q1907.5 363.944 1907.16 370.264 Q1908.52 368.25 1910.58 367.185 Q1912.64 366.097 1915.12 366.097 Q1920.33 366.097 1923.34 369.268 Q1926.37 372.416 1926.37 377.856 Q1926.37 383.18 1923.22 386.398 Q1920.07 389.615 1914.84 389.615 Q1908.85 389.615 1905.68 385.032 Q1902.5 380.426 1902.5 371.699 Q1902.5 363.504 1906.39 358.643 Q1910.28 353.759 1916.83 353.759 Q1918.59 353.759 1920.37 354.106 Q1922.18 354.453 1924.12 355.148 Z\" fill=\"#000000\" fill-rule=\"evenodd\" fill-opacity=\"1\" /><path clip-path=\"url(#clip030)\" d=\"M1904.75 129.955 L1904.75 125.695 Q1906.51 126.529 1908.31 126.968 Q1910.12 127.408 1911.86 127.408 Q1916.49 127.408 1918.92 124.306 Q1921.37 121.181 1921.72 114.839 Q1920.37 116.83 1918.31 117.894 Q1916.25 118.959 1913.75 118.959 Q1908.57 118.959 1905.54 115.834 Q1902.53 112.686 1902.53 107.246 Q1902.53 101.922 1905.68 98.7047 Q1908.82 95.4871 1914.05 95.4871 Q1920.05 95.4871 1923.2 100.094 Q1926.37 104.677 1926.37 113.427 Q1926.37 121.598 1922.48 126.482 Q1918.61 131.343 1912.06 131.343 Q1910.3 131.343 1908.5 130.996 Q1906.69 130.649 1904.75 129.955 M1914.05 115.302 Q1917.2 115.302 1919.03 113.149 Q1920.88 110.996 1920.88 107.246 Q1920.88 103.519 1919.03 101.367 Q1917.2 99.1908 1914.05 99.1908 Q1910.91 99.1908 1909.05 101.367 Q1907.23 103.519 1907.23 107.246 Q1907.23 110.996 1909.05 113.149 Q1910.91 115.302 1914.05 115.302 Z\" fill=\"#000000\" fill-rule=\"evenodd\" fill-opacity=\"1\" /><path clip-path=\"url(#clip030)\" d=\"M2533.64 18.8205 L2533.64 41.5461 L2543.93 41.5461 Q2549.64 41.5461 2552.76 38.5889 Q2555.88 35.6318 2555.88 30.163 Q2555.88 24.7348 2552.76 21.7777 Q2549.64 18.8205 2543.93 18.8205 L2533.64 18.8205 M2525.45 12.096 L2543.93 12.096 Q2554.09 12.096 2559.28 16.714 Q2564.5 21.2916 2564.5 30.163 Q2564.5 39.1155 2559.28 43.6931 Q2554.09 48.2706 2543.93 48.2706 L2533.64 48.2706 L2533.64 72.576 L2525.45 72.576 L2525.45 12.096 Z\" fill=\"#000000\" fill-rule=\"evenodd\" fill-opacity=\"1\" /><path clip-path=\"url(#clip030)\" d=\"M2589.78 32.4315 Q2583.79 32.4315 2580.3 37.1306 Q2576.82 41.7891 2576.82 49.9314 Q2576.82 58.0738 2580.26 62.7728 Q2583.75 67.4314 2589.78 67.4314 Q2595.74 67.4314 2599.22 62.7323 Q2602.7 58.0333 2602.7 49.9314 Q2602.7 41.8701 2599.22 37.1711 Q2595.74 32.4315 2589.78 32.4315 M2589.78 26.1121 Q2599.5 26.1121 2605.05 32.4315 Q2610.6 38.7509 2610.6 49.9314 Q2610.6 61.0714 2605.05 67.4314 Q2599.5 73.7508 2589.78 73.7508 Q2580.02 73.7508 2574.47 67.4314 Q2568.96 61.0714 2568.96 49.9314 Q2568.96 38.7509 2574.47 32.4315 Q2580.02 26.1121 2589.78 26.1121 Z\" fill=\"#000000\" fill-rule=\"evenodd\" fill-opacity=\"1\" /><path clip-path=\"url(#clip030)\" d=\"M2630.33 14.324 L2630.33 27.2059 L2645.68 27.2059 L2645.68 32.9987 L2630.33 32.9987 L2630.33 57.6282 Q2630.33 63.1779 2631.83 64.7578 Q2633.37 66.3376 2638.03 66.3376 L2645.68 66.3376 L2645.68 72.576 L2638.03 72.576 Q2629.4 72.576 2626.12 69.3758 Q2622.84 66.1351 2622.84 57.6282 L2622.84 32.9987 L2617.37 32.9987 L2617.37 27.2059 L2622.84 27.2059 L2622.84 14.324 L2630.33 14.324 Z\" fill=\"#000000\" fill-rule=\"evenodd\" fill-opacity=\"1\" /><path clip-path=\"url(#clip030)\" d=\"M2684.41 28.5427 L2684.41 35.5912 Q2681.25 33.9709 2677.85 33.1607 Q2674.45 32.3505 2670.8 32.3505 Q2665.25 32.3505 2662.45 34.0519 Q2659.7 35.7533 2659.7 39.156 Q2659.7 41.7486 2661.68 43.2475 Q2663.67 44.7058 2669.67 46.0426 L2672.22 46.6097 Q2680.16 48.3111 2683.48 51.4303 Q2686.84 54.509 2686.84 60.0587 Q2686.84 66.3781 2681.82 70.0644 Q2676.84 73.7508 2668.09 73.7508 Q2664.44 73.7508 2660.47 73.0216 Q2656.54 72.3329 2652.17 70.9151 L2652.17 63.2184 Q2656.3 65.3654 2660.31 66.4591 Q2664.32 67.5124 2668.25 67.5124 Q2673.51 67.5124 2676.35 65.73 Q2679.18 63.9071 2679.18 60.6258 Q2679.18 57.5877 2677.12 55.9673 Q2675.09 54.3469 2668.17 52.8481 L2665.57 52.2405 Q2658.65 50.7821 2655.57 47.7845 Q2652.49 44.7463 2652.49 39.4801 Q2652.49 33.0797 2657.03 29.5959 Q2661.56 26.1121 2669.91 26.1121 Q2674.04 26.1121 2677.69 26.7198 Q2681.33 27.3274 2684.41 28.5427 Z\" fill=\"#000000\" fill-rule=\"evenodd\" fill-opacity=\"1\" /><path clip-path=\"url(#clip030)\" d=\"M2728.57 34.0924 L2728.57 9.54393 L2736.02 9.54393 L2736.02 72.576 L2728.57 72.576 L2728.57 65.7705 Q2726.22 69.8214 2722.61 71.8063 Q2719.05 73.7508 2714.02 73.7508 Q2705.8 73.7508 2700.61 67.1883 Q2695.47 60.6258 2695.47 49.9314 Q2695.47 39.2371 2700.61 32.6746 Q2705.8 26.1121 2714.02 26.1121 Q2719.05 26.1121 2722.61 28.0971 Q2726.22 30.0415 2728.57 34.0924 M2703.17 49.9314 Q2703.17 58.1548 2706.53 62.8538 Q2709.93 67.5124 2715.85 67.5124 Q2721.76 67.5124 2725.16 62.8538 Q2728.57 58.1548 2728.57 49.9314 Q2728.57 41.7081 2725.16 37.0496 Q2721.76 32.3505 2715.85 32.3505 Q2709.93 32.3505 2706.53 37.0496 Q2703.17 41.7081 2703.17 49.9314 Z\" fill=\"#000000\" fill-rule=\"evenodd\" fill-opacity=\"1\" /><path clip-path=\"url(#clip030)\" d=\"M2771.99 49.7694 Q2762.96 49.7694 2759.47 51.8354 Q2755.99 53.9013 2755.99 58.8839 Q2755.99 62.8538 2758.58 65.2034 Q2761.22 67.5124 2765.71 67.5124 Q2771.91 67.5124 2775.64 63.1374 Q2779.4 58.7219 2779.4 51.4303 L2779.4 49.7694 L2771.99 49.7694 M2786.86 46.6907 L2786.86 72.576 L2779.4 72.576 L2779.4 65.6895 Q2776.85 69.8214 2773.04 71.8063 Q2769.24 73.7508 2763.73 73.7508 Q2756.76 73.7508 2752.63 69.8619 Q2748.54 65.9325 2748.54 59.3701 Q2748.54 51.7138 2753.64 47.825 Q2758.78 43.9361 2768.95 43.9361 L2779.4 43.9361 L2779.4 43.2069 Q2779.4 38.0623 2776 35.2672 Q2772.64 32.4315 2766.52 32.4315 Q2762.63 32.4315 2758.95 33.3632 Q2755.26 34.295 2751.86 36.1584 L2751.86 29.2718 Q2755.95 27.692 2759.8 26.9223 Q2763.65 26.1121 2767.29 26.1121 Q2777.14 26.1121 2782 31.2163 Q2786.86 36.3204 2786.86 46.6907 Z\" fill=\"#000000\" fill-rule=\"evenodd\" fill-opacity=\"1\" /><path clip-path=\"url(#clip030)\" d=\"M2837.53 35.9153 Q2840.33 30.8922 2844.22 28.5022 Q2848.11 26.1121 2853.37 26.1121 Q2860.46 26.1121 2864.31 31.0947 Q2868.16 36.0368 2868.16 45.1919 L2868.16 72.576 L2860.67 72.576 L2860.67 45.4349 Q2860.67 38.913 2858.36 35.7533 Q2856.05 32.5936 2851.31 32.5936 Q2845.51 32.5936 2842.15 36.4419 Q2838.79 40.2903 2838.79 46.9338 L2838.79 72.576 L2831.3 72.576 L2831.3 45.4349 Q2831.3 38.8725 2828.99 35.7533 Q2826.68 32.5936 2821.86 32.5936 Q2816.15 32.5936 2812.78 36.4824 Q2809.42 40.3308 2809.42 46.9338 L2809.42 72.576 L2801.93 72.576 L2801.93 27.2059 L2809.42 27.2059 L2809.42 34.2544 Q2811.97 30.082 2815.54 28.0971 Q2819.1 26.1121 2824 26.1121 Q2828.95 26.1121 2832.39 28.6237 Q2835.87 31.1352 2837.53 35.9153 Z\" fill=\"#000000\" fill-rule=\"evenodd\" fill-opacity=\"1\" /><path clip-path=\"url(#clip030)\" d=\"M2917.9 18.8205 L2917.9 41.5461 L2928.19 41.5461 Q2933.91 41.5461 2937.02 38.5889 Q2940.14 35.6318 2940.14 30.163 Q2940.14 24.7348 2937.02 21.7777 Q2933.91 18.8205 2928.19 18.8205 L2917.9 18.8205 M2909.72 12.096 L2928.19 12.096 Q2938.36 12.096 2943.55 16.714 Q2948.77 21.2916 2948.77 30.163 Q2948.77 39.1155 2943.55 43.6931 Q2938.36 48.2706 2928.19 48.2706 L2917.9 48.2706 L2917.9 72.576 L2909.72 72.576 L2909.72 12.096 Z\" fill=\"#000000\" fill-rule=\"evenodd\" fill-opacity=\"1\" /><path clip-path=\"url(#clip030)\" d=\"M2975.35 72.576 L2952.26 12.096 L2960.8 12.096 L2979.96 63.0159 L2999.17 12.096 L3007.67 12.096 L2984.62 72.576 L2975.35 72.576 Z\" fill=\"#000000\" fill-rule=\"evenodd\" fill-opacity=\"1\" /><path clip-path=\"url(#clip033)\" d=\"\n",
       "M2024.87 888.208 L2089.37 888.208 L2153.86 888.208 L2218.36 888.208 L2282.85 888.208 L2347.35 888.208 L2411.84 863.586 L2476.34 781.197 L2540.83 648.187 L2605.33 490.039 \n",
       "  L2669.82 364.174 L2734.32 287.984 L2798.81 266.031 L2863.31 278.686 L2927.8 327.155 L2992.29 413.59 L3056.79 514.144 L3121.28 656.28 L3185.78 774.052 L3250.27 854.891 \n",
       "  L3314.77 887.433 L3379.26 888.208 L3443.76 888.208 L3508.25 888.208 L3508.25 888.208 L3443.76 888.208 L3379.26 888.208 L3314.77 888.208 L3250.27 888.208 L3185.78 888.208 \n",
       "  L3121.28 888.208 L3056.79 884.678 L2992.29 818.647 L2927.8 734.106 L2863.31 691.835 L2798.81 659.379 L2734.32 671.604 L2669.82 730.059 L2605.33 804.356 L2540.83 867.46 \n",
       "  L2476.34 888.208 L2411.84 888.208 L2347.35 888.208 L2282.85 888.208 L2218.36 888.208 L2153.86 888.208 L2089.37 888.208 L2024.87 888.208  Z\n",
       "  \" fill=\"#ffd700\" fill-rule=\"evenodd\" fill-opacity=\"0.3\"/>\n",
       "<polyline clip-path=\"url(#clip033)\" style=\"stroke:#ffd700; stroke-linecap:butt; stroke-linejoin:round; stroke-width:0; stroke-opacity:0.3; fill:none\" points=\"\n",
       "  2024.87,888.208 2089.37,888.208 2153.86,888.208 2218.36,888.208 2282.85,888.208 2347.35,888.208 2411.84,863.586 2476.34,781.197 2540.83,648.187 2605.33,490.039 \n",
       "  2669.82,364.174 2734.32,287.984 2798.81,266.031 2863.31,278.686 2927.8,327.155 2992.29,413.59 3056.79,514.144 3121.28,656.28 3185.78,774.052 3250.27,854.891 \n",
       "  3314.77,887.433 3379.26,888.208 3443.76,888.208 3508.25,888.208 \n",
       "  \"/>\n",
       "<polyline clip-path=\"url(#clip033)\" style=\"stroke:#ffd700; stroke-linecap:butt; stroke-linejoin:round; stroke-width:16; stroke-opacity:1; fill:none\" points=\"\n",
       "  2024.87,888.208 2089.37,888.208 2153.86,888.208 2218.36,888.208 2282.85,888.208 2347.35,888.208 2411.84,888.208 2476.34,860.745 2540.83,764.84 2605.33,633.207 \n",
       "  2669.82,514.575 2734.32,426.418 2798.81,427.881 2863.31,461.887 2927.8,540.832 2992.29,620.724 3056.79,738.066 3121.28,814.17 3185.78,869.01 3250.27,888.208 \n",
       "  3314.77,888.208 3379.26,888.208 3443.76,888.208 3508.25,888.208 \n",
       "  \"/>\n",
       "<path clip-path=\"url(#clip030)\" d=\"\n",
       "M208.044 1888.21 L1780.43 1888.21 L1780.43 1113.39 L208.044 1113.39  Z\n",
       "  \" fill=\"#ffffff\" fill-rule=\"evenodd\" fill-opacity=\"1\"/>\n",
       "<defs>\n",
       "  <clipPath id=\"clip034\">\n",
       "    <rect x=\"208\" y=\"1113\" width=\"1573\" height=\"776\"/>\n",
       "  </clipPath>\n",
       "</defs>\n",
       "<polyline clip-path=\"url(#clip034)\" style=\"stroke:#000000; stroke-linecap:butt; stroke-linejoin:round; stroke-width:2; stroke-opacity:0.1; fill:none\" points=\"\n",
       "  252.545,1888.21 252.545,1113.39 \n",
       "  \"/>\n",
       "<polyline clip-path=\"url(#clip034)\" style=\"stroke:#000000; stroke-linecap:butt; stroke-linejoin:round; stroke-width:2; stroke-opacity:0.1; fill:none\" points=\"\n",
       "  317.04,1888.21 317.04,1113.39 \n",
       "  \"/>\n",
       "<polyline clip-path=\"url(#clip034)\" style=\"stroke:#000000; stroke-linecap:butt; stroke-linejoin:round; stroke-width:2; stroke-opacity:0.1; fill:none\" points=\"\n",
       "  381.535,1888.21 381.535,1113.39 \n",
       "  \"/>\n",
       "<polyline clip-path=\"url(#clip034)\" style=\"stroke:#000000; stroke-linecap:butt; stroke-linejoin:round; stroke-width:2; stroke-opacity:0.1; fill:none\" points=\"\n",
       "  446.03,1888.21 446.03,1113.39 \n",
       "  \"/>\n",
       "<polyline clip-path=\"url(#clip034)\" style=\"stroke:#000000; stroke-linecap:butt; stroke-linejoin:round; stroke-width:2; stroke-opacity:0.1; fill:none\" points=\"\n",
       "  510.525,1888.21 510.525,1113.39 \n",
       "  \"/>\n",
       "<polyline clip-path=\"url(#clip034)\" style=\"stroke:#000000; stroke-linecap:butt; stroke-linejoin:round; stroke-width:2; stroke-opacity:0.1; fill:none\" points=\"\n",
       "  575.02,1888.21 575.02,1113.39 \n",
       "  \"/>\n",
       "<polyline clip-path=\"url(#clip034)\" style=\"stroke:#000000; stroke-linecap:butt; stroke-linejoin:round; stroke-width:2; stroke-opacity:0.1; fill:none\" points=\"\n",
       "  639.515,1888.21 639.515,1113.39 \n",
       "  \"/>\n",
       "<polyline clip-path=\"url(#clip034)\" style=\"stroke:#000000; stroke-linecap:butt; stroke-linejoin:round; stroke-width:2; stroke-opacity:0.1; fill:none\" points=\"\n",
       "  704.01,1888.21 704.01,1113.39 \n",
       "  \"/>\n",
       "<polyline clip-path=\"url(#clip034)\" style=\"stroke:#000000; stroke-linecap:butt; stroke-linejoin:round; stroke-width:2; stroke-opacity:0.1; fill:none\" points=\"\n",
       "  768.504,1888.21 768.504,1113.39 \n",
       "  \"/>\n",
       "<polyline clip-path=\"url(#clip034)\" style=\"stroke:#000000; stroke-linecap:butt; stroke-linejoin:round; stroke-width:2; stroke-opacity:0.1; fill:none\" points=\"\n",
       "  832.999,1888.21 832.999,1113.39 \n",
       "  \"/>\n",
       "<polyline clip-path=\"url(#clip034)\" style=\"stroke:#000000; stroke-linecap:butt; stroke-linejoin:round; stroke-width:2; stroke-opacity:0.1; fill:none\" points=\"\n",
       "  897.494,1888.21 897.494,1113.39 \n",
       "  \"/>\n",
       "<polyline clip-path=\"url(#clip034)\" style=\"stroke:#000000; stroke-linecap:butt; stroke-linejoin:round; stroke-width:2; stroke-opacity:0.1; fill:none\" points=\"\n",
       "  961.989,1888.21 961.989,1113.39 \n",
       "  \"/>\n",
       "<polyline clip-path=\"url(#clip034)\" style=\"stroke:#000000; stroke-linecap:butt; stroke-linejoin:round; stroke-width:2; stroke-opacity:0.1; fill:none\" points=\"\n",
       "  1026.48,1888.21 1026.48,1113.39 \n",
       "  \"/>\n",
       "<polyline clip-path=\"url(#clip034)\" style=\"stroke:#000000; stroke-linecap:butt; stroke-linejoin:round; stroke-width:2; stroke-opacity:0.1; fill:none\" points=\"\n",
       "  1090.98,1888.21 1090.98,1113.39 \n",
       "  \"/>\n",
       "<polyline clip-path=\"url(#clip034)\" style=\"stroke:#000000; stroke-linecap:butt; stroke-linejoin:round; stroke-width:2; stroke-opacity:0.1; fill:none\" points=\"\n",
       "  1155.47,1888.21 1155.47,1113.39 \n",
       "  \"/>\n",
       "<polyline clip-path=\"url(#clip034)\" style=\"stroke:#000000; stroke-linecap:butt; stroke-linejoin:round; stroke-width:2; stroke-opacity:0.1; fill:none\" points=\"\n",
       "  1219.97,1888.21 1219.97,1113.39 \n",
       "  \"/>\n",
       "<polyline clip-path=\"url(#clip034)\" style=\"stroke:#000000; stroke-linecap:butt; stroke-linejoin:round; stroke-width:2; stroke-opacity:0.1; fill:none\" points=\"\n",
       "  1284.46,1888.21 1284.46,1113.39 \n",
       "  \"/>\n",
       "<polyline clip-path=\"url(#clip034)\" style=\"stroke:#000000; stroke-linecap:butt; stroke-linejoin:round; stroke-width:2; stroke-opacity:0.1; fill:none\" points=\"\n",
       "  1348.96,1888.21 1348.96,1113.39 \n",
       "  \"/>\n",
       "<polyline clip-path=\"url(#clip034)\" style=\"stroke:#000000; stroke-linecap:butt; stroke-linejoin:round; stroke-width:2; stroke-opacity:0.1; fill:none\" points=\"\n",
       "  1413.45,1888.21 1413.45,1113.39 \n",
       "  \"/>\n",
       "<polyline clip-path=\"url(#clip034)\" style=\"stroke:#000000; stroke-linecap:butt; stroke-linejoin:round; stroke-width:2; stroke-opacity:0.1; fill:none\" points=\"\n",
       "  1477.95,1888.21 1477.95,1113.39 \n",
       "  \"/>\n",
       "<polyline clip-path=\"url(#clip034)\" style=\"stroke:#000000; stroke-linecap:butt; stroke-linejoin:round; stroke-width:2; stroke-opacity:0.1; fill:none\" points=\"\n",
       "  1542.44,1888.21 1542.44,1113.39 \n",
       "  \"/>\n",
       "<polyline clip-path=\"url(#clip034)\" style=\"stroke:#000000; stroke-linecap:butt; stroke-linejoin:round; stroke-width:2; stroke-opacity:0.1; fill:none\" points=\"\n",
       "  1606.94,1888.21 1606.94,1113.39 \n",
       "  \"/>\n",
       "<polyline clip-path=\"url(#clip034)\" style=\"stroke:#000000; stroke-linecap:butt; stroke-linejoin:round; stroke-width:2; stroke-opacity:0.1; fill:none\" points=\"\n",
       "  1671.43,1888.21 1671.43,1113.39 \n",
       "  \"/>\n",
       "<polyline clip-path=\"url(#clip034)\" style=\"stroke:#000000; stroke-linecap:butt; stroke-linejoin:round; stroke-width:2; stroke-opacity:0.1; fill:none\" points=\"\n",
       "  1735.93,1888.21 1735.93,1113.39 \n",
       "  \"/>\n",
       "<polyline clip-path=\"url(#clip030)\" style=\"stroke:#000000; stroke-linecap:butt; stroke-linejoin:round; stroke-width:4; stroke-opacity:1; fill:none\" points=\"\n",
       "  208.044,1888.21 1780.43,1888.21 \n",
       "  \"/>\n",
       "<polyline clip-path=\"url(#clip030)\" style=\"stroke:#000000; stroke-linecap:butt; stroke-linejoin:round; stroke-width:4; stroke-opacity:1; fill:none\" points=\"\n",
       "  252.545,1888.21 252.545,1869.31 \n",
       "  \"/>\n",
       "<polyline clip-path=\"url(#clip030)\" style=\"stroke:#000000; stroke-linecap:butt; stroke-linejoin:round; stroke-width:4; stroke-opacity:1; fill:none\" points=\"\n",
       "  317.04,1888.21 317.04,1869.31 \n",
       "  \"/>\n",
       "<polyline clip-path=\"url(#clip030)\" style=\"stroke:#000000; stroke-linecap:butt; stroke-linejoin:round; stroke-width:4; stroke-opacity:1; fill:none\" points=\"\n",
       "  381.535,1888.21 381.535,1869.31 \n",
       "  \"/>\n",
       "<polyline clip-path=\"url(#clip030)\" style=\"stroke:#000000; stroke-linecap:butt; stroke-linejoin:round; stroke-width:4; stroke-opacity:1; fill:none\" points=\"\n",
       "  446.03,1888.21 446.03,1869.31 \n",
       "  \"/>\n",
       "<polyline clip-path=\"url(#clip030)\" style=\"stroke:#000000; stroke-linecap:butt; stroke-linejoin:round; stroke-width:4; stroke-opacity:1; fill:none\" points=\"\n",
       "  510.525,1888.21 510.525,1869.31 \n",
       "  \"/>\n",
       "<polyline clip-path=\"url(#clip030)\" style=\"stroke:#000000; stroke-linecap:butt; stroke-linejoin:round; stroke-width:4; stroke-opacity:1; fill:none\" points=\"\n",
       "  575.02,1888.21 575.02,1869.31 \n",
       "  \"/>\n",
       "<polyline clip-path=\"url(#clip030)\" style=\"stroke:#000000; stroke-linecap:butt; stroke-linejoin:round; stroke-width:4; stroke-opacity:1; fill:none\" points=\"\n",
       "  639.515,1888.21 639.515,1869.31 \n",
       "  \"/>\n",
       "<polyline clip-path=\"url(#clip030)\" style=\"stroke:#000000; stroke-linecap:butt; stroke-linejoin:round; stroke-width:4; stroke-opacity:1; fill:none\" points=\"\n",
       "  704.01,1888.21 704.01,1869.31 \n",
       "  \"/>\n",
       "<polyline clip-path=\"url(#clip030)\" style=\"stroke:#000000; stroke-linecap:butt; stroke-linejoin:round; stroke-width:4; stroke-opacity:1; fill:none\" points=\"\n",
       "  768.504,1888.21 768.504,1869.31 \n",
       "  \"/>\n",
       "<polyline clip-path=\"url(#clip030)\" style=\"stroke:#000000; stroke-linecap:butt; stroke-linejoin:round; stroke-width:4; stroke-opacity:1; fill:none\" points=\"\n",
       "  832.999,1888.21 832.999,1869.31 \n",
       "  \"/>\n",
       "<polyline clip-path=\"url(#clip030)\" style=\"stroke:#000000; stroke-linecap:butt; stroke-linejoin:round; stroke-width:4; stroke-opacity:1; fill:none\" points=\"\n",
       "  897.494,1888.21 897.494,1869.31 \n",
       "  \"/>\n",
       "<polyline clip-path=\"url(#clip030)\" style=\"stroke:#000000; stroke-linecap:butt; stroke-linejoin:round; stroke-width:4; stroke-opacity:1; fill:none\" points=\"\n",
       "  961.989,1888.21 961.989,1869.31 \n",
       "  \"/>\n",
       "<polyline clip-path=\"url(#clip030)\" style=\"stroke:#000000; stroke-linecap:butt; stroke-linejoin:round; stroke-width:4; stroke-opacity:1; fill:none\" points=\"\n",
       "  1026.48,1888.21 1026.48,1869.31 \n",
       "  \"/>\n",
       "<polyline clip-path=\"url(#clip030)\" style=\"stroke:#000000; stroke-linecap:butt; stroke-linejoin:round; stroke-width:4; stroke-opacity:1; fill:none\" points=\"\n",
       "  1090.98,1888.21 1090.98,1869.31 \n",
       "  \"/>\n",
       "<polyline clip-path=\"url(#clip030)\" style=\"stroke:#000000; stroke-linecap:butt; stroke-linejoin:round; stroke-width:4; stroke-opacity:1; fill:none\" points=\"\n",
       "  1155.47,1888.21 1155.47,1869.31 \n",
       "  \"/>\n",
       "<polyline clip-path=\"url(#clip030)\" style=\"stroke:#000000; stroke-linecap:butt; stroke-linejoin:round; stroke-width:4; stroke-opacity:1; fill:none\" points=\"\n",
       "  1219.97,1888.21 1219.97,1869.31 \n",
       "  \"/>\n",
       "<polyline clip-path=\"url(#clip030)\" style=\"stroke:#000000; stroke-linecap:butt; stroke-linejoin:round; stroke-width:4; stroke-opacity:1; fill:none\" points=\"\n",
       "  1284.46,1888.21 1284.46,1869.31 \n",
       "  \"/>\n",
       "<polyline clip-path=\"url(#clip030)\" style=\"stroke:#000000; stroke-linecap:butt; stroke-linejoin:round; stroke-width:4; stroke-opacity:1; fill:none\" points=\"\n",
       "  1348.96,1888.21 1348.96,1869.31 \n",
       "  \"/>\n",
       "<polyline clip-path=\"url(#clip030)\" style=\"stroke:#000000; stroke-linecap:butt; stroke-linejoin:round; stroke-width:4; stroke-opacity:1; fill:none\" points=\"\n",
       "  1413.45,1888.21 1413.45,1869.31 \n",
       "  \"/>\n",
       "<polyline clip-path=\"url(#clip030)\" style=\"stroke:#000000; stroke-linecap:butt; stroke-linejoin:round; stroke-width:4; stroke-opacity:1; fill:none\" points=\"\n",
       "  1477.95,1888.21 1477.95,1869.31 \n",
       "  \"/>\n",
       "<polyline clip-path=\"url(#clip030)\" style=\"stroke:#000000; stroke-linecap:butt; stroke-linejoin:round; stroke-width:4; stroke-opacity:1; fill:none\" points=\"\n",
       "  1542.44,1888.21 1542.44,1869.31 \n",
       "  \"/>\n",
       "<polyline clip-path=\"url(#clip030)\" style=\"stroke:#000000; stroke-linecap:butt; stroke-linejoin:round; stroke-width:4; stroke-opacity:1; fill:none\" points=\"\n",
       "  1606.94,1888.21 1606.94,1869.31 \n",
       "  \"/>\n",
       "<polyline clip-path=\"url(#clip030)\" style=\"stroke:#000000; stroke-linecap:butt; stroke-linejoin:round; stroke-width:4; stroke-opacity:1; fill:none\" points=\"\n",
       "  1671.43,1888.21 1671.43,1869.31 \n",
       "  \"/>\n",
       "<polyline clip-path=\"url(#clip030)\" style=\"stroke:#000000; stroke-linecap:butt; stroke-linejoin:round; stroke-width:4; stroke-opacity:1; fill:none\" points=\"\n",
       "  1735.93,1888.21 1735.93,1869.31 \n",
       "  \"/>\n",
       "<path clip-path=\"url(#clip030)\" d=\"M252.545 1928.73 Q248.934 1928.73 247.105 1932.29 Q245.3 1935.83 245.3 1942.96 Q245.3 1950.07 247.105 1953.63 Q248.934 1957.18 252.545 1957.18 Q256.179 1957.18 257.985 1953.63 Q259.814 1950.07 259.814 1942.96 Q259.814 1935.83 257.985 1932.29 Q256.179 1928.73 252.545 1928.73 M252.545 1925.02 Q258.355 1925.02 261.411 1929.63 Q264.489 1934.21 264.489 1942.96 Q264.489 1951.69 261.411 1956.3 Q258.355 1960.88 252.545 1960.88 Q246.735 1960.88 243.656 1956.3 Q240.601 1951.69 240.601 1942.96 Q240.601 1934.21 243.656 1929.63 Q246.735 1925.02 252.545 1925.02 Z\" fill=\"#000000\" fill-rule=\"evenodd\" fill-opacity=\"1\" /><path clip-path=\"url(#clip030)\" d=\"M307.422 1956.27 L315.061 1956.27 L315.061 1929.91 L306.751 1931.57 L306.751 1927.31 L315.015 1925.65 L319.69 1925.65 L319.69 1956.27 L327.329 1956.27 L327.329 1960.21 L307.422 1960.21 L307.422 1956.27 Z\" fill=\"#000000\" fill-rule=\"evenodd\" fill-opacity=\"1\" /><path clip-path=\"url(#clip030)\" d=\"M376.188 1956.27 L392.507 1956.27 L392.507 1960.21 L370.563 1960.21 L370.563 1956.27 Q373.225 1953.52 377.808 1948.89 Q382.415 1944.24 383.595 1942.89 Q385.84 1940.37 386.72 1938.63 Q387.623 1936.87 387.623 1935.18 Q387.623 1932.43 385.678 1930.69 Q383.757 1928.96 380.655 1928.96 Q378.456 1928.96 376.003 1929.72 Q373.572 1930.49 370.794 1932.04 L370.794 1927.31 Q373.618 1926.18 376.072 1925.6 Q378.526 1925.02 380.563 1925.02 Q385.933 1925.02 389.127 1927.71 Q392.322 1930.39 392.322 1934.88 Q392.322 1937.01 391.512 1938.93 Q390.725 1940.83 388.618 1943.43 Q388.04 1944.1 384.938 1947.31 Q381.836 1950.51 376.188 1956.27 Z\" fill=\"#000000\" fill-rule=\"evenodd\" fill-opacity=\"1\" /><path clip-path=\"url(#clip030)\" d=\"M450.278 1941.57 Q453.634 1942.29 455.509 1944.56 Q457.407 1946.83 457.407 1950.16 Q457.407 1955.28 453.889 1958.08 Q450.37 1960.88 443.889 1960.88 Q441.713 1960.88 439.398 1960.44 Q437.106 1960.02 434.653 1959.17 L434.653 1954.65 Q436.597 1955.79 438.912 1956.37 Q441.227 1956.94 443.75 1956.94 Q448.148 1956.94 450.44 1955.21 Q452.754 1953.47 452.754 1950.16 Q452.754 1947.11 450.602 1945.39 Q448.472 1943.66 444.653 1943.66 L440.625 1943.66 L440.625 1939.81 L444.838 1939.81 Q448.287 1939.81 450.115 1938.45 Q451.944 1937.06 451.944 1934.47 Q451.944 1931.81 450.046 1930.39 Q448.171 1928.96 444.653 1928.96 Q442.731 1928.96 440.532 1929.37 Q438.333 1929.79 435.694 1930.67 L435.694 1926.5 Q438.356 1925.76 440.671 1925.39 Q443.009 1925.02 445.069 1925.02 Q450.393 1925.02 453.495 1927.45 Q456.597 1929.86 456.597 1933.98 Q456.597 1936.85 454.953 1938.84 Q453.31 1940.81 450.278 1941.57 Z\" fill=\"#000000\" fill-rule=\"evenodd\" fill-opacity=\"1\" /><path clip-path=\"url(#clip030)\" d=\"M513.534 1929.72 L501.729 1948.17 L513.534 1948.17 L513.534 1929.72 M512.307 1925.65 L518.187 1925.65 L518.187 1948.17 L523.117 1948.17 L523.117 1952.06 L518.187 1952.06 L518.187 1960.21 L513.534 1960.21 L513.534 1952.06 L497.932 1952.06 L497.932 1947.55 L512.307 1925.65 Z\" fill=\"#000000\" fill-rule=\"evenodd\" fill-opacity=\"1\" /><path clip-path=\"url(#clip030)\" d=\"M565.298 1925.65 L583.654 1925.65 L583.654 1929.58 L569.58 1929.58 L569.58 1938.06 Q570.598 1937.71 571.617 1937.55 Q572.635 1937.36 573.654 1937.36 Q579.441 1937.36 582.821 1940.53 Q586.2 1943.7 586.2 1949.12 Q586.2 1954.7 582.728 1957.8 Q579.256 1960.88 572.936 1960.88 Q570.76 1960.88 568.492 1960.51 Q566.247 1960.14 563.839 1959.4 L563.839 1954.7 Q565.923 1955.83 568.145 1956.39 Q570.367 1956.94 572.844 1956.94 Q576.848 1956.94 579.186 1954.84 Q581.524 1952.73 581.524 1949.12 Q581.524 1945.51 579.186 1943.4 Q576.848 1941.3 572.844 1941.3 Q570.969 1941.3 569.094 1941.71 Q567.242 1942.13 565.298 1943.01 L565.298 1925.65 Z\" fill=\"#000000\" fill-rule=\"evenodd\" fill-opacity=\"1\" /><path clip-path=\"url(#clip030)\" d=\"M639.92 1941.06 Q636.772 1941.06 634.92 1943.22 Q633.091 1945.37 633.091 1949.12 Q633.091 1952.85 634.92 1955.02 Q636.772 1957.18 639.92 1957.18 Q643.068 1957.18 644.897 1955.02 Q646.748 1952.85 646.748 1949.12 Q646.748 1945.37 644.897 1943.22 Q643.068 1941.06 639.92 1941.06 M649.202 1926.41 L649.202 1930.67 Q647.443 1929.84 645.637 1929.4 Q643.855 1928.96 642.096 1928.96 Q637.466 1928.96 635.012 1932.08 Q632.582 1935.21 632.235 1941.53 Q633.6 1939.51 635.66 1938.45 Q637.721 1937.36 640.198 1937.36 Q645.406 1937.36 648.415 1940.53 Q651.447 1943.68 651.447 1949.12 Q651.447 1954.44 648.299 1957.66 Q645.151 1960.88 639.92 1960.88 Q633.924 1960.88 630.753 1956.3 Q627.582 1951.69 627.582 1942.96 Q627.582 1934.77 631.471 1929.91 Q635.36 1925.02 641.91 1925.02 Q643.67 1925.02 645.452 1925.37 Q647.258 1925.72 649.202 1926.41 Z\" fill=\"#000000\" fill-rule=\"evenodd\" fill-opacity=\"1\" /><path clip-path=\"url(#clip030)\" d=\"M692.899 1925.65 L715.121 1925.65 L715.121 1927.64 L702.574 1960.21 L697.69 1960.21 L709.496 1929.58 L692.899 1929.58 L692.899 1925.65 Z\" fill=\"#000000\" fill-rule=\"evenodd\" fill-opacity=\"1\" /><path clip-path=\"url(#clip030)\" d=\"M768.504 1943.8 Q765.171 1943.8 763.25 1945.58 Q761.352 1947.36 761.352 1950.49 Q761.352 1953.61 763.25 1955.39 Q765.171 1957.18 768.504 1957.18 Q771.838 1957.18 773.759 1955.39 Q775.68 1953.59 775.68 1950.49 Q775.68 1947.36 773.759 1945.58 Q771.861 1943.8 768.504 1943.8 M763.829 1941.81 Q760.819 1941.06 759.13 1939 Q757.463 1936.94 757.463 1933.98 Q757.463 1929.84 760.403 1927.43 Q763.366 1925.02 768.504 1925.02 Q773.667 1925.02 776.606 1927.43 Q779.546 1929.84 779.546 1933.98 Q779.546 1936.94 777.856 1939 Q776.19 1941.06 773.204 1941.81 Q776.583 1942.59 778.458 1944.88 Q780.356 1947.18 780.356 1950.49 Q780.356 1955.51 777.278 1958.19 Q774.222 1960.88 768.504 1960.88 Q762.787 1960.88 759.708 1958.19 Q756.653 1955.51 756.653 1950.49 Q756.653 1947.18 758.551 1944.88 Q760.449 1942.59 763.829 1941.81 M762.116 1934.42 Q762.116 1937.11 763.782 1938.61 Q765.472 1940.12 768.504 1940.12 Q771.514 1940.12 773.204 1938.61 Q774.917 1937.11 774.917 1934.42 Q774.917 1931.74 773.204 1930.23 Q771.514 1928.73 768.504 1928.73 Q765.472 1928.73 763.782 1930.23 Q762.116 1931.74 762.116 1934.42 Z\" fill=\"#000000\" fill-rule=\"evenodd\" fill-opacity=\"1\" /><path clip-path=\"url(#clip030)\" d=\"M823.3 1959.49 L823.3 1955.23 Q825.06 1956.06 826.865 1956.5 Q828.671 1956.94 830.407 1956.94 Q835.036 1956.94 837.467 1953.84 Q839.921 1950.72 840.268 1944.37 Q838.925 1946.37 836.865 1947.43 Q834.805 1948.49 832.305 1948.49 Q827.12 1948.49 824.087 1945.37 Q821.078 1942.22 821.078 1936.78 Q821.078 1931.46 824.226 1928.24 Q827.374 1925.02 832.606 1925.02 Q838.601 1925.02 841.749 1929.63 Q844.921 1934.21 844.921 1942.96 Q844.921 1951.13 841.032 1956.02 Q837.166 1960.88 830.615 1960.88 Q828.856 1960.88 827.05 1960.53 Q825.245 1960.18 823.3 1959.49 M832.606 1944.84 Q835.754 1944.84 837.583 1942.68 Q839.435 1940.53 839.435 1936.78 Q839.435 1933.06 837.583 1930.9 Q835.754 1928.73 832.606 1928.73 Q829.458 1928.73 827.606 1930.9 Q825.777 1933.06 825.777 1936.78 Q825.777 1940.53 827.606 1942.68 Q829.458 1944.84 832.606 1944.84 Z\" fill=\"#000000\" fill-rule=\"evenodd\" fill-opacity=\"1\" /><path clip-path=\"url(#clip030)\" d=\"M872.182 1956.27 L879.821 1956.27 L879.821 1929.91 L871.511 1931.57 L871.511 1927.31 L879.775 1925.65 L884.45 1925.65 L884.45 1956.27 L892.089 1956.27 L892.089 1960.21 L872.182 1960.21 L872.182 1956.27 Z\" fill=\"#000000\" fill-rule=\"evenodd\" fill-opacity=\"1\" /><path clip-path=\"url(#clip030)\" d=\"M911.534 1928.73 Q907.923 1928.73 906.094 1932.29 Q904.288 1935.83 904.288 1942.96 Q904.288 1950.07 906.094 1953.63 Q907.923 1957.18 911.534 1957.18 Q915.168 1957.18 916.973 1953.63 Q918.802 1950.07 918.802 1942.96 Q918.802 1935.83 916.973 1932.29 Q915.168 1928.73 911.534 1928.73 M911.534 1925.02 Q917.344 1925.02 920.399 1929.63 Q923.478 1934.21 923.478 1942.96 Q923.478 1951.69 920.399 1956.3 Q917.344 1960.88 911.534 1960.88 Q905.723 1960.88 902.645 1956.3 Q899.589 1951.69 899.589 1942.96 Q899.589 1934.21 902.645 1929.63 Q905.723 1925.02 911.534 1925.02 Z\" fill=\"#000000\" fill-rule=\"evenodd\" fill-opacity=\"1\" /><path clip-path=\"url(#clip030)\" d=\"M937.29 1956.27 L944.929 1956.27 L944.929 1929.91 L936.619 1931.57 L936.619 1927.31 L944.883 1925.65 L949.559 1925.65 L949.559 1956.27 L957.198 1956.27 L957.198 1960.21 L937.29 1960.21 L937.29 1956.27 Z\" fill=\"#000000\" fill-rule=\"evenodd\" fill-opacity=\"1\" /><path clip-path=\"url(#clip030)\" d=\"M967.452 1956.27 L975.091 1956.27 L975.091 1929.91 L966.781 1931.57 L966.781 1927.31 L975.045 1925.65 L979.721 1925.65 L979.721 1956.27 L987.36 1956.27 L987.36 1960.21 L967.452 1960.21 L967.452 1956.27 Z\" fill=\"#000000\" fill-rule=\"evenodd\" fill-opacity=\"1\" /><path clip-path=\"url(#clip030)\" d=\"M1001.97 1956.27 L1009.61 1956.27 L1009.61 1929.91 L1001.3 1931.57 L1001.3 1927.31 L1009.56 1925.65 L1014.24 1925.65 L1014.24 1956.27 L1021.88 1956.27 L1021.88 1960.21 L1001.97 1960.21 L1001.97 1956.27 Z\" fill=\"#000000\" fill-rule=\"evenodd\" fill-opacity=\"1\" /><path clip-path=\"url(#clip030)\" d=\"M1035.35 1956.27 L1051.67 1956.27 L1051.67 1960.21 L1029.72 1960.21 L1029.72 1956.27 Q1032.39 1953.52 1036.97 1948.89 Q1041.58 1944.24 1042.76 1942.89 Q1045 1940.37 1045.88 1938.63 Q1046.79 1936.87 1046.79 1935.18 Q1046.79 1932.43 1044.84 1930.69 Q1042.92 1928.96 1039.82 1928.96 Q1037.62 1928.96 1035.16 1929.72 Q1032.73 1930.49 1029.96 1932.04 L1029.96 1927.31 Q1032.78 1926.18 1035.23 1925.6 Q1037.69 1925.02 1039.72 1925.02 Q1045.1 1925.02 1048.29 1927.71 Q1051.48 1930.39 1051.48 1934.88 Q1051.48 1937.01 1050.67 1938.93 Q1049.89 1940.83 1047.78 1943.43 Q1047.2 1944.1 1044.1 1947.31 Q1041 1950.51 1035.35 1956.27 Z\" fill=\"#000000\" fill-rule=\"evenodd\" fill-opacity=\"1\" /><path clip-path=\"url(#clip030)\" d=\"M1065.99 1956.27 L1073.63 1956.27 L1073.63 1929.91 L1065.32 1931.57 L1065.32 1927.31 L1073.58 1925.65 L1078.26 1925.65 L1078.26 1956.27 L1085.9 1956.27 L1085.9 1960.21 L1065.99 1960.21 L1065.99 1956.27 Z\" fill=\"#000000\" fill-rule=\"evenodd\" fill-opacity=\"1\" /><path clip-path=\"url(#clip030)\" d=\"M1109.51 1941.57 Q1112.87 1942.29 1114.74 1944.56 Q1116.64 1946.83 1116.64 1950.16 Q1116.64 1955.28 1113.12 1958.08 Q1109.6 1960.88 1103.12 1960.88 Q1100.94 1960.88 1098.63 1960.44 Q1096.34 1960.02 1093.88 1959.17 L1093.88 1954.65 Q1095.83 1955.79 1098.14 1956.37 Q1100.46 1956.94 1102.98 1956.94 Q1107.38 1956.94 1109.67 1955.21 Q1111.99 1953.47 1111.99 1950.16 Q1111.99 1947.11 1109.83 1945.39 Q1107.7 1943.66 1103.88 1943.66 L1099.86 1943.66 L1099.86 1939.81 L1104.07 1939.81 Q1107.52 1939.81 1109.35 1938.45 Q1111.18 1937.06 1111.18 1934.47 Q1111.18 1931.81 1109.28 1930.39 Q1107.4 1928.96 1103.88 1928.96 Q1101.96 1928.96 1099.76 1929.37 Q1097.56 1929.79 1094.93 1930.67 L1094.93 1926.5 Q1097.59 1925.76 1099.9 1925.39 Q1102.24 1925.02 1104.3 1925.02 Q1109.62 1925.02 1112.73 1927.45 Q1115.83 1929.86 1115.83 1933.98 Q1115.83 1936.85 1114.19 1938.84 Q1112.54 1940.81 1109.51 1941.57 Z\" fill=\"#000000\" fill-rule=\"evenodd\" fill-opacity=\"1\" /><path clip-path=\"url(#clip030)\" d=\"M1129.92 1956.27 L1137.56 1956.27 L1137.56 1929.91 L1129.25 1931.57 L1129.25 1927.31 L1137.51 1925.65 L1142.19 1925.65 L1142.19 1956.27 L1149.83 1956.27 L1149.83 1960.21 L1129.92 1960.21 L1129.92 1956.27 Z\" fill=\"#000000\" fill-rule=\"evenodd\" fill-opacity=\"1\" /><path clip-path=\"url(#clip030)\" d=\"M1172.12 1929.72 L1160.31 1948.17 L1172.12 1948.17 L1172.12 1929.72 M1170.89 1925.65 L1176.77 1925.65 L1176.77 1948.17 L1181.7 1948.17 L1181.7 1952.06 L1176.77 1952.06 L1176.77 1960.21 L1172.12 1960.21 L1172.12 1952.06 L1156.52 1952.06 L1156.52 1947.55 L1170.89 1925.65 Z\" fill=\"#000000\" fill-rule=\"evenodd\" fill-opacity=\"1\" /><path clip-path=\"url(#clip030)\" d=\"M1195.15 1956.27 L1202.79 1956.27 L1202.79 1929.91 L1194.48 1931.57 L1194.48 1927.31 L1202.75 1925.65 L1207.42 1925.65 L1207.42 1956.27 L1215.06 1956.27 L1215.06 1960.21 L1195.15 1960.21 L1195.15 1956.27 Z\" fill=\"#000000\" fill-rule=\"evenodd\" fill-opacity=\"1\" /><path clip-path=\"url(#clip030)\" d=\"M1224.55 1925.65 L1242.91 1925.65 L1242.91 1929.58 L1228.83 1929.58 L1228.83 1938.06 Q1229.85 1937.71 1230.87 1937.55 Q1231.89 1937.36 1232.91 1937.36 Q1238.7 1937.36 1242.08 1940.53 Q1245.45 1943.7 1245.45 1949.12 Q1245.45 1954.7 1241.98 1957.8 Q1238.51 1960.88 1232.19 1960.88 Q1230.02 1960.88 1227.75 1960.51 Q1225.5 1960.14 1223.09 1959.4 L1223.09 1954.7 Q1225.18 1955.83 1227.4 1956.39 Q1229.62 1956.94 1232.1 1956.94 Q1236.1 1956.94 1238.44 1954.84 Q1240.78 1952.73 1240.78 1949.12 Q1240.78 1945.51 1238.44 1943.4 Q1236.1 1941.3 1232.1 1941.3 Q1230.22 1941.3 1228.35 1941.71 Q1226.5 1942.13 1224.55 1943.01 L1224.55 1925.65 Z\" fill=\"#000000\" fill-rule=\"evenodd\" fill-opacity=\"1\" /><path clip-path=\"url(#clip030)\" d=\"M1259.07 1956.27 L1266.71 1956.27 L1266.71 1929.91 L1258.4 1931.57 L1258.4 1927.31 L1266.66 1925.65 L1271.34 1925.65 L1271.34 1956.27 L1278.98 1956.27 L1278.98 1960.21 L1259.07 1960.21 L1259.07 1956.27 Z\" fill=\"#000000\" fill-rule=\"evenodd\" fill-opacity=\"1\" /><path clip-path=\"url(#clip030)\" d=\"M1299 1941.06 Q1295.85 1941.06 1294 1943.22 Q1292.17 1945.37 1292.17 1949.12 Q1292.17 1952.85 1294 1955.02 Q1295.85 1957.18 1299 1957.18 Q1302.15 1957.18 1303.98 1955.02 Q1305.83 1952.85 1305.83 1949.12 Q1305.83 1945.37 1303.98 1943.22 Q1302.15 1941.06 1299 1941.06 M1308.28 1926.41 L1308.28 1930.67 Q1306.52 1929.84 1304.72 1929.4 Q1302.94 1928.96 1301.18 1928.96 Q1296.55 1928.96 1294.09 1932.08 Q1291.66 1935.21 1291.32 1941.53 Q1292.68 1939.51 1294.74 1938.45 Q1296.8 1937.36 1299.28 1937.36 Q1304.49 1937.36 1307.5 1940.53 Q1310.53 1943.68 1310.53 1949.12 Q1310.53 1954.44 1307.38 1957.66 Q1304.23 1960.88 1299 1960.88 Q1293.01 1960.88 1289.83 1956.3 Q1286.66 1951.69 1286.66 1942.96 Q1286.66 1934.77 1290.55 1929.91 Q1294.44 1925.02 1300.99 1925.02 Q1302.75 1925.02 1304.53 1925.37 Q1306.34 1925.72 1308.28 1926.41 Z\" fill=\"#000000\" fill-rule=\"evenodd\" fill-opacity=\"1\" /><path clip-path=\"url(#clip030)\" d=\"M1324.1 1956.27 L1331.74 1956.27 L1331.74 1929.91 L1323.43 1931.57 L1323.43 1927.31 L1331.69 1925.65 L1336.37 1925.65 L1336.37 1956.27 L1344.01 1956.27 L1344.01 1960.21 L1324.1 1960.21 L1324.1 1956.27 Z\" fill=\"#000000\" fill-rule=\"evenodd\" fill-opacity=\"1\" /><path clip-path=\"url(#clip030)\" d=\"M1352.27 1925.65 L1374.49 1925.65 L1374.49 1927.64 L1361.94 1960.21 L1357.06 1960.21 L1368.87 1929.58 L1352.27 1929.58 L1352.27 1925.65 Z\" fill=\"#000000\" fill-rule=\"evenodd\" fill-opacity=\"1\" /><path clip-path=\"url(#clip030)\" d=\"M1388.19 1956.27 L1395.83 1956.27 L1395.83 1929.91 L1387.52 1931.57 L1387.52 1927.31 L1395.78 1925.65 L1400.46 1925.65 L1400.46 1956.27 L1408.1 1956.27 L1408.1 1960.21 L1388.19 1960.21 L1388.19 1956.27 Z\" fill=\"#000000\" fill-rule=\"evenodd\" fill-opacity=\"1\" /><path clip-path=\"url(#clip030)\" d=\"M1427.54 1943.8 Q1424.21 1943.8 1422.28 1945.58 Q1420.39 1947.36 1420.39 1950.49 Q1420.39 1953.61 1422.28 1955.39 Q1424.21 1957.18 1427.54 1957.18 Q1430.87 1957.18 1432.79 1955.39 Q1434.72 1953.59 1434.72 1950.49 Q1434.72 1947.36 1432.79 1945.58 Q1430.9 1943.8 1427.54 1943.8 M1422.86 1941.81 Q1419.85 1941.06 1418.16 1939 Q1416.5 1936.94 1416.5 1933.98 Q1416.5 1929.84 1419.44 1927.43 Q1422.4 1925.02 1427.54 1925.02 Q1432.7 1925.02 1435.64 1927.43 Q1438.58 1929.84 1438.58 1933.98 Q1438.58 1936.94 1436.89 1939 Q1435.22 1941.06 1432.24 1941.81 Q1435.62 1942.59 1437.49 1944.88 Q1439.39 1947.18 1439.39 1950.49 Q1439.39 1955.51 1436.31 1958.19 Q1433.26 1960.88 1427.54 1960.88 Q1421.82 1960.88 1418.74 1958.19 Q1415.69 1955.51 1415.69 1950.49 Q1415.69 1947.18 1417.59 1944.88 Q1419.48 1942.59 1422.86 1941.81 M1421.15 1934.42 Q1421.15 1937.11 1422.82 1938.61 Q1424.51 1940.12 1427.54 1940.12 Q1430.55 1940.12 1432.24 1938.61 Q1433.95 1937.11 1433.95 1934.42 Q1433.95 1931.74 1432.24 1930.23 Q1430.55 1928.73 1427.54 1928.73 Q1424.51 1928.73 1422.82 1930.23 Q1421.15 1931.74 1421.15 1934.42 Z\" fill=\"#000000\" fill-rule=\"evenodd\" fill-opacity=\"1\" /><path clip-path=\"url(#clip030)\" d=\"M1452.73 1956.27 L1460.37 1956.27 L1460.37 1929.91 L1452.06 1931.57 L1452.06 1927.31 L1460.32 1925.65 L1465 1925.65 L1465 1956.27 L1472.64 1956.27 L1472.64 1960.21 L1452.73 1960.21 L1452.73 1956.27 Z\" fill=\"#000000\" fill-rule=\"evenodd\" fill-opacity=\"1\" /><path clip-path=\"url(#clip030)\" d=\"M1482.22 1959.49 L1482.22 1955.23 Q1483.98 1956.06 1485.78 1956.5 Q1487.59 1956.94 1489.33 1956.94 Q1493.96 1956.94 1496.39 1953.84 Q1498.84 1950.72 1499.19 1944.37 Q1497.84 1946.37 1495.78 1947.43 Q1493.72 1948.49 1491.22 1948.49 Q1486.04 1948.49 1483.01 1945.37 Q1480 1942.22 1480 1936.78 Q1480 1931.46 1483.15 1928.24 Q1486.29 1925.02 1491.53 1925.02 Q1497.52 1925.02 1500.67 1929.63 Q1503.84 1934.21 1503.84 1942.96 Q1503.84 1951.13 1499.95 1956.02 Q1496.09 1960.88 1489.53 1960.88 Q1487.78 1960.88 1485.97 1960.53 Q1484.16 1960.18 1482.22 1959.49 M1491.53 1944.84 Q1494.67 1944.84 1496.5 1942.68 Q1498.35 1940.53 1498.35 1936.78 Q1498.35 1933.06 1496.5 1930.9 Q1494.67 1928.73 1491.53 1928.73 Q1488.38 1928.73 1486.53 1930.9 Q1484.7 1933.06 1484.7 1936.78 Q1484.7 1940.53 1486.53 1942.68 Q1488.38 1944.84 1491.53 1944.84 Z\" fill=\"#000000\" fill-rule=\"evenodd\" fill-opacity=\"1\" /><path clip-path=\"url(#clip030)\" d=\"M1521.22 1956.27 L1537.54 1956.27 L1537.54 1960.21 L1515.59 1960.21 L1515.59 1956.27 Q1518.25 1953.52 1522.84 1948.89 Q1527.44 1944.24 1528.62 1942.89 Q1530.87 1940.37 1531.75 1938.63 Q1532.65 1936.87 1532.65 1935.18 Q1532.65 1932.43 1530.71 1930.69 Q1528.79 1928.96 1525.68 1928.96 Q1523.49 1928.96 1521.03 1929.72 Q1518.6 1930.49 1515.82 1932.04 L1515.82 1927.31 Q1518.65 1926.18 1521.1 1925.6 Q1523.55 1925.02 1525.59 1925.02 Q1530.96 1925.02 1534.16 1927.71 Q1537.35 1930.39 1537.35 1934.88 Q1537.35 1937.01 1536.54 1938.93 Q1535.75 1940.83 1533.65 1943.43 Q1533.07 1944.1 1529.97 1947.31 Q1526.87 1950.51 1521.22 1956.27 Z\" fill=\"#000000\" fill-rule=\"evenodd\" fill-opacity=\"1\" /><path clip-path=\"url(#clip030)\" d=\"M1557.35 1928.73 Q1553.74 1928.73 1551.91 1932.29 Q1550.11 1935.83 1550.11 1942.96 Q1550.11 1950.07 1551.91 1953.63 Q1553.74 1957.18 1557.35 1957.18 Q1560.99 1957.18 1562.79 1953.63 Q1564.62 1950.07 1564.62 1942.96 Q1564.62 1935.83 1562.79 1932.29 Q1560.99 1928.73 1557.35 1928.73 M1557.35 1925.02 Q1563.16 1925.02 1566.22 1929.63 Q1569.3 1934.21 1569.3 1942.96 Q1569.3 1951.69 1566.22 1956.3 Q1563.16 1960.88 1557.35 1960.88 Q1551.54 1960.88 1548.46 1956.3 Q1545.41 1951.69 1545.41 1942.96 Q1545.41 1934.21 1548.46 1929.63 Q1551.54 1925.02 1557.35 1925.02 Z\" fill=\"#000000\" fill-rule=\"evenodd\" fill-opacity=\"1\" /><path clip-path=\"url(#clip030)\" d=\"M1586.33 1956.27 L1602.64 1956.27 L1602.64 1960.21 L1580.7 1960.21 L1580.7 1956.27 Q1583.36 1953.52 1587.95 1948.89 Q1592.55 1944.24 1593.73 1942.89 Q1595.98 1940.37 1596.86 1938.63 Q1597.76 1936.87 1597.76 1935.18 Q1597.76 1932.43 1595.82 1930.69 Q1593.89 1928.96 1590.79 1928.96 Q1588.59 1928.96 1586.14 1929.72 Q1583.71 1930.49 1580.93 1932.04 L1580.93 1927.31 Q1583.76 1926.18 1586.21 1925.6 Q1588.66 1925.02 1590.7 1925.02 Q1596.07 1925.02 1599.26 1927.71 Q1602.46 1930.39 1602.46 1934.88 Q1602.46 1937.01 1601.65 1938.93 Q1600.86 1940.83 1598.76 1943.43 Q1598.18 1944.1 1595.08 1947.31 Q1591.97 1950.51 1586.33 1956.27 Z\" fill=\"#000000\" fill-rule=\"evenodd\" fill-opacity=\"1\" /><path clip-path=\"url(#clip030)\" d=\"M1613.27 1956.27 L1620.91 1956.27 L1620.91 1929.91 L1612.6 1931.57 L1612.6 1927.31 L1620.86 1925.65 L1625.54 1925.65 L1625.54 1956.27 L1633.18 1956.27 L1633.18 1960.21 L1613.27 1960.21 L1613.27 1956.27 Z\" fill=\"#000000\" fill-rule=\"evenodd\" fill-opacity=\"1\" /><path clip-path=\"url(#clip030)\" d=\"M1651.01 1956.27 L1667.32 1956.27 L1667.32 1960.21 L1645.38 1960.21 L1645.38 1956.27 Q1648.04 1953.52 1652.63 1948.89 Q1657.23 1944.24 1658.41 1942.89 Q1660.66 1940.37 1661.54 1938.63 Q1662.44 1936.87 1662.44 1935.18 Q1662.44 1932.43 1660.5 1930.69 Q1658.57 1928.96 1655.47 1928.96 Q1653.27 1928.96 1650.82 1929.72 Q1648.39 1930.49 1645.61 1932.04 L1645.61 1927.31 Q1648.44 1926.18 1650.89 1925.6 Q1653.34 1925.02 1655.38 1925.02 Q1660.75 1925.02 1663.95 1927.71 Q1667.14 1930.39 1667.14 1934.88 Q1667.14 1937.01 1666.33 1938.93 Q1665.54 1940.83 1663.44 1943.43 Q1662.86 1944.1 1659.76 1947.31 Q1656.65 1950.51 1651.01 1956.27 Z\" fill=\"#000000\" fill-rule=\"evenodd\" fill-opacity=\"1\" /><path clip-path=\"url(#clip030)\" d=\"M1681.17 1956.27 L1697.49 1956.27 L1697.49 1960.21 L1675.54 1960.21 L1675.54 1956.27 Q1678.2 1953.52 1682.79 1948.89 Q1687.39 1944.24 1688.57 1942.89 Q1690.82 1940.37 1691.7 1938.63 Q1692.6 1936.87 1692.6 1935.18 Q1692.6 1932.43 1690.66 1930.69 Q1688.74 1928.96 1685.63 1928.96 Q1683.44 1928.96 1680.98 1929.72 Q1678.55 1930.49 1675.77 1932.04 L1675.77 1927.31 Q1678.6 1926.18 1681.05 1925.6 Q1683.51 1925.02 1685.54 1925.02 Q1690.91 1925.02 1694.11 1927.71 Q1697.3 1930.39 1697.3 1934.88 Q1697.3 1937.01 1696.49 1938.93 Q1695.7 1940.83 1693.6 1943.43 Q1693.02 1944.1 1689.92 1947.31 Q1686.82 1950.51 1681.17 1956.27 Z\" fill=\"#000000\" fill-rule=\"evenodd\" fill-opacity=\"1\" /><path clip-path=\"url(#clip030)\" d=\"M1715.03 1956.27 L1731.35 1956.27 L1731.35 1960.21 L1709.4 1960.21 L1709.4 1956.27 Q1712.06 1953.52 1716.65 1948.89 Q1721.25 1944.24 1722.43 1942.89 Q1724.68 1940.37 1725.56 1938.63 Q1726.46 1936.87 1726.46 1935.18 Q1726.46 1932.43 1724.52 1930.69 Q1722.6 1928.96 1719.49 1928.96 Q1717.29 1928.96 1714.84 1929.72 Q1712.41 1930.49 1709.63 1932.04 L1709.63 1927.31 Q1712.46 1926.18 1714.91 1925.6 Q1717.36 1925.02 1719.4 1925.02 Q1724.77 1925.02 1727.97 1927.71 Q1731.16 1930.39 1731.16 1934.88 Q1731.16 1937.01 1730.35 1938.93 Q1729.56 1940.83 1727.46 1943.43 Q1726.88 1944.1 1723.78 1947.31 Q1720.67 1950.51 1715.03 1956.27 Z\" fill=\"#000000\" fill-rule=\"evenodd\" fill-opacity=\"1\" /><path clip-path=\"url(#clip030)\" d=\"M1755.33 1941.57 Q1758.68 1942.29 1760.56 1944.56 Q1762.46 1946.83 1762.46 1950.16 Q1762.46 1955.28 1758.94 1958.08 Q1755.42 1960.88 1748.94 1960.88 Q1746.76 1960.88 1744.45 1960.44 Q1742.16 1960.02 1739.7 1959.17 L1739.7 1954.65 Q1741.65 1955.79 1743.96 1956.37 Q1746.28 1956.94 1748.8 1956.94 Q1753.2 1956.94 1755.49 1955.21 Q1757.8 1953.47 1757.8 1950.16 Q1757.8 1947.11 1755.65 1945.39 Q1753.52 1943.66 1749.7 1943.66 L1745.67 1943.66 L1745.67 1939.81 L1749.89 1939.81 Q1753.34 1939.81 1755.16 1938.45 Q1756.99 1937.06 1756.99 1934.47 Q1756.99 1931.81 1755.09 1930.39 Q1753.22 1928.96 1749.7 1928.96 Q1747.78 1928.96 1745.58 1929.37 Q1743.38 1929.79 1740.74 1930.67 L1740.74 1926.5 Q1743.41 1925.76 1745.72 1925.39 Q1748.06 1925.02 1750.12 1925.02 Q1755.44 1925.02 1758.54 1927.45 Q1761.65 1929.86 1761.65 1933.98 Q1761.65 1936.85 1760 1938.84 Q1758.36 1940.81 1755.33 1941.57 Z\" fill=\"#000000\" fill-rule=\"evenodd\" fill-opacity=\"1\" /><polyline clip-path=\"url(#clip034)\" style=\"stroke:#000000; stroke-linecap:butt; stroke-linejoin:round; stroke-width:2; stroke-opacity:0.1; fill:none\" points=\"\n",
       "  208.044,1888.21 1780.43,1888.21 \n",
       "  \"/>\n",
       "<polyline clip-path=\"url(#clip034)\" style=\"stroke:#000000; stroke-linecap:butt; stroke-linejoin:round; stroke-width:2; stroke-opacity:0.1; fill:none\" points=\"\n",
       "  208.044,1739.2 1780.43,1739.2 \n",
       "  \"/>\n",
       "<polyline clip-path=\"url(#clip034)\" style=\"stroke:#000000; stroke-linecap:butt; stroke-linejoin:round; stroke-width:2; stroke-opacity:0.1; fill:none\" points=\"\n",
       "  208.044,1590.2 1780.43,1590.2 \n",
       "  \"/>\n",
       "<polyline clip-path=\"url(#clip034)\" style=\"stroke:#000000; stroke-linecap:butt; stroke-linejoin:round; stroke-width:2; stroke-opacity:0.1; fill:none\" points=\"\n",
       "  208.044,1441.2 1780.43,1441.2 \n",
       "  \"/>\n",
       "<polyline clip-path=\"url(#clip034)\" style=\"stroke:#000000; stroke-linecap:butt; stroke-linejoin:round; stroke-width:2; stroke-opacity:0.1; fill:none\" points=\"\n",
       "  208.044,1292.2 1780.43,1292.2 \n",
       "  \"/>\n",
       "<polyline clip-path=\"url(#clip034)\" style=\"stroke:#000000; stroke-linecap:butt; stroke-linejoin:round; stroke-width:2; stroke-opacity:0.1; fill:none\" points=\"\n",
       "  208.044,1143.19 1780.43,1143.19 \n",
       "  \"/>\n",
       "<polyline clip-path=\"url(#clip030)\" style=\"stroke:#000000; stroke-linecap:butt; stroke-linejoin:round; stroke-width:4; stroke-opacity:1; fill:none\" points=\"\n",
       "  208.044,1888.21 208.044,1113.39 \n",
       "  \"/>\n",
       "<polyline clip-path=\"url(#clip030)\" style=\"stroke:#000000; stroke-linecap:butt; stroke-linejoin:round; stroke-width:4; stroke-opacity:1; fill:none\" points=\"\n",
       "  208.044,1888.21 226.941,1888.21 \n",
       "  \"/>\n",
       "<polyline clip-path=\"url(#clip030)\" style=\"stroke:#000000; stroke-linecap:butt; stroke-linejoin:round; stroke-width:4; stroke-opacity:1; fill:none\" points=\"\n",
       "  208.044,1739.2 226.941,1739.2 \n",
       "  \"/>\n",
       "<polyline clip-path=\"url(#clip030)\" style=\"stroke:#000000; stroke-linecap:butt; stroke-linejoin:round; stroke-width:4; stroke-opacity:1; fill:none\" points=\"\n",
       "  208.044,1590.2 226.941,1590.2 \n",
       "  \"/>\n",
       "<polyline clip-path=\"url(#clip030)\" style=\"stroke:#000000; stroke-linecap:butt; stroke-linejoin:round; stroke-width:4; stroke-opacity:1; fill:none\" points=\"\n",
       "  208.044,1441.2 226.941,1441.2 \n",
       "  \"/>\n",
       "<polyline clip-path=\"url(#clip030)\" style=\"stroke:#000000; stroke-linecap:butt; stroke-linejoin:round; stroke-width:4; stroke-opacity:1; fill:none\" points=\"\n",
       "  208.044,1292.2 226.941,1292.2 \n",
       "  \"/>\n",
       "<polyline clip-path=\"url(#clip030)\" style=\"stroke:#000000; stroke-linecap:butt; stroke-linejoin:round; stroke-width:4; stroke-opacity:1; fill:none\" points=\"\n",
       "  208.044,1143.19 226.941,1143.19 \n",
       "  \"/>\n",
       "<path clip-path=\"url(#clip030)\" d=\"M142.099 1874.01 Q138.488 1874.01 136.659 1877.57 Q134.854 1881.11 134.854 1888.24 Q134.854 1895.35 136.659 1898.91 Q138.488 1902.46 142.099 1902.46 Q145.733 1902.46 147.539 1898.91 Q149.368 1895.35 149.368 1888.24 Q149.368 1881.11 147.539 1877.57 Q145.733 1874.01 142.099 1874.01 M142.099 1870.3 Q147.909 1870.3 150.965 1874.91 Q154.044 1879.49 154.044 1888.24 Q154.044 1896.97 150.965 1901.58 Q147.909 1906.16 142.099 1906.16 Q136.289 1906.16 133.21 1901.58 Q130.155 1896.97 130.155 1888.24 Q130.155 1879.49 133.21 1874.91 Q136.289 1870.3 142.099 1870.3 Z\" fill=\"#000000\" fill-rule=\"evenodd\" fill-opacity=\"1\" /><path clip-path=\"url(#clip030)\" d=\"M133.141 1721.92 L151.497 1721.92 L151.497 1725.86 L137.423 1725.86 L137.423 1734.33 Q138.442 1733.98 139.46 1733.82 Q140.479 1733.64 141.497 1733.64 Q147.284 1733.64 150.664 1736.81 Q154.044 1739.98 154.044 1745.4 Q154.044 1750.98 150.571 1754.08 Q147.099 1757.16 140.78 1757.16 Q138.604 1757.16 136.335 1756.79 Q134.09 1756.42 131.683 1755.67 L131.683 1750.98 Q133.766 1752.11 135.988 1752.67 Q138.21 1753.22 140.687 1753.22 Q144.692 1753.22 147.03 1751.11 Q149.368 1749.01 149.368 1745.4 Q149.368 1741.79 147.03 1739.68 Q144.692 1737.57 140.687 1737.57 Q138.812 1737.57 136.937 1737.99 Q135.085 1738.41 133.141 1739.29 L133.141 1721.92 Z\" fill=\"#000000\" fill-rule=\"evenodd\" fill-opacity=\"1\" /><path clip-path=\"url(#clip030)\" d=\"M102.748 1603.55 L110.386 1603.55 L110.386 1577.18 L102.076 1578.85 L102.076 1574.59 L110.34 1572.92 L115.016 1572.92 L115.016 1603.55 L122.655 1603.55 L122.655 1607.48 L102.748 1607.48 L102.748 1603.55 Z\" fill=\"#000000\" fill-rule=\"evenodd\" fill-opacity=\"1\" /><path clip-path=\"url(#clip030)\" d=\"M142.099 1576 Q138.488 1576 136.659 1579.57 Q134.854 1583.11 134.854 1590.24 Q134.854 1597.34 136.659 1600.91 Q138.488 1604.45 142.099 1604.45 Q145.733 1604.45 147.539 1600.91 Q149.368 1597.34 149.368 1590.24 Q149.368 1583.11 147.539 1579.57 Q145.733 1576 142.099 1576 M142.099 1572.3 Q147.909 1572.3 150.965 1576.9 Q154.044 1581.49 154.044 1590.24 Q154.044 1598.96 150.965 1603.57 Q147.909 1608.15 142.099 1608.15 Q136.289 1608.15 133.21 1603.57 Q130.155 1598.96 130.155 1590.24 Q130.155 1581.49 133.21 1576.9 Q136.289 1572.3 142.099 1572.3 Z\" fill=\"#000000\" fill-rule=\"evenodd\" fill-opacity=\"1\" /><path clip-path=\"url(#clip030)\" d=\"M103.743 1454.54 L111.382 1454.54 L111.382 1428.18 L103.072 1429.84 L103.072 1425.59 L111.335 1423.92 L116.011 1423.92 L116.011 1454.54 L123.65 1454.54 L123.65 1458.48 L103.743 1458.48 L103.743 1454.54 Z\" fill=\"#000000\" fill-rule=\"evenodd\" fill-opacity=\"1\" /><path clip-path=\"url(#clip030)\" d=\"M133.141 1423.92 L151.497 1423.92 L151.497 1427.85 L137.423 1427.85 L137.423 1436.33 Q138.442 1435.98 139.46 1435.82 Q140.479 1435.63 141.497 1435.63 Q147.284 1435.63 150.664 1438.8 Q154.044 1441.97 154.044 1447.39 Q154.044 1452.97 150.571 1456.07 Q147.099 1459.15 140.78 1459.15 Q138.604 1459.15 136.335 1458.78 Q134.09 1458.41 131.683 1457.67 L131.683 1452.97 Q133.766 1454.1 135.988 1454.66 Q138.21 1455.21 140.687 1455.21 Q144.692 1455.21 147.03 1453.11 Q149.368 1451 149.368 1447.39 Q149.368 1443.78 147.03 1441.67 Q144.692 1439.57 140.687 1439.57 Q138.812 1439.57 136.937 1439.98 Q135.085 1440.4 133.141 1441.28 L133.141 1423.92 Z\" fill=\"#000000\" fill-rule=\"evenodd\" fill-opacity=\"1\" /><path clip-path=\"url(#clip030)\" d=\"M105.965 1305.54 L122.284 1305.54 L122.284 1309.48 L100.34 1309.48 L100.34 1305.54 Q103.002 1302.79 107.585 1298.16 Q112.192 1293.5 113.372 1292.16 Q115.618 1289.64 116.497 1287.9 Q117.4 1286.14 117.4 1284.45 Q117.4 1281.7 115.456 1279.96 Q113.535 1278.23 110.433 1278.23 Q108.234 1278.23 105.78 1278.99 Q103.349 1279.75 100.572 1281.3 L100.572 1276.58 Q103.396 1275.45 105.849 1274.87 Q108.303 1274.29 110.34 1274.29 Q115.71 1274.29 118.905 1276.98 Q122.099 1279.66 122.099 1284.15 Q122.099 1286.28 121.289 1288.2 Q120.502 1290.1 118.396 1292.69 Q117.817 1293.36 114.715 1296.58 Q111.613 1299.78 105.965 1305.54 Z\" fill=\"#000000\" fill-rule=\"evenodd\" fill-opacity=\"1\" /><path clip-path=\"url(#clip030)\" d=\"M142.099 1277.99 Q138.488 1277.99 136.659 1281.56 Q134.854 1285.1 134.854 1292.23 Q134.854 1299.34 136.659 1302.9 Q138.488 1306.44 142.099 1306.44 Q145.733 1306.44 147.539 1302.9 Q149.368 1299.34 149.368 1292.23 Q149.368 1285.1 147.539 1281.56 Q145.733 1277.99 142.099 1277.99 M142.099 1274.29 Q147.909 1274.29 150.965 1278.9 Q154.044 1283.48 154.044 1292.23 Q154.044 1300.96 150.965 1305.56 Q147.909 1310.15 142.099 1310.15 Q136.289 1310.15 133.21 1305.56 Q130.155 1300.96 130.155 1292.23 Q130.155 1283.48 133.21 1278.9 Q136.289 1274.29 142.099 1274.29 Z\" fill=\"#000000\" fill-rule=\"evenodd\" fill-opacity=\"1\" /><path clip-path=\"url(#clip030)\" d=\"M106.96 1156.54 L123.28 1156.54 L123.28 1160.47 L101.336 1160.47 L101.336 1156.54 Q103.998 1153.78 108.581 1149.15 Q113.187 1144.5 114.368 1143.16 Q116.613 1140.63 117.493 1138.9 Q118.396 1137.14 118.396 1135.45 Q118.396 1132.7 116.451 1130.96 Q114.53 1129.22 111.428 1129.22 Q109.229 1129.22 106.775 1129.99 Q104.345 1130.75 101.567 1132.3 L101.567 1127.58 Q104.391 1126.45 106.845 1125.87 Q109.298 1125.29 111.335 1125.29 Q116.706 1125.29 119.9 1127.97 Q123.095 1130.66 123.095 1135.15 Q123.095 1137.28 122.284 1139.2 Q121.497 1141.1 119.391 1143.69 Q118.812 1144.36 115.71 1147.58 Q112.609 1150.77 106.96 1156.54 Z\" fill=\"#000000\" fill-rule=\"evenodd\" fill-opacity=\"1\" /><path clip-path=\"url(#clip030)\" d=\"M133.141 1125.91 L151.497 1125.91 L151.497 1129.85 L137.423 1129.85 L137.423 1138.32 Q138.442 1137.97 139.46 1137.81 Q140.479 1137.63 141.497 1137.63 Q147.284 1137.63 150.664 1140.8 Q154.044 1143.97 154.044 1149.38 Q154.044 1154.96 150.571 1158.07 Q147.099 1161.14 140.78 1161.14 Q138.604 1161.14 136.335 1160.77 Q134.09 1160.4 131.683 1159.66 L131.683 1154.96 Q133.766 1156.1 135.988 1156.65 Q138.21 1157.21 140.687 1157.21 Q144.692 1157.21 147.03 1155.1 Q149.368 1153 149.368 1149.38 Q149.368 1145.77 147.03 1143.67 Q144.692 1141.56 140.687 1141.56 Q138.812 1141.56 136.937 1141.98 Q135.085 1142.39 133.141 1143.27 L133.141 1125.91 Z\" fill=\"#000000\" fill-rule=\"evenodd\" fill-opacity=\"1\" /><path clip-path=\"url(#clip030)\" d=\"M-15.4358 1779.4 L-15.4358 1739.2 L-10.025 1739.2 L-10.025 1756.06 L32.0842 1756.06 L32.0842 1762.53 L-10.025 1762.53 L-10.025 1779.4 L-15.4358 1779.4 Z\" fill=\"#000000\" fill-rule=\"evenodd\" fill-opacity=\"1\" /><path clip-path=\"url(#clip030)\" d=\"M12.7961 1713.83 L15.6606 1713.83 L15.6606 1740.76 Q21.7081 1740.37 24.8909 1737.13 Q28.0419 1733.85 28.0419 1728.02 Q28.0419 1724.65 27.2144 1721.5 Q26.3869 1718.32 24.7318 1715.2 L30.2699 1715.2 Q31.6067 1718.35 32.307 1721.66 Q33.0072 1724.97 33.0072 1728.37 Q33.0072 1736.9 28.0419 1741.9 Q23.0767 1746.87 14.6103 1746.87 Q5.85745 1746.87 0.733052 1742.16 Q-4.42317 1737.41 -4.42317 1729.39 Q-4.42317 1722.2 0.223796 1718.03 Q4.83893 1713.83 12.7961 1713.83 M11.0773 1719.68 Q6.27122 1719.75 3.40665 1722.39 Q0.542081 1725 0.542081 1729.33 Q0.542081 1734.23 3.31116 1737.19 Q6.08025 1740.12 11.1092 1740.56 L11.0773 1719.68 Z\" fill=\"#000000\" fill-rule=\"evenodd\" fill-opacity=\"1\" /><path clip-path=\"url(#clip030)\" d=\"M3.27933 1676.46 Q-0.667403 1674.27 -2.54529 1671.21 Q-4.42317 1668.15 -4.42317 1664.02 Q-4.42317 1658.45 -0.50826 1655.42 Q3.37482 1652.4 10.5681 1652.4 L32.0842 1652.4 L32.0842 1658.29 L10.759 1658.29 Q5.63465 1658.29 3.15202 1660.1 Q0.669395 1661.92 0.669395 1665.64 Q0.669395 1670.19 3.69311 1672.83 Q6.71682 1675.47 11.9367 1675.47 L32.0842 1675.47 L32.0842 1681.36 L10.759 1681.36 Q5.60282 1681.36 3.15202 1683.18 Q0.669395 1684.99 0.669395 1688.78 Q0.669395 1693.27 3.72493 1695.91 Q6.74865 1698.55 11.9367 1698.55 L32.0842 1698.55 L32.0842 1704.44 L-3.5638 1704.44 L-3.5638 1698.55 L1.97437 1698.55 Q-1.30397 1696.55 -2.86357 1693.74 Q-4.42317 1690.94 -4.42317 1687.09 Q-4.42317 1683.21 -2.4498 1680.5 Q-0.476432 1677.77 3.27933 1676.46 Z\" fill=\"#000000\" fill-rule=\"evenodd\" fill-opacity=\"1\" /><path clip-path=\"url(#clip030)\" d=\"M26.737 1635.05 L45.6431 1635.05 L45.6431 1640.94 L-3.5638 1640.94 L-3.5638 1635.05 L1.84705 1635.05 Q-1.3358 1633.21 -2.86357 1630.41 Q-4.42317 1627.57 -4.42317 1623.66 Q-4.42317 1617.17 0.733052 1613.12 Q5.88927 1609.05 14.292 1609.05 Q22.6947 1609.05 27.851 1613.12 Q33.0072 1617.17 33.0072 1623.66 Q33.0072 1627.57 31.4794 1630.41 Q29.9198 1633.21 26.737 1635.05 M14.292 1615.13 Q7.83082 1615.13 4.17053 1617.8 Q0.478424 1620.44 0.478424 1625.09 Q0.478424 1629.74 4.17053 1632.41 Q7.83082 1635.05 14.292 1635.05 Q20.7532 1635.05 24.4453 1632.41 Q28.1056 1629.74 28.1056 1625.09 Q28.1056 1620.44 24.4453 1617.8 Q20.7532 1615.13 14.292 1615.13 Z\" fill=\"#000000\" fill-rule=\"evenodd\" fill-opacity=\"1\" /><path clip-path=\"url(#clip030)\" d=\"M12.7961 1568.85 L15.6606 1568.85 L15.6606 1595.78 Q21.7081 1595.39 24.8909 1592.15 Q28.0419 1588.87 28.0419 1583.04 Q28.0419 1579.67 27.2144 1576.52 Q26.3869 1573.34 24.7318 1570.22 L30.2699 1570.22 Q31.6067 1573.37 32.307 1576.68 Q33.0072 1579.99 33.0072 1583.4 Q33.0072 1591.93 28.0419 1596.92 Q23.0767 1601.89 14.6103 1601.89 Q5.85745 1601.89 0.733052 1597.18 Q-4.42317 1592.43 -4.42317 1584.41 Q-4.42317 1577.22 0.223796 1573.05 Q4.83893 1568.85 12.7961 1568.85 M11.0773 1574.71 Q6.27122 1574.77 3.40665 1577.41 Q0.542081 1580.02 0.542081 1584.35 Q0.542081 1589.25 3.31116 1592.21 Q6.08025 1595.14 11.1092 1595.59 L11.0773 1574.71 Z\" fill=\"#000000\" fill-rule=\"evenodd\" fill-opacity=\"1\" /><path clip-path=\"url(#clip030)\" d=\"M1.91071 1538.58 Q1.33779 1539.57 1.08317 1540.74 Q0.796709 1541.89 0.796709 1543.29 Q0.796709 1548.26 4.04322 1550.93 Q7.2579 1553.57 13.3053 1553.57 L32.0842 1553.57 L32.0842 1559.46 L-3.5638 1559.46 L-3.5638 1553.57 L1.97437 1553.57 Q-1.27215 1551.73 -2.83174 1548.77 Q-4.42317 1545.81 -4.42317 1541.57 Q-4.42317 1540.97 -4.32768 1540.24 Q-4.26403 1539.5 -4.10488 1538.61 L1.91071 1538.58 Z\" fill=\"#000000\" fill-rule=\"evenodd\" fill-opacity=\"1\" /><path clip-path=\"url(#clip030)\" d=\"M14.1647 1516.24 Q14.1647 1523.33 15.7879 1526.07 Q17.4112 1528.81 21.3261 1528.81 Q24.4453 1528.81 26.2914 1526.77 Q28.1056 1524.7 28.1056 1521.17 Q28.1056 1516.3 24.6681 1513.37 Q21.1988 1510.41 15.4697 1510.41 L14.1647 1510.41 L14.1647 1516.24 M11.7457 1504.56 L32.0842 1504.56 L32.0842 1510.41 L26.6733 1510.41 Q29.9198 1512.42 31.4794 1515.41 Q33.0072 1518.4 33.0072 1522.73 Q33.0072 1528.2 29.9516 1531.45 Q26.8643 1534.67 21.7081 1534.67 Q15.6925 1534.67 12.6369 1530.66 Q9.58138 1526.61 9.58138 1518.62 L9.58138 1510.41 L9.00847 1510.41 Q4.96625 1510.41 2.77008 1513.09 Q0.542081 1515.73 0.542081 1520.53 Q0.542081 1523.59 1.27414 1526.49 Q2.00619 1529.38 3.47031 1532.06 L-1.94054 1532.06 Q-3.18186 1528.84 -3.7866 1525.82 Q-4.42317 1522.79 -4.42317 1519.93 Q-4.42317 1512.19 -0.412775 1508.38 Q3.59762 1504.56 11.7457 1504.56 Z\" fill=\"#000000\" fill-rule=\"evenodd\" fill-opacity=\"1\" /><path clip-path=\"url(#clip030)\" d=\"M-13.6853 1486.7 L-3.5638 1486.7 L-3.5638 1474.64 L0.987681 1474.64 L0.987681 1486.7 L20.3394 1486.7 Q24.6999 1486.7 25.9413 1485.52 Q27.1826 1484.31 27.1826 1480.65 L27.1826 1474.64 L32.0842 1474.64 L32.0842 1480.65 Q32.0842 1487.43 29.5697 1490.01 Q27.0234 1492.59 20.3394 1492.59 L0.987681 1492.59 L0.987681 1496.89 L-3.5638 1496.89 L-3.5638 1492.59 L-13.6853 1492.59 L-13.6853 1486.7 Z\" fill=\"#000000\" fill-rule=\"evenodd\" fill-opacity=\"1\" /><path clip-path=\"url(#clip030)\" d=\"M18.0159 1467.54 L-3.5638 1467.54 L-3.5638 1461.68 L17.7931 1461.68 Q22.8539 1461.68 25.4002 1459.71 Q27.9146 1457.74 27.9146 1453.79 Q27.9146 1449.05 24.8909 1446.31 Q21.8672 1443.54 16.6473 1443.54 L-3.5638 1443.54 L-3.5638 1437.68 L32.0842 1437.68 L32.0842 1443.54 L26.6096 1443.54 Q29.8562 1445.67 31.4476 1448.51 Q33.0072 1451.31 33.0072 1455.03 Q33.0072 1461.17 29.1878 1464.36 Q25.3683 1467.54 18.0159 1467.54 M-4.42317 1452.8 L-4.42317 1452.8 Z\" fill=\"#000000\" fill-rule=\"evenodd\" fill-opacity=\"1\" /><path clip-path=\"url(#clip030)\" d=\"M1.91071 1404.96 Q1.33779 1405.95 1.08317 1407.13 Q0.796709 1408.27 0.796709 1409.67 Q0.796709 1414.64 4.04322 1417.31 Q7.2579 1419.96 13.3053 1419.96 L32.0842 1419.96 L32.0842 1425.84 L-3.5638 1425.84 L-3.5638 1419.96 L1.97437 1419.96 Q-1.27215 1418.11 -2.83174 1415.15 Q-4.42317 1412.19 -4.42317 1407.96 Q-4.42317 1407.35 -4.32768 1406.62 Q-4.26403 1405.89 -4.10488 1405 L1.91071 1404.96 Z\" fill=\"#000000\" fill-rule=\"evenodd\" fill-opacity=\"1\" /><path clip-path=\"url(#clip030)\" d=\"M12.7961 1369.76 L15.6606 1369.76 L15.6606 1396.69 Q21.7081 1396.31 24.8909 1393.06 Q28.0419 1389.78 28.0419 1383.96 Q28.0419 1380.58 27.2144 1377.43 Q26.3869 1374.25 24.7318 1371.13 L30.2699 1371.13 Q31.6067 1374.28 32.307 1377.59 Q33.0072 1380.9 33.0072 1384.31 Q33.0072 1392.84 28.0419 1397.83 Q23.0767 1402.8 14.6103 1402.8 Q5.85745 1402.8 0.733052 1398.09 Q-4.42317 1393.35 -4.42317 1385.33 Q-4.42317 1378.13 0.223796 1373.96 Q4.83893 1369.76 12.7961 1369.76 M11.0773 1375.62 Q6.27122 1375.68 3.40665 1378.32 Q0.542081 1380.93 0.542081 1385.26 Q0.542081 1390.16 3.31116 1393.12 Q6.08025 1396.05 11.1092 1396.5 L11.0773 1375.62 Z\" fill=\"#000000\" fill-rule=\"evenodd\" fill-opacity=\"1\" /><path clip-path=\"url(#clip030)\" d=\"M-17.441 1339.97 L-17.441 1326.48 L-12.8896 1326.48 L-12.8896 1334.11 L36.1264 1334.11 L36.1264 1326.48 L40.6779 1326.48 L40.6779 1339.97 L-17.441 1339.97 Z\" fill=\"#000000\" fill-rule=\"evenodd\" fill-opacity=\"1\" /><path clip-path=\"url(#clip030)\" d=\"M-12.1893 1303.85 Q-12.1893 1306.39 -10.4069 1308.14 Q-8.65636 1309.89 -6.11008 1309.89 Q-3.59563 1309.89 -1.84506 1308.14 Q-0.126318 1306.39 -0.126318 1303.85 Q-0.126318 1301.3 -1.84506 1299.55 Q-3.59563 1297.8 -6.11008 1297.8 Q-8.62454 1297.8 -10.4069 1299.58 Q-12.1893 1301.33 -12.1893 1303.85 M-16.2952 1303.85 Q-16.2952 1301.81 -15.4995 1299.93 Q-14.7356 1298.05 -13.2715 1296.68 Q-11.8392 1295.22 -10.025 1294.49 Q-8.21077 1293.76 -6.11008 1293.76 Q-1.90872 1293.76 1.01951 1296.72 Q3.91591 1299.64 3.91591 1303.91 Q3.91591 1308.21 1.05134 1311.07 Q-1.81323 1313.93 -6.11008 1313.93 Q-10.3751 1313.93 -13.3352 1311.01 Q-16.2952 1308.08 -16.2952 1303.85 Z\" fill=\"#000000\" fill-rule=\"evenodd\" fill-opacity=\"1\" /><path clip-path=\"url(#clip030)\" d=\"M-11.7756 1245.57 L-4.99608 1245.57 Q-8.01979 1248.81 -9.51574 1252.51 Q-11.0117 1256.17 -11.0117 1260.3 Q-11.0117 1268.45 -6.0146 1272.78 Q-1.04935 1277.11 8.3719 1277.11 Q17.7613 1277.11 22.7584 1272.78 Q27.7236 1268.45 27.7236 1260.3 Q27.7236 1256.17 26.2277 1252.51 Q24.7318 1248.81 21.7081 1245.57 L28.4239 1245.57 Q30.7155 1248.94 31.8614 1252.73 Q33.0072 1256.48 33.0072 1260.69 Q33.0072 1271.48 26.4187 1277.68 Q19.7983 1283.89 8.3719 1283.89 Q-3.08637 1283.89 -9.67488 1277.68 Q-16.2952 1271.48 -16.2952 1260.69 Q-16.2952 1256.42 -15.1494 1252.66 Q-14.0354 1248.88 -11.7756 1245.57 Z\" fill=\"#000000\" fill-rule=\"evenodd\" fill-opacity=\"1\" /><path clip-path=\"url(#clip030)\" d=\"M-17.441 1222.2 L40.6779 1222.2 L40.6779 1235.7 L36.1264 1235.7 L36.1264 1228.09 L-12.8896 1228.09 L-12.8896 1235.7 L-17.441 1235.7 L-17.441 1222.2 Z\" fill=\"#000000\" fill-rule=\"evenodd\" fill-opacity=\"1\" /><path clip-path=\"url(#clip030)\" d=\"M604.884 1016.75 L604.884 1025.38 Q600.752 1021.53 596.053 1019.63 Q591.395 1017.73 586.128 1017.73 Q575.758 1017.73 570.249 1024.09 Q564.74 1030.41 564.74 1042.4 Q564.74 1054.35 570.249 1060.71 Q575.758 1067.03 586.128 1067.03 Q591.395 1067.03 596.053 1065.12 Q600.752 1063.22 604.884 1059.37 L604.884 1067.92 Q600.59 1070.83 595.77 1072.29 Q590.989 1073.75 585.642 1073.75 Q571.91 1073.75 564.01 1065.37 Q556.111 1056.94 556.111 1042.4 Q556.111 1027.81 564.01 1019.43 Q571.91 1011 585.642 1011 Q591.071 1011 595.851 1012.46 Q600.671 1013.88 604.884 1016.75 Z\" fill=\"#000000\" fill-rule=\"evenodd\" fill-opacity=\"1\" /><path clip-path=\"url(#clip030)\" d=\"M654.913 1045.19 L654.913 1072.58 L647.459 1072.58 L647.459 1045.43 Q647.459 1038.99 644.948 1035.79 Q642.436 1032.59 637.413 1032.59 Q631.377 1032.59 627.893 1036.44 Q624.409 1040.29 624.409 1046.93 L624.409 1072.58 L616.915 1072.58 L616.915 1009.54 L624.409 1009.54 L624.409 1034.25 Q627.083 1030.16 630.688 1028.14 Q634.334 1026.11 639.074 1026.11 Q646.892 1026.11 650.902 1030.97 Q654.913 1035.79 654.913 1045.19 Z\" fill=\"#000000\" fill-rule=\"evenodd\" fill-opacity=\"1\" /><path clip-path=\"url(#clip030)\" d=\"M669.78 1027.21 L677.233 1027.21 L677.233 1072.58 L669.78 1072.58 L669.78 1027.21 M669.78 1009.54 L677.233 1009.54 L677.233 1018.98 L669.78 1018.98 L669.78 1009.54 Z\" fill=\"#000000\" fill-rule=\"evenodd\" fill-opacity=\"1\" /><path clip-path=\"url(#clip030)\" d=\"M725.48 1028.95 L725.48 1035.92 Q722.32 1034.17 719.12 1033.32 Q715.96 1032.43 712.719 1032.43 Q705.468 1032.43 701.458 1037.05 Q697.447 1041.63 697.447 1049.93 Q697.447 1058.24 701.458 1062.85 Q705.468 1067.43 712.719 1067.43 Q715.96 1067.43 719.12 1066.58 Q722.32 1065.69 725.48 1063.95 L725.48 1070.83 Q722.36 1072.29 718.998 1073.02 Q715.676 1073.75 711.909 1073.75 Q701.66 1073.75 695.624 1067.31 Q689.588 1060.87 689.588 1049.93 Q689.588 1038.83 695.665 1032.47 Q701.782 1026.11 712.395 1026.11 Q715.838 1026.11 719.12 1026.84 Q722.401 1027.53 725.48 1028.95 Z\" fill=\"#000000\" fill-rule=\"evenodd\" fill-opacity=\"1\" /><path clip-path=\"url(#clip030)\" d=\"M759.062 1049.77 Q750.028 1049.77 746.544 1051.84 Q743.06 1053.9 743.06 1058.88 Q743.06 1062.85 745.653 1065.2 Q748.286 1067.51 752.783 1067.51 Q758.98 1067.51 762.707 1063.14 Q766.475 1058.72 766.475 1051.43 L766.475 1049.77 L759.062 1049.77 M773.928 1046.69 L773.928 1072.58 L766.475 1072.58 L766.475 1065.69 Q763.923 1069.82 760.115 1071.81 Q756.307 1073.75 750.798 1073.75 Q743.83 1073.75 739.698 1069.86 Q735.607 1065.93 735.607 1059.37 Q735.607 1051.71 740.711 1047.82 Q745.856 1043.94 756.023 1043.94 L766.475 1043.94 L766.475 1043.21 Q766.475 1038.06 763.072 1035.27 Q759.71 1032.43 753.593 1032.43 Q749.704 1032.43 746.018 1033.36 Q742.331 1034.29 738.929 1036.16 L738.929 1029.27 Q743.02 1027.69 746.868 1026.92 Q750.717 1026.11 754.362 1026.11 Q764.206 1026.11 769.067 1031.22 Q773.928 1036.32 773.928 1046.69 Z\" fill=\"#000000\" fill-rule=\"evenodd\" fill-opacity=\"1\" /><path clip-path=\"url(#clip030)\" d=\"M819.136 1049.36 Q819.136 1041.26 815.774 1036.81 Q812.452 1032.35 806.417 1032.35 Q800.421 1032.35 797.059 1036.81 Q793.737 1041.26 793.737 1049.36 Q793.737 1057.43 797.059 1061.88 Q800.421 1066.34 806.417 1066.34 Q812.452 1066.34 815.774 1061.88 Q819.136 1057.43 819.136 1049.36 M826.59 1066.95 Q826.59 1078.53 821.445 1084.16 Q816.301 1089.83 805.687 1089.83 Q801.758 1089.83 798.274 1089.23 Q794.79 1088.66 791.509 1087.44 L791.509 1080.19 Q794.79 1081.97 797.991 1082.82 Q801.191 1083.68 804.513 1083.68 Q811.845 1083.68 815.491 1079.83 Q819.136 1076.02 819.136 1068.28 L819.136 1064.6 Q816.827 1068.61 813.222 1070.59 Q809.617 1072.58 804.594 1072.58 Q796.249 1072.58 791.145 1066.22 Q786.041 1059.86 786.041 1049.36 Q786.041 1038.83 791.145 1032.47 Q796.249 1026.11 804.594 1026.11 Q809.617 1026.11 813.222 1028.1 Q816.827 1030.08 819.136 1034.09 L819.136 1027.21 L826.59 1027.21 L826.59 1066.95 Z\" fill=\"#000000\" fill-rule=\"evenodd\" fill-opacity=\"1\" /><path clip-path=\"url(#clip030)\" d=\"M859.524 1032.43 Q853.529 1032.43 850.045 1037.13 Q846.561 1041.79 846.561 1049.93 Q846.561 1058.07 850.004 1062.77 Q853.488 1067.43 859.524 1067.43 Q865.479 1067.43 868.963 1062.73 Q872.446 1058.03 872.446 1049.93 Q872.446 1041.87 868.963 1037.17 Q865.479 1032.43 859.524 1032.43 M859.524 1026.11 Q869.246 1026.11 874.796 1032.43 Q880.346 1038.75 880.346 1049.93 Q880.346 1061.07 874.796 1067.43 Q869.246 1073.75 859.524 1073.75 Q849.761 1073.75 844.212 1067.43 Q838.702 1061.07 838.702 1049.93 Q838.702 1038.75 844.212 1032.43 Q849.761 1026.11 859.524 1026.11 Z\" fill=\"#000000\" fill-rule=\"evenodd\" fill-opacity=\"1\" /><path clip-path=\"url(#clip030)\" d=\"M911.011 1012.1 L962.174 1012.1 L962.174 1018.98 L940.704 1018.98 L940.704 1072.58 L932.481 1072.58 L932.481 1018.98 L911.011 1018.98 L911.011 1012.1 Z\" fill=\"#000000\" fill-rule=\"evenodd\" fill-opacity=\"1\" /><path clip-path=\"url(#clip030)\" d=\"M994.46 1048.03 L994.46 1051.67 L960.189 1051.67 Q960.675 1059.37 964.807 1063.42 Q968.979 1067.43 976.393 1067.43 Q980.686 1067.43 984.697 1066.38 Q988.748 1065.32 992.718 1063.22 L992.718 1070.27 Q988.707 1071.97 984.494 1072.86 Q980.281 1073.75 975.947 1073.75 Q965.09 1073.75 958.731 1067.43 Q952.411 1061.11 952.411 1050.34 Q952.411 1039.2 958.406 1032.67 Q964.442 1026.11 974.651 1026.11 Q983.806 1026.11 989.112 1032.03 Q994.46 1037.9 994.46 1048.03 M987.006 1045.84 Q986.925 1039.72 983.563 1036.08 Q980.241 1032.43 974.732 1032.43 Q968.493 1032.43 964.726 1035.96 Q960.999 1039.48 960.432 1045.88 L987.006 1045.84 Z\" fill=\"#000000\" fill-rule=\"evenodd\" fill-opacity=\"1\" /><path clip-path=\"url(#clip030)\" d=\"M1042.02 1035.92 Q1044.81 1030.89 1048.7 1028.5 Q1052.59 1026.11 1057.86 1026.11 Q1064.95 1026.11 1068.79 1031.09 Q1072.64 1036.04 1072.64 1045.19 L1072.64 1072.58 L1065.15 1072.58 L1065.15 1045.43 Q1065.15 1038.91 1062.84 1035.75 Q1060.53 1032.59 1055.79 1032.59 Q1050 1032.59 1046.64 1036.44 Q1043.27 1040.29 1043.27 1046.93 L1043.27 1072.58 L1035.78 1072.58 L1035.78 1045.43 Q1035.78 1038.87 1033.47 1035.75 Q1031.16 1032.59 1026.34 1032.59 Q1020.63 1032.59 1017.27 1036.48 Q1013.9 1040.33 1013.9 1046.93 L1013.9 1072.58 L1006.41 1072.58 L1006.41 1027.21 L1013.9 1027.21 L1013.9 1034.25 Q1016.46 1030.08 1020.02 1028.1 Q1023.59 1026.11 1028.49 1026.11 Q1033.43 1026.11 1036.87 1028.62 Q1040.36 1031.14 1042.02 1035.92 Z\" fill=\"#000000\" fill-rule=\"evenodd\" fill-opacity=\"1\" /><path clip-path=\"url(#clip030)\" d=\"M1094.72 1065.77 L1094.72 1089.83 L1087.23 1089.83 L1087.23 1027.21 L1094.72 1027.21 L1094.72 1034.09 Q1097.07 1030.04 1100.63 1028.1 Q1104.24 1026.11 1109.22 1026.11 Q1117.49 1026.11 1122.63 1032.67 Q1127.82 1039.24 1127.82 1049.93 Q1127.82 1060.63 1122.63 1067.19 Q1117.49 1073.75 1109.22 1073.75 Q1104.24 1073.75 1100.63 1071.81 Q1097.07 1069.82 1094.72 1065.77 M1120.08 1049.93 Q1120.08 1041.71 1116.68 1037.05 Q1113.31 1032.35 1107.4 1032.35 Q1101.48 1032.35 1098.08 1037.05 Q1094.72 1041.71 1094.72 1049.93 Q1094.72 1058.15 1098.08 1062.85 Q1101.48 1067.51 1107.4 1067.51 Q1113.31 1067.51 1116.68 1062.85 Q1120.08 1058.15 1120.08 1049.93 Z\" fill=\"#000000\" fill-rule=\"evenodd\" fill-opacity=\"1\" /><path clip-path=\"url(#clip030)\" d=\"M1178.98 1048.03 L1178.98 1051.67 L1144.71 1051.67 Q1145.19 1059.37 1149.33 1063.42 Q1153.5 1067.43 1160.91 1067.43 Q1165.21 1067.43 1169.22 1066.38 Q1173.27 1065.32 1177.24 1063.22 L1177.24 1070.27 Q1173.23 1071.97 1169.01 1072.86 Q1164.8 1073.75 1160.47 1073.75 Q1149.61 1073.75 1143.25 1067.43 Q1136.93 1061.11 1136.93 1050.34 Q1136.93 1039.2 1142.93 1032.67 Q1148.96 1026.11 1159.17 1026.11 Q1168.32 1026.11 1173.63 1032.03 Q1178.98 1037.9 1178.98 1048.03 M1171.52 1045.84 Q1171.44 1039.72 1168.08 1036.08 Q1164.76 1032.43 1159.25 1032.43 Q1153.01 1032.43 1149.24 1035.96 Q1145.52 1039.48 1144.95 1045.88 L1171.52 1045.84 Z\" fill=\"#000000\" fill-rule=\"evenodd\" fill-opacity=\"1\" /><path clip-path=\"url(#clip030)\" d=\"M1217.5 1034.17 Q1216.25 1033.44 1214.75 1033.12 Q1213.29 1032.76 1211.51 1032.76 Q1205.19 1032.76 1201.78 1036.89 Q1198.42 1040.98 1198.42 1048.68 L1198.42 1072.58 L1190.93 1072.58 L1190.93 1027.21 L1198.42 1027.21 L1198.42 1034.25 Q1200.77 1030.12 1204.54 1028.14 Q1208.31 1026.11 1213.69 1026.11 Q1214.46 1026.11 1215.4 1026.23 Q1216.33 1026.31 1217.46 1026.52 L1217.5 1034.17 Z\" fill=\"#000000\" fill-rule=\"evenodd\" fill-opacity=\"1\" /><path clip-path=\"url(#clip030)\" d=\"M1245.94 1049.77 Q1236.91 1049.77 1233.42 1051.84 Q1229.94 1053.9 1229.94 1058.88 Q1229.94 1062.85 1232.53 1065.2 Q1235.16 1067.51 1239.66 1067.51 Q1245.86 1067.51 1249.59 1063.14 Q1253.35 1058.72 1253.35 1051.43 L1253.35 1049.77 L1245.94 1049.77 M1260.81 1046.69 L1260.81 1072.58 L1253.35 1072.58 L1253.35 1065.69 Q1250.8 1069.82 1246.99 1071.81 Q1243.19 1073.75 1237.68 1073.75 Q1230.71 1073.75 1226.58 1069.86 Q1222.48 1065.93 1222.48 1059.37 Q1222.48 1051.71 1227.59 1047.82 Q1232.73 1043.94 1242.9 1043.94 L1253.35 1043.94 L1253.35 1043.21 Q1253.35 1038.06 1249.95 1035.27 Q1246.59 1032.43 1240.47 1032.43 Q1236.58 1032.43 1232.9 1033.36 Q1229.21 1034.29 1225.81 1036.16 L1225.81 1029.27 Q1229.9 1027.69 1233.75 1026.92 Q1237.59 1026.11 1241.24 1026.11 Q1251.08 1026.11 1255.95 1031.22 Q1260.81 1036.32 1260.81 1046.69 Z\" fill=\"#000000\" fill-rule=\"evenodd\" fill-opacity=\"1\" /><path clip-path=\"url(#clip030)\" d=\"M1283.53 1014.32 L1283.53 1027.21 L1298.88 1027.21 L1298.88 1033 L1283.53 1033 L1283.53 1057.63 Q1283.53 1063.18 1285.03 1064.76 Q1286.57 1066.34 1291.23 1066.34 L1298.88 1066.34 L1298.88 1072.58 L1291.23 1072.58 Q1282.6 1072.58 1279.32 1069.38 Q1276.04 1066.14 1276.04 1057.63 L1276.04 1033 L1270.57 1033 L1270.57 1027.21 L1276.04 1027.21 L1276.04 1014.32 L1283.53 1014.32 Z\" fill=\"#000000\" fill-rule=\"evenodd\" fill-opacity=\"1\" /><path clip-path=\"url(#clip030)\" d=\"M1307.92 1054.67 L1307.92 1027.21 L1315.37 1027.21 L1315.37 1054.39 Q1315.37 1060.83 1317.88 1064.07 Q1320.4 1067.27 1325.42 1067.27 Q1331.45 1067.27 1334.94 1063.42 Q1338.46 1059.57 1338.46 1052.93 L1338.46 1027.21 L1345.92 1027.21 L1345.92 1072.58 L1338.46 1072.58 L1338.46 1065.61 Q1335.75 1069.74 1332.14 1071.77 Q1328.58 1073.75 1323.84 1073.75 Q1316.02 1073.75 1311.97 1068.89 Q1307.92 1064.03 1307.92 1054.67 M1326.67 1026.11 L1326.67 1026.11 Z\" fill=\"#000000\" fill-rule=\"evenodd\" fill-opacity=\"1\" /><path clip-path=\"url(#clip030)\" d=\"M1387.56 1034.17 Q1386.3 1033.44 1384.8 1033.12 Q1383.35 1032.76 1381.56 1032.76 Q1375.24 1032.76 1371.84 1036.89 Q1368.48 1040.98 1368.48 1048.68 L1368.48 1072.58 L1360.99 1072.58 L1360.99 1027.21 L1368.48 1027.21 L1368.48 1034.25 Q1370.83 1030.12 1374.6 1028.14 Q1378.36 1026.11 1383.75 1026.11 Q1384.52 1026.11 1385.45 1026.23 Q1386.38 1026.31 1387.52 1026.52 L1387.56 1034.17 Z\" fill=\"#000000\" fill-rule=\"evenodd\" fill-opacity=\"1\" /><path clip-path=\"url(#clip030)\" d=\"M1432.36 1048.03 L1432.36 1051.67 L1398.09 1051.67 Q1398.58 1059.37 1402.71 1063.42 Q1406.88 1067.43 1414.3 1067.43 Q1418.59 1067.43 1422.6 1066.38 Q1426.65 1065.32 1430.62 1063.22 L1430.62 1070.27 Q1426.61 1071.97 1422.4 1072.86 Q1418.18 1073.75 1413.85 1073.75 Q1402.99 1073.75 1396.63 1067.43 Q1390.31 1061.11 1390.31 1050.34 Q1390.31 1039.2 1396.31 1032.67 Q1402.35 1026.11 1412.55 1026.11 Q1421.71 1026.11 1427.02 1032.03 Q1432.36 1037.9 1432.36 1048.03 M1424.91 1045.84 Q1424.83 1039.72 1421.47 1036.08 Q1418.14 1032.43 1412.63 1032.43 Q1406.4 1032.43 1402.63 1035.96 Q1398.9 1039.48 1398.33 1045.88 L1424.91 1045.84 Z\" fill=\"#000000\" fill-rule=\"evenodd\" fill-opacity=\"1\" /><path clip-path=\"url(#clip034)\" d=\"\n",
       "M252.545 1382.22 L317.04 1387.89 L381.535 1395.8 L446.03 1410.95 L510.525 1413.9 L575.02 1415.45 L639.515 1413.84 L704.01 1390.51 L768.504 1361.21 L832.999 1324.26 \n",
       "  L897.494 1293.83 L961.989 1268.98 L1026.48 1248.87 L1090.98 1230.87 L1155.47 1225.59 L1219.97 1223.3 L1284.46 1230.45 L1348.96 1248.78 L1413.45 1275.92 L1477.95 1309.72 \n",
       "  L1542.44 1341.22 L1606.94 1349.95 L1671.43 1361.39 L1735.93 1374.45 L1735.93 1847.26 L1671.43 1834.24 L1606.94 1833.32 L1542.44 1834.33 L1477.95 1822.32 L1413.45 1807.12 \n",
       "  L1348.96 1791.48 L1284.46 1759.98 L1219.97 1744 L1155.47 1730.47 L1090.98 1730.29 L1026.48 1742.99 L961.989 1762.09 L897.494 1781.46 L832.999 1811.62 L768.504 1843.95 \n",
       "  L704.01 1869.76 L639.515 1873.49 L575.02 1873.9 L510.525 1871.52 L446.03 1872.18 L381.535 1864.37 L317.04 1862.55 L252.545 1852.72  Z\n",
       "  \" fill=\"#afeeee\" fill-rule=\"evenodd\" fill-opacity=\"0.3\"/>\n",
       "<polyline clip-path=\"url(#clip034)\" style=\"stroke:#afeeee; stroke-linecap:butt; stroke-linejoin:round; stroke-width:0; stroke-opacity:0.3; fill:none\" points=\"\n",
       "  252.545,1382.22 317.04,1387.89 381.535,1395.8 446.03,1410.95 510.525,1413.9 575.02,1415.45 639.515,1413.84 704.01,1390.51 768.504,1361.21 832.999,1324.26 \n",
       "  897.494,1293.83 961.989,1268.98 1026.48,1248.87 1090.98,1230.87 1155.47,1225.59 1219.97,1223.3 1284.46,1230.45 1348.96,1248.78 1413.45,1275.92 1477.95,1309.72 \n",
       "  1542.44,1341.22 1606.94,1349.95 1671.43,1361.39 1735.93,1374.45 \n",
       "  \"/>\n",
       "<polyline clip-path=\"url(#clip034)\" style=\"stroke:#afeeee; stroke-linecap:butt; stroke-linejoin:round; stroke-width:16; stroke-opacity:1; fill:none\" points=\"\n",
       "  252.545,1614.82 317.04,1623.77 381.535,1629.93 446.03,1641.07 510.525,1650.31 575.02,1656.72 639.515,1650.82 704.01,1635.71 768.504,1599.56 832.999,1566.96 \n",
       "  897.494,1529.29 961.989,1500.17 1026.48,1481.76 1090.98,1471.27 1155.47,1464.8 1219.97,1467.75 1284.46,1476.93 1348.96,1497.7 1413.45,1528.16 1477.95,1562.73 \n",
       "  1542.44,1582.9 1606.94,1587.61 1671.43,1599.02 1735.93,1604.77 \n",
       "  \"/>\n",
       "<path clip-path=\"url(#clip030)\" d=\"\n",
       "M1980.37 1888.21 L3552.76 1888.21 L3552.76 1113.39 L1980.37 1113.39  Z\n",
       "  \" fill=\"#ffffff\" fill-rule=\"evenodd\" fill-opacity=\"1\"/>\n",
       "<defs>\n",
       "  <clipPath id=\"clip035\">\n",
       "    <rect x=\"1980\" y=\"1113\" width=\"1573\" height=\"776\"/>\n",
       "  </clipPath>\n",
       "</defs>\n",
       "<polyline clip-path=\"url(#clip035)\" style=\"stroke:#000000; stroke-linecap:butt; stroke-linejoin:round; stroke-width:2; stroke-opacity:0.1; fill:none\" points=\"\n",
       "  2024.87,1888.21 2024.87,1113.39 \n",
       "  \"/>\n",
       "<polyline clip-path=\"url(#clip035)\" style=\"stroke:#000000; stroke-linecap:butt; stroke-linejoin:round; stroke-width:2; stroke-opacity:0.1; fill:none\" points=\"\n",
       "  2089.37,1888.21 2089.37,1113.39 \n",
       "  \"/>\n",
       "<polyline clip-path=\"url(#clip035)\" style=\"stroke:#000000; stroke-linecap:butt; stroke-linejoin:round; stroke-width:2; stroke-opacity:0.1; fill:none\" points=\"\n",
       "  2153.86,1888.21 2153.86,1113.39 \n",
       "  \"/>\n",
       "<polyline clip-path=\"url(#clip035)\" style=\"stroke:#000000; stroke-linecap:butt; stroke-linejoin:round; stroke-width:2; stroke-opacity:0.1; fill:none\" points=\"\n",
       "  2218.36,1888.21 2218.36,1113.39 \n",
       "  \"/>\n",
       "<polyline clip-path=\"url(#clip035)\" style=\"stroke:#000000; stroke-linecap:butt; stroke-linejoin:round; stroke-width:2; stroke-opacity:0.1; fill:none\" points=\"\n",
       "  2282.85,1888.21 2282.85,1113.39 \n",
       "  \"/>\n",
       "<polyline clip-path=\"url(#clip035)\" style=\"stroke:#000000; stroke-linecap:butt; stroke-linejoin:round; stroke-width:2; stroke-opacity:0.1; fill:none\" points=\"\n",
       "  2347.35,1888.21 2347.35,1113.39 \n",
       "  \"/>\n",
       "<polyline clip-path=\"url(#clip035)\" style=\"stroke:#000000; stroke-linecap:butt; stroke-linejoin:round; stroke-width:2; stroke-opacity:0.1; fill:none\" points=\"\n",
       "  2411.84,1888.21 2411.84,1113.39 \n",
       "  \"/>\n",
       "<polyline clip-path=\"url(#clip035)\" style=\"stroke:#000000; stroke-linecap:butt; stroke-linejoin:round; stroke-width:2; stroke-opacity:0.1; fill:none\" points=\"\n",
       "  2476.34,1888.21 2476.34,1113.39 \n",
       "  \"/>\n",
       "<polyline clip-path=\"url(#clip035)\" style=\"stroke:#000000; stroke-linecap:butt; stroke-linejoin:round; stroke-width:2; stroke-opacity:0.1; fill:none\" points=\"\n",
       "  2540.83,1888.21 2540.83,1113.39 \n",
       "  \"/>\n",
       "<polyline clip-path=\"url(#clip035)\" style=\"stroke:#000000; stroke-linecap:butt; stroke-linejoin:round; stroke-width:2; stroke-opacity:0.1; fill:none\" points=\"\n",
       "  2605.33,1888.21 2605.33,1113.39 \n",
       "  \"/>\n",
       "<polyline clip-path=\"url(#clip035)\" style=\"stroke:#000000; stroke-linecap:butt; stroke-linejoin:round; stroke-width:2; stroke-opacity:0.1; fill:none\" points=\"\n",
       "  2669.82,1888.21 2669.82,1113.39 \n",
       "  \"/>\n",
       "<polyline clip-path=\"url(#clip035)\" style=\"stroke:#000000; stroke-linecap:butt; stroke-linejoin:round; stroke-width:2; stroke-opacity:0.1; fill:none\" points=\"\n",
       "  2734.32,1888.21 2734.32,1113.39 \n",
       "  \"/>\n",
       "<polyline clip-path=\"url(#clip035)\" style=\"stroke:#000000; stroke-linecap:butt; stroke-linejoin:round; stroke-width:2; stroke-opacity:0.1; fill:none\" points=\"\n",
       "  2798.81,1888.21 2798.81,1113.39 \n",
       "  \"/>\n",
       "<polyline clip-path=\"url(#clip035)\" style=\"stroke:#000000; stroke-linecap:butt; stroke-linejoin:round; stroke-width:2; stroke-opacity:0.1; fill:none\" points=\"\n",
       "  2863.31,1888.21 2863.31,1113.39 \n",
       "  \"/>\n",
       "<polyline clip-path=\"url(#clip035)\" style=\"stroke:#000000; stroke-linecap:butt; stroke-linejoin:round; stroke-width:2; stroke-opacity:0.1; fill:none\" points=\"\n",
       "  2927.8,1888.21 2927.8,1113.39 \n",
       "  \"/>\n",
       "<polyline clip-path=\"url(#clip035)\" style=\"stroke:#000000; stroke-linecap:butt; stroke-linejoin:round; stroke-width:2; stroke-opacity:0.1; fill:none\" points=\"\n",
       "  2992.29,1888.21 2992.29,1113.39 \n",
       "  \"/>\n",
       "<polyline clip-path=\"url(#clip035)\" style=\"stroke:#000000; stroke-linecap:butt; stroke-linejoin:round; stroke-width:2; stroke-opacity:0.1; fill:none\" points=\"\n",
       "  3056.79,1888.21 3056.79,1113.39 \n",
       "  \"/>\n",
       "<polyline clip-path=\"url(#clip035)\" style=\"stroke:#000000; stroke-linecap:butt; stroke-linejoin:round; stroke-width:2; stroke-opacity:0.1; fill:none\" points=\"\n",
       "  3121.28,1888.21 3121.28,1113.39 \n",
       "  \"/>\n",
       "<polyline clip-path=\"url(#clip035)\" style=\"stroke:#000000; stroke-linecap:butt; stroke-linejoin:round; stroke-width:2; stroke-opacity:0.1; fill:none\" points=\"\n",
       "  3185.78,1888.21 3185.78,1113.39 \n",
       "  \"/>\n",
       "<polyline clip-path=\"url(#clip035)\" style=\"stroke:#000000; stroke-linecap:butt; stroke-linejoin:round; stroke-width:2; stroke-opacity:0.1; fill:none\" points=\"\n",
       "  3250.27,1888.21 3250.27,1113.39 \n",
       "  \"/>\n",
       "<polyline clip-path=\"url(#clip035)\" style=\"stroke:#000000; stroke-linecap:butt; stroke-linejoin:round; stroke-width:2; stroke-opacity:0.1; fill:none\" points=\"\n",
       "  3314.77,1888.21 3314.77,1113.39 \n",
       "  \"/>\n",
       "<polyline clip-path=\"url(#clip035)\" style=\"stroke:#000000; stroke-linecap:butt; stroke-linejoin:round; stroke-width:2; stroke-opacity:0.1; fill:none\" points=\"\n",
       "  3379.26,1888.21 3379.26,1113.39 \n",
       "  \"/>\n",
       "<polyline clip-path=\"url(#clip035)\" style=\"stroke:#000000; stroke-linecap:butt; stroke-linejoin:round; stroke-width:2; stroke-opacity:0.1; fill:none\" points=\"\n",
       "  3443.76,1888.21 3443.76,1113.39 \n",
       "  \"/>\n",
       "<polyline clip-path=\"url(#clip035)\" style=\"stroke:#000000; stroke-linecap:butt; stroke-linejoin:round; stroke-width:2; stroke-opacity:0.1; fill:none\" points=\"\n",
       "  3508.25,1888.21 3508.25,1113.39 \n",
       "  \"/>\n",
       "<polyline clip-path=\"url(#clip030)\" style=\"stroke:#000000; stroke-linecap:butt; stroke-linejoin:round; stroke-width:4; stroke-opacity:1; fill:none\" points=\"\n",
       "  1980.37,1888.21 3552.76,1888.21 \n",
       "  \"/>\n",
       "<polyline clip-path=\"url(#clip030)\" style=\"stroke:#000000; stroke-linecap:butt; stroke-linejoin:round; stroke-width:4; stroke-opacity:1; fill:none\" points=\"\n",
       "  2024.87,1888.21 2024.87,1869.31 \n",
       "  \"/>\n",
       "<polyline clip-path=\"url(#clip030)\" style=\"stroke:#000000; stroke-linecap:butt; stroke-linejoin:round; stroke-width:4; stroke-opacity:1; fill:none\" points=\"\n",
       "  2089.37,1888.21 2089.37,1869.31 \n",
       "  \"/>\n",
       "<polyline clip-path=\"url(#clip030)\" style=\"stroke:#000000; stroke-linecap:butt; stroke-linejoin:round; stroke-width:4; stroke-opacity:1; fill:none\" points=\"\n",
       "  2153.86,1888.21 2153.86,1869.31 \n",
       "  \"/>\n",
       "<polyline clip-path=\"url(#clip030)\" style=\"stroke:#000000; stroke-linecap:butt; stroke-linejoin:round; stroke-width:4; stroke-opacity:1; fill:none\" points=\"\n",
       "  2218.36,1888.21 2218.36,1869.31 \n",
       "  \"/>\n",
       "<polyline clip-path=\"url(#clip030)\" style=\"stroke:#000000; stroke-linecap:butt; stroke-linejoin:round; stroke-width:4; stroke-opacity:1; fill:none\" points=\"\n",
       "  2282.85,1888.21 2282.85,1869.31 \n",
       "  \"/>\n",
       "<polyline clip-path=\"url(#clip030)\" style=\"stroke:#000000; stroke-linecap:butt; stroke-linejoin:round; stroke-width:4; stroke-opacity:1; fill:none\" points=\"\n",
       "  2347.35,1888.21 2347.35,1869.31 \n",
       "  \"/>\n",
       "<polyline clip-path=\"url(#clip030)\" style=\"stroke:#000000; stroke-linecap:butt; stroke-linejoin:round; stroke-width:4; stroke-opacity:1; fill:none\" points=\"\n",
       "  2411.84,1888.21 2411.84,1869.31 \n",
       "  \"/>\n",
       "<polyline clip-path=\"url(#clip030)\" style=\"stroke:#000000; stroke-linecap:butt; stroke-linejoin:round; stroke-width:4; stroke-opacity:1; fill:none\" points=\"\n",
       "  2476.34,1888.21 2476.34,1869.31 \n",
       "  \"/>\n",
       "<polyline clip-path=\"url(#clip030)\" style=\"stroke:#000000; stroke-linecap:butt; stroke-linejoin:round; stroke-width:4; stroke-opacity:1; fill:none\" points=\"\n",
       "  2540.83,1888.21 2540.83,1869.31 \n",
       "  \"/>\n",
       "<polyline clip-path=\"url(#clip030)\" style=\"stroke:#000000; stroke-linecap:butt; stroke-linejoin:round; stroke-width:4; stroke-opacity:1; fill:none\" points=\"\n",
       "  2605.33,1888.21 2605.33,1869.31 \n",
       "  \"/>\n",
       "<polyline clip-path=\"url(#clip030)\" style=\"stroke:#000000; stroke-linecap:butt; stroke-linejoin:round; stroke-width:4; stroke-opacity:1; fill:none\" points=\"\n",
       "  2669.82,1888.21 2669.82,1869.31 \n",
       "  \"/>\n",
       "<polyline clip-path=\"url(#clip030)\" style=\"stroke:#000000; stroke-linecap:butt; stroke-linejoin:round; stroke-width:4; stroke-opacity:1; fill:none\" points=\"\n",
       "  2734.32,1888.21 2734.32,1869.31 \n",
       "  \"/>\n",
       "<polyline clip-path=\"url(#clip030)\" style=\"stroke:#000000; stroke-linecap:butt; stroke-linejoin:round; stroke-width:4; stroke-opacity:1; fill:none\" points=\"\n",
       "  2798.81,1888.21 2798.81,1869.31 \n",
       "  \"/>\n",
       "<polyline clip-path=\"url(#clip030)\" style=\"stroke:#000000; stroke-linecap:butt; stroke-linejoin:round; stroke-width:4; stroke-opacity:1; fill:none\" points=\"\n",
       "  2863.31,1888.21 2863.31,1869.31 \n",
       "  \"/>\n",
       "<polyline clip-path=\"url(#clip030)\" style=\"stroke:#000000; stroke-linecap:butt; stroke-linejoin:round; stroke-width:4; stroke-opacity:1; fill:none\" points=\"\n",
       "  2927.8,1888.21 2927.8,1869.31 \n",
       "  \"/>\n",
       "<polyline clip-path=\"url(#clip030)\" style=\"stroke:#000000; stroke-linecap:butt; stroke-linejoin:round; stroke-width:4; stroke-opacity:1; fill:none\" points=\"\n",
       "  2992.29,1888.21 2992.29,1869.31 \n",
       "  \"/>\n",
       "<polyline clip-path=\"url(#clip030)\" style=\"stroke:#000000; stroke-linecap:butt; stroke-linejoin:round; stroke-width:4; stroke-opacity:1; fill:none\" points=\"\n",
       "  3056.79,1888.21 3056.79,1869.31 \n",
       "  \"/>\n",
       "<polyline clip-path=\"url(#clip030)\" style=\"stroke:#000000; stroke-linecap:butt; stroke-linejoin:round; stroke-width:4; stroke-opacity:1; fill:none\" points=\"\n",
       "  3121.28,1888.21 3121.28,1869.31 \n",
       "  \"/>\n",
       "<polyline clip-path=\"url(#clip030)\" style=\"stroke:#000000; stroke-linecap:butt; stroke-linejoin:round; stroke-width:4; stroke-opacity:1; fill:none\" points=\"\n",
       "  3185.78,1888.21 3185.78,1869.31 \n",
       "  \"/>\n",
       "<polyline clip-path=\"url(#clip030)\" style=\"stroke:#000000; stroke-linecap:butt; stroke-linejoin:round; stroke-width:4; stroke-opacity:1; fill:none\" points=\"\n",
       "  3250.27,1888.21 3250.27,1869.31 \n",
       "  \"/>\n",
       "<polyline clip-path=\"url(#clip030)\" style=\"stroke:#000000; stroke-linecap:butt; stroke-linejoin:round; stroke-width:4; stroke-opacity:1; fill:none\" points=\"\n",
       "  3314.77,1888.21 3314.77,1869.31 \n",
       "  \"/>\n",
       "<polyline clip-path=\"url(#clip030)\" style=\"stroke:#000000; stroke-linecap:butt; stroke-linejoin:round; stroke-width:4; stroke-opacity:1; fill:none\" points=\"\n",
       "  3379.26,1888.21 3379.26,1869.31 \n",
       "  \"/>\n",
       "<polyline clip-path=\"url(#clip030)\" style=\"stroke:#000000; stroke-linecap:butt; stroke-linejoin:round; stroke-width:4; stroke-opacity:1; fill:none\" points=\"\n",
       "  3443.76,1888.21 3443.76,1869.31 \n",
       "  \"/>\n",
       "<polyline clip-path=\"url(#clip030)\" style=\"stroke:#000000; stroke-linecap:butt; stroke-linejoin:round; stroke-width:4; stroke-opacity:1; fill:none\" points=\"\n",
       "  3508.25,1888.21 3508.25,1869.31 \n",
       "  \"/>\n",
       "<path clip-path=\"url(#clip030)\" d=\"M2024.87 1928.73 Q2021.26 1928.73 2019.43 1932.29 Q2017.63 1935.83 2017.63 1942.96 Q2017.63 1950.07 2019.43 1953.63 Q2021.26 1957.18 2024.87 1957.18 Q2028.51 1957.18 2030.31 1953.63 Q2032.14 1950.07 2032.14 1942.96 Q2032.14 1935.83 2030.31 1932.29 Q2028.51 1928.73 2024.87 1928.73 M2024.87 1925.02 Q2030.68 1925.02 2033.74 1929.63 Q2036.82 1934.21 2036.82 1942.96 Q2036.82 1951.69 2033.74 1956.3 Q2030.68 1960.88 2024.87 1960.88 Q2019.06 1960.88 2015.98 1956.3 Q2012.93 1951.69 2012.93 1942.96 Q2012.93 1934.21 2015.98 1929.63 Q2019.06 1925.02 2024.87 1925.02 Z\" fill=\"#000000\" fill-rule=\"evenodd\" fill-opacity=\"1\" /><path clip-path=\"url(#clip030)\" d=\"M2079.75 1956.27 L2087.39 1956.27 L2087.39 1929.91 L2079.08 1931.57 L2079.08 1927.31 L2087.34 1925.65 L2092.02 1925.65 L2092.02 1956.27 L2099.66 1956.27 L2099.66 1960.21 L2079.75 1960.21 L2079.75 1956.27 Z\" fill=\"#000000\" fill-rule=\"evenodd\" fill-opacity=\"1\" /><path clip-path=\"url(#clip030)\" d=\"M2148.51 1956.27 L2164.83 1956.27 L2164.83 1960.21 L2142.89 1960.21 L2142.89 1956.27 Q2145.55 1953.52 2150.13 1948.89 Q2154.74 1944.24 2155.92 1942.89 Q2158.17 1940.37 2159.05 1938.63 Q2159.95 1936.87 2159.95 1935.18 Q2159.95 1932.43 2158 1930.69 Q2156.08 1928.96 2152.98 1928.96 Q2150.78 1928.96 2148.33 1929.72 Q2145.9 1930.49 2143.12 1932.04 L2143.12 1927.31 Q2145.94 1926.18 2148.4 1925.6 Q2150.85 1925.02 2152.89 1925.02 Q2158.26 1925.02 2161.45 1927.71 Q2164.65 1930.39 2164.65 1934.88 Q2164.65 1937.01 2163.84 1938.93 Q2163.05 1940.83 2160.94 1943.43 Q2160.37 1944.1 2157.26 1947.31 Q2154.16 1950.51 2148.51 1956.27 Z\" fill=\"#000000\" fill-rule=\"evenodd\" fill-opacity=\"1\" /><path clip-path=\"url(#clip030)\" d=\"M2222.6 1941.57 Q2225.96 1942.29 2227.83 1944.56 Q2229.73 1946.83 2229.73 1950.16 Q2229.73 1955.28 2226.21 1958.08 Q2222.7 1960.88 2216.21 1960.88 Q2214.04 1960.88 2211.72 1960.44 Q2209.43 1960.02 2206.98 1959.17 L2206.98 1954.65 Q2208.92 1955.79 2211.24 1956.37 Q2213.55 1956.94 2216.08 1956.94 Q2220.47 1956.94 2222.77 1955.21 Q2225.08 1953.47 2225.08 1950.16 Q2225.08 1947.11 2222.93 1945.39 Q2220.8 1943.66 2216.98 1943.66 L2212.95 1943.66 L2212.95 1939.81 L2217.16 1939.81 Q2220.61 1939.81 2222.44 1938.45 Q2224.27 1937.06 2224.27 1934.47 Q2224.27 1931.81 2222.37 1930.39 Q2220.5 1928.96 2216.98 1928.96 Q2215.06 1928.96 2212.86 1929.37 Q2210.66 1929.79 2208.02 1930.67 L2208.02 1926.5 Q2210.68 1925.76 2213 1925.39 Q2215.34 1925.02 2217.4 1925.02 Q2222.72 1925.02 2225.82 1927.45 Q2228.92 1929.86 2228.92 1933.98 Q2228.92 1936.85 2227.28 1938.84 Q2225.64 1940.81 2222.6 1941.57 Z\" fill=\"#000000\" fill-rule=\"evenodd\" fill-opacity=\"1\" /><path clip-path=\"url(#clip030)\" d=\"M2285.86 1929.72 L2274.05 1948.17 L2285.86 1948.17 L2285.86 1929.72 M2284.63 1925.65 L2290.51 1925.65 L2290.51 1948.17 L2295.44 1948.17 L2295.44 1952.06 L2290.51 1952.06 L2290.51 1960.21 L2285.86 1960.21 L2285.86 1952.06 L2270.26 1952.06 L2270.26 1947.55 L2284.63 1925.65 Z\" fill=\"#000000\" fill-rule=\"evenodd\" fill-opacity=\"1\" /><path clip-path=\"url(#clip030)\" d=\"M2337.62 1925.65 L2355.98 1925.65 L2355.98 1929.58 L2341.91 1929.58 L2341.91 1938.06 Q2342.92 1937.71 2343.94 1937.55 Q2344.96 1937.36 2345.98 1937.36 Q2351.77 1937.36 2355.15 1940.53 Q2358.53 1943.7 2358.53 1949.12 Q2358.53 1954.7 2355.05 1957.8 Q2351.58 1960.88 2345.26 1960.88 Q2343.09 1960.88 2340.82 1960.51 Q2338.57 1960.14 2336.17 1959.4 L2336.17 1954.7 Q2338.25 1955.83 2340.47 1956.39 Q2342.69 1956.94 2345.17 1956.94 Q2349.17 1956.94 2351.51 1954.84 Q2353.85 1952.73 2353.85 1949.12 Q2353.85 1945.51 2351.51 1943.4 Q2349.17 1941.3 2345.17 1941.3 Q2343.29 1941.3 2341.42 1941.71 Q2339.57 1942.13 2337.62 1943.01 L2337.62 1925.65 Z\" fill=\"#000000\" fill-rule=\"evenodd\" fill-opacity=\"1\" /><path clip-path=\"url(#clip030)\" d=\"M2412.25 1941.06 Q2409.1 1941.06 2407.25 1943.22 Q2405.42 1945.37 2405.42 1949.12 Q2405.42 1952.85 2407.25 1955.02 Q2409.1 1957.18 2412.25 1957.18 Q2415.39 1957.18 2417.22 1955.02 Q2419.07 1952.85 2419.07 1949.12 Q2419.07 1945.37 2417.22 1943.22 Q2415.39 1941.06 2412.25 1941.06 M2421.53 1926.41 L2421.53 1930.67 Q2419.77 1929.84 2417.96 1929.4 Q2416.18 1928.96 2414.42 1928.96 Q2409.79 1928.96 2407.34 1932.08 Q2404.91 1935.21 2404.56 1941.53 Q2405.93 1939.51 2407.99 1938.45 Q2410.05 1937.36 2412.52 1937.36 Q2417.73 1937.36 2420.74 1940.53 Q2423.77 1943.68 2423.77 1949.12 Q2423.77 1954.44 2420.63 1957.66 Q2417.48 1960.88 2412.25 1960.88 Q2406.25 1960.88 2403.08 1956.3 Q2399.91 1951.69 2399.91 1942.96 Q2399.91 1934.77 2403.8 1929.91 Q2407.69 1925.02 2414.24 1925.02 Q2416 1925.02 2417.78 1925.37 Q2419.58 1925.72 2421.53 1926.41 Z\" fill=\"#000000\" fill-rule=\"evenodd\" fill-opacity=\"1\" /><path clip-path=\"url(#clip030)\" d=\"M2465.22 1925.65 L2487.45 1925.65 L2487.45 1927.64 L2474.9 1960.21 L2470.02 1960.21 L2481.82 1929.58 L2465.22 1929.58 L2465.22 1925.65 Z\" fill=\"#000000\" fill-rule=\"evenodd\" fill-opacity=\"1\" /><path clip-path=\"url(#clip030)\" d=\"M2540.83 1943.8 Q2537.5 1943.8 2535.58 1945.58 Q2533.68 1947.36 2533.68 1950.49 Q2533.68 1953.61 2535.58 1955.39 Q2537.5 1957.18 2540.83 1957.18 Q2544.16 1957.18 2546.09 1955.39 Q2548.01 1953.59 2548.01 1950.49 Q2548.01 1947.36 2546.09 1945.58 Q2544.19 1943.8 2540.83 1943.8 M2536.15 1941.81 Q2533.15 1941.06 2531.46 1939 Q2529.79 1936.94 2529.79 1933.98 Q2529.79 1929.84 2532.73 1927.43 Q2535.69 1925.02 2540.83 1925.02 Q2545.99 1925.02 2548.93 1927.43 Q2551.87 1929.84 2551.87 1933.98 Q2551.87 1936.94 2550.18 1939 Q2548.52 1941.06 2545.53 1941.81 Q2548.91 1942.59 2550.78 1944.88 Q2552.68 1947.18 2552.68 1950.49 Q2552.68 1955.51 2549.6 1958.19 Q2546.55 1960.88 2540.83 1960.88 Q2535.11 1960.88 2532.03 1958.19 Q2528.98 1955.51 2528.98 1950.49 Q2528.98 1947.18 2530.88 1944.88 Q2532.77 1942.59 2536.15 1941.81 M2534.44 1934.42 Q2534.44 1937.11 2536.11 1938.61 Q2537.8 1940.12 2540.83 1940.12 Q2543.84 1940.12 2545.53 1938.61 Q2547.24 1937.11 2547.24 1934.42 Q2547.24 1931.74 2545.53 1930.23 Q2543.84 1928.73 2540.83 1928.73 Q2537.8 1928.73 2536.11 1930.23 Q2534.44 1931.74 2534.44 1934.42 Z\" fill=\"#000000\" fill-rule=\"evenodd\" fill-opacity=\"1\" /><path clip-path=\"url(#clip030)\" d=\"M2595.63 1959.49 L2595.63 1955.23 Q2597.39 1956.06 2599.19 1956.5 Q2601 1956.94 2602.73 1956.94 Q2607.36 1956.94 2609.79 1953.84 Q2612.25 1950.72 2612.59 1944.37 Q2611.25 1946.37 2609.19 1947.43 Q2607.13 1948.49 2604.63 1948.49 Q2599.45 1948.49 2596.41 1945.37 Q2593.4 1942.22 2593.4 1936.78 Q2593.4 1931.46 2596.55 1928.24 Q2599.7 1925.02 2604.93 1925.02 Q2610.93 1925.02 2614.08 1929.63 Q2617.25 1934.21 2617.25 1942.96 Q2617.25 1951.13 2613.36 1956.02 Q2609.49 1960.88 2602.94 1960.88 Q2601.18 1960.88 2599.38 1960.53 Q2597.57 1960.18 2595.63 1959.49 M2604.93 1944.84 Q2608.08 1944.84 2609.91 1942.68 Q2611.76 1940.53 2611.76 1936.78 Q2611.76 1933.06 2609.91 1930.9 Q2608.08 1928.73 2604.93 1928.73 Q2601.78 1928.73 2599.93 1930.9 Q2598.1 1933.06 2598.1 1936.78 Q2598.1 1940.53 2599.93 1942.68 Q2601.78 1944.84 2604.93 1944.84 Z\" fill=\"#000000\" fill-rule=\"evenodd\" fill-opacity=\"1\" /><path clip-path=\"url(#clip030)\" d=\"M2644.51 1956.27 L2652.15 1956.27 L2652.15 1929.91 L2643.84 1931.57 L2643.84 1927.31 L2652.1 1925.65 L2656.78 1925.65 L2656.78 1956.27 L2664.42 1956.27 L2664.42 1960.21 L2644.51 1960.21 L2644.51 1956.27 Z\" fill=\"#000000\" fill-rule=\"evenodd\" fill-opacity=\"1\" /><path clip-path=\"url(#clip030)\" d=\"M2683.86 1928.73 Q2680.25 1928.73 2678.42 1932.29 Q2676.61 1935.83 2676.61 1942.96 Q2676.61 1950.07 2678.42 1953.63 Q2680.25 1957.18 2683.86 1957.18 Q2687.49 1957.18 2689.3 1953.63 Q2691.13 1950.07 2691.13 1942.96 Q2691.13 1935.83 2689.3 1932.29 Q2687.49 1928.73 2683.86 1928.73 M2683.86 1925.02 Q2689.67 1925.02 2692.73 1929.63 Q2695.8 1934.21 2695.8 1942.96 Q2695.8 1951.69 2692.73 1956.3 Q2689.67 1960.88 2683.86 1960.88 Q2678.05 1960.88 2674.97 1956.3 Q2671.92 1951.69 2671.92 1942.96 Q2671.92 1934.21 2674.97 1929.63 Q2678.05 1925.02 2683.86 1925.02 Z\" fill=\"#000000\" fill-rule=\"evenodd\" fill-opacity=\"1\" /><path clip-path=\"url(#clip030)\" d=\"M2709.62 1956.27 L2717.26 1956.27 L2717.26 1929.91 L2708.95 1931.57 L2708.95 1927.31 L2717.21 1925.65 L2721.88 1925.65 L2721.88 1956.27 L2729.52 1956.27 L2729.52 1960.21 L2709.62 1960.21 L2709.62 1956.27 Z\" fill=\"#000000\" fill-rule=\"evenodd\" fill-opacity=\"1\" /><path clip-path=\"url(#clip030)\" d=\"M2739.78 1956.27 L2747.42 1956.27 L2747.42 1929.91 L2739.11 1931.57 L2739.11 1927.31 L2747.37 1925.65 L2752.05 1925.65 L2752.05 1956.27 L2759.69 1956.27 L2759.69 1960.21 L2739.78 1960.21 L2739.78 1956.27 Z\" fill=\"#000000\" fill-rule=\"evenodd\" fill-opacity=\"1\" /><path clip-path=\"url(#clip030)\" d=\"M2774.3 1956.27 L2781.94 1956.27 L2781.94 1929.91 L2773.63 1931.57 L2773.63 1927.31 L2781.89 1925.65 L2786.56 1925.65 L2786.56 1956.27 L2794.2 1956.27 L2794.2 1960.21 L2774.3 1960.21 L2774.3 1956.27 Z\" fill=\"#000000\" fill-rule=\"evenodd\" fill-opacity=\"1\" /><path clip-path=\"url(#clip030)\" d=\"M2807.68 1956.27 L2824 1956.27 L2824 1960.21 L2802.05 1960.21 L2802.05 1956.27 Q2804.71 1953.52 2809.3 1948.89 Q2813.9 1944.24 2815.08 1942.89 Q2817.33 1940.37 2818.21 1938.63 Q2819.11 1936.87 2819.11 1935.18 Q2819.11 1932.43 2817.17 1930.69 Q2815.25 1928.96 2812.14 1928.96 Q2809.94 1928.96 2807.49 1929.72 Q2805.06 1930.49 2802.28 1932.04 L2802.28 1927.31 Q2805.11 1926.18 2807.56 1925.6 Q2810.01 1925.02 2812.05 1925.02 Q2817.42 1925.02 2820.62 1927.71 Q2823.81 1930.39 2823.81 1934.88 Q2823.81 1937.01 2823 1938.93 Q2822.21 1940.83 2820.11 1943.43 Q2819.53 1944.1 2816.43 1947.31 Q2813.32 1950.51 2807.68 1956.27 Z\" fill=\"#000000\" fill-rule=\"evenodd\" fill-opacity=\"1\" /><path clip-path=\"url(#clip030)\" d=\"M2838.32 1956.27 L2845.96 1956.27 L2845.96 1929.91 L2837.65 1931.57 L2837.65 1927.31 L2845.91 1925.65 L2850.59 1925.65 L2850.59 1956.27 L2858.22 1956.27 L2858.22 1960.21 L2838.32 1960.21 L2838.32 1956.27 Z\" fill=\"#000000\" fill-rule=\"evenodd\" fill-opacity=\"1\" /><path clip-path=\"url(#clip030)\" d=\"M2881.84 1941.57 Q2885.19 1942.29 2887.07 1944.56 Q2888.96 1946.83 2888.96 1950.16 Q2888.96 1955.28 2885.45 1958.08 Q2881.93 1960.88 2875.45 1960.88 Q2873.27 1960.88 2870.96 1960.44 Q2868.66 1960.02 2866.21 1959.17 L2866.21 1954.65 Q2868.15 1955.79 2870.47 1956.37 Q2872.78 1956.94 2875.31 1956.94 Q2879.71 1956.94 2882 1955.21 Q2884.31 1953.47 2884.31 1950.16 Q2884.31 1947.11 2882.16 1945.39 Q2880.03 1943.66 2876.21 1943.66 L2872.18 1943.66 L2872.18 1939.81 L2876.4 1939.81 Q2879.84 1939.81 2881.67 1938.45 Q2883.5 1937.06 2883.5 1934.47 Q2883.5 1931.81 2881.6 1930.39 Q2879.73 1928.96 2876.21 1928.96 Q2874.29 1928.96 2872.09 1929.37 Q2869.89 1929.79 2867.25 1930.67 L2867.25 1926.5 Q2869.91 1925.76 2872.23 1925.39 Q2874.57 1925.02 2876.63 1925.02 Q2881.95 1925.02 2885.05 1927.45 Q2888.15 1929.86 2888.15 1933.98 Q2888.15 1936.85 2886.51 1938.84 Q2884.87 1940.81 2881.84 1941.57 Z\" fill=\"#000000\" fill-rule=\"evenodd\" fill-opacity=\"1\" /><path clip-path=\"url(#clip030)\" d=\"M2902.24 1956.27 L2909.88 1956.27 L2909.88 1929.91 L2901.57 1931.57 L2901.57 1927.31 L2909.84 1925.65 L2914.51 1925.65 L2914.51 1956.27 L2922.15 1956.27 L2922.15 1960.21 L2902.24 1960.21 L2902.24 1956.27 Z\" fill=\"#000000\" fill-rule=\"evenodd\" fill-opacity=\"1\" /><path clip-path=\"url(#clip030)\" d=\"M2944.44 1929.72 L2932.64 1948.17 L2944.44 1948.17 L2944.44 1929.72 M2943.22 1925.65 L2949.1 1925.65 L2949.1 1948.17 L2954.03 1948.17 L2954.03 1952.06 L2949.1 1952.06 L2949.1 1960.21 L2944.44 1960.21 L2944.44 1952.06 L2928.84 1952.06 L2928.84 1947.55 L2943.22 1925.65 Z\" fill=\"#000000\" fill-rule=\"evenodd\" fill-opacity=\"1\" /><path clip-path=\"url(#clip030)\" d=\"M2967.48 1956.27 L2975.12 1956.27 L2975.12 1929.91 L2966.81 1931.57 L2966.81 1927.31 L2975.07 1925.65 L2979.75 1925.65 L2979.75 1956.27 L2987.39 1956.27 L2987.39 1960.21 L2967.48 1960.21 L2967.48 1956.27 Z\" fill=\"#000000\" fill-rule=\"evenodd\" fill-opacity=\"1\" /><path clip-path=\"url(#clip030)\" d=\"M2996.88 1925.65 L3015.23 1925.65 L3015.23 1929.58 L3001.16 1929.58 L3001.16 1938.06 Q3002.18 1937.71 3003.2 1937.55 Q3004.22 1937.36 3005.23 1937.36 Q3011.02 1937.36 3014.4 1940.53 Q3017.78 1943.7 3017.78 1949.12 Q3017.78 1954.7 3014.31 1957.8 Q3010.84 1960.88 3004.52 1960.88 Q3002.34 1960.88 3000.07 1960.51 Q2997.83 1960.14 2995.42 1959.4 L2995.42 1954.7 Q2997.5 1955.83 2999.73 1956.39 Q3001.95 1956.94 3004.42 1956.94 Q3008.43 1956.94 3010.77 1954.84 Q3013.11 1952.73 3013.11 1949.12 Q3013.11 1945.51 3010.77 1943.4 Q3008.43 1941.3 3004.42 1941.3 Q3002.55 1941.3 3000.67 1941.71 Q2998.82 1942.13 2996.88 1943.01 L2996.88 1925.65 Z\" fill=\"#000000\" fill-rule=\"evenodd\" fill-opacity=\"1\" /><path clip-path=\"url(#clip030)\" d=\"M3031.4 1956.27 L3039.04 1956.27 L3039.04 1929.91 L3030.73 1931.57 L3030.73 1927.31 L3038.99 1925.65 L3043.66 1925.65 L3043.66 1956.27 L3051.3 1956.27 L3051.3 1960.21 L3031.4 1960.21 L3031.4 1956.27 Z\" fill=\"#000000\" fill-rule=\"evenodd\" fill-opacity=\"1\" /><path clip-path=\"url(#clip030)\" d=\"M3071.33 1941.06 Q3068.18 1941.06 3066.33 1943.22 Q3064.5 1945.37 3064.5 1949.12 Q3064.5 1952.85 3066.33 1955.02 Q3068.18 1957.18 3071.33 1957.18 Q3074.47 1957.18 3076.3 1955.02 Q3078.16 1952.85 3078.16 1949.12 Q3078.16 1945.37 3076.3 1943.22 Q3074.47 1941.06 3071.33 1941.06 M3080.61 1926.41 L3080.61 1930.67 Q3078.85 1929.84 3077.04 1929.4 Q3075.26 1928.96 3073.5 1928.96 Q3068.87 1928.96 3066.42 1932.08 Q3063.99 1935.21 3063.64 1941.53 Q3065.01 1939.51 3067.07 1938.45 Q3069.13 1937.36 3071.6 1937.36 Q3076.81 1937.36 3079.82 1940.53 Q3082.85 1943.68 3082.85 1949.12 Q3082.85 1954.44 3079.71 1957.66 Q3076.56 1960.88 3071.33 1960.88 Q3065.33 1960.88 3062.16 1956.3 Q3058.99 1951.69 3058.99 1942.96 Q3058.99 1934.77 3062.88 1929.91 Q3066.77 1925.02 3073.32 1925.02 Q3075.08 1925.02 3076.86 1925.37 Q3078.66 1925.72 3080.61 1926.41 Z\" fill=\"#000000\" fill-rule=\"evenodd\" fill-opacity=\"1\" /><path clip-path=\"url(#clip030)\" d=\"M3096.42 1956.27 L3104.06 1956.27 L3104.06 1929.91 L3095.75 1931.57 L3095.75 1927.31 L3104.02 1925.65 L3108.69 1925.65 L3108.69 1956.27 L3116.33 1956.27 L3116.33 1960.21 L3096.42 1960.21 L3096.42 1956.27 Z\" fill=\"#000000\" fill-rule=\"evenodd\" fill-opacity=\"1\" /><path clip-path=\"url(#clip030)\" d=\"M3124.6 1925.65 L3146.82 1925.65 L3146.82 1927.64 L3134.27 1960.21 L3129.39 1960.21 L3141.19 1929.58 L3124.6 1929.58 L3124.6 1925.65 Z\" fill=\"#000000\" fill-rule=\"evenodd\" fill-opacity=\"1\" /><path clip-path=\"url(#clip030)\" d=\"M3160.51 1956.27 L3168.15 1956.27 L3168.15 1929.91 L3159.84 1931.57 L3159.84 1927.31 L3168.11 1925.65 L3172.78 1925.65 L3172.78 1956.27 L3180.42 1956.27 L3180.42 1960.21 L3160.51 1960.21 L3160.51 1956.27 Z\" fill=\"#000000\" fill-rule=\"evenodd\" fill-opacity=\"1\" /><path clip-path=\"url(#clip030)\" d=\"M3199.87 1943.8 Q3196.53 1943.8 3194.61 1945.58 Q3192.71 1947.36 3192.71 1950.49 Q3192.71 1953.61 3194.61 1955.39 Q3196.53 1957.18 3199.87 1957.18 Q3203.2 1957.18 3205.12 1955.39 Q3207.04 1953.59 3207.04 1950.49 Q3207.04 1947.36 3205.12 1945.58 Q3203.22 1943.8 3199.87 1943.8 M3195.19 1941.81 Q3192.18 1941.06 3190.49 1939 Q3188.82 1936.94 3188.82 1933.98 Q3188.82 1929.84 3191.76 1927.43 Q3194.73 1925.02 3199.87 1925.02 Q3205.03 1925.02 3207.97 1927.43 Q3210.91 1929.84 3210.91 1933.98 Q3210.91 1936.94 3209.22 1939 Q3207.55 1941.06 3204.56 1941.81 Q3207.94 1942.59 3209.82 1944.88 Q3211.72 1947.18 3211.72 1950.49 Q3211.72 1955.51 3208.64 1958.19 Q3205.58 1960.88 3199.87 1960.88 Q3194.15 1960.88 3191.07 1958.19 Q3188.01 1955.51 3188.01 1950.49 Q3188.01 1947.18 3189.91 1944.88 Q3191.81 1942.59 3195.19 1941.81 M3193.48 1934.42 Q3193.48 1937.11 3195.14 1938.61 Q3196.83 1940.12 3199.87 1940.12 Q3202.87 1940.12 3204.56 1938.61 Q3206.28 1937.11 3206.28 1934.42 Q3206.28 1931.74 3204.56 1930.23 Q3202.87 1928.73 3199.87 1928.73 Q3196.83 1928.73 3195.14 1930.23 Q3193.48 1931.74 3193.48 1934.42 Z\" fill=\"#000000\" fill-rule=\"evenodd\" fill-opacity=\"1\" /><path clip-path=\"url(#clip030)\" d=\"M3225.05 1956.27 L3232.69 1956.27 L3232.69 1929.91 L3224.38 1931.57 L3224.38 1927.31 L3232.65 1925.65 L3237.32 1925.65 L3237.32 1956.27 L3244.96 1956.27 L3244.96 1960.21 L3225.05 1960.21 L3225.05 1956.27 Z\" fill=\"#000000\" fill-rule=\"evenodd\" fill-opacity=\"1\" /><path clip-path=\"url(#clip030)\" d=\"M3254.55 1959.49 L3254.55 1955.23 Q3256.3 1956.06 3258.11 1956.5 Q3259.92 1956.94 3261.65 1956.94 Q3266.28 1956.94 3268.71 1953.84 Q3271.17 1950.72 3271.51 1944.37 Q3270.17 1946.37 3268.11 1947.43 Q3266.05 1948.49 3263.55 1948.49 Q3258.36 1948.49 3255.33 1945.37 Q3252.32 1942.22 3252.32 1936.78 Q3252.32 1931.46 3255.47 1928.24 Q3258.62 1925.02 3263.85 1925.02 Q3269.85 1925.02 3272.99 1929.63 Q3276.17 1934.21 3276.17 1942.96 Q3276.17 1951.13 3272.28 1956.02 Q3268.41 1960.88 3261.86 1960.88 Q3260.1 1960.88 3258.3 1960.53 Q3256.49 1960.18 3254.55 1959.49 M3263.85 1944.84 Q3267 1944.84 3268.83 1942.68 Q3270.68 1940.53 3270.68 1936.78 Q3270.68 1933.06 3268.83 1930.9 Q3267 1928.73 3263.85 1928.73 Q3260.7 1928.73 3258.85 1930.9 Q3257.02 1933.06 3257.02 1936.78 Q3257.02 1940.53 3258.85 1942.68 Q3260.7 1944.84 3263.85 1944.84 Z\" fill=\"#000000\" fill-rule=\"evenodd\" fill-opacity=\"1\" /><path clip-path=\"url(#clip030)\" d=\"M3293.54 1956.27 L3309.86 1956.27 L3309.86 1960.21 L3287.92 1960.21 L3287.92 1956.27 Q3290.58 1953.52 3295.16 1948.89 Q3299.77 1944.24 3300.95 1942.89 Q3303.2 1940.37 3304.08 1938.63 Q3304.98 1936.87 3304.98 1935.18 Q3304.98 1932.43 3303.03 1930.69 Q3301.11 1928.96 3298.01 1928.96 Q3295.81 1928.96 3293.36 1929.72 Q3290.93 1930.49 3288.15 1932.04 L3288.15 1927.31 Q3290.97 1926.18 3293.43 1925.6 Q3295.88 1925.02 3297.92 1925.02 Q3303.29 1925.02 3306.48 1927.71 Q3309.68 1930.39 3309.68 1934.88 Q3309.68 1937.01 3308.87 1938.93 Q3308.08 1940.83 3305.97 1943.43 Q3305.39 1944.1 3302.29 1947.31 Q3299.19 1950.51 3293.54 1956.27 Z\" fill=\"#000000\" fill-rule=\"evenodd\" fill-opacity=\"1\" /><path clip-path=\"url(#clip030)\" d=\"M3329.68 1928.73 Q3326.07 1928.73 3324.24 1932.29 Q3322.43 1935.83 3322.43 1942.96 Q3322.43 1950.07 3324.24 1953.63 Q3326.07 1957.18 3329.68 1957.18 Q3333.31 1957.18 3335.12 1953.63 Q3336.95 1950.07 3336.95 1942.96 Q3336.95 1935.83 3335.12 1932.29 Q3333.31 1928.73 3329.68 1928.73 M3329.68 1925.02 Q3335.49 1925.02 3338.54 1929.63 Q3341.62 1934.21 3341.62 1942.96 Q3341.62 1951.69 3338.54 1956.3 Q3335.49 1960.88 3329.68 1960.88 Q3323.87 1960.88 3320.79 1956.3 Q3317.73 1951.69 3317.73 1942.96 Q3317.73 1934.21 3320.79 1929.63 Q3323.87 1925.02 3329.68 1925.02 Z\" fill=\"#000000\" fill-rule=\"evenodd\" fill-opacity=\"1\" /><path clip-path=\"url(#clip030)\" d=\"M3358.65 1956.27 L3374.97 1956.27 L3374.97 1960.21 L3353.03 1960.21 L3353.03 1956.27 Q3355.69 1953.52 3360.27 1948.89 Q3364.88 1944.24 3366.06 1942.89 Q3368.3 1940.37 3369.18 1938.63 Q3370.09 1936.87 3370.09 1935.18 Q3370.09 1932.43 3368.14 1930.69 Q3366.22 1928.96 3363.12 1928.96 Q3360.92 1928.96 3358.47 1929.72 Q3356.04 1930.49 3353.26 1932.04 L3353.26 1927.31 Q3356.08 1926.18 3358.54 1925.6 Q3360.99 1925.02 3363.03 1925.02 Q3368.4 1925.02 3371.59 1927.71 Q3374.79 1930.39 3374.79 1934.88 Q3374.79 1937.01 3373.98 1938.93 Q3373.19 1940.83 3371.08 1943.43 Q3370.5 1944.1 3367.4 1947.31 Q3364.3 1950.51 3358.65 1956.27 Z\" fill=\"#000000\" fill-rule=\"evenodd\" fill-opacity=\"1\" /><path clip-path=\"url(#clip030)\" d=\"M3385.6 1956.27 L3393.23 1956.27 L3393.23 1929.91 L3384.92 1931.57 L3384.92 1927.31 L3393.19 1925.65 L3397.86 1925.65 L3397.86 1956.27 L3405.5 1956.27 L3405.5 1960.21 L3385.6 1960.21 L3385.6 1956.27 Z\" fill=\"#000000\" fill-rule=\"evenodd\" fill-opacity=\"1\" /><path clip-path=\"url(#clip030)\" d=\"M3423.33 1956.27 L3439.65 1956.27 L3439.65 1960.21 L3417.71 1960.21 L3417.71 1956.27 Q3420.37 1953.52 3424.95 1948.89 Q3429.56 1944.24 3430.74 1942.89 Q3432.98 1940.37 3433.86 1938.63 Q3434.77 1936.87 3434.77 1935.18 Q3434.77 1932.43 3432.82 1930.69 Q3430.9 1928.96 3427.8 1928.96 Q3425.6 1928.96 3423.15 1929.72 Q3420.72 1930.49 3417.94 1932.04 L3417.94 1927.31 Q3420.76 1926.18 3423.22 1925.6 Q3425.67 1925.02 3427.71 1925.02 Q3433.08 1925.02 3436.27 1927.71 Q3439.47 1930.39 3439.47 1934.88 Q3439.47 1937.01 3438.66 1938.93 Q3437.87 1940.83 3435.76 1943.43 Q3435.18 1944.1 3432.08 1947.31 Q3428.98 1950.51 3423.33 1956.27 Z\" fill=\"#000000\" fill-rule=\"evenodd\" fill-opacity=\"1\" /><path clip-path=\"url(#clip030)\" d=\"M3453.49 1956.27 L3469.81 1956.27 L3469.81 1960.21 L3447.87 1960.21 L3447.87 1956.27 Q3450.53 1953.52 3455.11 1948.89 Q3459.72 1944.24 3460.9 1942.89 Q3463.15 1940.37 3464.03 1938.63 Q3464.93 1936.87 3464.93 1935.18 Q3464.93 1932.43 3462.98 1930.69 Q3461.06 1928.96 3457.96 1928.96 Q3455.76 1928.96 3453.31 1929.72 Q3450.88 1930.49 3448.1 1932.04 L3448.1 1927.31 Q3450.92 1926.18 3453.38 1925.6 Q3455.83 1925.02 3457.87 1925.02 Q3463.24 1925.02 3466.43 1927.71 Q3469.63 1930.39 3469.63 1934.88 Q3469.63 1937.01 3468.82 1938.93 Q3468.03 1940.83 3465.92 1943.43 Q3465.35 1944.1 3462.24 1947.31 Q3459.14 1950.51 3453.49 1956.27 Z\" fill=\"#000000\" fill-rule=\"evenodd\" fill-opacity=\"1\" /><path clip-path=\"url(#clip030)\" d=\"M3487.35 1956.27 L3503.67 1956.27 L3503.67 1960.21 L3481.73 1960.21 L3481.73 1956.27 Q3484.39 1953.52 3488.97 1948.89 Q3493.58 1944.24 3494.76 1942.89 Q3497 1940.37 3497.88 1938.63 Q3498.79 1936.87 3498.79 1935.18 Q3498.79 1932.43 3496.84 1930.69 Q3494.92 1928.96 3491.82 1928.96 Q3489.62 1928.96 3487.17 1929.72 Q3484.74 1930.49 3481.96 1932.04 L3481.96 1927.31 Q3484.78 1926.18 3487.24 1925.6 Q3489.69 1925.02 3491.73 1925.02 Q3497.1 1925.02 3500.29 1927.71 Q3503.49 1930.39 3503.49 1934.88 Q3503.49 1937.01 3502.68 1938.93 Q3501.89 1940.83 3499.78 1943.43 Q3499.2 1944.1 3496.1 1947.31 Q3493 1950.51 3487.35 1956.27 Z\" fill=\"#000000\" fill-rule=\"evenodd\" fill-opacity=\"1\" /><path clip-path=\"url(#clip030)\" d=\"M3527.65 1941.57 Q3531.01 1942.29 3532.88 1944.56 Q3534.78 1946.83 3534.78 1950.16 Q3534.78 1955.28 3531.26 1958.08 Q3527.75 1960.88 3521.26 1960.88 Q3519.09 1960.88 3516.77 1960.44 Q3514.48 1960.02 3512.03 1959.17 L3512.03 1954.65 Q3513.97 1955.79 3516.29 1956.37 Q3518.6 1956.94 3521.12 1956.94 Q3525.52 1956.94 3527.81 1955.21 Q3530.13 1953.47 3530.13 1950.16 Q3530.13 1947.11 3527.98 1945.39 Q3525.85 1943.66 3522.03 1943.66 L3518 1943.66 L3518 1939.81 L3522.21 1939.81 Q3525.66 1939.81 3527.49 1938.45 Q3529.32 1937.06 3529.32 1934.47 Q3529.32 1931.81 3527.42 1930.39 Q3525.55 1928.96 3522.03 1928.96 Q3520.11 1928.96 3517.91 1929.37 Q3515.71 1929.79 3513.07 1930.67 L3513.07 1926.5 Q3515.73 1925.76 3518.05 1925.39 Q3520.38 1925.02 3522.44 1925.02 Q3527.77 1925.02 3530.87 1927.45 Q3533.97 1929.86 3533.97 1933.98 Q3533.97 1936.85 3532.33 1938.84 Q3530.68 1940.81 3527.65 1941.57 Z\" fill=\"#000000\" fill-rule=\"evenodd\" fill-opacity=\"1\" /><polyline clip-path=\"url(#clip035)\" style=\"stroke:#000000; stroke-linecap:butt; stroke-linejoin:round; stroke-width:2; stroke-opacity:0.1; fill:none\" points=\"\n",
       "  1980.37,1888.21 3552.76,1888.21 \n",
       "  \"/>\n",
       "<polyline clip-path=\"url(#clip035)\" style=\"stroke:#000000; stroke-linecap:butt; stroke-linejoin:round; stroke-width:2; stroke-opacity:0.1; fill:none\" points=\"\n",
       "  1980.37,1739.2 3552.76,1739.2 \n",
       "  \"/>\n",
       "<polyline clip-path=\"url(#clip035)\" style=\"stroke:#000000; stroke-linecap:butt; stroke-linejoin:round; stroke-width:2; stroke-opacity:0.1; fill:none\" points=\"\n",
       "  1980.37,1590.2 3552.76,1590.2 \n",
       "  \"/>\n",
       "<polyline clip-path=\"url(#clip035)\" style=\"stroke:#000000; stroke-linecap:butt; stroke-linejoin:round; stroke-width:2; stroke-opacity:0.1; fill:none\" points=\"\n",
       "  1980.37,1441.2 3552.76,1441.2 \n",
       "  \"/>\n",
       "<polyline clip-path=\"url(#clip035)\" style=\"stroke:#000000; stroke-linecap:butt; stroke-linejoin:round; stroke-width:2; stroke-opacity:0.1; fill:none\" points=\"\n",
       "  1980.37,1292.2 3552.76,1292.2 \n",
       "  \"/>\n",
       "<polyline clip-path=\"url(#clip035)\" style=\"stroke:#000000; stroke-linecap:butt; stroke-linejoin:round; stroke-width:2; stroke-opacity:0.1; fill:none\" points=\"\n",
       "  1980.37,1143.19 3552.76,1143.19 \n",
       "  \"/>\n",
       "<polyline clip-path=\"url(#clip030)\" style=\"stroke:#000000; stroke-linecap:butt; stroke-linejoin:round; stroke-width:4; stroke-opacity:1; fill:none\" points=\"\n",
       "  1980.37,1888.21 1980.37,1113.39 \n",
       "  \"/>\n",
       "<polyline clip-path=\"url(#clip030)\" style=\"stroke:#000000; stroke-linecap:butt; stroke-linejoin:round; stroke-width:4; stroke-opacity:1; fill:none\" points=\"\n",
       "  1980.37,1888.21 1999.27,1888.21 \n",
       "  \"/>\n",
       "<polyline clip-path=\"url(#clip030)\" style=\"stroke:#000000; stroke-linecap:butt; stroke-linejoin:round; stroke-width:4; stroke-opacity:1; fill:none\" points=\"\n",
       "  1980.37,1739.2 1999.27,1739.2 \n",
       "  \"/>\n",
       "<polyline clip-path=\"url(#clip030)\" style=\"stroke:#000000; stroke-linecap:butt; stroke-linejoin:round; stroke-width:4; stroke-opacity:1; fill:none\" points=\"\n",
       "  1980.37,1590.2 1999.27,1590.2 \n",
       "  \"/>\n",
       "<polyline clip-path=\"url(#clip030)\" style=\"stroke:#000000; stroke-linecap:butt; stroke-linejoin:round; stroke-width:4; stroke-opacity:1; fill:none\" points=\"\n",
       "  1980.37,1441.2 1999.27,1441.2 \n",
       "  \"/>\n",
       "<polyline clip-path=\"url(#clip030)\" style=\"stroke:#000000; stroke-linecap:butt; stroke-linejoin:round; stroke-width:4; stroke-opacity:1; fill:none\" points=\"\n",
       "  1980.37,1292.2 1999.27,1292.2 \n",
       "  \"/>\n",
       "<polyline clip-path=\"url(#clip030)\" style=\"stroke:#000000; stroke-linecap:butt; stroke-linejoin:round; stroke-width:4; stroke-opacity:1; fill:none\" points=\"\n",
       "  1980.37,1143.19 1999.27,1143.19 \n",
       "  \"/>\n",
       "<path clip-path=\"url(#clip030)\" d=\"M1914.43 1874.01 Q1910.81 1874.01 1908.99 1877.57 Q1907.18 1881.11 1907.18 1888.24 Q1907.18 1895.35 1908.99 1898.91 Q1910.81 1902.46 1914.43 1902.46 Q1918.06 1902.46 1919.86 1898.91 Q1921.69 1895.35 1921.69 1888.24 Q1921.69 1881.11 1919.86 1877.57 Q1918.06 1874.01 1914.43 1874.01 M1914.43 1870.3 Q1920.24 1870.3 1923.29 1874.91 Q1926.37 1879.49 1926.37 1888.24 Q1926.37 1896.97 1923.29 1901.58 Q1920.24 1906.16 1914.43 1906.16 Q1908.62 1906.16 1905.54 1901.58 Q1902.48 1896.97 1902.48 1888.24 Q1902.48 1879.49 1905.54 1874.91 Q1908.62 1870.3 1914.43 1870.3 Z\" fill=\"#000000\" fill-rule=\"evenodd\" fill-opacity=\"1\" /><path clip-path=\"url(#clip030)\" d=\"M1905.47 1721.92 L1923.82 1721.92 L1923.82 1725.86 L1909.75 1725.86 L1909.75 1734.33 Q1910.77 1733.98 1911.79 1733.82 Q1912.8 1733.64 1913.82 1733.64 Q1919.61 1733.64 1922.99 1736.81 Q1926.37 1739.98 1926.37 1745.4 Q1926.37 1750.98 1922.9 1754.08 Q1919.43 1757.16 1913.11 1757.16 Q1910.93 1757.16 1908.66 1756.79 Q1906.42 1756.42 1904.01 1755.67 L1904.01 1750.98 Q1906.09 1752.11 1908.31 1752.67 Q1910.54 1753.22 1913.01 1753.22 Q1917.02 1753.22 1919.36 1751.11 Q1921.69 1749.01 1921.69 1745.4 Q1921.69 1741.79 1919.36 1739.68 Q1917.02 1737.57 1913.01 1737.57 Q1911.14 1737.57 1909.26 1737.99 Q1907.41 1738.41 1905.47 1739.29 L1905.47 1721.92 Z\" fill=\"#000000\" fill-rule=\"evenodd\" fill-opacity=\"1\" /><path clip-path=\"url(#clip030)\" d=\"M1875.07 1603.55 L1882.71 1603.55 L1882.71 1577.18 L1874.4 1578.85 L1874.4 1574.59 L1882.67 1572.92 L1887.34 1572.92 L1887.34 1603.55 L1894.98 1603.55 L1894.98 1607.48 L1875.07 1607.48 L1875.07 1603.55 Z\" fill=\"#000000\" fill-rule=\"evenodd\" fill-opacity=\"1\" /><path clip-path=\"url(#clip030)\" d=\"M1914.43 1576 Q1910.81 1576 1908.99 1579.57 Q1907.18 1583.11 1907.18 1590.24 Q1907.18 1597.34 1908.99 1600.91 Q1910.81 1604.45 1914.43 1604.45 Q1918.06 1604.45 1919.86 1600.91 Q1921.69 1597.34 1921.69 1590.24 Q1921.69 1583.11 1919.86 1579.57 Q1918.06 1576 1914.43 1576 M1914.43 1572.3 Q1920.24 1572.3 1923.29 1576.9 Q1926.37 1581.49 1926.37 1590.24 Q1926.37 1598.96 1923.29 1603.57 Q1920.24 1608.15 1914.43 1608.15 Q1908.62 1608.15 1905.54 1603.57 Q1902.48 1598.96 1902.48 1590.24 Q1902.48 1581.49 1905.54 1576.9 Q1908.62 1572.3 1914.43 1572.3 Z\" fill=\"#000000\" fill-rule=\"evenodd\" fill-opacity=\"1\" /><path clip-path=\"url(#clip030)\" d=\"M1876.07 1454.54 L1883.71 1454.54 L1883.71 1428.18 L1875.4 1429.84 L1875.4 1425.59 L1883.66 1423.92 L1888.34 1423.92 L1888.34 1454.54 L1895.98 1454.54 L1895.98 1458.48 L1876.07 1458.48 L1876.07 1454.54 Z\" fill=\"#000000\" fill-rule=\"evenodd\" fill-opacity=\"1\" /><path clip-path=\"url(#clip030)\" d=\"M1905.47 1423.92 L1923.82 1423.92 L1923.82 1427.85 L1909.75 1427.85 L1909.75 1436.33 Q1910.77 1435.98 1911.79 1435.82 Q1912.8 1435.63 1913.82 1435.63 Q1919.61 1435.63 1922.99 1438.8 Q1926.37 1441.97 1926.37 1447.39 Q1926.37 1452.97 1922.9 1456.07 Q1919.43 1459.15 1913.11 1459.15 Q1910.93 1459.15 1908.66 1458.78 Q1906.42 1458.41 1904.01 1457.67 L1904.01 1452.97 Q1906.09 1454.1 1908.31 1454.66 Q1910.54 1455.21 1913.01 1455.21 Q1917.02 1455.21 1919.36 1453.11 Q1921.69 1451 1921.69 1447.39 Q1921.69 1443.78 1919.36 1441.67 Q1917.02 1439.57 1913.01 1439.57 Q1911.14 1439.57 1909.26 1439.98 Q1907.41 1440.4 1905.47 1441.28 L1905.47 1423.92 Z\" fill=\"#000000\" fill-rule=\"evenodd\" fill-opacity=\"1\" /><path clip-path=\"url(#clip030)\" d=\"M1878.29 1305.54 L1894.61 1305.54 L1894.61 1309.48 L1872.67 1309.48 L1872.67 1305.54 Q1875.33 1302.79 1879.91 1298.16 Q1884.52 1293.5 1885.7 1292.16 Q1887.94 1289.64 1888.82 1287.9 Q1889.73 1286.14 1889.73 1284.45 Q1889.73 1281.7 1887.78 1279.96 Q1885.86 1278.23 1882.76 1278.23 Q1880.56 1278.23 1878.11 1278.99 Q1875.68 1279.75 1872.9 1281.3 L1872.9 1276.58 Q1875.72 1275.45 1878.18 1274.87 Q1880.63 1274.29 1882.67 1274.29 Q1888.04 1274.29 1891.23 1276.98 Q1894.43 1279.66 1894.43 1284.15 Q1894.43 1286.28 1893.62 1288.2 Q1892.83 1290.1 1890.72 1292.69 Q1890.14 1293.36 1887.04 1296.58 Q1883.94 1299.78 1878.29 1305.54 Z\" fill=\"#000000\" fill-rule=\"evenodd\" fill-opacity=\"1\" /><path clip-path=\"url(#clip030)\" d=\"M1914.43 1277.99 Q1910.81 1277.99 1908.99 1281.56 Q1907.18 1285.1 1907.18 1292.23 Q1907.18 1299.34 1908.99 1302.9 Q1910.81 1306.44 1914.43 1306.44 Q1918.06 1306.44 1919.86 1302.9 Q1921.69 1299.34 1921.69 1292.23 Q1921.69 1285.1 1919.86 1281.56 Q1918.06 1277.99 1914.43 1277.99 M1914.43 1274.29 Q1920.24 1274.29 1923.29 1278.9 Q1926.37 1283.48 1926.37 1292.23 Q1926.37 1300.96 1923.29 1305.56 Q1920.24 1310.15 1914.43 1310.15 Q1908.62 1310.15 1905.54 1305.56 Q1902.48 1300.96 1902.48 1292.23 Q1902.48 1283.48 1905.54 1278.9 Q1908.62 1274.29 1914.43 1274.29 Z\" fill=\"#000000\" fill-rule=\"evenodd\" fill-opacity=\"1\" /><path clip-path=\"url(#clip030)\" d=\"M1879.29 1156.54 L1895.61 1156.54 L1895.61 1160.47 L1873.66 1160.47 L1873.66 1156.54 Q1876.32 1153.78 1880.91 1149.15 Q1885.51 1144.5 1886.69 1143.16 Q1888.94 1140.63 1889.82 1138.9 Q1890.72 1137.14 1890.72 1135.45 Q1890.72 1132.7 1888.78 1130.96 Q1886.86 1129.22 1883.75 1129.22 Q1881.55 1129.22 1879.1 1129.99 Q1876.67 1130.75 1873.89 1132.3 L1873.89 1127.58 Q1876.72 1126.45 1879.17 1125.87 Q1881.62 1125.29 1883.66 1125.29 Q1889.03 1125.29 1892.23 1127.97 Q1895.42 1130.66 1895.42 1135.15 Q1895.42 1137.28 1894.61 1139.2 Q1893.82 1141.1 1891.72 1143.69 Q1891.14 1144.36 1888.04 1147.58 Q1884.93 1150.77 1879.29 1156.54 Z\" fill=\"#000000\" fill-rule=\"evenodd\" fill-opacity=\"1\" /><path clip-path=\"url(#clip030)\" d=\"M1905.47 1125.91 L1923.82 1125.91 L1923.82 1129.85 L1909.75 1129.85 L1909.75 1138.32 Q1910.77 1137.97 1911.79 1137.81 Q1912.8 1137.63 1913.82 1137.63 Q1919.61 1137.63 1922.99 1140.8 Q1926.37 1143.97 1926.37 1149.38 Q1926.37 1154.96 1922.9 1158.07 Q1919.43 1161.14 1913.11 1161.14 Q1910.93 1161.14 1908.66 1160.77 Q1906.42 1160.4 1904.01 1159.66 L1904.01 1154.96 Q1906.09 1156.1 1908.31 1156.65 Q1910.54 1157.21 1913.01 1157.21 Q1917.02 1157.21 1919.36 1155.1 Q1921.69 1153 1921.69 1149.38 Q1921.69 1145.77 1919.36 1143.67 Q1917.02 1141.56 1913.01 1141.56 Q1911.14 1141.56 1909.26 1141.98 Q1907.41 1142.39 1905.47 1143.27 L1905.47 1125.91 Z\" fill=\"#000000\" fill-rule=\"evenodd\" fill-opacity=\"1\" /><path clip-path=\"url(#clip030)\" d=\"M2326.13 1018.82 L2326.13 1041.55 L2336.42 1041.55 Q2342.13 1041.55 2345.25 1038.59 Q2348.37 1035.63 2348.37 1030.16 Q2348.37 1024.73 2345.25 1021.78 Q2342.13 1018.82 2336.42 1018.82 L2326.13 1018.82 M2317.95 1012.1 L2336.42 1012.1 Q2346.59 1012.1 2351.77 1016.71 Q2357 1021.29 2357 1030.16 Q2357 1039.12 2351.77 1043.69 Q2346.59 1048.27 2336.42 1048.27 L2326.13 1048.27 L2326.13 1072.58 L2317.95 1072.58 L2317.95 1012.1 Z\" fill=\"#000000\" fill-rule=\"evenodd\" fill-opacity=\"1\" /><path clip-path=\"url(#clip030)\" d=\"M2382.27 1032.43 Q2376.28 1032.43 2372.79 1037.13 Q2369.31 1041.79 2369.31 1049.93 Q2369.31 1058.07 2372.75 1062.77 Q2376.24 1067.43 2382.27 1067.43 Q2388.23 1067.43 2391.71 1062.73 Q2395.2 1058.03 2395.2 1049.93 Q2395.2 1041.87 2391.71 1037.17 Q2388.23 1032.43 2382.27 1032.43 M2382.27 1026.11 Q2392 1026.11 2397.55 1032.43 Q2403.1 1038.75 2403.1 1049.93 Q2403.1 1061.07 2397.55 1067.43 Q2392 1073.75 2382.27 1073.75 Q2372.51 1073.75 2366.96 1067.43 Q2361.45 1061.07 2361.45 1049.93 Q2361.45 1038.75 2366.96 1032.43 Q2372.51 1026.11 2382.27 1026.11 Z\" fill=\"#000000\" fill-rule=\"evenodd\" fill-opacity=\"1\" /><path clip-path=\"url(#clip030)\" d=\"M2422.82 1014.32 L2422.82 1027.21 L2438.18 1027.21 L2438.18 1033 L2422.82 1033 L2422.82 1057.63 Q2422.82 1063.18 2424.32 1064.76 Q2425.86 1066.34 2430.52 1066.34 L2438.18 1066.34 L2438.18 1072.58 L2430.52 1072.58 Q2421.89 1072.58 2418.61 1069.38 Q2415.33 1066.14 2415.33 1057.63 L2415.33 1033 L2409.86 1033 L2409.86 1027.21 L2415.33 1027.21 L2415.33 1014.32 L2422.82 1014.32 Z\" fill=\"#000000\" fill-rule=\"evenodd\" fill-opacity=\"1\" /><path clip-path=\"url(#clip030)\" d=\"M2476.9 1028.54 L2476.9 1035.59 Q2473.74 1033.97 2470.34 1033.16 Q2466.94 1032.35 2463.29 1032.35 Q2457.74 1032.35 2454.95 1034.05 Q2452.19 1035.75 2452.19 1039.16 Q2452.19 1041.75 2454.18 1043.25 Q2456.16 1044.71 2462.16 1046.04 L2464.71 1046.61 Q2472.65 1048.31 2475.97 1051.43 Q2479.33 1054.51 2479.33 1060.06 Q2479.33 1066.38 2474.31 1070.06 Q2469.33 1073.75 2460.58 1073.75 Q2456.93 1073.75 2452.96 1073.02 Q2449.03 1072.33 2444.66 1070.92 L2444.66 1063.22 Q2448.79 1065.37 2452.8 1066.46 Q2456.81 1067.51 2460.74 1067.51 Q2466.01 1067.51 2468.84 1065.73 Q2471.68 1063.91 2471.68 1060.63 Q2471.68 1057.59 2469.61 1055.97 Q2467.59 1054.35 2460.66 1052.85 L2458.07 1052.24 Q2451.14 1050.78 2448.06 1047.78 Q2444.98 1044.75 2444.98 1039.48 Q2444.98 1033.08 2449.52 1029.6 Q2454.06 1026.11 2462.4 1026.11 Q2466.53 1026.11 2470.18 1026.72 Q2473.82 1027.33 2476.9 1028.54 Z\" fill=\"#000000\" fill-rule=\"evenodd\" fill-opacity=\"1\" /><path clip-path=\"url(#clip030)\" d=\"M2521.06 1034.09 L2521.06 1009.54 L2528.51 1009.54 L2528.51 1072.58 L2521.06 1072.58 L2521.06 1065.77 Q2518.71 1069.82 2515.1 1071.81 Q2511.54 1073.75 2506.51 1073.75 Q2498.29 1073.75 2493.11 1067.19 Q2487.96 1060.63 2487.96 1049.93 Q2487.96 1039.24 2493.11 1032.67 Q2498.29 1026.11 2506.51 1026.11 Q2511.54 1026.11 2515.1 1028.1 Q2518.71 1030.04 2521.06 1034.09 M2495.66 1049.93 Q2495.66 1058.15 2499.02 1062.85 Q2502.42 1067.51 2508.34 1067.51 Q2514.25 1067.51 2517.65 1062.85 Q2521.06 1058.15 2521.06 1049.93 Q2521.06 1041.71 2517.65 1037.05 Q2514.25 1032.35 2508.34 1032.35 Q2502.42 1032.35 2499.02 1037.05 Q2495.66 1041.71 2495.66 1049.93 Z\" fill=\"#000000\" fill-rule=\"evenodd\" fill-opacity=\"1\" /><path clip-path=\"url(#clip030)\" d=\"M2564.48 1049.77 Q2555.45 1049.77 2551.97 1051.84 Q2548.48 1053.9 2548.48 1058.88 Q2548.48 1062.85 2551.07 1065.2 Q2553.71 1067.51 2558.2 1067.51 Q2564.4 1067.51 2568.13 1063.14 Q2571.9 1058.72 2571.9 1051.43 L2571.9 1049.77 L2564.48 1049.77 M2579.35 1046.69 L2579.35 1072.58 L2571.9 1072.58 L2571.9 1065.69 Q2569.34 1069.82 2565.54 1071.81 Q2561.73 1073.75 2556.22 1073.75 Q2549.25 1073.75 2545.12 1069.86 Q2541.03 1065.93 2541.03 1059.37 Q2541.03 1051.71 2546.13 1047.82 Q2551.28 1043.94 2561.45 1043.94 L2571.9 1043.94 L2571.9 1043.21 Q2571.9 1038.06 2568.49 1035.27 Q2565.13 1032.43 2559.01 1032.43 Q2555.13 1032.43 2551.44 1033.36 Q2547.75 1034.29 2544.35 1036.16 L2544.35 1029.27 Q2548.44 1027.69 2552.29 1026.92 Q2556.14 1026.11 2559.78 1026.11 Q2569.63 1026.11 2574.49 1031.22 Q2579.35 1036.32 2579.35 1046.69 Z\" fill=\"#000000\" fill-rule=\"evenodd\" fill-opacity=\"1\" /><path clip-path=\"url(#clip030)\" d=\"M2630.03 1035.92 Q2632.82 1030.89 2636.71 1028.5 Q2640.6 1026.11 2645.87 1026.11 Q2652.96 1026.11 2656.8 1031.09 Q2660.65 1036.04 2660.65 1045.19 L2660.65 1072.58 L2653.16 1072.58 L2653.16 1045.43 Q2653.16 1038.91 2650.85 1035.75 Q2648.54 1032.59 2643.8 1032.59 Q2638.01 1032.59 2634.65 1036.44 Q2631.28 1040.29 2631.28 1046.93 L2631.28 1072.58 L2623.79 1072.58 L2623.79 1045.43 Q2623.79 1038.87 2621.48 1035.75 Q2619.17 1032.59 2614.35 1032.59 Q2608.64 1032.59 2605.28 1036.48 Q2601.91 1040.33 2601.91 1046.93 L2601.91 1072.58 L2594.42 1072.58 L2594.42 1027.21 L2601.91 1027.21 L2601.91 1034.25 Q2604.47 1030.08 2608.03 1028.1 Q2611.6 1026.11 2616.5 1026.11 Q2621.44 1026.11 2624.88 1028.62 Q2628.37 1031.14 2630.03 1035.92 Z\" fill=\"#000000\" fill-rule=\"evenodd\" fill-opacity=\"1\" /><path clip-path=\"url(#clip030)\" d=\"M2693.83 1012.1 L2744.99 1012.1 L2744.99 1018.98 L2723.52 1018.98 L2723.52 1072.58 L2715.3 1072.58 L2715.3 1018.98 L2693.83 1018.98 L2693.83 1012.1 Z\" fill=\"#000000\" fill-rule=\"evenodd\" fill-opacity=\"1\" /><path clip-path=\"url(#clip030)\" d=\"M2777.28 1048.03 L2777.28 1051.67 L2743.01 1051.67 Q2743.49 1059.37 2747.62 1063.42 Q2751.8 1067.43 2759.21 1067.43 Q2763.5 1067.43 2767.51 1066.38 Q2771.57 1065.32 2775.54 1063.22 L2775.54 1070.27 Q2771.53 1071.97 2767.31 1072.86 Q2763.1 1073.75 2758.76 1073.75 Q2747.91 1073.75 2741.55 1067.43 Q2735.23 1061.11 2735.23 1050.34 Q2735.23 1039.2 2741.22 1032.67 Q2747.26 1026.11 2757.47 1026.11 Q2766.62 1026.11 2771.93 1032.03 Q2777.28 1037.9 2777.28 1048.03 M2769.82 1045.84 Q2769.74 1039.72 2766.38 1036.08 Q2763.06 1032.43 2757.55 1032.43 Q2751.31 1032.43 2747.54 1035.96 Q2743.82 1039.48 2743.25 1045.88 L2769.82 1045.84 Z\" fill=\"#000000\" fill-rule=\"evenodd\" fill-opacity=\"1\" /><path clip-path=\"url(#clip030)\" d=\"M2824.83 1035.92 Q2827.63 1030.89 2831.52 1028.5 Q2835.41 1026.11 2840.67 1026.11 Q2847.76 1026.11 2851.61 1031.09 Q2855.46 1036.04 2855.46 1045.19 L2855.46 1072.58 L2847.97 1072.58 L2847.97 1045.43 Q2847.97 1038.91 2845.66 1035.75 Q2843.35 1032.59 2838.61 1032.59 Q2832.82 1032.59 2829.45 1036.44 Q2826.09 1040.29 2826.09 1046.93 L2826.09 1072.58 L2818.6 1072.58 L2818.6 1045.43 Q2818.6 1038.87 2816.29 1035.75 Q2813.98 1032.59 2809.16 1032.59 Q2803.45 1032.59 2800.08 1036.48 Q2796.72 1040.33 2796.72 1046.93 L2796.72 1072.58 L2789.23 1072.58 L2789.23 1027.21 L2796.72 1027.21 L2796.72 1034.25 Q2799.27 1030.08 2802.84 1028.1 Q2806.4 1026.11 2811.3 1026.11 Q2816.25 1026.11 2819.69 1028.62 Q2823.17 1031.14 2824.83 1035.92 Z\" fill=\"#000000\" fill-rule=\"evenodd\" fill-opacity=\"1\" /><path clip-path=\"url(#clip030)\" d=\"M2877.54 1065.77 L2877.54 1089.83 L2870.04 1089.83 L2870.04 1027.21 L2877.54 1027.21 L2877.54 1034.09 Q2879.89 1030.04 2883.45 1028.1 Q2887.06 1026.11 2892.04 1026.11 Q2900.3 1026.11 2905.45 1032.67 Q2910.63 1039.24 2910.63 1049.93 Q2910.63 1060.63 2905.45 1067.19 Q2900.3 1073.75 2892.04 1073.75 Q2887.06 1073.75 2883.45 1071.81 Q2879.89 1069.82 2877.54 1065.77 M2902.9 1049.93 Q2902.9 1041.71 2899.49 1037.05 Q2896.13 1032.35 2890.22 1032.35 Q2884.3 1032.35 2880.9 1037.05 Q2877.54 1041.71 2877.54 1049.93 Q2877.54 1058.15 2880.9 1062.85 Q2884.3 1067.51 2890.22 1067.51 Q2896.13 1067.51 2899.49 1062.85 Q2902.9 1058.15 2902.9 1049.93 Z\" fill=\"#000000\" fill-rule=\"evenodd\" fill-opacity=\"1\" /><path clip-path=\"url(#clip030)\" d=\"M2961.8 1048.03 L2961.8 1051.67 L2927.53 1051.67 Q2928.01 1059.37 2932.14 1063.42 Q2936.32 1067.43 2943.73 1067.43 Q2948.02 1067.43 2952.03 1066.38 Q2956.08 1065.32 2960.05 1063.22 L2960.05 1070.27 Q2956.04 1071.97 2951.83 1072.86 Q2947.62 1073.75 2943.28 1073.75 Q2932.43 1073.75 2926.07 1067.43 Q2919.75 1061.11 2919.75 1050.34 Q2919.75 1039.2 2925.74 1032.67 Q2931.78 1026.11 2941.99 1026.11 Q2951.14 1026.11 2956.45 1032.03 Q2961.8 1037.9 2961.8 1048.03 M2954.34 1045.84 Q2954.26 1039.72 2950.9 1036.08 Q2947.58 1032.43 2942.07 1032.43 Q2935.83 1032.43 2932.06 1035.96 Q2928.34 1039.48 2927.77 1045.88 L2954.34 1045.84 Z\" fill=\"#000000\" fill-rule=\"evenodd\" fill-opacity=\"1\" /><path clip-path=\"url(#clip030)\" d=\"M3000.32 1034.17 Q2999.06 1033.44 2997.57 1033.12 Q2996.11 1032.76 2994.32 1032.76 Q2988.01 1032.76 2984.6 1036.89 Q2981.24 1040.98 2981.24 1048.68 L2981.24 1072.58 L2973.75 1072.58 L2973.75 1027.21 L2981.24 1027.21 L2981.24 1034.25 Q2983.59 1030.12 2987.36 1028.14 Q2991.12 1026.11 2996.51 1026.11 Q2997.28 1026.11 2998.21 1026.23 Q2999.15 1026.31 3000.28 1026.52 L3000.32 1034.17 Z\" fill=\"#000000\" fill-rule=\"evenodd\" fill-opacity=\"1\" /><path clip-path=\"url(#clip030)\" d=\"M3028.76 1049.77 Q3019.72 1049.77 3016.24 1051.84 Q3012.76 1053.9 3012.76 1058.88 Q3012.76 1062.85 3015.35 1065.2 Q3017.98 1067.51 3022.48 1067.51 Q3028.68 1067.51 3032.4 1063.14 Q3036.17 1058.72 3036.17 1051.43 L3036.17 1049.77 L3028.76 1049.77 M3043.62 1046.69 L3043.62 1072.58 L3036.17 1072.58 L3036.17 1065.69 Q3033.62 1069.82 3029.81 1071.81 Q3026 1073.75 3020.49 1073.75 Q3013.53 1073.75 3009.39 1069.86 Q3005.3 1065.93 3005.3 1059.37 Q3005.3 1051.71 3010.41 1047.82 Q3015.55 1043.94 3025.72 1043.94 L3036.17 1043.94 L3036.17 1043.21 Q3036.17 1038.06 3032.77 1035.27 Q3029.41 1032.43 3023.29 1032.43 Q3019.4 1032.43 3015.71 1033.36 Q3012.03 1034.29 3008.62 1036.16 L3008.62 1029.27 Q3012.72 1027.69 3016.56 1026.92 Q3020.41 1026.11 3024.06 1026.11 Q3033.9 1026.11 3038.76 1031.22 Q3043.62 1036.32 3043.62 1046.69 Z\" fill=\"#000000\" fill-rule=\"evenodd\" fill-opacity=\"1\" /><path clip-path=\"url(#clip030)\" d=\"M3066.35 1014.32 L3066.35 1027.21 L3081.7 1027.21 L3081.7 1033 L3066.35 1033 L3066.35 1057.63 Q3066.35 1063.18 3067.85 1064.76 Q3069.39 1066.34 3074.05 1066.34 L3081.7 1066.34 L3081.7 1072.58 L3074.05 1072.58 Q3065.42 1072.58 3062.14 1069.38 Q3058.86 1066.14 3058.86 1057.63 L3058.86 1033 L3053.39 1033 L3053.39 1027.21 L3058.86 1027.21 L3058.86 1014.32 L3066.35 1014.32 Z\" fill=\"#000000\" fill-rule=\"evenodd\" fill-opacity=\"1\" /><path clip-path=\"url(#clip030)\" d=\"M3090.74 1054.67 L3090.74 1027.21 L3098.19 1027.21 L3098.19 1054.39 Q3098.19 1060.83 3100.7 1064.07 Q3103.21 1067.27 3108.24 1067.27 Q3114.27 1067.27 3117.76 1063.42 Q3121.28 1059.57 3121.28 1052.93 L3121.28 1027.21 L3128.73 1027.21 L3128.73 1072.58 L3121.28 1072.58 L3121.28 1065.61 Q3118.57 1069.74 3114.96 1071.77 Q3111.4 1073.75 3106.66 1073.75 Q3098.84 1073.75 3094.79 1068.89 Q3090.74 1064.03 3090.74 1054.67 M3109.49 1026.11 L3109.49 1026.11 Z\" fill=\"#000000\" fill-rule=\"evenodd\" fill-opacity=\"1\" /><path clip-path=\"url(#clip030)\" d=\"M3170.38 1034.17 Q3169.12 1033.44 3167.62 1033.12 Q3166.16 1032.76 3164.38 1032.76 Q3158.06 1032.76 3154.66 1036.89 Q3151.3 1040.98 3151.3 1048.68 L3151.3 1072.58 L3143.8 1072.58 L3143.8 1027.21 L3151.3 1027.21 L3151.3 1034.25 Q3153.65 1030.12 3157.41 1028.14 Q3161.18 1026.11 3166.57 1026.11 Q3167.34 1026.11 3168.27 1026.23 Q3169.2 1026.31 3170.34 1026.52 L3170.38 1034.17 Z\" fill=\"#000000\" fill-rule=\"evenodd\" fill-opacity=\"1\" /><path clip-path=\"url(#clip030)\" d=\"M3215.18 1048.03 L3215.18 1051.67 L3180.91 1051.67 Q3181.4 1059.37 3185.53 1063.42 Q3189.7 1067.43 3197.11 1067.43 Q3201.41 1067.43 3205.42 1066.38 Q3209.47 1065.32 3213.44 1063.22 L3213.44 1070.27 Q3209.43 1071.97 3205.21 1072.86 Q3201 1073.75 3196.67 1073.75 Q3185.81 1073.75 3179.45 1067.43 Q3173.13 1061.11 3173.13 1050.34 Q3173.13 1039.2 3179.13 1032.67 Q3185.16 1026.11 3195.37 1026.11 Q3204.53 1026.11 3209.83 1032.03 Q3215.18 1037.9 3215.18 1048.03 M3207.73 1045.84 Q3207.65 1039.72 3204.28 1036.08 Q3200.96 1032.43 3195.45 1032.43 Q3189.21 1032.43 3185.45 1035.96 Q3181.72 1039.48 3181.15 1045.88 L3207.73 1045.84 Z\" fill=\"#000000\" fill-rule=\"evenodd\" fill-opacity=\"1\" /><path clip-path=\"url(#clip035)\" d=\"\n",
       "M2024.87 1536.44 L2089.37 1548.97 L2153.86 1565.67 L2218.36 1574.91 L2282.85 1591.07 L2347.35 1590.11 L2411.84 1573.99 L2476.34 1540.32 L2540.83 1497.61 L2605.33 1447.93 \n",
       "  L2669.82 1398.58 L2734.32 1360.92 L2798.81 1329.36 L2863.31 1314.9 L2927.8 1313.32 L2992.29 1311.51 L3056.79 1318.18 L3121.28 1333.89 L3185.78 1360.35 L3250.27 1391.46 \n",
       "  L3314.77 1451.09 L3379.26 1483.22 L3443.76 1500.86 L3508.25 1520.53 L3508.25 1813.86 L3443.76 1809.15 L3379.26 1793.08 L3314.77 1786.23 L3250.27 1768.98 L3185.78 1753.99 \n",
       "  L3121.28 1741.71 L3056.79 1725.88 L2992.29 1694.77 L2927.8 1678.77 L2863.31 1680.5 L2798.81 1692.69 L2734.32 1708.9 L2669.82 1739.09 L2605.33 1772.16 L2540.83 1817.61 \n",
       "  L2476.34 1837.61 L2411.84 1840.82 L2347.35 1841.36 L2282.85 1837.25 L2218.36 1833.97 L2153.86 1832.66 L2089.37 1822.35 L2024.87 1820.98  Z\n",
       "  \" fill=\"#afeeee\" fill-rule=\"evenodd\" fill-opacity=\"0.3\"/>\n",
       "<polyline clip-path=\"url(#clip035)\" style=\"stroke:#afeeee; stroke-linecap:butt; stroke-linejoin:round; stroke-width:0; stroke-opacity:0.3; fill:none\" points=\"\n",
       "  2024.87,1536.44 2089.37,1548.97 2153.86,1565.67 2218.36,1574.91 2282.85,1591.07 2347.35,1590.11 2411.84,1573.99 2476.34,1540.32 2540.83,1497.61 2605.33,1447.93 \n",
       "  2669.82,1398.58 2734.32,1360.92 2798.81,1329.36 2863.31,1314.9 2927.8,1313.32 2992.29,1311.51 3056.79,1318.18 3121.28,1333.89 3185.78,1360.35 3250.27,1391.46 \n",
       "  3314.77,1451.09 3379.26,1483.22 3443.76,1500.86 3508.25,1520.53 \n",
       "  \"/>\n",
       "<polyline clip-path=\"url(#clip035)\" style=\"stroke:#afeeee; stroke-linecap:butt; stroke-linejoin:round; stroke-width:16; stroke-opacity:1; fill:none\" points=\"\n",
       "  2024.87,1672.54 2089.37,1684.48 2153.86,1695.34 2218.36,1707.88 2282.85,1717.99 2347.35,1718.7 2411.84,1709.08 2476.34,1683.98 2540.83,1665.33 2605.33,1620.99 \n",
       "  2669.82,1590.23 2734.32,1555.87 2798.81,1528.13 2863.31,1507.27 2927.8,1496.36 2992.29,1504.23 3056.79,1520.17 3121.28,1554.86 3185.78,1570.27 3250.27,1598.31 \n",
       "  3314.77,1622.21 3379.26,1639.43 3443.76,1652.01 3508.25,1664.44 \n",
       "  \"/>\n",
       "</svg>\n"
      ]
     },
     "execution_count": 67,
     "metadata": {},
     "output_type": "execute_result"
    }
   ],
   "source": [
    "#set common limits of y-axis to compare the plots\n",
    "PV_ymax = 9;\n",
    "Temp_ymax = 26;\n",
    "\n",
    "# what's happening here?\n",
    "p_CH_PV = plot(h, y_CH[:,3], title=\"Chicago PV\", fillrange=y_CH[:,2], xticks=h, ylabel=\"PV generation [kW]\", \n",
    "    label=false, linewidth=0, color=:gold, alpha=0.3, ylim=(0,PV_ymax))\n",
    "plot!(h, y_CH[:,1], linewidth= 4.0, label=false; color=:gold) # what's happening here?\n",
    "\n",
    "# what's happening here?\n",
    "p_P_PV = plot(h, y_P[:,3], title=\"Potsdam PV\",fillrange=y_P[:,2], xticks=h, \n",
    "    label=false, linewidth=0, color=:gold, alpha=0.3, ylim=(0,PV_ymax), legend=:topright)\n",
    "plot!(h, y_P[:,1], xticks=h, linewidth= 4.0, label=false; color=:gold, legendfontsize=6) \n",
    "\n",
    "# what's happening here?\n",
    "p_CH_Temp = plot(h, y_CH[:,6], title=\"Chicago Temperature\",fillrange=y_CH[:,5], xticks=h, \n",
    "    ylabel=\"Temperature [°C]\",label=false, linewidth=0, color=:paleturquoise, alpha=0.3, ylim=(0,Temp_ymax))\n",
    "plot!(h, y_CH[:,4], xticks=h, linewidth= 4.0, label=false; color=:paleturquoise)\n",
    "\n",
    "# what's happening here?\n",
    "p_P_Temp = plot(h, y_P[:,6], title=\"Potsdam Temperature\",fillrange=y_P[:,5], xticks=h,\n",
    "    label=false, linewidth=0,  color=:paleturquoise, alpha=0.3, ylim=(0,Temp_ymax))\n",
    "plot!(h, y_P[:,4], xticks=h, linewidth= 4.0, label=false, color=:paleturquoise)\n",
    "\n",
    "plot!(size=(900,500))\n",
    "\n",
    "# what's happening here?\n",
    "plot(p_CH_PV, p_P_PV, p_CH_Temp, p_P_Temp, layout=(2,2)) "
   ]
  },
  {
   "cell_type": "code",
   "execution_count": null,
   "metadata": {
    "slideshow": {
     "slide_type": "slide"
    }
   },
   "outputs": [],
   "source": [
    "savefig(\"figures/PV_temp_daily_confidence.pdf\")\n",
    "#savefig(\"figures/PV_temp_daily_confidence.png\")"
   ]
  },
  {
   "cell_type": "markdown",
   "metadata": {},
   "source": [
    "done 👍"
   ]
  }
 ],
 "metadata": {
  "celltoolbar": "Slideshow",
  "kernelspec": {
   "display_name": "Julia 1.7.1",
   "language": "julia",
   "name": "julia-1.7"
  },
  "language_info": {
   "file_extension": ".jl",
   "mimetype": "application/julia",
   "name": "julia",
   "version": "1.7.1"
  }
 },
 "nbformat": 4,
 "nbformat_minor": 2
}
